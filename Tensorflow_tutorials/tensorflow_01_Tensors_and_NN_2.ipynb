{
  "cells": [
    {
      "cell_type": "markdown",
      "metadata": {
        "id": "cMuXUfsITwJM"
      },
      "source": [
        "<div style=\"line-height:1.2;\">\n",
        "\n",
        "<h1 style=\"color:#FF7C00; margin-bottom: 0.3em;\">Tensorflow basics 2 </h1>\n",
        "\n",
        "<h4 style=\"margin-top: 0.3em; margin-bottom: 1em;\"> Other Tensors and Neural Networks examples.</h4>\n",
        "\n",
        "<div style=\"line-height:1.4; margin-bottom: 0.5em;\">\n",
        "    <h3 style=\"color: lightblue; display: inline; margin-right: 0.5em;\">Keywords:</h3>\n",
        "    jedi completion in Colab + tf.dtype + @tf.function decorator + tf.math + tf.constant + keras\n",
        "</div>\n",
        "\n",
        "</div>"
      ]
    },
    {
      "cell_type": "code",
      "execution_count": 1,
      "metadata": {
        "id": "fJitZoANTwJV"
      },
      "outputs": [],
      "source": [
        "import os\n",
        "os.environ['TF_CPP_MIN_LOG_LEVEL'] = '2'"
      ]
    },
    {
      "cell_type": "code",
      "execution_count": 2,
      "metadata": {
        "id": "tFAsnOPWj0C8"
      },
      "outputs": [],
      "source": [
        "%config Completer.use_jedi = True\n",
        "import numpy as np\n",
        "from sklearn.model_selection import train_test_split\n",
        "\n",
        "import tensorflow as tf\n",
        "from tensorflow.keras.datasets import reuters\n",
        "from tensorflow.keras.preprocessing.sequence import pad_sequences\n",
        "from tensorflow.keras.utils import to_categorical\n",
        "from sklearn.model_selection import train_test_split"
      ]
    },
    {
      "cell_type": "code",
      "execution_count": 3,
      "metadata": {
        "colab": {
          "base_uri": "https://localhost:8080/"
        },
        "id": "5D8J5USIo4yf",
        "outputId": "1ac53f33-7ca1-4c6c-9566-46d66f6d9971"
      },
      "outputs": [
        {
          "output_type": "stream",
          "name": "stdout",
          "text": [
            "[PhysicalDevice(name='/physical_device:GPU:0', device_type='GPU')]\n"
          ]
        }
      ],
      "source": [
        "#%%script echo Skipping, just to check GPU\n",
        "print(tf.config.list_physical_devices('GPU'))"
      ]
    },
    {
      "cell_type": "code",
      "execution_count": 4,
      "metadata": {
        "colab": {
          "base_uri": "https://localhost:8080/"
        },
        "id": "usROgNLnpC1u",
        "outputId": "0e8f9f94-9160-43dc-d1ad-d4b4c964c484"
      },
      "outputs": [
        {
          "output_type": "stream",
          "name": "stdout",
          "text": [
            "Mon Nov  6 16:05:45 2023       \n",
            "+-----------------------------------------------------------------------------+\n",
            "| NVIDIA-SMI 525.105.17   Driver Version: 525.105.17   CUDA Version: 12.0     |\n",
            "|-------------------------------+----------------------+----------------------+\n",
            "| GPU  Name        Persistence-M| Bus-Id        Disp.A | Volatile Uncorr. ECC |\n",
            "| Fan  Temp  Perf  Pwr:Usage/Cap|         Memory-Usage | GPU-Util  Compute M. |\n",
            "|                               |                      |               MIG M. |\n",
            "|===============================+======================+======================|\n",
            "|   0  Tesla T4            Off  | 00000000:00:04.0 Off |                    0 |\n",
            "| N/A   66C    P8    13W /  70W |      3MiB / 15360MiB |      0%      Default |\n",
            "|                               |                      |                  N/A |\n",
            "+-------------------------------+----------------------+----------------------+\n",
            "                                                                               \n",
            "+-----------------------------------------------------------------------------+\n",
            "| Processes:                                                                  |\n",
            "|  GPU   GI   CI        PID   Type   Process name                  GPU Memory |\n",
            "|        ID   ID                                                   Usage      |\n",
            "|=============================================================================|\n",
            "|  No running processes found                                                 |\n",
            "+-----------------------------------------------------------------------------+\n"
          ]
        }
      ],
      "source": [
        "!nvidia-smi"
      ]
    },
    {
      "cell_type": "code",
      "execution_count": 5,
      "metadata": {
        "colab": {
          "base_uri": "https://localhost:8080/"
        },
        "id": "X0e0pZ9Qj0rF",
        "outputId": "2a85e1b7-8f53-4eeb-e3cf-fc06c6f45e90"
      },
      "outputs": [
        {
          "output_type": "execute_result",
          "data": {
            "text/plain": [
              "<tf.Tensor: shape=(9,), dtype=int64, numpy=array([1, 2, 3, 4, 5, 6, 7, 8, 9])>"
            ]
          },
          "metadata": {},
          "execution_count": 5
        }
      ],
      "source": [
        "one_tens = tf.constant(np.arange(1, 10))\n",
        "one_tens"
      ]
    },
    {
      "cell_type": "code",
      "execution_count": 6,
      "metadata": {
        "colab": {
          "base_uri": "https://localhost:8080/"
        },
        "id": "5CX3-UngTwJk",
        "outputId": "84c41fd5-3bbf-47d1-847b-41f7684028a3"
      },
      "outputs": [
        {
          "output_type": "execute_result",
          "data": {
            "text/plain": [
              "tf.int64"
            ]
          },
          "metadata": {},
          "execution_count": 6
        }
      ],
      "source": [
        "dtype_of_elements_in_one_tens = one_tens.dtype\n",
        "dtype_of_elements_in_one_tens"
      ]
    },
    {
      "cell_type": "code",
      "execution_count": 7,
      "metadata": {
        "colab": {
          "base_uri": "https://localhost:8080/"
        },
        "id": "Qa30gKC9j0ys",
        "outputId": "3bd5d8b9-3f3b-4925-dbce-72126d902301"
      },
      "outputs": [
        {
          "output_type": "execute_result",
          "data": {
            "text/plain": [
              "<tf.Tensor: shape=(9,), dtype=int64, numpy=array([ 1,  4,  9, 16, 25, 36, 49, 64, 81])>"
            ]
          },
          "metadata": {},
          "execution_count": 7
        }
      ],
      "source": [
        "squa = tf.square(one_tens)\n",
        "squa"
      ]
    },
    {
      "cell_type": "markdown",
      "metadata": {
        "id": "MUVR56wsTwJm"
      },
      "source": [
        "### => sqrt, take the square root of each tensor's value"
      ]
    },
    {
      "cell_type": "code",
      "execution_count": 8,
      "metadata": {
        "colab": {
          "base_uri": "https://localhost:8080/"
        },
        "id": "5k_pA4xpTwJn",
        "outputId": "5d19b72a-e484-4669-f78d-4ed98ebefe9c"
      },
      "outputs": [
        {
          "output_type": "stream",
          "name": "stdout",
          "text": [
            "tf.Tensor([1. 2. 3. 4. 5. 6. 7. 8. 9.], shape=(9,), dtype=float32)\n",
            "\n",
            "tf.Tensor(\n",
            "[1.        1.4142135 1.7320508 2.        2.2360678 2.4494896 2.6457512\n",
            " 2.828427  3.       ], shape=(9,), dtype=float32)\n"
          ]
        }
      ],
      "source": [
        "\"\"\" sqrt 1\n",
        "N.B.\n",
        "sq = tf.sqrt(one_tens) #Error!\n",
        "--> InvalidArgumentError: allowed values: bfloat16, half, float, double, complex64, complex128\n",
        "\"\"\"\n",
        "## To use the same one_tens\n",
        "casted = tf.cast(one_tens, dtype=tf.float32)\n",
        "print(casted, end='\\n\\n')\n",
        "print(tf.sqrt(casted))"
      ]
    },
    {
      "cell_type": "code",
      "execution_count": 9,
      "metadata": {
        "colab": {
          "base_uri": "https://localhost:8080/"
        },
        "id": "EGSJmzMsj02k",
        "outputId": "772c28e4-dd95-4aa7-c1f4-c104d7d2d92c"
      },
      "outputs": [
        {
          "output_type": "stream",
          "name": "stdout",
          "text": [
            "tf.Tensor([1. 2. 3. 4. 5. 6. 7. 8. 9.], shape=(9,), dtype=float32)\n",
            "\n",
            "tf.Tensor(\n",
            "[1.        1.4142135 1.7320508 2.        2.2360678 2.4494896 2.6457512\n",
            " 2.828427  3.       ], shape=(9,), dtype=float32)\n"
          ]
        }
      ],
      "source": [
        "\"\"\" sqrt 2. Create same tensor in different way \"\"\"\n",
        "another_tens = tf.constant(np.arange(1, 10, dtype=np.float32))\n",
        "sq = tf.sqrt(another_tens)\n",
        "\n",
        "print(another_tens, end='\\n\\n')\n",
        "print(sq)"
      ]
    },
    {
      "cell_type": "code",
      "execution_count": 10,
      "metadata": {
        "colab": {
          "base_uri": "https://localhost:8080/"
        },
        "id": "OZMMg8vrTwJp",
        "outputId": "46e11266-ee75-45a6-b358-8dd9c8b8919c"
      },
      "outputs": [
        {
          "output_type": "execute_result",
          "data": {
            "text/plain": [
              "tf.float32"
            ]
          },
          "metadata": {},
          "execution_count": 10
        }
      ],
      "source": [
        "dtype_of_elements_in_sq = sq.dtype\n",
        "dtype_of_elements_in_sq"
      ]
    },
    {
      "cell_type": "markdown",
      "metadata": {
        "id": "JCCqtxVHTwJq"
      },
      "source": [
        "### => log"
      ]
    },
    {
      "cell_type": "code",
      "execution_count": 11,
      "metadata": {
        "colab": {
          "base_uri": "https://localhost:8080/"
        },
        "id": "vgxAy5JPTwJr",
        "outputId": "a7929f1a-5d3f-4ed0-d974-6b391053ead2"
      },
      "outputs": [
        {
          "output_type": "stream",
          "name": "stdout",
          "text": [
            "[1 2 3 ... 7 8 9]\n"
          ]
        },
        {
          "output_type": "execute_result",
          "data": {
            "text/plain": [
              "<tf.Tensor: shape=(9,), dtype=float32, numpy=array([1., 2., 3., 4., 5., 6., 7., 8., 9.], dtype=float32)>"
            ]
          },
          "metadata": {},
          "execution_count": 11
        }
      ],
      "source": [
        "\"\"\" Find the log\n",
        "N.B.\n",
        "Using 'tf.math.log(one_tens)' leads to error: InvalidArgumentError.\n",
        "The tensor need to contains floats!\n",
        "\"\"\"\n",
        "# Convert to float32\n",
        "one_tens_float = tf.cast(one_tens, dtype=tf.float32)\n",
        "# Display only the content of the tensor\n",
        "tf.print(one_tens_float)\n",
        "one_tens_float"
      ]
    },
    {
      "cell_type": "code",
      "execution_count": 12,
      "metadata": {
        "colab": {
          "base_uri": "https://localhost:8080/"
        },
        "id": "hMTGvh5Jj05r",
        "outputId": "d2db42eb-f32d-4167-8d04-f364a90dc4a4"
      },
      "outputs": [
        {
          "output_type": "execute_result",
          "data": {
            "text/plain": [
              "<tf.Tensor: shape=(9,), dtype=float32, numpy=\n",
              "array([0.       , 0.6931472, 1.0986123, 1.3862944, 1.609438 , 1.7917595,\n",
              "       1.9459102, 2.0794415, 2.1972246], dtype=float32)>"
            ]
          },
          "metadata": {},
          "execution_count": 12
        }
      ],
      "source": [
        "log_tens = tf.math.log(one_tens_float)\n",
        "log_tens"
      ]
    },
    {
      "cell_type": "markdown",
      "metadata": {
        "id": "q9RjdksjTwJt"
      },
      "source": [
        "### => slicing"
      ]
    },
    {
      "cell_type": "code",
      "execution_count": 13,
      "metadata": {
        "colab": {
          "base_uri": "https://localhost:8080/"
        },
        "id": "F18LW-ZDTwJu",
        "outputId": "02bb8ed4-14d1-4117-9eaa-dcc819e1f980"
      },
      "outputs": [
        {
          "output_type": "stream",
          "name": "stdout",
          "text": [
            "tf.Tensor(2, shape=(), dtype=int32)\n",
            "(4, 5)\n",
            "[[1 2 3 4 5]\n",
            " [6 7 8 9 10]\n",
            " [11 12 13 14 15]\n",
            " [16 17 18 19 20]]\n"
          ]
        }
      ],
      "source": [
        "\"\"\" Create a 2D tensor \"\"\"\n",
        "a_matrix = [[1,2,3,4,5],\n",
        "        [6,7,8,9,10],\n",
        "        [11,12,13,14,15],\n",
        "        [16,17,18,19,20]]\n",
        "\n",
        "tensor = tf.Variable(a_matrix, dtype=tf.int32)\n",
        "print(tf.rank(tensor))\n",
        "print(tensor.shape)\n",
        "# Show the content only\n",
        "tf.print(tensor)"
      ]
    },
    {
      "cell_type": "code",
      "execution_count": 14,
      "metadata": {
        "colab": {
          "base_uri": "https://localhost:8080/"
        },
        "id": "3ShjzEhjTwJv",
        "outputId": "1b689857-d674-4ad9-d4d2-97fabed4f8ef"
      },
      "outputs": [
        {
          "output_type": "stream",
          "name": "stdout",
          "text": [
            "[1 2 3 4 5]\n",
            "[1 6 11 16]\n",
            "3\n",
            "\n",
            "[[6 7 8 9 10]\n",
            " [16 17 18 19 20]]\n",
            "\n",
            "[6 11]\n"
          ]
        }
      ],
      "source": [
        "# Select the first row\n",
        "row1 = tensor[0]\n",
        "tf.print(row1)\n",
        "# Select the third column\n",
        "column3 = tensor[:, 0]\n",
        "tf.print(column3)\n",
        "# Select the 3rd element from the 1st row\n",
        "three = tensor[0, 2]\n",
        "tf.print(three, end='\\n\\n')            #adding blank line works also here!\n",
        "# Select second and fourth row\n",
        "row_2_and_4 = tensor[1::2]\n",
        "tf.print(row_2_and_4, end= '\\n\\n')\n",
        "# Select first columns + second and third row\n",
        "column_1_in_row_2_and_3 = tensor[1:3, 0]\n",
        "tf.print(column_1_in_row_2_and_3)"
      ]
    },
    {
      "cell_type": "code",
      "execution_count": 15,
      "metadata": {
        "colab": {
          "base_uri": "https://localhost:8080/"
        },
        "id": "ID7vgr0KTwJw",
        "outputId": "dfb19261-2192-419b-a735-d9a0b2fb214a"
      },
      "outputs": [
        {
          "output_type": "stream",
          "name": "stdout",
          "text": [
            "[[1 2 999 4 5]\n",
            " [6 7 8 9 10]\n",
            " [11 12 13 14 15]\n",
            " [16 17 18 19 20]]\n",
            "\n",
            "3\n"
          ]
        }
      ],
      "source": [
        "\"\"\" Differently from PyTorch, tf tensors are immutable!\n",
        "Therefore, when created using a slice of another tensor, they do not share the same underlying data.\n",
        "There is no concepts as views, so any modifications made to the original tensor do not affect the new tensor created via slicing, and vice versa.\n",
        "For instance, the \"assign\" method, does not modify the tensor in-place; on the contrary it creates a new tensor with the updated values and\n",
        "then assigns it to the variable => does not affect the slices that have already been extracted!\n",
        "\"\"\"\n",
        "tensor[0, 2].assign(999)\n",
        "tf.print(tensor, end='\\n\\n')\n",
        "tf.print(three)"
      ]
    },
    {
      "cell_type": "markdown",
      "metadata": {
        "id": "IJKZJ1bjj09h"
      },
      "source": [
        "<h2 style=\"color:#FF7C00  \"> Manipulate tf.Variable </h2>"
      ]
    },
    {
      "cell_type": "code",
      "execution_count": 16,
      "metadata": {
        "colab": {
          "base_uri": "https://localhost:8080/"
        },
        "id": "Px5PfwbGj1BS",
        "outputId": "448a55e3-fbdb-4659-eedf-0b8092cd6d23"
      },
      "outputs": [
        {
          "output_type": "execute_result",
          "data": {
            "text/plain": [
              "<tf.Variable 'Variable:0' shape=(5,) dtype=int64, numpy=array([0, 1, 2, 3, 4])>"
            ]
          },
          "metadata": {},
          "execution_count": 16
        }
      ],
      "source": [
        "ten2 = tf.Variable(np.arange(0, 5))\n",
        "ten2"
      ]
    },
    {
      "cell_type": "code",
      "execution_count": 17,
      "metadata": {
        "colab": {
          "base_uri": "https://localhost:8080/"
        },
        "id": "XZdiozkbTwJ1",
        "outputId": "f8b93843-307d-4ca1-c33f-c716d65bee6e"
      },
      "outputs": [
        {
          "output_type": "stream",
          "name": "stdout",
          "text": [
            "[0 1 2 3 4]\n"
          ]
        },
        {
          "output_type": "execute_result",
          "data": {
            "text/plain": [
              "array([0, 1, 2, 3, 4])"
            ]
          },
          "metadata": {},
          "execution_count": 17
        }
      ],
      "source": [
        "# Show only the content\n",
        "print(ten2.numpy())\n",
        "ten2.numpy()"
      ]
    },
    {
      "cell_type": "code",
      "execution_count": 18,
      "metadata": {
        "colab": {
          "base_uri": "https://localhost:8080/"
        },
        "id": "oLxIK91-j1Ex",
        "outputId": "c82f6580-4eee-4d86-dda0-2aa9f62ca353"
      },
      "outputs": [
        {
          "output_type": "execute_result",
          "data": {
            "text/plain": [
              "<tf.Variable 'Variable:0' shape=(5,) dtype=int64, numpy=array([ 0,  1,  2,  3, 50])>"
            ]
          },
          "metadata": {},
          "execution_count": 18
        }
      ],
      "source": [
        "# Assign the final value a new value of 50\n",
        "ten2.assign([0, 1, 2, 3, 50])\n",
        "ten2"
      ]
    },
    {
      "cell_type": "code",
      "execution_count": 19,
      "metadata": {
        "colab": {
          "base_uri": "https://localhost:8080/"
        },
        "id": "m1rw9c1Aj1IX",
        "outputId": "6d6a5599-a2d3-4491-9859-fc203385b1fd"
      },
      "outputs": [
        {
          "output_type": "execute_result",
          "data": {
            "text/plain": [
              "<tf.Variable 'Variable:0' shape=(5,) dtype=int64, numpy=array([10, 11, 12, 13, 60])>"
            ]
          },
          "metadata": {},
          "execution_count": 19
        }
      ],
      "source": [
        "# Add 10 to every element\n",
        "ten2.assign_add([10, 10, 10, 10, 10])\n",
        "ten2"
      ]
    },
    {
      "cell_type": "markdown",
      "metadata": {
        "id": "R9hpoQvdj1L4"
      },
      "source": [
        "<h3 style=\"color:#FF7C00  \"> Tf with Numpy </h3>"
      ]
    },
    {
      "cell_type": "code",
      "execution_count": 20,
      "metadata": {
        "colab": {
          "base_uri": "https://localhost:8080/"
        },
        "id": "ToKqEJCEmt-J",
        "outputId": "d0d48d06-ef54-44f2-a4d4-2382646181de"
      },
      "outputs": [
        {
          "output_type": "execute_result",
          "data": {
            "text/plain": [
              "<tf.Tensor: shape=(3,), dtype=float64, numpy=array([ 3.,  7., 10.])>"
            ]
          },
          "metadata": {},
          "execution_count": 20
        }
      ],
      "source": [
        "## Tensor from a NumPy array\n",
        "J = tf.constant(np.array([3., 7., 10.]))\n",
        "J"
      ]
    },
    {
      "cell_type": "code",
      "execution_count": 21,
      "metadata": {
        "colab": {
          "base_uri": "https://localhost:8080/"
        },
        "id": "pRdzAxH8muNy",
        "outputId": "a09cc11f-e40e-4724-d981-6b09f64daab9"
      },
      "outputs": [
        {
          "output_type": "execute_result",
          "data": {
            "text/plain": [
              "(array([ 3.,  7., 10.]), numpy.ndarray)"
            ]
          },
          "metadata": {},
          "execution_count": 21
        }
      ],
      "source": [
        "np.array(J), type(np.array(J))"
      ]
    },
    {
      "cell_type": "code",
      "execution_count": 22,
      "metadata": {
        "colab": {
          "base_uri": "https://localhost:8080/"
        },
        "id": "EEqRTOhomuUm",
        "outputId": "3443cbc8-c8dd-41f6-c4ce-f6f8daf5850a"
      },
      "outputs": [
        {
          "output_type": "execute_result",
          "data": {
            "text/plain": [
              "(array([ 3.,  7., 10.]), numpy.ndarray)"
            ]
          },
          "metadata": {},
          "execution_count": 22
        }
      ],
      "source": [
        "J.numpy(), type(J.numpy())"
      ]
    },
    {
      "cell_type": "code",
      "execution_count": 23,
      "metadata": {
        "colab": {
          "base_uri": "https://localhost:8080/"
        },
        "id": "EnG9owtumuZW",
        "outputId": "e7835c89-76d0-4f92-8c0a-0b50f05c0196"
      },
      "outputs": [
        {
          "output_type": "execute_result",
          "data": {
            "text/plain": [
              "(tf.float64, tf.float32)"
            ]
          },
          "metadata": {},
          "execution_count": 23
        }
      ],
      "source": [
        "## Create a tensor from NumPy and from an array\n",
        "numpy_J = tf.constant(np.array([3., 7., 10.]))  #float64\n",
        "tensor_J = tf.constant([3., 7., 10.])           #float32\n",
        "numpy_J.dtype, tensor_J.dtype"
      ]
    },
    {
      "cell_type": "markdown",
      "metadata": {
        "id": "P0bZfFg5mudf"
      },
      "source": [
        "<h2 style=\"color:#FF7C00  \"> decorator @tf.function </h2>"
      ]
    },
    {
      "cell_type": "code",
      "execution_count": 24,
      "metadata": {
        "colab": {
          "base_uri": "https://localhost:8080/"
        },
        "id": "uJRhYyTmmuh5",
        "outputId": "73fb19ef-eb5e-426e-9789-4cb13bbeff27"
      },
      "outputs": [
        {
          "output_type": "execute_result",
          "data": {
            "text/plain": [
              "<tf.Tensor: shape=(10,), dtype=int64, numpy=array([ 10,  12,  16,  22,  30,  40,  52,  66,  82, 100])>"
            ]
          },
          "metadata": {},
          "execution_count": 24
        }
      ],
      "source": [
        "def func(x, y):\n",
        "  return x ** 2 + y\n",
        "\n",
        "x = tf.constant(np.arange(0, 10))\n",
        "y = tf.constant(np.arange(10, 20))\n",
        "func(x, y)"
      ]
    },
    {
      "cell_type": "code",
      "execution_count": 25,
      "metadata": {
        "colab": {
          "base_uri": "https://localhost:8080/"
        },
        "id": "02QV4F7kmumz",
        "outputId": "b7ee51b8-923c-482a-a3ca-108f871178ce"
      },
      "outputs": [
        {
          "output_type": "execute_result",
          "data": {
            "text/plain": [
              "<tf.Tensor: shape=(10,), dtype=int64, numpy=array([ 10,  12,  16,  22,  30,  40,  52,  66,  82, 100])>"
            ]
          },
          "metadata": {},
          "execution_count": 25
        }
      ],
      "source": [
        "## Same function and decorate it with tf.function\n",
        "@tf.function\n",
        "def tf_function(x, y):\n",
        "  return x ** 2 + y\n",
        "\n",
        "tf_function(x, y)"
      ]
    },
    {
      "cell_type": "code",
      "execution_count": 26,
      "metadata": {
        "colab": {
          "base_uri": "https://localhost:8080/"
        },
        "id": "GpY12KrvmupV",
        "outputId": "f7a66d09-4a89-4e79-8423-0d27bb973d4c"
      },
      "outputs": [
        {
          "output_type": "execute_result",
          "data": {
            "text/plain": [
              "<tf.Tensor: shape=(3,), dtype=int32, numpy=array([5, 7, 9], dtype=int32)>"
            ]
          },
          "metadata": {},
          "execution_count": 26
        }
      ],
      "source": [
        "\"\"\" Function that will be converted to a graph function. \"\"\"\n",
        "@tf.function\n",
        "def add(a, b):\n",
        "    return tf.add(a, b)\n",
        "\n",
        "a = tf.constant([1, 2, 3])\n",
        "b = tf.constant([4, 5, 6])\n",
        "\n",
        "## Graph function\n",
        "c = add(a, b)\n",
        "c"
      ]
    },
    {
      "cell_type": "code",
      "execution_count": 27,
      "metadata": {
        "colab": {
          "base_uri": "https://localhost:8080/"
        },
        "id": "Eb0IUej0musr",
        "outputId": "5e599e3c-ae00-4369-abfa-0f28c1179ec5"
      },
      "outputs": [
        {
          "output_type": "stream",
          "name": "stdout",
          "text": [
            "[[0.6255419  0.06785149 0.33478425]\n",
            " [0.5744087  0.64301323 0.72131303]\n",
            " [0.00526587 0.84347421 0.17834122]]\n",
            "[[0.94217079 0.5302481  0.05626843]\n",
            " [0.86222438 0.37396378 0.04080237]\n",
            " [0.30072075 0.61736787 0.70428927]]\n",
            "\n",
            "tf.Tensor(\n",
            "[[1.13092372 0.53457167 0.33947994]\n",
            " [1.03603872 0.74385141 0.72246614]\n",
            " [0.30076685 1.04527117 0.72651838]], shape=(3, 3), dtype=float64)\n",
            "tf.Tensor(\n",
            "[[0.6255419 -0.94217079j 0.06785149-0.5302481j  0.33478425-0.05626843j]\n",
            " [0.5744087 -0.86222438j 0.64301323-0.37396378j 0.72131303-0.04080237j]\n",
            " [0.00526587-0.30072075j 0.84347421-0.61736787j 0.17834122-0.70428927j]], shape=(3, 3), dtype=complex128)\n"
          ]
        }
      ],
      "source": [
        "real = np.random.rand(3, 3)\n",
        "imag = np.random.rand(3, 3)\n",
        "complex_tens = tf.complex(real, imag)\n",
        "\n",
        "# compute the absolute value of the complex tensor\n",
        "abs_tens = tf.abs(complex_tens)\n",
        "# compute the conjugate of the complex tensor\n",
        "conj_tens = tf.math.conj(complex_tens)\n",
        "\n",
        "print(real)\n",
        "print(imag, end='\\n\\n')\n",
        "print(abs_tens)\n",
        "print(conj_tens)"
      ]
    },
    {
      "cell_type": "markdown",
      "metadata": {
        "id": "uQvd_lRnTwJ_"
      },
      "source": [
        "<h2 style=\"color:#FF7C00  \"> Load datasets </h2>"
      ]
    },
    {
      "cell_type": "markdown",
      "metadata": {
        "id": "AXcKA7PfTwJ_"
      },
      "source": [
        "<h3 style=\"color:#FF7C00  \"> Note: </h3>\n",
        "<div style=\"margin-top: -10px;\">\n",
        "The Reuters-21578 dataset is a collection of documents with news articles. The original corpus has 10,369 documents and a vocabulary of 29,930 words.\n",
        "</div>"
      ]
    },
    {
      "cell_type": "code",
      "execution_count": 28,
      "metadata": {
        "colab": {
          "base_uri": "https://localhost:8080/"
        },
        "id": "5g84b1J7TwKA",
        "outputId": "2b36ffad-31d0-4652-ecc2-56b7c17dad83"
      },
      "outputs": [
        {
          "output_type": "stream",
          "name": "stdout",
          "text": [
            "mdbl: 10996\n",
            "fawc: 16260\n",
            "degussa: 12089\n",
            "woods: 8803\n",
            "hanging: 13796\n",
            "localized: 20672\n",
            "sation: 20673\n",
            "chanthaburi: 20675\n",
            "refunding: 10997\n",
            "hermann: 8804\n"
          ]
        }
      ],
      "source": [
        "# Load the dataset, specifying the number of most frequent words to keep\n",
        "(x_train, y_train), (x_test, y_test) = tf.keras.datasets.reuters.load_data(num_words=10000)\n",
        "\n",
        "# Get the word index mapping\n",
        "word_index = tf.keras.datasets.reuters.get_word_index()\n",
        "\n",
        "for i, (key, value) in enumerate(word_index.items()):\n",
        "    if i == 10:\n",
        "        break\n",
        "    print(f\"{key}: {value}\")"
      ]
    },
    {
      "cell_type": "code",
      "execution_count": 29,
      "metadata": {
        "colab": {
          "base_uri": "https://localhost:8080/"
        },
        "id": "pI8SxQr3TwKB",
        "outputId": "cc4cd9fd-2d69-4a8f-a6ec-d2b68f200261"
      },
      "outputs": [
        {
          "output_type": "execute_result",
          "data": {
            "text/plain": [
              "(numpy.ndarray, numpy.ndarray)"
            ]
          },
          "metadata": {},
          "execution_count": 29
        }
      ],
      "source": [
        "type(x_train), type(y_train)"
      ]
    },
    {
      "cell_type": "code",
      "execution_count": 30,
      "metadata": {
        "colab": {
          "base_uri": "https://localhost:8080/"
        },
        "id": "nMzeyg1iTwKB",
        "outputId": "44357e0e-b803-4e2d-bb0a-72d3866a0351"
      },
      "outputs": [
        {
          "output_type": "execute_result",
          "data": {
            "text/plain": [
              "array([list([1, 2, 2, 8, 43, 10, 447, 5, 25, 207, 270, 5, 3095, 111, 16, 369, 186, 90, 67, 7, 89, 5, 19, 102, 6, 19, 124, 15, 90, 67, 84, 22, 482, 26, 7, 48, 4, 49, 8, 864, 39, 209, 154, 6, 151, 6, 83, 11, 15, 22, 155, 11, 15, 7, 48, 9, 4579, 1005, 504, 6, 258, 6, 272, 11, 15, 22, 134, 44, 11, 15, 16, 8, 197, 1245, 90, 67, 52, 29, 209, 30, 32, 132, 6, 109, 15, 17, 12]),\n",
              "       list([1, 3267, 699, 3434, 2295, 56, 2, 7511, 9, 56, 3906, 1073, 81, 5, 1198, 57, 366, 737, 132, 20, 4093, 7, 2, 49, 2295, 2, 1037, 3267, 699, 3434, 8, 7, 10, 241, 16, 855, 129, 231, 783, 5, 4, 587, 2295, 2, 2, 775, 7, 48, 34, 191, 44, 35, 1795, 505, 17, 12]),\n",
              "       list([1, 53, 12, 284, 15, 14, 272, 26, 53, 959, 32, 818, 15, 14, 272, 26, 39, 684, 70, 11, 14, 12, 3886, 18, 180, 183, 187, 70, 11, 14, 102, 32, 11, 29, 53, 44, 704, 15, 14, 19, 758, 15, 53, 959, 47, 1013, 15, 14, 19, 132, 15, 39, 965, 32, 11, 14, 147, 72, 11, 180, 183, 187, 44, 11, 14, 102, 19, 11, 123, 186, 90, 67, 960, 4, 78, 13, 68, 467, 511, 110, 59, 89, 90, 67, 1390, 55, 2678, 92, 617, 80, 1274, 46, 905, 220, 13, 4, 346, 48, 235, 629, 5, 211, 5, 1118, 7, 2, 81, 5, 187, 11, 15, 9, 1709, 201, 5, 47, 3615, 18, 478, 4514, 5, 1118, 7, 232, 2, 71, 5, 160, 63, 11, 9, 2, 81, 5, 102, 59, 11, 17, 12])],\n",
              "      dtype=object)"
            ]
          },
          "metadata": {},
          "execution_count": 30
        }
      ],
      "source": [
        "x_train[:3]"
      ]
    },
    {
      "cell_type": "code",
      "execution_count": 31,
      "metadata": {
        "colab": {
          "base_uri": "https://localhost:8080/"
        },
        "id": "xCGH3naJTwKh",
        "outputId": "5bc6f0de-a37a-453f-be68-1b440dbfff79"
      },
      "outputs": [
        {
          "output_type": "stream",
          "name": "stdout",
          "text": [
            "10996: mdbl\n",
            "16260: fawc\n",
            "12089: degussa\n",
            "8803: woods\n",
            "13796: hanging\n",
            "20672: localized\n",
            "20673: sation\n",
            "20675: chanthaburi\n",
            "10997: refunding\n",
            "8804: hermann\n"
          ]
        }
      ],
      "source": [
        "# Reverse the word index to get back to text\n",
        "reverse_word_index = {value: key for (key, value) in word_index.items()}\n",
        "for i, (key, value) in enumerate(reverse_word_index.items()):\n",
        "    if i == 10:\n",
        "        break\n",
        "    print(f\"{key}: {value}\")"
      ]
    },
    {
      "cell_type": "code",
      "execution_count": 32,
      "metadata": {
        "colab": {
          "base_uri": "https://localhost:8080/",
          "height": 35
        },
        "id": "ab6u-fRbTwKh",
        "outputId": "700fb487-f9e0-4e4d-bd71-c1feedcfec86"
      },
      "outputs": [
        {
          "output_type": "execute_result",
          "data": {
            "text/plain": [
              "'? ? ? said as a result of its december acqui'"
            ],
            "application/vnd.google.colaboratory.intrinsic+json": {
              "type": "string"
            }
          },
          "metadata": {},
          "execution_count": 32
        }
      ],
      "source": [
        "\"\"\" Decode the first newswire back into text.\n",
        "N.B.1\n",
        "The offset for indices (by 3) is necessary since the indices 0, 1, and 2 are reserved for \"padding\", \"start of sequence\", and \"unknown\".\n",
        "N.B.2\n",
        "Keras does not include a way to map from index to topic name, to retrieve\n",
        "\"\"\"\n",
        "decoded_newswire = ' '.join([reverse_word_index.get(i - 3, '?') for i in x_train[0]])\n",
        "decoded_newswire[:44]"
      ]
    },
    {
      "cell_type": "markdown",
      "metadata": {
        "id": "1sj6n-XuTwKi"
      },
      "source": [
        "<h2 style=\"color:#FF7C00  \"> Create keras models </h2>"
      ]
    },
    {
      "cell_type": "code",
      "source": [
        "# Set the number of words to consider as features\n",
        "max_features = 10000\n",
        "# Define the maximum number of words to consider (the newswire cut-off length for the sequences)\n",
        "maxlen = 200\n",
        "\n",
        "# Load data in the feature and target sets\n",
        "(x_train_full, y_train_full), (x_test, y_test) = tf.keras.datasets.reuters.load_data(num_words=max_features)"
      ],
      "metadata": {
        "id": "FoZ7bQTYVKwN"
      },
      "execution_count": 33,
      "outputs": []
    },
    {
      "cell_type": "markdown",
      "metadata": {
        "id": "QcCP98N-TwKj"
      },
      "source": [
        "<h3 style=\"color:#FF7C00  \"> Note: </h3>\n",
        "<div style=\"margin-top: -10px;\">\n",
        "The categorical_crossentropy loss expects labels to be provided in a one-hot encoded format, <br>\n",
        "since it compares the predicted probability distribution (output of the softmax layer) against the true distribution, for each class.\n",
        "</div>\n",
        "\n"
      ]
    },
    {
      "cell_type": "code",
      "source": [
        "\"\"\" Prepare data for training.\n",
        "N.B.1\n",
        "It is better to encode data\n",
        "N.B.2\n",
        "NumPy arrays must be converted to Tensors to avoid a ValueError.\n",
        "N.B.3\n",
        "All input sequences should be of the same length => layers expect uniform input shapes. One std approach to solve this is use padding (adding zeros).\n",
        "N.B.4\n",
        "It is necessary to redo again the split !\n",
        "\"\"\"\n",
        "## Pad the sequences with zeros, to have the input sequences in a uniform length\n",
        "x_train_full = pad_sequences(x_train_full, maxlen=maxlen)\n",
        "x_test = pad_sequences(x_test, maxlen=maxlen)\n",
        "\n",
        "# Convert the labels to one-hot encoding\n",
        "num_classes = np.max(y_train_full) + 1  # 46 topics\n",
        "y_train_full = to_categorical(y_train_full, num_classes=num_classes)\n",
        "y_test = to_categorical(y_test, num_classes=num_classes)"
      ],
      "metadata": {
        "id": "H4UZ8tNdVOy9"
      },
      "execution_count": 34,
      "outputs": []
    },
    {
      "cell_type": "code",
      "source": [
        "# Split the full training data into a training set and a validation set\n",
        "x_train, x_val, y_train, y_val = train_test_split(x_train_full, y_train_full, test_size=0.2, random_state=42)\n"
      ],
      "metadata": {
        "id": "vmERIuLeX8jq"
      },
      "execution_count": 35,
      "outputs": []
    },
    {
      "cell_type": "code",
      "execution_count": 36,
      "metadata": {
        "id": "ZAxc3uaiTwKi"
      },
      "outputs": [],
      "source": [
        "\"\"\" Model definition => Initialize a Sequential model in Keras (a linear stack of layers).\n",
        "# Layers tasks:\n",
        "- 1 Encode the input sequence (positive integers) into a sequence of dense vectors of fixed size (output_dim=128)\n",
        "- 2 Learn from sequence context and dependencies\n",
        "- 3 Output the probability distribution over the 46 classes through a fully connected neural network layer\n",
        "\"\"\"\n",
        "model = tf.keras.models.Sequential([\n",
        "    tf.keras.layers.Embedding(input_dim=max_features, output_dim=128, input_length=maxlen),\n",
        "    tf.keras.layers.LSTM(64),\n",
        "    tf.keras.layers.Dense(46, activation='softmax')  # 46 classes means 46 units\n",
        "])"
      ]
    },
    {
      "cell_type": "code",
      "execution_count": 37,
      "metadata": {
        "id": "QSgP9lt0TwKi"
      },
      "outputs": [],
      "source": [
        "\"\"\" Model compilation.\n",
        "N.B.\n",
        "The \"sparse-categorical Cross-Entropy\" can be used for classification tasks with multiple classes where the labels are provided as integers.\n",
        "\"\"\"\n",
        "# Compile the model (prepare for training)\n",
        "model.compile(optimizer='adam',\n",
        "              loss='categorical_crossentropy',\n",
        "              metrics=['accuracy'])"
      ]
    },
    {
      "cell_type": "code",
      "source": [
        "model.summary()"
      ],
      "metadata": {
        "colab": {
          "base_uri": "https://localhost:8080/"
        },
        "id": "UzAIxzolVsD6",
        "outputId": "c853b259-8919-4acd-f56c-27e26f928e12"
      },
      "execution_count": 38,
      "outputs": [
        {
          "output_type": "stream",
          "name": "stdout",
          "text": [
            "Model: \"sequential\"\n",
            "_________________________________________________________________\n",
            " Layer (type)                Output Shape              Param #   \n",
            "=================================================================\n",
            " embedding (Embedding)       (None, 200, 128)          1280000   \n",
            "                                                                 \n",
            " lstm (LSTM)                 (None, 64)                49408     \n",
            "                                                                 \n",
            " dense (Dense)               (None, 46)                2990      \n",
            "                                                                 \n",
            "=================================================================\n",
            "Total params: 1332398 (5.08 MB)\n",
            "Trainable params: 1332398 (5.08 MB)\n",
            "Non-trainable params: 0 (0.00 Byte)\n",
            "_________________________________________________________________\n"
          ]
        }
      ]
    },
    {
      "cell_type": "code",
      "execution_count": 39,
      "metadata": {
        "colab": {
          "base_uri": "https://localhost:8080/"
        },
        "id": "3gfpoS9PTwKk",
        "outputId": "884ac94e-2b53-41c7-be0a-5ee78fd394cf"
      },
      "outputs": [
        {
          "output_type": "stream",
          "name": "stdout",
          "text": [
            "Epoch 1/10\n",
            "57/57 [==============================] - 18s 181ms/step - loss: 2.8228 - accuracy: 0.3450 - val_loss: 2.3706 - val_accuracy: 0.3534\n",
            "Epoch 2/10\n",
            "57/57 [==============================] - 7s 118ms/step - loss: 2.1459 - accuracy: 0.4326 - val_loss: 1.9164 - val_accuracy: 0.4919\n",
            "Epoch 3/10\n",
            "57/57 [==============================] - 5s 94ms/step - loss: 1.7813 - accuracy: 0.5222 - val_loss: 1.7583 - val_accuracy: 0.5470\n",
            "Epoch 4/10\n",
            "57/57 [==============================] - 5s 87ms/step - loss: 1.6349 - accuracy: 0.5637 - val_loss: 1.7294 - val_accuracy: 0.5426\n",
            "Epoch 5/10\n",
            "57/57 [==============================] - 4s 68ms/step - loss: 1.5580 - accuracy: 0.5756 - val_loss: 1.6457 - val_accuracy: 0.5799\n",
            "Epoch 6/10\n",
            "57/57 [==============================] - 4s 67ms/step - loss: 1.6043 - accuracy: 0.5669 - val_loss: 1.6274 - val_accuracy: 0.5843\n",
            "Epoch 7/10\n",
            "57/57 [==============================] - 4s 79ms/step - loss: 1.3635 - accuracy: 0.6306 - val_loss: 1.5443 - val_accuracy: 0.6060\n",
            "Epoch 8/10\n",
            "57/57 [==============================] - 3s 59ms/step - loss: 1.2394 - accuracy: 0.6674 - val_loss: 1.5397 - val_accuracy: 0.6160\n",
            "Epoch 9/10\n",
            "57/57 [==============================] - 3s 51ms/step - loss: 1.1285 - accuracy: 0.6951 - val_loss: 1.5497 - val_accuracy: 0.6227\n",
            "Epoch 10/10\n",
            "57/57 [==============================] - 3s 44ms/step - loss: 1.0448 - accuracy: 0.7228 - val_loss: 1.4944 - val_accuracy: 0.6400\n"
          ]
        }
      ],
      "source": [
        "##### Train the model\n",
        "history = model.fit(\n",
        "    x_train, y_train,\n",
        "    epochs=10,\n",
        "    batch_size=128,\n",
        "    validation_data=(x_val, y_val)\n",
        ")"
      ]
    }
  ],
  "metadata": {
    "accelerator": "GPU",
    "colab": {
      "gpuType": "T4",
      "provenance": []
    },
    "kernelspec": {
      "display_name": "Python 3",
      "name": "python3"
    },
    "language_info": {
      "codemirror_mode": {
        "name": "ipython",
        "version": 3
      },
      "file_extension": ".py",
      "mimetype": "text/x-python",
      "name": "python",
      "nbconvert_exporter": "python",
      "pygments_lexer": "ipython3",
      "version": "3.10.9"
    }
  },
  "nbformat": 4,
  "nbformat_minor": 0
}