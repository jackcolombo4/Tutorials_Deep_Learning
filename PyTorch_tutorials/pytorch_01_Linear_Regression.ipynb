{
 "cells": [
  {
   "cell_type": "markdown",
   "metadata": {},
   "source": [
    "<div style=\"line-height:1.2;\">\n",
    "\n",
    "<h1 style=\"color:#BF66F2; margin-bottom: 0.3em;\"> Linear regression in PyTorch </h1>\n",
    "<h4 style=\"margin-top: 0.3em; margin-bottom: 1em;\"> Some regression examples on various custom data. </h4>\n",
    "<div style=\"line-height:1.4; margin-bottom: 0.5em;\">\n",
    "    <h3 style=\"color: lightblue; display: inline; margin-right: 0.5em;\">Keywords:</h3> \n",
    "random_state + eshape() + numpy make_regression() + detach() + StandardScaler + zero_grad() + plt.legend loc\n",
    "</div>\n",
    "\n",
    "</div>"
   ]
  },
  {
   "cell_type": "code",
   "execution_count": 13,
   "metadata": {},
   "outputs": [],
   "source": [
    "import numpy as np\n",
    "import pandas as pd\n",
    "import matplotlib.pyplot as plt\n",
    "\n",
    "from sklearn import datasets\n",
    "from sklearn.preprocessing import StandardScaler\n",
    "from sklearn.model_selection import train_test_split\n",
    "\n",
    "import torch\n",
    "import torch.nn as nn\n",
    "import torch.optim as optim"
   ]
  },
  {
   "cell_type": "markdown",
   "metadata": {},
   "source": [
    "<h2 style=\"color:#BF66F2 \"> <u> Example #1</u>  </h2>\n",
    "Linear regression with numpy"
   ]
  },
  {
   "cell_type": "markdown",
   "metadata": {},
   "source": [
    "<h3 style=\"color:#BF66F2\"> Recap: Gradient descent optimizer </h3>\n",
    "<div style=\"margin-top: -7px;\">\n",
    "Simple first-order iterative optimization algorithm (no bias involved) for finding a local minimum of a differentiable function. <br>\n",
    "It minimizes a loss function by iteratively moving toward the minimum value of the function, which is achieved by updating the <br>\n",
    "parameters in the opposite direction of the gradient (or the steepest decrease) of the function. <br>\n",
    "Hebb's rule.\n",
    "<br>\n",
    "\n",
    "1. **Mean Squared Error (MSE):**\n",
    "$ \\text{MSE} = \\frac{1}{n} \\sum_{i=1}^{n} \\left( (w \\cdot x_i - y_i)^2 \\right) $\n",
    "\n",
    "Where:\n",
    "<div style=\"margin-top: -20px;\">\n",
    "\n",
    "- \\( n \\): Number of observations\n",
    "- \\( x_i \\): Input value for the \\(i\\)th observation\n",
    "- \\( y_i \\): Actual output value for the \\(i\\)th observation\n",
    "- \\( w \\): Weight parameter\n",
    "</div>\n",
    "\n",
    "2. **Gradient of MSE with respect to \\(w\\):**\n",
    "$ \\frac{dJ}{dw} = \\frac{2}{n} \\sum_{i=1}^{n} x_i \\cdot \\left( w \\cdot x_i - y_i \\right) $\n",
    "\n",
    "Where:\n",
    "<div style=\"margin-top: -20px;\">\n",
    "\n",
    "- \\( J \\): The cost function (in this case, MSE)\n",
    "</div>\n",
    "</div>"
   ]
  },
  {
   "cell_type": "code",
   "execution_count": 6,
   "metadata": {},
   "outputs": [],
   "source": [
    "# Force PyTorch to use CPU, to avoid CUDA warnings\n",
    "device = torch.device(\"cpu\") "
   ]
  },
  {
   "cell_type": "code",
   "execution_count": 3,
   "metadata": {},
   "outputs": [
    {
     "name": "stdout",
     "output_type": "stream",
     "text": [
      "Prediction before training : f5 = 0.000\n"
     ]
    }
   ],
   "source": [
    "\"\"\" Gradient descent and forward pass. \"\"\"\n",
    "X = np.array([1, 2, 3, 4], dtype=np.float32)\n",
    "Y = np.array([2, 4, 6, 8], dtype=np.float32)\n",
    "\n",
    "w = 0.0\n",
    "\n",
    "def forwardpass(x):\n",
    "    return x * w\n",
    "\n",
    "def loss(y, y_pred):\n",
    "    # return np.sum((y_pred - y) ** 2)\n",
    "    return np.mean((y_pred - y) ** 2)\n",
    "\n",
    "def gradient(x, y, y_predicted):\n",
    "    \"\"\" Calculate the gradient with the derivative formula \n",
    "    # MSE = 1/n * ((w*x - y) ** 2)\n",
    "    # dJ / dw = 1/n * 2X * ((w*x- y)\n",
    "    \"\"\"\n",
    "    return np.dot(2 * x, (y_predicted - y)).mean()\n",
    "\n",
    "print(f\"Prediction before training : f{5} = {forwardpass(5):.3f}\")"
   ]
  },
  {
   "cell_type": "code",
   "execution_count": 4,
   "metadata": {},
   "outputs": [
    {
     "name": "stdout",
     "output_type": "stream",
     "text": [
      "Epoch 1 : w = 1.200, loss = 30.000\n",
      "Epoch 2 : w = 1.680, loss = 4.800\n",
      "Epoch 3 : w = 1.872, loss = 0.768\n",
      "Epoch 4 : w = 1.949, loss = 0.123\n",
      "Epoch 5 : w = 1.980, loss = 0.020\n",
      "Epoch 6 : w = 1.992, loss = 0.003\n",
      "Epoch 7 : w = 1.997, loss = 0.001\n",
      "Epoch 8 : w = 1.999, loss = 0.000\n",
      "Epoch 9 : w = 1.999, loss = 0.000\n",
      "Epoch 10 : w = 2.000, loss = 0.000\n",
      "Final w is  1.999790253639221\n"
     ]
    }
   ],
   "source": [
    "\"\"\" Training. \n",
    "- Define a linear regression model with a single weight parameter w, and uses the mean squared error (MSE) loss function.\n",
    "\n",
    "- Measure the loss, the difference between the predicted output and the true output. \n",
    "- Compute the gradient of the loss with respect to the w (weight parameter), using the derivative of the MSE function.\n",
    "- Update w using the calculated gradient and a fixed learning rate.\n",
    "    The '-' sing means => moving in the opposite direction of the gradient.\n",
    "\"\"\"\n",
    "learning_rate = 0.01\n",
    "n_iters = 10\n",
    "\n",
    "for epoch in range(n_iters):\n",
    "    y_pred = forwardpass(X)\n",
    "    l = loss(Y, y_pred) \n",
    "    dw = gradient(X, Y, y_pred)\n",
    "    w = w - learning_rate * dw\n",
    "\n",
    "    if epoch % 1 == 0:\n",
    "        print(f\"Epoch {epoch+1} : w = {w:.3f}, loss = {l:.3f}\")\n",
    "print(\"Final w is \", w)"
   ]
  },
  {
   "cell_type": "markdown",
   "metadata": {},
   "source": [
    "<h2 style=\"color:#BF66F2 \"> <u> Example #2</u>  </h2>\n",
    "Make the model explicit => Encapsulate!"
   ]
  },
  {
   "cell_type": "code",
   "execution_count": null,
   "metadata": {},
   "outputs": [],
   "source": [
    "class MyCustomLinearRegression:\n",
    "    \"\"\" Implementation of a simple linear regression model using gradient descent.\n",
    "\n",
    "    Attributes:\n",
    "        Weight [float]\n",
    "\n",
    "    Methods:\n",
    "        forwardpass(x: np.ndarray) -> np.ndarray:\n",
    "            Computes the predicted values using the current weight.\n",
    "            \n",
    "        loss(y: np.ndarray, y_pred: np.ndarray) -> float:\n",
    "            Computes the mean squared error between the actual and predicted values.\n",
    "            \n",
    "        gradient(x: np.ndarray, y: np.ndarray, y_predicted: np.ndarray) -> float:\n",
    "            Computes the gradient of the loss with respect to the weight.\n",
    "            \n",
    "        train(X: np.ndarray, Y: np.ndarray, learning_rate: float, n_iters: int) -> None:\n",
    "            Trains the linear regression model using gradient descent.\n",
    "    \"\"\"\n",
    "    def __init__(self):\n",
    "        self.w = 0.0\n",
    "\n",
    "    def forwardpass(self, x):\n",
    "        \"\"\" Compute the predicted values using the current weight. \"\"\"\n",
    "        return x * self.w\n",
    "\n",
    "    def loss(self, y, y_pred):\n",
    "        \"\"\" Compute the mean squared error between the actual and predicted values. \"\"\"\n",
    "        return np.mean((y_pred - y) ** 2)\n",
    "\n",
    "    def gradient(self, x, y, y_predicted):\n",
    "        \"\"\" Compute the gradient of the loss with respect to the weight. \"\"\"\n",
    "        return np.dot(2 * x, (y_predicted - y)).mean()\n",
    "\n",
    "    def train(self, X, Y, learning_rate, n_iters):\n",
    "        \"\"\" Trains the linear regression model using gradient descent. \n",
    "        \n",
    "        Parameters:\n",
    "            - Training input data [ndarray]\n",
    "            - Training output/actual values [ndarray]\n",
    "            - Learning rate for gradient descent [float]\n",
    "            - Number of iterations for training [int]\n",
    "        \"\"\"\n",
    "        for epoch in range(n_iters):\n",
    "            y_pred = self.forwardpass(X)\n",
    "            l = self.loss(Y, y_pred)\n",
    "            dw = self.gradient(X, Y, y_pred)\n",
    "            self.w = self.w - learning_rate * dw\n",
    "\n",
    "            if epoch % 1 == 0:\n",
    "                print(f\"Epoch {epoch+1} : w = {self.w:.3f}, loss = {l:.3f}\")\n",
    "        print(\"Final w is \", self.w)"
   ]
  },
  {
   "cell_type": "code",
   "execution_count": null,
   "metadata": {},
   "outputs": [],
   "source": [
    "model = MyCustomLinearRegression()\n",
    "\n",
    "X = np.array([1, 2, 3, 4], dtype=np.float32)\n",
    "Y = np.array([2, 4, 6, 8], dtype=np.float32)\n",
    "\n",
    "print(f\"Prediction before training : f{5} = {model.forwardpass(5):.3f}\")\n",
    "\n",
    "learning_rate = 0.01\n",
    "n_iters = 10\n",
    "model.train(X, Y, learning_rate, n_iters)"
   ]
  },
  {
   "cell_type": "markdown",
   "metadata": {},
   "source": [
    "<h2 style=\"color:#BF66F2 \"> <u> Example #3 </u>  </h2>\n",
    "Linear regression with torch"
   ]
  },
  {
   "cell_type": "code",
   "execution_count": 7,
   "metadata": {},
   "outputs": [
    {
     "name": "stdout",
     "output_type": "stream",
     "text": [
      "tensor([5.])\n",
      "4\n",
      "1\n",
      "Prediction before training = -2.882\n",
      "Training....\n",
      "epoch 1: w = -0.319, loss = 46.86519623\n",
      "epoch 11: w = 1.257, loss = 1.49025583\n",
      "epoch 21: w = 1.521, loss = 0.30013183\n",
      "epoch 31: w = 1.575, loss = 0.25411555\n",
      "epoch 41: w = 1.593, loss = 0.23858595\n",
      "epoch 51: w = 1.606, loss = 0.22467998\n",
      "epoch 61: w = 1.618, loss = 0.21160190\n",
      "epoch 71: w = 1.630, loss = 0.19928566\n",
      "epoch 81: w = 1.641, loss = 0.18768603\n",
      "epoch 91: w = 1.651, loss = 0.17676175\n",
      "\n",
      "The prediction after training is f(5) = 9.301\n",
      "X_test size is: torch.Size([1])\n"
     ]
    }
   ],
   "source": [
    "\"\"\" Two tensors, with 4 samples with 1 feature each.\n",
    "N.B.\n",
    "Using a single sample (one feature with an UNSEEN value) 'X_test' as input test tensor, \n",
    "the expected output of the model for X_test is f(5) = 10, since the relationship between X and Y is Y = 2X.\n",
    "\"\"\"\n",
    "\n",
    "X = torch.tensor([[1],[2],[3],[4]], dtype=torch.float32)\n",
    "Y = torch.tensor([[2],[4],[6],[8]], dtype=torch.float32)\n",
    "X_test = torch.tensor([5], dtype=torch.float32) \n",
    "\n",
    "print(X_test)\n",
    "n_samples, n_features = X.shape\n",
    "print(n_samples)\n",
    "print(n_features)\n",
    "\n",
    "input_size = ouput_size = n_features \n",
    "\n",
    "# Apply a linear transformation (y = xA^T + b) to the incoming data\n",
    "model = nn.Linear(input_size, ouput_size) \n",
    "\n",
    "# Display result with 3 decimal places \n",
    "print(f'Prediction before training = {model(X_test).item():.3f}')   \n",
    "\n",
    "learning_rate = 0.01\n",
    "n_iters = 100\n",
    "\n",
    "loss = nn.MSELoss()\n",
    "optimizer = torch.optim.SGD(model.parameters(), lr=learning_rate)   #parameters = weight and bias\n",
    "\n",
    "print(\"Training....\")\n",
    "for epoch in range(n_iters):\n",
    "    y_pred = model(X)\n",
    "    problem_loss = loss(Y, y_pred)\n",
    "    # Perform gradient dl/dw \n",
    "    problem_loss.backward()       \n",
    "    # Update weights step of SDG\n",
    "    optimizer.step()              \n",
    "    # Set the gradients of all the parameters in the optimizer to zero at the beginning of each iter of training, \n",
    "    # to avoid accumulating gradients from the previous iteration\n",
    "    optimizer.zero_grad()\n",
    "    if epoch % 10==0:\n",
    "        [w, b] = model.parameters()\n",
    "        print(f'epoch {epoch + 1}: w = {w[0][0].item():.3f}, loss = {problem_loss:.8f}')\n",
    "\n",
    "print(f\"\\nThe prediction after training is f(5) = {model(X_test).item():.3f}\")\n",
    "print(\"X_test size is: {}\".format(model(X_test).size()))"
   ]
  },
  {
   "cell_type": "markdown",
   "metadata": {},
   "source": [
    "<h2 style=\"color:#BF66F2 \"> <u> Example #4 </u>  </h2>\n",
    "Using make_regression"
   ]
  },
  {
   "cell_type": "markdown",
   "metadata": {},
   "source": [
    "<h4 style=\"color:#BF66F2 \">  Note: </h4>\n",
    "<div style=\"margin-top: -30px;\">\n",
    "To define a random number generator for the dataset, the 'random_state' param can be used to ensure that the synthetic dataset is reproducible. <br>\n",
    "When 'random_state' is set to a fixed value, the same dataset will be generated every time the code is run, allowing consistent results across runs. <br>\n",
    "Otherwise, if the random_state parameter is not set, \"make_regression()\" will use a random seed based on the current time, <br>\n",
    "so a different dataset will be generated every time.\n",
    "</div>"
   ]
  },
  {
   "cell_type": "code",
   "execution_count": 8,
   "metadata": {},
   "outputs": [
    {
     "name": "stdout",
     "output_type": "stream",
     "text": [
      "type of X_nump is <class 'numpy.ndarray'>\n",
      "type of y_nump is <class 'numpy.ndarray'>\n",
      "X tensor([[-0.6118],\n",
      "        [-0.2494],\n",
      "        [ 0.4885],\n",
      "        [ 0.7620],\n",
      "        [ 1.5198]])\n",
      "y tensor([-55.5386, -10.6620,  22.7574, 101.0961, 144.3376])\n",
      "type of X is <class 'torch.Tensor'>\n",
      "type of y is <class 'torch.Tensor'>\n",
      "X size before: torch.Size([100, 1])\n",
      "y size before: torch.Size([100])\n"
     ]
    }
   ],
   "source": [
    "\"\"\" Generate a random regression problem. \n",
    "    - get / prepare data\n",
    "    - define the model\n",
    "    - define the loss + define the optimizer \n",
    "    - train\n",
    "\"\"\"\n",
    "X_nump, y_nump = datasets.make_regression(n_samples=100, n_features=1, noise=20, random_state=1)  \n",
    "\n",
    "X = torch.from_numpy(X_nump.astype(np.float32))     #convert to float to prevent errors \n",
    "y = torch.from_numpy(y_nump.astype(np.float32)) \n",
    "\n",
    "print(f\"type of X_nump is {type(X_nump)}\")\n",
    "print(f\"type of y_nump is {type(y_nump)}\")\n",
    "print(f\"X {X[:5]}\")\n",
    "print(f\"y {y[:5]}\")\n",
    "print(f\"type of X is {type(X)}\")\n",
    "print(f\"type of y is {type(y)}\")\n",
    "print(\"X size before:\", X.size())\n",
    "print(\"y size before:\", y.size())"
   ]
  },
  {
   "cell_type": "code",
   "execution_count": 9,
   "metadata": {},
   "outputs": [
    {
     "name": "stdout",
     "output_type": "stream",
     "text": [
      "y size before: torch.Size([100])\n",
      "y:\n",
      " tensor([[-55.5386]])\n",
      "y size after: torch.Size([100, 1])\n",
      "n_samples = 100\n",
      "n_features = 1\n"
     ]
    }
   ],
   "source": [
    "\"\"\" Create Linear Regression model.\n",
    "N.B.1\n",
    "Reshaping is important 'cause the mean_squared_error loss function expects the predicted output y_pred and \n",
    "the actual output y to have the same shape. \n",
    "To be able to compute the element-wise squared difference between them and take their mean. \n",
    "N.B.2\n",
    "The result of the view is re-assigned to y (modified in place) since there is no need to create another tensor here! \n",
    "PyTorch tensors are mutable.\n",
    "\"\"\"\n",
    "\n",
    "# Reshape the output tensor y from a 1-dimensional tensor to a 2-dimensional tensor.\n",
    "print(\"y size before:\", y.size())\n",
    "y = y.view(y.shape[0], 1) \n",
    "print(\"y:\\n\", y[:1])\n",
    "print(\"y size after:\", y.size())\n",
    "n_samples, n_features = X.shape\n",
    "print(\"n_samples = {}\".format(n_samples))\n",
    "print(\"n_features = {}\".format(n_features))\n",
    "\n",
    "input_size = n_features\n",
    "ouput_size = 1\n",
    "l_rate = 0.01\n",
    "num_epochs = 100"
   ]
  },
  {
   "cell_type": "code",
   "execution_count": 10,
   "metadata": {},
   "outputs": [
    {
     "name": "stdout",
     "output_type": "stream",
     "text": [
      "Training...\n",
      "epoch 10: loss = 4336.2212\n",
      "epoch 20: loss = 3236.3154\n",
      "epoch 30: loss = 2440.4548\n",
      "epoch 40: loss = 1863.9799\n",
      "epoch 50: loss = 1446.0028\n",
      "epoch 60: loss = 1142.6686\n",
      "epoch 70: loss = 922.3480\n",
      "epoch 80: loss = 762.1985\n",
      "epoch 90: loss = 645.7036\n",
      "epoch 100: loss = 560.9084\n"
     ]
    }
   ],
   "source": [
    "\"\"\" Train Linear model \"\"\"\n",
    "model = nn.Linear(input_size, ouput_size)\n",
    "criterion = nn.MSELoss()\n",
    "optimizer = torch.optim.SGD(model.parameters(), lr=l_rate)\n",
    "print(\"Training...\")\n",
    "for epoch in range(num_epochs):\n",
    "    y_predicted = model(X)                  # forward pass\n",
    "    loss = criterion(y_predicted, y)        # loss\n",
    "    loss.backward()                         # backward pass\n",
    "    optimizer.step()                        # update weights\n",
    "    optimizer.zero_grad()                   # reset gradients\n",
    "\n",
    "    if (epoch+1) % 10 == 0:\n",
    "        print(f'epoch {epoch + 1}: loss = {loss.item():.4f}')"
   ]
  },
  {
   "cell_type": "markdown",
   "metadata": {},
   "source": [
    "<h4 style=\"color:#BF66F2 \">  Plot results </h4>"
   ]
  },
  {
   "cell_type": "code",
   "execution_count": 11,
   "metadata": {},
   "outputs": [
    {
     "data": {
      "image/png": "[encoded data removed]",
      "text/plain": [
       "<Figure size 640x480 with 1 Axes>"
      ]
     },
     "metadata": {},
     "output_type": "display_data"
    }
   ],
   "source": [
    "\"\"\" Plotting. \n",
    "N.B.1\n",
    "It is necessary to to get a new generated NumPy array from the predicted output tensor of the linear regression model.\n",
    "N.B.2\n",
    "- The detach() method detaches the tensor from the computation graph means that it removes the tensor \n",
    "    from any further backpropagation calculations and returns a new tensor that shares the same data as the original tensor,\n",
    "    but has no connection to the computation graph. \n",
    "    In fact, when doing operations on a PyTorch tensor, these are recorded in a computation graph, \n",
    "    which is used to compute gradients and update the model parameters during backpropagation. \n",
    "- The detach() method removes the tensor from the computation graph, which means that any operations performed \n",
    "    on the detached tensor will not be tracked for gradient computation or parameter updates.\n",
    "    Detaching the tensor from the computation graph, means to ensure that any operations performed on the tensor \n",
    "    do not affect the gradients or parameter updates of the model. \n",
    "N.B.3\n",
    "- Available plt colors (using one letter): \n",
    "    'b' - blue ; 'g' - green ; 'r' - red ; 'c' - cyan'; m' - magenta ; 'y' - yellow ; 'k' - black ; 'w' - white \n",
    "\"\"\"\n",
    "\n",
    "#predicted = model(X).detach().numpy().reshape(-1, 1)       # incorrect!\n",
    "predicted = model(X).detach().numpy()                       # correct! 1-dimension = line\n",
    "\n",
    "plt.plot(X_nump, y_nump, 'ro')             # red dots\n",
    "plt.plot(X_nump, predicted, 'c')           # cyan line\n",
    "plt.scatter(X_nump, predicted, c='b')      # blue dots\n",
    "# Save to file\n",
    "#plt.savefig('./save_fig_1.png', dpi=300)\n",
    "plt.show()"
   ]
  },
  {
   "cell_type": "code",
   "execution_count": 12,
   "metadata": {},
   "outputs": [
    {
     "data": {
      "image/png": "[encoded data removed]",
      "text/plain": [
       "<Figure size 500x300 with 1 Axes>"
      ]
     },
     "metadata": {},
     "output_type": "display_data"
    }
   ],
   "source": [
    "\"\"\" Refine plot \"\"\"\n",
    "# Adjust figure size (5x3 inches)\n",
    "plt.figure(figsize=(5, 3)) \n",
    "### Plot data\n",
    "plt.plot(X_nump, y_nump, 'yo', label='Actual')   \n",
    "plt.plot(X_nump, predicted, 'c', label='Prediction Line') \n",
    "plt.scatter(X_nump, predicted, c='b', label='Predicted Points') \n",
    "# Add labels and title\n",
    "plt.xlabel('X data')\n",
    "plt.ylabel('Y data')\n",
    "plt.title('Linear Regression')\n",
    "# Add legend\n",
    "plt.legend(loc='upper left') \n",
    "plt.show()"
   ]
  },
  {
   "cell_type": "markdown",
   "metadata": {},
   "source": [
    "<h2 style=\"color:#BF66F2 \"> <u> Example #5 </u>  </h2>\n",
    "Inheriting from nn.Module."
   ]
  },
  {
   "cell_type": "code",
   "execution_count": 24,
   "metadata": {},
   "outputs": [],
   "source": [
    "# Create a Linear Regression Model from base class\n",
    "class LinearRegression(nn.Module):\n",
    "    def __init__(self, input_dim, output_dim):\n",
    "        super(LinearRegression, self).__init__()\n",
    "        # Define the linear layer\n",
    "        self.lin = nn.Linear(input_dim, output_dim)\n",
    "\n",
    "    def forward(self, x):\n",
    "        return self.lin(x)"
   ]
  },
  {
   "cell_type": "markdown",
   "metadata": {},
   "source": [
    "#### => Case 5.1 too naive"
   ]
  },
  {
   "cell_type": "code",
   "execution_count": 25,
   "metadata": {},
   "outputs": [],
   "source": [
    "X = torch.tensor([[1],[2],[3],[4]], dtype=torch.float32)\n",
    "Y = torch.tensor([[2],[4],[6],[8]], dtype=torch.float32)"
   ]
  },
  {
   "cell_type": "code",
   "execution_count": 26,
   "metadata": {},
   "outputs": [
    {
     "name": "stdout",
     "output_type": "stream",
     "text": [
      "Epoch 1: Loss = 21.634\n",
      "Epoch 11: Loss = 0.861\n",
      "Epoch 21: Loss = 0.306\n",
      "Epoch 31: Loss = 0.275\n",
      "Epoch 41: Loss = 0.259\n",
      "Epoch 51: Loss = 0.244\n",
      "Epoch 61: Loss = 0.230\n",
      "Epoch 71: Loss = 0.216\n",
      "Epoch 81: Loss = 0.204\n",
      "Epoch 91: Loss = 0.192\n"
     ]
    }
   ],
   "source": [
    "input_dim, output_dim = 1, 1\n",
    "### Model, Loss, and Optimizer\n",
    "model = LinearRegression(input_dim, output_dim)\n",
    "criterion = nn.MSELoss()\n",
    "optimizer = optim.SGD(model.parameters(), lr=0.01)\n",
    "\n",
    "# Training\n",
    "epochs = 100\n",
    "for epoch in range(epochs):\n",
    "    # Perform Forward pass\n",
    "    y_pred = model(X)\n",
    "    # Compute the loss\n",
    "    loss = criterion(y_pred, Y)\n",
    "    # Reset gradients, perform backward pass, do optimizer step\n",
    "    optimizer.zero_grad()\n",
    "    loss.backward()\n",
    "    optimizer.step()\n",
    "\n",
    "    if epoch % 10 == 0:\n",
    "        print(f\"Epoch {epoch+1}: Loss = {loss.item():.3f}\")"
   ]
  },
  {
   "cell_type": "code",
   "execution_count": 27,
   "metadata": {},
   "outputs": [
    {
     "name": "stdout",
     "output_type": "stream",
     "text": [
      "Prediction after training: f(5) = 9.271\n"
     ]
    }
   ],
   "source": [
    "# Test single sample \n",
    "test_data = torch.tensor([5], dtype=torch.float32)\n",
    "print(f\"Prediction result, after training: f(5) = {model(test_data).item():.3f}\")"
   ]
  },
  {
   "cell_type": "markdown",
   "metadata": {},
   "source": [
    "<h4> => Case 5.2 just increasing the number of data problems arise! </h4>\n",
    "<div style=\"margin-top: -25px;\">\n",
    "The model training is diverging, meaning the weights are getting updated in a way that makes the predictions progressively worse, not better."
   ]
  },
  {
   "cell_type": "code",
   "execution_count": 30,
   "metadata": {},
   "outputs": [],
   "source": [
    "X_list = [3, 7, 11, 15, 2, 6, 9, 13, 18, 21, 5, 10, 14, 19, 1, 4, 8, 12, 16, 20]\n",
    "Y_list = [6, 14, 22, 30, 4, 12, 18, 26, 36, 42, 10, 20, 28, 38, 2, 8, 16, 24, 32, 40]\n",
    "\n",
    "X = torch.tensor(X_list, dtype=torch.float32).view(-1, 1)\n",
    "Y = torch.tensor(Y_list, dtype=torch.float32).view(-1, 1)"
   ]
  },
  {
   "cell_type": "code",
   "execution_count": 31,
   "metadata": {},
   "outputs": [
    {
     "name": "stdout",
     "output_type": "stream",
     "text": [
      "Epoch 1: Loss = 1179.687\n",
      "Epoch 11: Loss = 1787890944.000\n",
      "Epoch 21: Loss = 2709706141335552.000\n",
      "Epoch 31: Loss = 4106800412051810287616.000\n",
      "Epoch 41: Loss = 6224219514825057763596435456.000\n",
      "Epoch 51: Loss = 9433358733972710125758093256032256.000\n",
      "Epoch 61: Loss = inf\n",
      "Epoch 71: Loss = inf\n",
      "Epoch 81: Loss = inf\n",
      "Epoch 91: Loss = inf\n"
     ]
    }
   ],
   "source": [
    "input_dim, output_dim = 1, 1\n",
    "### Model, Loss, and Optimizer\n",
    "model = LinearRegression(input_dim, output_dim)\n",
    "criterion = nn.MSELoss()\n",
    "optimizer = optim.SGD(model.parameters(), lr=0.01)\n",
    "\n",
    "# Training\n",
    "epochs = 100\n",
    "for epoch in range(epochs):\n",
    "    # Perform Forward pass\n",
    "    y_pred = model(X)\n",
    "    # Compute the loss\n",
    "    loss = criterion(y_pred, Y)\n",
    "    # Reset gradients, perform backward pass, do optimizer step\n",
    "    optimizer.zero_grad()\n",
    "    loss.backward()\n",
    "    optimizer.step()\n",
    "\n",
    "    if epoch % 10 == 0:\n",
    "        print(f\"Epoch {epoch+1}: Loss = {loss.item():.3f}\")"
   ]
  },
  {
   "cell_type": "code",
   "execution_count": 20,
   "metadata": {},
   "outputs": [
    {
     "name": "stdout",
     "output_type": "stream",
     "text": [
      "Prediction after training: f(5) = -51357664040121131936134950027264.000\n"
     ]
    }
   ],
   "source": [
    "# Test\n",
    "test_data = torch.tensor([5], dtype=torch.float32)\n",
    "print(f\"Prediction after training: f(5) = {model(test_data).item():.3f}\")"
   ]
  },
  {
   "cell_type": "markdown",
   "metadata": {},
   "source": [
    "#### => Case 5.3) Reduce the learning rate! 0.01 is too much ! "
   ]
  },
  {
   "cell_type": "code",
   "execution_count": 35,
   "metadata": {},
   "outputs": [
    {
     "name": "stdout",
     "output_type": "stream",
     "text": [
      "Epoch 1: Loss = 392.471\n",
      "Epoch 11: Loss = 211.801\n",
      "Epoch 21: Loss = 114.304\n",
      "Epoch 31: Loss = 61.691\n",
      "Epoch 41: Loss = 33.299\n",
      "Epoch 51: Loss = 17.977\n",
      "Epoch 61: Loss = 9.709\n",
      "Epoch 71: Loss = 5.247\n",
      "Epoch 81: Loss = 2.839\n",
      "Epoch 91: Loss = 1.540\n"
     ]
    }
   ],
   "source": [
    "input_dim, output_dim = 1, 1\n",
    "### Model, Loss, and Optimizer\n",
    "model = LinearRegression(input_dim, output_dim)\n",
    "criterion = nn.MSELoss()\n",
    "optimizer = optim.SGD(model.parameters(), lr=0.0001)\n",
    "\n",
    "# Training\n",
    "epochs = 100\n",
    "for epoch in range(epochs):\n",
    "    # Perform Forward pass\n",
    "    y_pred = model(X)\n",
    "    # Compute the loss\n",
    "    loss = criterion(y_pred, Y)\n",
    "    # Reset gradients, perform backward pass, do optimizer step\n",
    "    optimizer.zero_grad()\n",
    "    loss.backward()\n",
    "    optimizer.step()\n",
    "\n",
    "    if epoch % 10 == 0:\n",
    "        print(f\"Epoch {epoch+1}: Loss = {loss.item():.3f}\")"
   ]
  },
  {
   "cell_type": "markdown",
   "metadata": {},
   "source": [
    "#### => Case 5.4) Normalize data, with an high learning rate!"
   ]
  },
  {
   "cell_type": "code",
   "execution_count": 38,
   "metadata": {},
   "outputs": [],
   "source": [
    "X_mean, X_std = X.mean(), X.std()\n",
    "Y_mean, Y_std = Y.mean(), Y.std()\n",
    "X_normalized = (X - X_mean) / X_std\n",
    "Y_normalized = (Y - Y_mean) / Y_std"
   ]
  },
  {
   "cell_type": "code",
   "execution_count": 40,
   "metadata": {},
   "outputs": [
    {
     "name": "stdout",
     "output_type": "stream",
     "text": [
      "Epoch 1: Loss = 245.835\n",
      "Epoch 11: Loss = 0.426\n",
      "Epoch 21: Loss = 0.248\n",
      "Epoch 31: Loss = 0.245\n",
      "Epoch 41: Loss = 0.243\n",
      "Epoch 51: Loss = 0.241\n",
      "Epoch 61: Loss = 0.238\n",
      "Epoch 71: Loss = 0.236\n",
      "Epoch 81: Loss = 0.234\n",
      "Epoch 91: Loss = 0.231\n"
     ]
    }
   ],
   "source": [
    "input_dim, output_dim = 1, 1\n",
    "### Model, Loss, and Optimizer\n",
    "model = LinearRegression(input_dim, output_dim)\n",
    "criterion = nn.MSELoss()\n",
    "optimizer = optim.SGD(model.parameters(), lr=0.001)\n",
    "\n",
    "# Training\n",
    "epochs = 100\n",
    "for epoch in range(epochs):\n",
    "    # Perform Forward pass\n",
    "    y_pred = model(X)\n",
    "    # Compute the loss\n",
    "    loss = criterion(y_pred, Y)\n",
    "    # Reset gradients, perform backward pass, do optimizer step\n",
    "    optimizer.zero_grad()\n",
    "    loss.backward()\n",
    "    optimizer.step()\n",
    "\n",
    "    if epoch % 10 == 0:\n",
    "        print(f\"Epoch {epoch+1}: Loss = {loss.item():.3f}\")"
   ]
  },
  {
   "cell_type": "code",
   "execution_count": 44,
   "metadata": {},
   "outputs": [
    {
     "name": "stdout",
     "output_type": "stream",
     "text": [
      "Prediction giving Tensor 5 = 11.46195316314697\n"
     ]
    }
   ],
   "source": [
    "\"\"\" Predict.\n",
    "Using normalized data, then revert the normalization \"\"\"\n",
    "test_data_normalized = (torch.tensor([5], dtype=torch.float32) - X_mean) / X_std\n",
    "predicted_normalized = model(test_data_normalized)\n",
    "predicted = predicted_normalized * Y_std + Y_mean\n",
    "\n",
    "print(f\"Prediction giving Tensor 5 = {predicted.item():.14f}\")"
   ]
  },
  {
   "cell_type": "markdown",
   "metadata": {},
   "source": [
    "<h4 style=\"color:#BF66F2 \">  Note: </h4>\n",
    "<div style=\"margin-top: -32px;\">\n",
    "The weight represents the slope of the linear relationship between the input tensor X and the output tensor y, while the bias represents the intercept. <br>\n",
    "=> Check model.parameters() to get weights and bias of a trained model. <br>"
   ]
  },
  {
   "cell_type": "code",
   "execution_count": 21,
   "metadata": {},
   "outputs": [
    {
     "name": "stdout",
     "output_type": "stream",
     "text": [
      "tensor([[-1.0128e+31]])\n",
      "tensor([-7.1834e+29])\n"
     ]
    }
   ],
   "source": [
    "for param in model.parameters():\n",
    "    print(param.data)"
   ]
  },
  {
   "cell_type": "markdown",
   "metadata": {},
   "source": [
    "<h2 style=\"color:#BF66F2 \"> <u> Example #6 </u>  </h2>\n",
    "Using nonlinear data"
   ]
  },
  {
   "cell_type": "code",
   "execution_count": 65,
   "metadata": {},
   "outputs": [
    {
     "data": {
      "text/plain": [
       "(torch.Size([10, 1]), torch.Size([10, 1]))"
      ]
     },
     "execution_count": 65,
     "metadata": {},
     "output_type": "execute_result"
    }
   ],
   "source": [
    "# Features and labels\n",
    "X = np.array([1, 2, 3, 4, 5, 6, 7, 8, 9, 10], dtype=np.float32).reshape(-1, 1)\n",
    "Y = 12*X**6 + X**4 + 3*X**3 + 2*X**2 + 4\n",
    "\n",
    "## Convert numpy arrays to PyTorch tensors\n",
    "X_torch = torch.from_numpy(X).float()\n",
    "Y_torch = torch.from_numpy(Y).float()\n",
    "\n",
    "X_torch.shape, Y_torch.shape"
   ]
  },
  {
   "cell_type": "code",
   "execution_count": 66,
   "metadata": {},
   "outputs": [
    {
     "data": {
      "text/plain": [
       "(tensor([[ 1.],\n",
       "         [ 2.],\n",
       "         [ 3.],\n",
       "         [ 4.],\n",
       "         [ 5.],\n",
       "         [ 6.],\n",
       "         [ 7.],\n",
       "         [ 8.],\n",
       "         [ 9.],\n",
       "         [10.]]),\n",
       " tensor([[2.2000e+01],\n",
       "         [8.2000e+02],\n",
       "         [8.9320e+03],\n",
       "         [4.9636e+04],\n",
       "         [1.8855e+05],\n",
       "         [5.6189e+05],\n",
       "         [1.4153e+06],\n",
       "         [3.1515e+06],\n",
       "         [6.3862e+06],\n",
       "         [1.2013e+07]]))"
      ]
     },
     "execution_count": 66,
     "metadata": {},
     "output_type": "execute_result"
    }
   ],
   "source": [
    "X_torch, Y_torch"
   ]
  },
  {
   "cell_type": "code",
   "execution_count": 82,
   "metadata": {},
   "outputs": [
    {
     "data": {
      "image/png": "[encoded data removed]",
      "text/plain": [
       "<Figure size 300x400 with 1 Axes>"
      ]
     },
     "metadata": {},
     "output_type": "display_data"
    }
   ],
   "source": [
    "plt.figure(figsize=(3, 4)) \n",
    "plt.plot(X, Y, 'o-', label='Y = 12X^6 + X^4 + 3X^3 + 2X^2 + 4')\n",
    "plt.xlabel('X')\n",
    "plt.ylabel('Y')\n",
    "plt.title('Y against X')\n",
    "#plt.legend()\n",
    "# Place legend to the left and outside\n",
    "plt.legend(loc=\"center left\", bbox_to_anchor=(-1.9, 1))\n",
    "\n",
    "\n",
    "plt.grid(True)\n",
    "plt.show()"
   ]
  },
  {
   "cell_type": "code",
   "execution_count": 67,
   "metadata": {},
   "outputs": [],
   "source": [
    "# Define a Feedforward Neural Network with Relu activation function\n",
    "class MyNeuralNet(nn.Module):\n",
    "    def __init__(self, input_dim, hidden_dim, output_dim):\n",
    "        super(MyNeuralNet, self).__init__()\n",
    "        self.fc1 = nn.Linear(input_dim, hidden_dim)\n",
    "        self.fc2 = nn.Linear(hidden_dim, output_dim)\n",
    "        self.relu = nn.ReLU()  \n",
    "\n",
    "    def forward(self, x):\n",
    "        x = self.fc1(x)\n",
    "        x = self.relu(x)\n",
    "        x = self.fc2(x)\n",
    "        return x"
   ]
  },
  {
   "cell_type": "code",
   "execution_count": 68,
   "metadata": {},
   "outputs": [
    {
     "name": "stdout",
     "output_type": "stream",
     "text": [
      "Epoch 1: Loss = 19738960855040.000\n"
     ]
    },
    {
     "name": "stdout",
     "output_type": "stream",
     "text": [
      "Epoch 501: Loss = 14124016730112.000\n",
      "Epoch 1001: Loss = 14085935595520.000\n",
      "Epoch 1501: Loss = 14085934546944.000\n",
      "Epoch 2001: Loss = 14085934546944.000\n",
      "Epoch 2501: Loss = 14085934546944.000\n",
      "Epoch 3001: Loss = 14085934546944.000\n",
      "Epoch 3501: Loss = 14085934546944.000\n",
      "Epoch 4001: Loss = 14085934546944.000\n",
      "Epoch 4501: Loss = 14085934546944.000\n"
     ]
    }
   ],
   "source": [
    "##### Define model, Loss, and Optimizer\n",
    "hidden_dim = 20\n",
    "input_dim, output_dim = 1, 1\n",
    "\n",
    "model = MyNeuralNet(input_dim, hidden_dim, output_dim)\n",
    "criterion = nn.MSELoss()\n",
    "optimizer = optim.SGD(model.parameters(), lr=0.01)\n",
    "\n",
    "########## Train\n",
    "epochs = 5000\n",
    "for epoch in range(epochs):\n",
    "    y_pred = model(X_torch)\n",
    "    loss = criterion(y_pred, Y_torch)\n",
    "    optimizer.zero_grad()\n",
    "    loss.backward()\n",
    "    optimizer.step()\n",
    "\n",
    "    if epoch % 500 == 0:\n",
    "        print(f\"Epoch {epoch+1}: Loss = {loss.item():.3f}\")"
   ]
  },
  {
   "cell_type": "code",
   "execution_count": 69,
   "metadata": {},
   "outputs": [
    {
     "name": "stdout",
     "output_type": "stream",
     "text": [
      "Prediction after training: f(5) = 2377601.500\n"
     ]
    }
   ],
   "source": [
    "# Test \n",
    "test_data = torch.tensor([[5.0]])\n",
    "print(f\"Prediction after training: f(5) = {model(test_data).item():.3f}\")"
   ]
  },
  {
   "cell_type": "code",
   "execution_count": 83,
   "metadata": {},
   "outputs": [],
   "source": [
    "\"\"\" Disable (temporarily) gradient calculation, when doing forward-pass predictions  \"\"\"\n",
    "with torch.no_grad():\n",
    "    predictions = model(X_torch)"
   ]
  },
  {
   "cell_type": "code",
   "execution_count": 84,
   "metadata": {},
   "outputs": [
    {
     "data": {
      "image/png": "[encoded data removed]",
      "text/plain": [
       "<Figure size 200x300 with 1 Axes>"
      ]
     },
     "metadata": {},
     "output_type": "display_data"
    }
   ],
   "source": [
    "### Convert tensors to numpy arrays for plotting\n",
    "X_np = X_torch.numpy()\n",
    "Y_np = Y_torch.numpy()\n",
    "predictions_np = predictions.numpy()\n",
    "\n",
    "plt.figure(figsize=(2, 3)) \n",
    "plt.scatter(X_np, Y_np, label='True Data', color='blue')\n",
    "plt.scatter(X_np, predictions_np, label='Predictions', color='red')\n",
    "plt.legend()\n",
    "plt.xlabel('Input')\n",
    "plt.ylabel('Output')\n",
    "plt.title('Neural Network Predictions vs. True Data')\n",
    "\n",
    "plt.show()"
   ]
  },
  {
   "cell_type": "markdown",
   "metadata": {},
   "source": [
    "<h2 style=\"color:#BF66F2 \"> <u> Example #7 </u>  </h2>"
   ]
  },
  {
   "cell_type": "code",
   "execution_count": 85,
   "metadata": {},
   "outputs": [],
   "source": [
    "# Generate a synthetic dataset (adding some noise!)\n",
    "num_samples = 1000\n",
    "X = torch.linspace(-10, 10, num_samples).view(-1, 1)\n",
    "Y = 5 * X**3 - 2 * X**2 + 7 * X - 6 + torch.randn(X.size()) * 500  "
   ]
  },
  {
   "cell_type": "code",
   "execution_count": 86,
   "metadata": {},
   "outputs": [],
   "source": [
    "class MoreComplexLinearReg(nn.Module):\n",
    "    def __init__(self):\n",
    "        super(MoreComplexLinearReg, self).__init__()\n",
    "        self.layer = nn.Sequential(\n",
    "            nn.Linear(1, 64),\n",
    "            nn.ReLU(),\n",
    "            nn.Linear(64, 128),\n",
    "            nn.ReLU(),\n",
    "            nn.Linear(128, 256),\n",
    "            nn.ReLU(),\n",
    "            nn.Linear(256, 128),\n",
    "            nn.ReLU(),\n",
    "            nn.Linear(128, 64),\n",
    "            nn.ReLU(),\n",
    "            nn.Linear(64, 1)\n",
    "        )\n",
    "    \n",
    "    def forward(self, x):\n",
    "        return self.layer(x)"
   ]
  },
  {
   "cell_type": "code",
   "execution_count": 87,
   "metadata": {},
   "outputs": [
    {
     "name": "stdout",
     "output_type": "stream",
     "text": [
      "Epoch 1: Loss = 3957753.750\n",
      "Epoch 501: Loss = 272056.969\n",
      "Epoch 1001: Loss = 268510.062\n",
      "Epoch 1501: Loss = 267495.219\n",
      "Epoch 2001: Loss = 266204.969\n",
      "Epoch 2501: Loss = 267160.969\n",
      "Epoch 3001: Loss = 265208.031\n",
      "Epoch 3501: Loss = 264300.531\n",
      "Epoch 4001: Loss = 264319.094\n",
      "Epoch 4501: Loss = 262835.375\n"
     ]
    }
   ],
   "source": [
    "model = MoreComplexLinearReg()\n",
    "criterion = nn.MSELoss()\n",
    "optimizer = optim.Adam(model.parameters(), lr=0.001)\n",
    "\n",
    "\"\"\" Training \"\"\"\n",
    "epochs = 5000\n",
    "for epoch in range(epochs):\n",
    "    y_pred = model(X)\n",
    "    loss = criterion(y_pred, Y)\n",
    "    optimizer.zero_grad()\n",
    "    loss.backward()\n",
    "    optimizer.step()\n",
    "\n",
    "    if epoch % 500 == 0:\n",
    "        print(f\"Epoch {epoch+1}: Loss = {loss.item():.3f}\")"
   ]
  },
  {
   "cell_type": "code",
   "execution_count": 88,
   "metadata": {},
   "outputs": [
    {
     "data": {
      "image/png": "[encoded data removed]",
      "text/plain": [
       "<Figure size 800x500 with 1 Axes>"
      ]
     },
     "metadata": {},
     "output_type": "display_data"
    }
   ],
   "source": [
    "with torch.no_grad():\n",
    "    y_pred = model(X)\n",
    "    plt.figure(figsize=(8, 5))\n",
    "    plt.scatter(X.numpy(), Y.numpy(), label=\"True Data\", s=5)\n",
    "    plt.plot(X.numpy(), y_pred.numpy(), 'r-', label=\"Predicted Data\")\n",
    "    plt.title(\"Synthetic Data and Model Predictions\")\n",
    "    plt.legend()\n",
    "    plt.grid(True)\n",
    "    plt.show()"
   ]
  }
 ],
 "metadata": {
  "kernelspec": {
   "display_name": "MLearning",
   "language": "python",
   "name": "python3"
  },
  "language_info": {
   "codemirror_mode": {
    "name": "ipython",
    "version": 3
   },
   "file_extension": ".py",
   "mimetype": "text/x-python",
   "name": "python",
   "nbconvert_exporter": "python",
   "pygments_lexer": "ipython3",
   "version": "3.10.9"
  },
  "orig_nbformat": 4
 },
 "nbformat": 4,
 "nbformat_minor": 2
}
