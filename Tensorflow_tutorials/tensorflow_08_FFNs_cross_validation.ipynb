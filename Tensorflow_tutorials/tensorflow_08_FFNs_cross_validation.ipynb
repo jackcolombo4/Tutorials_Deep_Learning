{
 "cells": [
  {
   "cell_type": "markdown",
   "metadata": {},
   "source": [
    "<div style=\"line-height:0.5\">\n",
    "<h1 style=\"color:#FF7C00  \">  Feedforward Networks + K-fold validatation in Tensorflow  </h1>\n",
    "<h4> Example base on the OnlineNewsPopularity dataset, with \"data_channel_is_lifestyle\" column as target to predict. </h4>\n",
    "\n",
    "<span style=\"display: inline-block;\">\n",
    "    <h3 style=\"color: lightblue; display: inline;\">Keywords:</h3>\n",
    "    keras layers + MinMaxScaler + pd.api.types\n",
    "</span>\n",
    "</div>"
   ]
  },
  {
   "cell_type": "code",
   "execution_count": 2,
   "metadata": {},
   "outputs": [],
   "source": [
    "import os \n",
    "os.environ['TF_CPP_MIN_LOG_LEVEL'] = '2'"
   ]
  },
  {
   "cell_type": "code",
   "execution_count": 3,
   "metadata": {},
   "outputs": [
    {
     "name": "stdout",
     "output_type": "stream",
     "text": [
      "Scikit-learn version is:  1.2.0\n",
      "Tensorflow version is:  2.13.0\n"
     ]
    }
   ],
   "source": [
    "import sys\n",
    "(\"Python version is\", sys.version)\n",
    "import sklearn\n",
    "print(\"Scikit-learn version is: \", sklearn.__version__)\n",
    "import tensorflow as tf\n",
    "print(\"Tensorflow version is: \", tf.__version__)"
   ]
  },
  {
   "cell_type": "code",
   "execution_count": 43,
   "metadata": {},
   "outputs": [],
   "source": [
    "import numpy as np \n",
    "import pandas as pd\n",
    "import seaborn as sns\n",
    "from matplotlib import pyplot as plt\n",
    "\n",
    "from sklearn.model_selection import KFold\n",
    "from sklearn.preprocessing import MinMaxScaler\n",
    "from sklearn.model_selection import train_test_split\n",
    "from sklearn.metrics import accuracy_score, confusion_matrix\n",
    "\n",
    "from tensorflow.keras.models import Sequential\n",
    "from tensorflow.keras.layers import Dense, Activation, Dropout\n",
    "\n",
    "from keras.utils import to_categorical"
   ]
  },
  {
   "cell_type": "code",
   "execution_count": 5,
   "metadata": {},
   "outputs": [
    {
     "data": {
      "text/html": [
       "<div>\n",
       "<style scoped>\n",
       "    .dataframe tbody tr th:only-of-type {\n",
       "        vertical-align: middle;\n",
       "    }\n",
       "\n",
       "    .dataframe tbody tr th {\n",
       "        vertical-align: top;\n",
       "    }\n",
       "\n",
       "    .dataframe thead th {\n",
       "        text-align: right;\n",
       "    }\n",
       "</style>\n",
       "<table border=\"1\" class=\"dataframe\">\n",
       "  <thead>\n",
       "    <tr style=\"text-align: right;\">\n",
       "      <th></th>\n",
       "      <th>url</th>\n",
       "      <th>timedelta</th>\n",
       "      <th>n_tokens_title</th>\n",
       "      <th>n_tokens_content</th>\n",
       "      <th>n_unique_tokens</th>\n",
       "      <th>n_non_stop_words</th>\n",
       "      <th>n_non_stop_unique_tokens</th>\n",
       "      <th>num_hrefs</th>\n",
       "      <th>num_self_hrefs</th>\n",
       "      <th>num_imgs</th>\n",
       "      <th>...</th>\n",
       "      <th>min_positive_polarity</th>\n",
       "      <th>max_positive_polarity</th>\n",
       "      <th>avg_negative_polarity</th>\n",
       "      <th>min_negative_polarity</th>\n",
       "      <th>max_negative_polarity</th>\n",
       "      <th>title_subjectivity</th>\n",
       "      <th>title_sentiment_polarity</th>\n",
       "      <th>abs_title_subjectivity</th>\n",
       "      <th>abs_title_sentiment_polarity</th>\n",
       "      <th>shares</th>\n",
       "    </tr>\n",
       "  </thead>\n",
       "  <tbody>\n",
       "    <tr>\n",
       "      <th>0</th>\n",
       "      <td>http://mashable.com/2013/01/07/amazon-instant-...</td>\n",
       "      <td>731.0</td>\n",
       "      <td>12.0</td>\n",
       "      <td>219.0</td>\n",
       "      <td>0.663594</td>\n",
       "      <td>1.0</td>\n",
       "      <td>0.815385</td>\n",
       "      <td>4.0</td>\n",
       "      <td>2.0</td>\n",
       "      <td>1.0</td>\n",
       "      <td>...</td>\n",
       "      <td>0.100000</td>\n",
       "      <td>0.7</td>\n",
       "      <td>-0.350000</td>\n",
       "      <td>-0.600</td>\n",
       "      <td>-0.200000</td>\n",
       "      <td>0.500000</td>\n",
       "      <td>-0.187500</td>\n",
       "      <td>0.000000</td>\n",
       "      <td>0.187500</td>\n",
       "      <td>593</td>\n",
       "    </tr>\n",
       "    <tr>\n",
       "      <th>1</th>\n",
       "      <td>http://mashable.com/2013/01/07/ap-samsung-spon...</td>\n",
       "      <td>731.0</td>\n",
       "      <td>9.0</td>\n",
       "      <td>255.0</td>\n",
       "      <td>0.604743</td>\n",
       "      <td>1.0</td>\n",
       "      <td>0.791946</td>\n",
       "      <td>3.0</td>\n",
       "      <td>1.0</td>\n",
       "      <td>1.0</td>\n",
       "      <td>...</td>\n",
       "      <td>0.033333</td>\n",
       "      <td>0.7</td>\n",
       "      <td>-0.118750</td>\n",
       "      <td>-0.125</td>\n",
       "      <td>-0.100000</td>\n",
       "      <td>0.000000</td>\n",
       "      <td>0.000000</td>\n",
       "      <td>0.500000</td>\n",
       "      <td>0.000000</td>\n",
       "      <td>711</td>\n",
       "    </tr>\n",
       "    <tr>\n",
       "      <th>2</th>\n",
       "      <td>http://mashable.com/2013/01/07/apple-40-billio...</td>\n",
       "      <td>731.0</td>\n",
       "      <td>9.0</td>\n",
       "      <td>211.0</td>\n",
       "      <td>0.575130</td>\n",
       "      <td>1.0</td>\n",
       "      <td>0.663866</td>\n",
       "      <td>3.0</td>\n",
       "      <td>1.0</td>\n",
       "      <td>1.0</td>\n",
       "      <td>...</td>\n",
       "      <td>0.100000</td>\n",
       "      <td>1.0</td>\n",
       "      <td>-0.466667</td>\n",
       "      <td>-0.800</td>\n",
       "      <td>-0.133333</td>\n",
       "      <td>0.000000</td>\n",
       "      <td>0.000000</td>\n",
       "      <td>0.500000</td>\n",
       "      <td>0.000000</td>\n",
       "      <td>1500</td>\n",
       "    </tr>\n",
       "    <tr>\n",
       "      <th>3</th>\n",
       "      <td>http://mashable.com/2013/01/07/astronaut-notre...</td>\n",
       "      <td>731.0</td>\n",
       "      <td>9.0</td>\n",
       "      <td>531.0</td>\n",
       "      <td>0.503788</td>\n",
       "      <td>1.0</td>\n",
       "      <td>0.665635</td>\n",
       "      <td>9.0</td>\n",
       "      <td>0.0</td>\n",
       "      <td>1.0</td>\n",
       "      <td>...</td>\n",
       "      <td>0.136364</td>\n",
       "      <td>0.8</td>\n",
       "      <td>-0.369697</td>\n",
       "      <td>-0.600</td>\n",
       "      <td>-0.166667</td>\n",
       "      <td>0.000000</td>\n",
       "      <td>0.000000</td>\n",
       "      <td>0.500000</td>\n",
       "      <td>0.000000</td>\n",
       "      <td>1200</td>\n",
       "    </tr>\n",
       "    <tr>\n",
       "      <th>4</th>\n",
       "      <td>http://mashable.com/2013/01/07/att-u-verse-apps/</td>\n",
       "      <td>731.0</td>\n",
       "      <td>13.0</td>\n",
       "      <td>1072.0</td>\n",
       "      <td>0.415646</td>\n",
       "      <td>1.0</td>\n",
       "      <td>0.540890</td>\n",
       "      <td>19.0</td>\n",
       "      <td>19.0</td>\n",
       "      <td>20.0</td>\n",
       "      <td>...</td>\n",
       "      <td>0.033333</td>\n",
       "      <td>1.0</td>\n",
       "      <td>-0.220192</td>\n",
       "      <td>-0.500</td>\n",
       "      <td>-0.050000</td>\n",
       "      <td>0.454545</td>\n",
       "      <td>0.136364</td>\n",
       "      <td>0.045455</td>\n",
       "      <td>0.136364</td>\n",
       "      <td>505</td>\n",
       "    </tr>\n",
       "  </tbody>\n",
       "</table>\n",
       "<p>5 rows × 61 columns</p>\n",
       "</div>"
      ],
      "text/plain": [
       "                                                 url   timedelta  \\\n",
       "0  http://mashable.com/2013/01/07/amazon-instant-...       731.0   \n",
       "1  http://mashable.com/2013/01/07/ap-samsung-spon...       731.0   \n",
       "2  http://mashable.com/2013/01/07/apple-40-billio...       731.0   \n",
       "3  http://mashable.com/2013/01/07/astronaut-notre...       731.0   \n",
       "4   http://mashable.com/2013/01/07/att-u-verse-apps/       731.0   \n",
       "\n",
       "    n_tokens_title   n_tokens_content   n_unique_tokens   n_non_stop_words  \\\n",
       "0             12.0              219.0          0.663594                1.0   \n",
       "1              9.0              255.0          0.604743                1.0   \n",
       "2              9.0              211.0          0.575130                1.0   \n",
       "3              9.0              531.0          0.503788                1.0   \n",
       "4             13.0             1072.0          0.415646                1.0   \n",
       "\n",
       "    n_non_stop_unique_tokens   num_hrefs   num_self_hrefs   num_imgs  ...  \\\n",
       "0                   0.815385         4.0              2.0        1.0  ...   \n",
       "1                   0.791946         3.0              1.0        1.0  ...   \n",
       "2                   0.663866         3.0              1.0        1.0  ...   \n",
       "3                   0.665635         9.0              0.0        1.0  ...   \n",
       "4                   0.540890        19.0             19.0       20.0  ...   \n",
       "\n",
       "    min_positive_polarity   max_positive_polarity   avg_negative_polarity  \\\n",
       "0                0.100000                     0.7               -0.350000   \n",
       "1                0.033333                     0.7               -0.118750   \n",
       "2                0.100000                     1.0               -0.466667   \n",
       "3                0.136364                     0.8               -0.369697   \n",
       "4                0.033333                     1.0               -0.220192   \n",
       "\n",
       "    min_negative_polarity   max_negative_polarity   title_subjectivity  \\\n",
       "0                  -0.600               -0.200000             0.500000   \n",
       "1                  -0.125               -0.100000             0.000000   \n",
       "2                  -0.800               -0.133333             0.000000   \n",
       "3                  -0.600               -0.166667             0.000000   \n",
       "4                  -0.500               -0.050000             0.454545   \n",
       "\n",
       "    title_sentiment_polarity   abs_title_subjectivity  \\\n",
       "0                  -0.187500                 0.000000   \n",
       "1                   0.000000                 0.500000   \n",
       "2                   0.000000                 0.500000   \n",
       "3                   0.000000                 0.500000   \n",
       "4                   0.136364                 0.045455   \n",
       "\n",
       "    abs_title_sentiment_polarity   shares  \n",
       "0                       0.187500      593  \n",
       "1                       0.000000      711  \n",
       "2                       0.000000     1500  \n",
       "3                       0.000000     1200  \n",
       "4                       0.136364      505  \n",
       "\n",
       "[5 rows x 61 columns]"
      ]
     },
     "execution_count": 5,
     "metadata": {},
     "output_type": "execute_result"
    }
   ],
   "source": [
    "df = pd.read_csv(\"./datasets/OnlineNewsPopularity.csv\")\n",
    "df.head()"
   ]
  },
  {
   "cell_type": "code",
   "execution_count": 6,
   "metadata": {},
   "outputs": [
    {
     "data": {
      "text/plain": [
       "Index(['url', ' timedelta', ' n_tokens_title', ' n_tokens_content',\n",
       "       ' n_unique_tokens', ' n_non_stop_words', ' n_non_stop_unique_tokens',\n",
       "       ' num_hrefs', ' num_self_hrefs', ' num_imgs', ' num_videos',\n",
       "       ' average_token_length', ' num_keywords', ' data_channel_is_lifestyle',\n",
       "       ' data_channel_is_entertainment', ' data_channel_is_bus',\n",
       "       ' data_channel_is_socmed', ' data_channel_is_tech',\n",
       "       ' data_channel_is_world', ' kw_min_min', ' kw_max_min', ' kw_avg_min',\n",
       "       ' kw_min_max', ' kw_max_max', ' kw_avg_max', ' kw_min_avg',\n",
       "       ' kw_max_avg', ' kw_avg_avg', ' self_reference_min_shares',\n",
       "       ' self_reference_max_shares', ' self_reference_avg_sharess',\n",
       "       ' weekday_is_monday', ' weekday_is_tuesday', ' weekday_is_wednesday',\n",
       "       ' weekday_is_thursday', ' weekday_is_friday', ' weekday_is_saturday',\n",
       "       ' weekday_is_sunday', ' is_weekend', ' LDA_00', ' LDA_01', ' LDA_02',\n",
       "       ' LDA_03', ' LDA_04', ' global_subjectivity',\n",
       "       ' global_sentiment_polarity', ' global_rate_positive_words',\n",
       "       ' global_rate_negative_words', ' rate_positive_words',\n",
       "       ' rate_negative_words', ' avg_positive_polarity',\n",
       "       ' min_positive_polarity', ' max_positive_polarity',\n",
       "       ' avg_negative_polarity', ' min_negative_polarity',\n",
       "       ' max_negative_polarity', ' title_subjectivity',\n",
       "       ' title_sentiment_polarity', ' abs_title_subjectivity',\n",
       "       ' abs_title_sentiment_polarity', ' shares'],\n",
       "      dtype='object')"
      ]
     },
     "execution_count": 6,
     "metadata": {},
     "output_type": "execute_result"
    }
   ],
   "source": [
    "df.columns"
   ]
  },
  {
   "cell_type": "code",
   "execution_count": 7,
   "metadata": {},
   "outputs": [
    {
     "name": "stdout",
     "output_type": "stream",
     "text": [
      "                                  count           mean            std  \\\n",
      " timedelta                      39644.0     354.530471     214.163767   \n",
      " n_tokens_title                 39644.0      10.398749       2.114037   \n",
      " n_tokens_content               39644.0     546.514731     471.107508   \n",
      " n_unique_tokens                39644.0       0.548216       3.520708   \n",
      " n_non_stop_words               39644.0       0.996469       5.231231   \n",
      " n_non_stop_unique_tokens       39644.0       0.689175       3.264816   \n",
      " num_hrefs                      39644.0      10.883690      11.332017   \n",
      " num_self_hrefs                 39644.0       3.293638       3.855141   \n",
      " num_imgs                       39644.0       4.544143       8.309434   \n",
      " num_videos                     39644.0       1.249874       4.107855   \n",
      " average_token_length           39644.0       4.548239       0.844406   \n",
      " num_keywords                   39644.0       7.223767       1.909130   \n",
      " data_channel_is_lifestyle      39644.0       0.052946       0.223929   \n",
      " data_channel_is_entertainment  39644.0       0.178009       0.382525   \n",
      " data_channel_is_bus            39644.0       0.157855       0.364610   \n",
      " data_channel_is_socmed         39644.0       0.058597       0.234871   \n",
      " data_channel_is_tech           39644.0       0.185299       0.388545   \n",
      " data_channel_is_world          39644.0       0.212567       0.409129   \n",
      " kw_min_min                     39644.0      26.106801      69.633215   \n",
      " kw_max_min                     39644.0    1153.951682    3857.990877   \n",
      " kw_avg_min                     39644.0     312.366967     620.783887   \n",
      " kw_min_max                     39644.0   13612.354102   57986.029357   \n",
      " kw_max_max                     39644.0  752324.066694  214502.129573   \n",
      " kw_avg_max                     39644.0  259281.938083  135102.247285   \n",
      " kw_min_avg                     39644.0    1117.146610    1137.456951   \n",
      " kw_max_avg                     39644.0    5657.211151    6098.871957   \n",
      " kw_avg_avg                     39644.0    3135.858639    1318.150397   \n",
      " self_reference_min_shares      39644.0    3998.755396   19738.670516   \n",
      " self_reference_max_shares      39644.0   10329.212662   41027.576613   \n",
      " self_reference_avg_sharess     39644.0    6401.697580   24211.332231   \n",
      " weekday_is_monday              39644.0       0.168020       0.373889   \n",
      " weekday_is_tuesday             39644.0       0.186409       0.389441   \n",
      " weekday_is_wednesday           39644.0       0.187544       0.390353   \n",
      " weekday_is_thursday            39644.0       0.183306       0.386922   \n",
      " weekday_is_friday              39644.0       0.143805       0.350896   \n",
      " weekday_is_saturday            39644.0       0.061876       0.240933   \n",
      " weekday_is_sunday              39644.0       0.069039       0.253524   \n",
      " is_weekend                     39644.0       0.130915       0.337312   \n",
      " LDA_00                         39644.0       0.184599       0.262975   \n",
      " LDA_01                         39644.0       0.141256       0.219707   \n",
      " LDA_02                         39644.0       0.216321       0.282145   \n",
      " LDA_03                         39644.0       0.223770       0.295191   \n",
      " LDA_04                         39644.0       0.234029       0.289183   \n",
      " global_subjectivity            39644.0       0.443370       0.116685   \n",
      " global_sentiment_polarity      39644.0       0.119309       0.096931   \n",
      " global_rate_positive_words     39644.0       0.039625       0.017429   \n",
      " global_rate_negative_words     39644.0       0.016612       0.010828   \n",
      " rate_positive_words            39644.0       0.682150       0.190206   \n",
      " rate_negative_words            39644.0       0.287934       0.156156   \n",
      " avg_positive_polarity          39644.0       0.353825       0.104542   \n",
      " min_positive_polarity          39644.0       0.095446       0.071315   \n",
      " max_positive_polarity          39644.0       0.756728       0.247786   \n",
      " avg_negative_polarity          39644.0      -0.259524       0.127726   \n",
      " min_negative_polarity          39644.0      -0.521944       0.290290   \n",
      " max_negative_polarity          39644.0      -0.107500       0.095373   \n",
      " title_subjectivity             39644.0       0.282353       0.324247   \n",
      " title_sentiment_polarity       39644.0       0.071425       0.265450   \n",
      " abs_title_subjectivity         39644.0       0.341843       0.188791   \n",
      " abs_title_sentiment_polarity   39644.0       0.156064       0.226294   \n",
      " shares                         39644.0    3395.380184   11626.950749   \n",
      "\n",
      "                                    min            25%            50%  \\\n",
      " timedelta                      8.00000     164.000000     339.000000   \n",
      " n_tokens_title                 2.00000       9.000000      10.000000   \n",
      " n_tokens_content               0.00000     246.000000     409.000000   \n",
      " n_unique_tokens                0.00000       0.470870       0.539226   \n",
      " n_non_stop_words               0.00000       1.000000       1.000000   \n",
      " n_non_stop_unique_tokens       0.00000       0.625739       0.690476   \n",
      " num_hrefs                      0.00000       4.000000       8.000000   \n",
      " num_self_hrefs                 0.00000       1.000000       3.000000   \n",
      " num_imgs                       0.00000       1.000000       1.000000   \n",
      " num_videos                     0.00000       0.000000       0.000000   \n",
      " average_token_length           0.00000       4.478404       4.664082   \n",
      " num_keywords                   1.00000       6.000000       7.000000   \n",
      " data_channel_is_lifestyle      0.00000       0.000000       0.000000   \n",
      " data_channel_is_entertainment  0.00000       0.000000       0.000000   \n",
      " data_channel_is_bus            0.00000       0.000000       0.000000   \n",
      " data_channel_is_socmed         0.00000       0.000000       0.000000   \n",
      " data_channel_is_tech           0.00000       0.000000       0.000000   \n",
      " data_channel_is_world          0.00000       0.000000       0.000000   \n",
      " kw_min_min                    -1.00000      -1.000000      -1.000000   \n",
      " kw_max_min                     0.00000     445.000000     660.000000   \n",
      " kw_avg_min                    -1.00000     141.750000     235.500000   \n",
      " kw_min_max                     0.00000       0.000000    1400.000000   \n",
      " kw_max_max                     0.00000  843300.000000  843300.000000   \n",
      " kw_avg_max                     0.00000  172846.875000  244572.222223   \n",
      " kw_min_avg                    -1.00000       0.000000    1023.635611   \n",
      " kw_max_avg                     0.00000    3562.101631    4355.688836   \n",
      " kw_avg_avg                     0.00000    2382.448566    2870.074878   \n",
      " self_reference_min_shares      0.00000     639.000000    1200.000000   \n",
      " self_reference_max_shares      0.00000    1100.000000    2800.000000   \n",
      " self_reference_avg_sharess     0.00000     981.187500    2200.000000   \n",
      " weekday_is_monday              0.00000       0.000000       0.000000   \n",
      " weekday_is_tuesday             0.00000       0.000000       0.000000   \n",
      " weekday_is_wednesday           0.00000       0.000000       0.000000   \n",
      " weekday_is_thursday            0.00000       0.000000       0.000000   \n",
      " weekday_is_friday              0.00000       0.000000       0.000000   \n",
      " weekday_is_saturday            0.00000       0.000000       0.000000   \n",
      " weekday_is_sunday              0.00000       0.000000       0.000000   \n",
      " is_weekend                     0.00000       0.000000       0.000000   \n",
      " LDA_00                         0.00000       0.025051       0.033387   \n",
      " LDA_01                         0.00000       0.025012       0.033345   \n",
      " LDA_02                         0.00000       0.028571       0.040004   \n",
      " LDA_03                         0.00000       0.028571       0.040001   \n",
      " LDA_04                         0.00000       0.028574       0.040727   \n",
      " global_subjectivity            0.00000       0.396167       0.453457   \n",
      " global_sentiment_polarity     -0.39375       0.057757       0.119117   \n",
      " global_rate_positive_words     0.00000       0.028384       0.039023   \n",
      " global_rate_negative_words     0.00000       0.009615       0.015337   \n",
      " rate_positive_words            0.00000       0.600000       0.710526   \n",
      " rate_negative_words            0.00000       0.185185       0.280000   \n",
      " avg_positive_polarity          0.00000       0.306244       0.358755   \n",
      " min_positive_polarity          0.00000       0.050000       0.100000   \n",
      " max_positive_polarity          0.00000       0.600000       0.800000   \n",
      " avg_negative_polarity         -1.00000      -0.328383      -0.253333   \n",
      " min_negative_polarity         -1.00000      -0.700000      -0.500000   \n",
      " max_negative_polarity         -1.00000      -0.125000      -0.100000   \n",
      " title_subjectivity             0.00000       0.000000       0.150000   \n",
      " title_sentiment_polarity      -1.00000       0.000000       0.000000   \n",
      " abs_title_subjectivity         0.00000       0.166667       0.500000   \n",
      " abs_title_sentiment_polarity   0.00000       0.000000       0.000000   \n",
      " shares                         1.00000     946.000000    1400.000000   \n",
      "\n",
      "                                          75%            max  \n",
      " timedelta                         542.000000     731.000000  \n",
      " n_tokens_title                     12.000000      23.000000  \n",
      " n_tokens_content                  716.000000    8474.000000  \n",
      " n_unique_tokens                     0.608696     701.000000  \n",
      " n_non_stop_words                    1.000000    1042.000000  \n",
      " n_non_stop_unique_tokens            0.754630     650.000000  \n",
      " num_hrefs                          14.000000     304.000000  \n",
      " num_self_hrefs                      4.000000     116.000000  \n",
      " num_imgs                            4.000000     128.000000  \n",
      " num_videos                          1.000000      91.000000  \n",
      " average_token_length                4.854839       8.041534  \n",
      " num_keywords                        9.000000      10.000000  \n",
      " data_channel_is_lifestyle           0.000000       1.000000  \n",
      " data_channel_is_entertainment       0.000000       1.000000  \n",
      " data_channel_is_bus                 0.000000       1.000000  \n",
      " data_channel_is_socmed              0.000000       1.000000  \n",
      " data_channel_is_tech                0.000000       1.000000  \n",
      " data_channel_is_world               0.000000       1.000000  \n",
      " kw_min_min                          4.000000     377.000000  \n",
      " kw_max_min                       1000.000000  298400.000000  \n",
      " kw_avg_min                        357.000000   42827.857143  \n",
      " kw_min_max                       7900.000000  843300.000000  \n",
      " kw_max_max                     843300.000000  843300.000000  \n",
      " kw_avg_max                     330980.000000  843300.000000  \n",
      " kw_min_avg                       2056.781032    3613.039819  \n",
      " kw_max_avg                       6019.953968  298400.000000  \n",
      " kw_avg_avg                       3600.229564   43567.659946  \n",
      " self_reference_min_shares        2600.000000  843300.000000  \n",
      " self_reference_max_shares        8000.000000  843300.000000  \n",
      " self_reference_avg_sharess       5200.000000  843300.000000  \n",
      " weekday_is_monday                   0.000000       1.000000  \n",
      " weekday_is_tuesday                  0.000000       1.000000  \n",
      " weekday_is_wednesday                0.000000       1.000000  \n",
      " weekday_is_thursday                 0.000000       1.000000  \n",
      " weekday_is_friday                   0.000000       1.000000  \n",
      " weekday_is_saturday                 0.000000       1.000000  \n",
      " weekday_is_sunday                   0.000000       1.000000  \n",
      " is_weekend                          0.000000       1.000000  \n",
      " LDA_00                              0.240958       0.926994  \n",
      " LDA_01                              0.150831       0.925947  \n",
      " LDA_02                              0.334218       0.919999  \n",
      " LDA_03                              0.375763       0.926534  \n",
      " LDA_04                              0.399986       0.927191  \n",
      " global_subjectivity                 0.508333       1.000000  \n",
      " global_sentiment_polarity           0.177832       0.727841  \n",
      " global_rate_positive_words          0.050279       0.155488  \n",
      " global_rate_negative_words          0.021739       0.184932  \n",
      " rate_positive_words                 0.800000       1.000000  \n",
      " rate_negative_words                 0.384615       1.000000  \n",
      " avg_positive_polarity               0.411428       1.000000  \n",
      " min_positive_polarity               0.100000       1.000000  \n",
      " max_positive_polarity               1.000000       1.000000  \n",
      " avg_negative_polarity              -0.186905       0.000000  \n",
      " min_negative_polarity              -0.300000       0.000000  \n",
      " max_negative_polarity              -0.050000       0.000000  \n",
      " title_subjectivity                  0.500000       1.000000  \n",
      " title_sentiment_polarity            0.150000       1.000000  \n",
      " abs_title_subjectivity              0.500000       0.500000  \n",
      " abs_title_sentiment_polarity        0.250000       1.000000  \n",
      " shares                           2800.000000  843300.000000  \n"
     ]
    }
   ],
   "source": [
    "print(df.describe().T)"
   ]
  },
  {
   "cell_type": "markdown",
   "metadata": {},
   "source": [
    "<h2 style=\"color:#FF7C00  \">  Preprocessing </h2>"
   ]
  },
  {
   "attachments": {},
   "cell_type": "markdown",
   "metadata": {},
   "source": [
    "#### => Adjustment in dataset"
   ]
  },
  {
   "cell_type": "code",
   "execution_count": 8,
   "metadata": {},
   "outputs": [],
   "source": [
    "\"\"\" Remove the extra initial space on the features names \"\"\"\n",
    "## Specify the file paths\n",
    "input_file_path = './datasets/OnlineNewsPopularity.csv'\n",
    "output_file_path = './datasets/OnlineNewsPopularity_fixed.csv'\n",
    "\n",
    "## Input CSV file for reading\n",
    "with open(input_file_path, 'r') as input_file:\n",
    "    ## Read the first line (header) and remove the leading space\n",
    "    header = input_file.readline().strip().split(',')\n",
    "    header = [col.strip() for col in header]\n",
    "    # Read the remaining lines\n",
    "    lines = input_file.readlines()\n",
    "\n",
    "# Output CSV file for writing\n",
    "with open(output_file_path, 'w') as output_file:\n",
    "    # Write the modified header\n",
    "    output_file.write(','.join(header) + '\\n')\n",
    "    # Write the remaining lines\n",
    "    output_file.writelines(lines)"
   ]
  },
  {
   "cell_type": "code",
   "execution_count": 9,
   "metadata": {},
   "outputs": [
    {
     "data": {
      "text/html": [
       "<div>\n",
       "<style scoped>\n",
       "    .dataframe tbody tr th:only-of-type {\n",
       "        vertical-align: middle;\n",
       "    }\n",
       "\n",
       "    .dataframe tbody tr th {\n",
       "        vertical-align: top;\n",
       "    }\n",
       "\n",
       "    .dataframe thead th {\n",
       "        text-align: right;\n",
       "    }\n",
       "</style>\n",
       "<table border=\"1\" class=\"dataframe\">\n",
       "  <thead>\n",
       "    <tr style=\"text-align: right;\">\n",
       "      <th></th>\n",
       "      <th>url</th>\n",
       "      <th>timedelta</th>\n",
       "      <th>n_tokens_title</th>\n",
       "      <th>n_tokens_content</th>\n",
       "      <th>n_unique_tokens</th>\n",
       "      <th>n_non_stop_words</th>\n",
       "      <th>n_non_stop_unique_tokens</th>\n",
       "      <th>num_hrefs</th>\n",
       "      <th>num_self_hrefs</th>\n",
       "      <th>num_imgs</th>\n",
       "      <th>...</th>\n",
       "      <th>min_positive_polarity</th>\n",
       "      <th>max_positive_polarity</th>\n",
       "      <th>avg_negative_polarity</th>\n",
       "      <th>min_negative_polarity</th>\n",
       "      <th>max_negative_polarity</th>\n",
       "      <th>title_subjectivity</th>\n",
       "      <th>title_sentiment_polarity</th>\n",
       "      <th>abs_title_subjectivity</th>\n",
       "      <th>abs_title_sentiment_polarity</th>\n",
       "      <th>shares</th>\n",
       "    </tr>\n",
       "  </thead>\n",
       "  <tbody>\n",
       "    <tr>\n",
       "      <th>0</th>\n",
       "      <td>http://mashable.com/2013/01/07/amazon-instant-...</td>\n",
       "      <td>731.0</td>\n",
       "      <td>12.0</td>\n",
       "      <td>219.0</td>\n",
       "      <td>0.663594</td>\n",
       "      <td>1.0</td>\n",
       "      <td>0.815385</td>\n",
       "      <td>4.0</td>\n",
       "      <td>2.0</td>\n",
       "      <td>1.0</td>\n",
       "      <td>...</td>\n",
       "      <td>0.100000</td>\n",
       "      <td>0.7</td>\n",
       "      <td>-0.350000</td>\n",
       "      <td>-0.600</td>\n",
       "      <td>-0.200000</td>\n",
       "      <td>0.500000</td>\n",
       "      <td>-0.187500</td>\n",
       "      <td>0.000000</td>\n",
       "      <td>0.187500</td>\n",
       "      <td>593</td>\n",
       "    </tr>\n",
       "    <tr>\n",
       "      <th>1</th>\n",
       "      <td>http://mashable.com/2013/01/07/ap-samsung-spon...</td>\n",
       "      <td>731.0</td>\n",
       "      <td>9.0</td>\n",
       "      <td>255.0</td>\n",
       "      <td>0.604743</td>\n",
       "      <td>1.0</td>\n",
       "      <td>0.791946</td>\n",
       "      <td>3.0</td>\n",
       "      <td>1.0</td>\n",
       "      <td>1.0</td>\n",
       "      <td>...</td>\n",
       "      <td>0.033333</td>\n",
       "      <td>0.7</td>\n",
       "      <td>-0.118750</td>\n",
       "      <td>-0.125</td>\n",
       "      <td>-0.100000</td>\n",
       "      <td>0.000000</td>\n",
       "      <td>0.000000</td>\n",
       "      <td>0.500000</td>\n",
       "      <td>0.000000</td>\n",
       "      <td>711</td>\n",
       "    </tr>\n",
       "    <tr>\n",
       "      <th>2</th>\n",
       "      <td>http://mashable.com/2013/01/07/apple-40-billio...</td>\n",
       "      <td>731.0</td>\n",
       "      <td>9.0</td>\n",
       "      <td>211.0</td>\n",
       "      <td>0.575130</td>\n",
       "      <td>1.0</td>\n",
       "      <td>0.663866</td>\n",
       "      <td>3.0</td>\n",
       "      <td>1.0</td>\n",
       "      <td>1.0</td>\n",
       "      <td>...</td>\n",
       "      <td>0.100000</td>\n",
       "      <td>1.0</td>\n",
       "      <td>-0.466667</td>\n",
       "      <td>-0.800</td>\n",
       "      <td>-0.133333</td>\n",
       "      <td>0.000000</td>\n",
       "      <td>0.000000</td>\n",
       "      <td>0.500000</td>\n",
       "      <td>0.000000</td>\n",
       "      <td>1500</td>\n",
       "    </tr>\n",
       "    <tr>\n",
       "      <th>3</th>\n",
       "      <td>http://mashable.com/2013/01/07/astronaut-notre...</td>\n",
       "      <td>731.0</td>\n",
       "      <td>9.0</td>\n",
       "      <td>531.0</td>\n",
       "      <td>0.503788</td>\n",
       "      <td>1.0</td>\n",
       "      <td>0.665635</td>\n",
       "      <td>9.0</td>\n",
       "      <td>0.0</td>\n",
       "      <td>1.0</td>\n",
       "      <td>...</td>\n",
       "      <td>0.136364</td>\n",
       "      <td>0.8</td>\n",
       "      <td>-0.369697</td>\n",
       "      <td>-0.600</td>\n",
       "      <td>-0.166667</td>\n",
       "      <td>0.000000</td>\n",
       "      <td>0.000000</td>\n",
       "      <td>0.500000</td>\n",
       "      <td>0.000000</td>\n",
       "      <td>1200</td>\n",
       "    </tr>\n",
       "    <tr>\n",
       "      <th>4</th>\n",
       "      <td>http://mashable.com/2013/01/07/att-u-verse-apps/</td>\n",
       "      <td>731.0</td>\n",
       "      <td>13.0</td>\n",
       "      <td>1072.0</td>\n",
       "      <td>0.415646</td>\n",
       "      <td>1.0</td>\n",
       "      <td>0.540890</td>\n",
       "      <td>19.0</td>\n",
       "      <td>19.0</td>\n",
       "      <td>20.0</td>\n",
       "      <td>...</td>\n",
       "      <td>0.033333</td>\n",
       "      <td>1.0</td>\n",
       "      <td>-0.220192</td>\n",
       "      <td>-0.500</td>\n",
       "      <td>-0.050000</td>\n",
       "      <td>0.454545</td>\n",
       "      <td>0.136364</td>\n",
       "      <td>0.045455</td>\n",
       "      <td>0.136364</td>\n",
       "      <td>505</td>\n",
       "    </tr>\n",
       "  </tbody>\n",
       "</table>\n",
       "<p>5 rows × 61 columns</p>\n",
       "</div>"
      ],
      "text/plain": [
       "                                                 url  timedelta  \\\n",
       "0  http://mashable.com/2013/01/07/amazon-instant-...      731.0   \n",
       "1  http://mashable.com/2013/01/07/ap-samsung-spon...      731.0   \n",
       "2  http://mashable.com/2013/01/07/apple-40-billio...      731.0   \n",
       "3  http://mashable.com/2013/01/07/astronaut-notre...      731.0   \n",
       "4   http://mashable.com/2013/01/07/att-u-verse-apps/      731.0   \n",
       "\n",
       "   n_tokens_title  n_tokens_content  n_unique_tokens  n_non_stop_words  \\\n",
       "0            12.0             219.0         0.663594               1.0   \n",
       "1             9.0             255.0         0.604743               1.0   \n",
       "2             9.0             211.0         0.575130               1.0   \n",
       "3             9.0             531.0         0.503788               1.0   \n",
       "4            13.0            1072.0         0.415646               1.0   \n",
       "\n",
       "   n_non_stop_unique_tokens  num_hrefs  num_self_hrefs  num_imgs  ...  \\\n",
       "0                  0.815385        4.0             2.0       1.0  ...   \n",
       "1                  0.791946        3.0             1.0       1.0  ...   \n",
       "2                  0.663866        3.0             1.0       1.0  ...   \n",
       "3                  0.665635        9.0             0.0       1.0  ...   \n",
       "4                  0.540890       19.0            19.0      20.0  ...   \n",
       "\n",
       "   min_positive_polarity  max_positive_polarity  avg_negative_polarity  \\\n",
       "0               0.100000                    0.7              -0.350000   \n",
       "1               0.033333                    0.7              -0.118750   \n",
       "2               0.100000                    1.0              -0.466667   \n",
       "3               0.136364                    0.8              -0.369697   \n",
       "4               0.033333                    1.0              -0.220192   \n",
       "\n",
       "   min_negative_polarity  max_negative_polarity  title_subjectivity  \\\n",
       "0                 -0.600              -0.200000            0.500000   \n",
       "1                 -0.125              -0.100000            0.000000   \n",
       "2                 -0.800              -0.133333            0.000000   \n",
       "3                 -0.600              -0.166667            0.000000   \n",
       "4                 -0.500              -0.050000            0.454545   \n",
       "\n",
       "   title_sentiment_polarity  abs_title_subjectivity  \\\n",
       "0                 -0.187500                0.000000   \n",
       "1                  0.000000                0.500000   \n",
       "2                  0.000000                0.500000   \n",
       "3                  0.000000                0.500000   \n",
       "4                  0.136364                0.045455   \n",
       "\n",
       "   abs_title_sentiment_polarity  shares  \n",
       "0                      0.187500     593  \n",
       "1                      0.000000     711  \n",
       "2                      0.000000    1500  \n",
       "3                      0.000000    1200  \n",
       "4                      0.136364     505  \n",
       "\n",
       "[5 rows x 61 columns]"
      ]
     },
     "execution_count": 9,
     "metadata": {},
     "output_type": "execute_result"
    }
   ],
   "source": [
    "df = pd.read_csv(\"./datasets/OnlineNewsPopularity_fixed.csv\")\n",
    "df.head()"
   ]
  },
  {
   "cell_type": "code",
   "execution_count": 10,
   "metadata": {},
   "outputs": [
    {
     "data": {
      "text/plain": [
       "Index(['url', 'timedelta', 'n_tokens_title', 'n_tokens_content',\n",
       "       'n_unique_tokens', 'n_non_stop_words', 'n_non_stop_unique_tokens',\n",
       "       'num_hrefs', 'num_self_hrefs', 'num_imgs', 'num_videos',\n",
       "       'average_token_length', 'num_keywords', 'data_channel_is_lifestyle',\n",
       "       'data_channel_is_entertainment', 'data_channel_is_bus',\n",
       "       'data_channel_is_socmed', 'data_channel_is_tech',\n",
       "       'data_channel_is_world', 'kw_min_min', 'kw_max_min', 'kw_avg_min',\n",
       "       'kw_min_max', 'kw_max_max', 'kw_avg_max', 'kw_min_avg', 'kw_max_avg',\n",
       "       'kw_avg_avg', 'self_reference_min_shares', 'self_reference_max_shares',\n",
       "       'self_reference_avg_sharess', 'weekday_is_monday', 'weekday_is_tuesday',\n",
       "       'weekday_is_wednesday', 'weekday_is_thursday', 'weekday_is_friday',\n",
       "       'weekday_is_saturday', 'weekday_is_sunday', 'is_weekend', 'LDA_00',\n",
       "       'LDA_01', 'LDA_02', 'LDA_03', 'LDA_04', 'global_subjectivity',\n",
       "       'global_sentiment_polarity', 'global_rate_positive_words',\n",
       "       'global_rate_negative_words', 'rate_positive_words',\n",
       "       'rate_negative_words', 'avg_positive_polarity', 'min_positive_polarity',\n",
       "       'max_positive_polarity', 'avg_negative_polarity',\n",
       "       'min_negative_polarity', 'max_negative_polarity', 'title_subjectivity',\n",
       "       'title_sentiment_polarity', 'abs_title_subjectivity',\n",
       "       'abs_title_sentiment_polarity', 'shares'],\n",
       "      dtype='object')"
      ]
     },
     "execution_count": 10,
     "metadata": {},
     "output_type": "execute_result"
    }
   ],
   "source": [
    "df.columns"
   ]
  },
  {
   "cell_type": "code",
   "execution_count": 11,
   "metadata": {},
   "outputs": [
    {
     "data": {
      "text/plain": [
       "0         593\n",
       "1         711\n",
       "2        1500\n",
       "3        1200\n",
       "4         505\n",
       "         ... \n",
       "39639    1800\n",
       "39640    1900\n",
       "39641    1900\n",
       "39642    1100\n",
       "39643    1300\n",
       "Name: shares, Length: 39644, dtype: int64"
      ]
     },
     "execution_count": 11,
     "metadata": {},
     "output_type": "execute_result"
    }
   ],
   "source": [
    "df['shares']"
   ]
  },
  {
   "cell_type": "code",
   "execution_count": 12,
   "metadata": {},
   "outputs": [
    {
     "data": {
      "text/plain": [
       "dtype('int64')"
      ]
     },
     "execution_count": 12,
     "metadata": {},
     "output_type": "execute_result"
    }
   ],
   "source": [
    "df['shares'].dtype"
   ]
  },
  {
   "cell_type": "code",
   "execution_count": 13,
   "metadata": {},
   "outputs": [
    {
     "data": {
      "text/plain": [
       "0        0.500000\n",
       "1        0.000000\n",
       "2        0.000000\n",
       "3        0.000000\n",
       "4        0.454545\n",
       "           ...   \n",
       "39639    0.100000\n",
       "39640    0.300000\n",
       "39641    0.454545\n",
       "39642    0.000000\n",
       "39643    0.333333\n",
       "Name: title_subjectivity, Length: 39644, dtype: float64"
      ]
     },
     "execution_count": 13,
     "metadata": {},
     "output_type": "execute_result"
    }
   ],
   "source": [
    "df['title_subjectivity']"
   ]
  },
  {
   "cell_type": "code",
   "execution_count": 14,
   "metadata": {},
   "outputs": [
    {
     "data": {
      "text/plain": [
       "673"
      ]
     },
     "execution_count": 14,
     "metadata": {},
     "output_type": "execute_result"
    }
   ],
   "source": [
    "set_title = set(list(df['title_subjectivity']))\n",
    "len(set_title)"
   ]
  },
  {
   "cell_type": "code",
   "execution_count": 15,
   "metadata": {},
   "outputs": [
    {
     "data": {
      "text/plain": [
       "673"
      ]
     },
     "execution_count": 15,
     "metadata": {},
     "output_type": "execute_result"
    }
   ],
   "source": [
    "unique_title_subjectivity_values = df['title_subjectivity'].unique()\n",
    "len(unique_title_subjectivity_values)"
   ]
  },
  {
   "cell_type": "code",
   "execution_count": 16,
   "metadata": {},
   "outputs": [
    {
     "data": {
      "text/plain": [
       "2"
      ]
     },
     "execution_count": 16,
     "metadata": {},
     "output_type": "execute_result"
    }
   ],
   "source": [
    "unique_title_subjectivity_values = df['data_channel_is_lifestyle'].unique()\n",
    "len(unique_title_subjectivity_values)"
   ]
  },
  {
   "cell_type": "code",
   "execution_count": 17,
   "metadata": {},
   "outputs": [
    {
     "data": {
      "text/plain": [
       "0    0.0\n",
       "1    0.0\n",
       "2    0.0\n",
       "Name: data_channel_is_lifestyle, dtype: float64"
      ]
     },
     "execution_count": 17,
     "metadata": {},
     "output_type": "execute_result"
    }
   ],
   "source": [
    "df['data_channel_is_lifestyle'].iloc[:3]"
   ]
  },
  {
   "cell_type": "code",
   "execution_count": 18,
   "metadata": {},
   "outputs": [
    {
     "name": "stdout",
     "output_type": "stream",
     "text": [
      "url                             0\n",
      "timedelta                       0\n",
      "n_tokens_title                  0\n",
      "n_tokens_content                0\n",
      "n_unique_tokens                 0\n",
      "                               ..\n",
      "title_subjectivity              0\n",
      "title_sentiment_polarity        0\n",
      "abs_title_subjectivity          0\n",
      "abs_title_sentiment_polarity    0\n",
      "shares                          0\n",
      "Length: 61, dtype: int64\n"
     ]
    }
   ],
   "source": [
    "\"\"\"\" Search for NaN values in each column of the DataFrame. \"\"\"\n",
    "print(df.isnull().sum())"
   ]
  },
  {
   "cell_type": "code",
   "execution_count": 19,
   "metadata": {},
   "outputs": [],
   "source": [
    "# Change from float to int\n",
    "df['data_channel_is_lifestyle'] = df['data_channel_is_lifestyle'].astype(int)"
   ]
  },
  {
   "cell_type": "code",
   "execution_count": 20,
   "metadata": {},
   "outputs": [
    {
     "name": "stdout",
     "output_type": "stream",
     "text": [
      "<class 'pandas.core.frame.DataFrame'>\n",
      "RangeIndex: 39644 entries, 0 to 39643\n",
      "Data columns (total 61 columns):\n",
      " #   Column                         Non-Null Count  Dtype  \n",
      "---  ------                         --------------  -----  \n",
      " 0   url                            39644 non-null  object \n",
      " 1   timedelta                      39644 non-null  float64\n",
      " 2   n_tokens_title                 39644 non-null  float64\n",
      " 3   n_tokens_content               39644 non-null  float64\n",
      " 4   n_unique_tokens                39644 non-null  float64\n",
      " 5   n_non_stop_words               39644 non-null  float64\n",
      " 6   n_non_stop_unique_tokens       39644 non-null  float64\n",
      " 7   num_hrefs                      39644 non-null  float64\n",
      " 8   num_self_hrefs                 39644 non-null  float64\n",
      " 9   num_imgs                       39644 non-null  float64\n",
      " 10  num_videos                     39644 non-null  float64\n",
      " 11  average_token_length           39644 non-null  float64\n",
      " 12  num_keywords                   39644 non-null  float64\n",
      " 13  data_channel_is_lifestyle      39644 non-null  int64  \n",
      " 14  data_channel_is_entertainment  39644 non-null  float64\n",
      " 15  data_channel_is_bus            39644 non-null  float64\n",
      " 16  data_channel_is_socmed         39644 non-null  float64\n",
      " 17  data_channel_is_tech           39644 non-null  float64\n",
      " 18  data_channel_is_world          39644 non-null  float64\n",
      " 19  kw_min_min                     39644 non-null  float64\n",
      " 20  kw_max_min                     39644 non-null  float64\n",
      " 21  kw_avg_min                     39644 non-null  float64\n",
      " 22  kw_min_max                     39644 non-null  float64\n",
      " 23  kw_max_max                     39644 non-null  float64\n",
      " 24  kw_avg_max                     39644 non-null  float64\n",
      " 25  kw_min_avg                     39644 non-null  float64\n",
      " 26  kw_max_avg                     39644 non-null  float64\n",
      " 27  kw_avg_avg                     39644 non-null  float64\n",
      " 28  self_reference_min_shares      39644 non-null  float64\n",
      " 29  self_reference_max_shares      39644 non-null  float64\n",
      " 30  self_reference_avg_sharess     39644 non-null  float64\n",
      " 31  weekday_is_monday              39644 non-null  float64\n",
      " 32  weekday_is_tuesday             39644 non-null  float64\n",
      " 33  weekday_is_wednesday           39644 non-null  float64\n",
      " 34  weekday_is_thursday            39644 non-null  float64\n",
      " 35  weekday_is_friday              39644 non-null  float64\n",
      " 36  weekday_is_saturday            39644 non-null  float64\n",
      " 37  weekday_is_sunday              39644 non-null  float64\n",
      " 38  is_weekend                     39644 non-null  float64\n",
      " 39  LDA_00                         39644 non-null  float64\n",
      " 40  LDA_01                         39644 non-null  float64\n",
      " 41  LDA_02                         39644 non-null  float64\n",
      " 42  LDA_03                         39644 non-null  float64\n",
      " 43  LDA_04                         39644 non-null  float64\n",
      " 44  global_subjectivity            39644 non-null  float64\n",
      " 45  global_sentiment_polarity      39644 non-null  float64\n",
      " 46  global_rate_positive_words     39644 non-null  float64\n",
      " 47  global_rate_negative_words     39644 non-null  float64\n",
      " 48  rate_positive_words            39644 non-null  float64\n",
      " 49  rate_negative_words            39644 non-null  float64\n",
      " 50  avg_positive_polarity          39644 non-null  float64\n",
      " 51  min_positive_polarity          39644 non-null  float64\n",
      " 52  max_positive_polarity          39644 non-null  float64\n",
      " 53  avg_negative_polarity          39644 non-null  float64\n",
      " 54  min_negative_polarity          39644 non-null  float64\n",
      " 55  max_negative_polarity          39644 non-null  float64\n",
      " 56  title_subjectivity             39644 non-null  float64\n",
      " 57  title_sentiment_polarity       39644 non-null  float64\n",
      " 58  abs_title_subjectivity         39644 non-null  float64\n",
      " 59  abs_title_sentiment_polarity   39644 non-null  float64\n",
      " 60  shares                         39644 non-null  int64  \n",
      "dtypes: float64(58), int64(2), object(1)\n",
      "memory usage: 18.5+ MB\n",
      "None\n"
     ]
    }
   ],
   "source": [
    "\"\"\" Check NaN values in each column of the DataFrame. \"\"\"\n",
    "print(df.info())"
   ]
  },
  {
   "cell_type": "code",
   "execution_count": 21,
   "metadata": {},
   "outputs": [
    {
     "data": {
      "text/plain": [
       "0    37545\n",
       "1     2099\n",
       "Name: data_channel_is_lifestyle, dtype: int64"
      ]
     },
     "execution_count": 21,
     "metadata": {},
     "output_type": "execute_result"
    }
   ],
   "source": [
    "df['data_channel_is_lifestyle'].value_counts()"
   ]
  },
  {
   "cell_type": "code",
   "execution_count": 22,
   "metadata": {},
   "outputs": [],
   "source": [
    "# Define the dependent variable to predict\n",
    "y = df[\"data_channel_is_lifestyle\"].values"
   ]
  },
  {
   "cell_type": "code",
   "execution_count": 23,
   "metadata": {},
   "outputs": [],
   "source": [
    "##### Check if all float values in a column have zeros as decimal part, in order to convert them to int\n",
    "for column in df.columns:\n",
    "    # Check if the column contains numeric data\n",
    "        if pd.api.types.is_numeric_dtype(df[column]):        \n",
    "            if (df[column] == df[column].astype(int)).all():\n",
    "                df[column] = df[column].astype(int)"
   ]
  },
  {
   "cell_type": "code",
   "execution_count": 24,
   "metadata": {},
   "outputs": [],
   "source": [
    "# Define X set of independent variables and normalize values\n",
    "X = df.drop(labels = [\"data_channel_is_lifestyle\"], axis=1) "
   ]
  },
  {
   "cell_type": "code",
   "execution_count": 25,
   "metadata": {},
   "outputs": [
    {
     "name": "stdout",
     "output_type": "stream",
     "text": [
      "<class 'pandas.core.frame.DataFrame'>\n",
      "RangeIndex: 39644 entries, 0 to 39643\n",
      "Data columns (total 60 columns):\n",
      " #   Column                         Non-Null Count  Dtype  \n",
      "---  ------                         --------------  -----  \n",
      " 0   url                            39644 non-null  object \n",
      " 1   timedelta                      39644 non-null  int64  \n",
      " 2   n_tokens_title                 39644 non-null  int64  \n",
      " 3   n_tokens_content               39644 non-null  int64  \n",
      " 4   n_unique_tokens                39644 non-null  float64\n",
      " 5   n_non_stop_words               39644 non-null  float64\n",
      " 6   n_non_stop_unique_tokens       39644 non-null  float64\n",
      " 7   num_hrefs                      39644 non-null  int64  \n",
      " 8   num_self_hrefs                 39644 non-null  int64  \n",
      " 9   num_imgs                       39644 non-null  int64  \n",
      " 10  num_videos                     39644 non-null  int64  \n",
      " 11  average_token_length           39644 non-null  float64\n",
      " 12  num_keywords                   39644 non-null  int64  \n",
      " 13  data_channel_is_entertainment  39644 non-null  int64  \n",
      " 14  data_channel_is_bus            39644 non-null  int64  \n",
      " 15  data_channel_is_socmed         39644 non-null  int64  \n",
      " 16  data_channel_is_tech           39644 non-null  int64  \n",
      " 17  data_channel_is_world          39644 non-null  int64  \n",
      " 18  kw_min_min                     39644 non-null  int64  \n",
      " 19  kw_max_min                     39644 non-null  float64\n",
      " 20  kw_avg_min                     39644 non-null  float64\n",
      " 21  kw_min_max                     39644 non-null  int64  \n",
      " 22  kw_max_max                     39644 non-null  int64  \n",
      " 23  kw_avg_max                     39644 non-null  float64\n",
      " 24  kw_min_avg                     39644 non-null  float64\n",
      " 25  kw_max_avg                     39644 non-null  float64\n",
      " 26  kw_avg_avg                     39644 non-null  float64\n",
      " 27  self_reference_min_shares      39644 non-null  float64\n",
      " 28  self_reference_max_shares      39644 non-null  float64\n",
      " 29  self_reference_avg_sharess     39644 non-null  float64\n",
      " 30  weekday_is_monday              39644 non-null  int64  \n",
      " 31  weekday_is_tuesday             39644 non-null  int64  \n",
      " 32  weekday_is_wednesday           39644 non-null  int64  \n",
      " 33  weekday_is_thursday            39644 non-null  int64  \n",
      " 34  weekday_is_friday              39644 non-null  int64  \n",
      " 35  weekday_is_saturday            39644 non-null  int64  \n",
      " 36  weekday_is_sunday              39644 non-null  int64  \n",
      " 37  is_weekend                     39644 non-null  int64  \n",
      " 38  LDA_00                         39644 non-null  float64\n",
      " 39  LDA_01                         39644 non-null  float64\n",
      " 40  LDA_02                         39644 non-null  float64\n",
      " 41  LDA_03                         39644 non-null  float64\n",
      " 42  LDA_04                         39644 non-null  float64\n",
      " 43  global_subjectivity            39644 non-null  float64\n",
      " 44  global_sentiment_polarity      39644 non-null  float64\n",
      " 45  global_rate_positive_words     39644 non-null  float64\n",
      " 46  global_rate_negative_words     39644 non-null  float64\n",
      " 47  rate_positive_words            39644 non-null  float64\n",
      " 48  rate_negative_words            39644 non-null  float64\n",
      " 49  avg_positive_polarity          39644 non-null  float64\n",
      " 50  min_positive_polarity          39644 non-null  float64\n",
      " 51  max_positive_polarity          39644 non-null  float64\n",
      " 52  avg_negative_polarity          39644 non-null  float64\n",
      " 53  min_negative_polarity          39644 non-null  float64\n",
      " 54  max_negative_polarity          39644 non-null  float64\n",
      " 55  title_subjectivity             39644 non-null  float64\n",
      " 56  title_sentiment_polarity       39644 non-null  float64\n",
      " 57  abs_title_subjectivity         39644 non-null  float64\n",
      " 58  abs_title_sentiment_polarity   39644 non-null  float64\n",
      " 59  shares                         39644 non-null  int64  \n",
      "dtypes: float64(34), int64(25), object(1)\n",
      "memory usage: 18.1+ MB\n"
     ]
    }
   ],
   "source": [
    "# Get the list of column names with data type 'int'\n",
    "int_columns = X.select_dtypes(include=['int']).columns.tolist()\n",
    "\n",
    "## Create a MinMaxScaler for the selected columns\n",
    "scaler = MinMaxScaler()\n",
    "scaler.fit(X[int_columns])\n",
    "\n",
    "X.info()"
   ]
  },
  {
   "cell_type": "code",
   "execution_count": 26,
   "metadata": {},
   "outputs": [],
   "source": [
    "# Remove useless URL column that should not be encoded and used in training\n",
    "del X['url']"
   ]
  },
  {
   "cell_type": "code",
   "execution_count": 27,
   "metadata": {},
   "outputs": [],
   "source": [
    "# Transform the selected columns using the scaler\n",
    "X[int_columns] = scaler.transform(X[int_columns])"
   ]
  },
  {
   "cell_type": "code",
   "execution_count": 28,
   "metadata": {},
   "outputs": [
    {
     "name": "stdout",
     "output_type": "stream",
     "text": [
      "<class 'pandas.core.frame.DataFrame'>\n",
      "RangeIndex: 39644 entries, 0 to 39643\n",
      "Data columns (total 59 columns):\n",
      " #   Column                         Non-Null Count  Dtype  \n",
      "---  ------                         --------------  -----  \n",
      " 0   timedelta                      39644 non-null  float64\n",
      " 1   n_tokens_title                 39644 non-null  float64\n",
      " 2   n_tokens_content               39644 non-null  float64\n",
      " 3   n_unique_tokens                39644 non-null  float64\n",
      " 4   n_non_stop_words               39644 non-null  float64\n",
      " 5   n_non_stop_unique_tokens       39644 non-null  float64\n",
      " 6   num_hrefs                      39644 non-null  float64\n",
      " 7   num_self_hrefs                 39644 non-null  float64\n",
      " 8   num_imgs                       39644 non-null  float64\n",
      " 9   num_videos                     39644 non-null  float64\n",
      " 10  average_token_length           39644 non-null  float64\n",
      " 11  num_keywords                   39644 non-null  float64\n",
      " 12  data_channel_is_entertainment  39644 non-null  float64\n",
      " 13  data_channel_is_bus            39644 non-null  float64\n",
      " 14  data_channel_is_socmed         39644 non-null  float64\n",
      " 15  data_channel_is_tech           39644 non-null  float64\n",
      " 16  data_channel_is_world          39644 non-null  float64\n",
      " 17  kw_min_min                     39644 non-null  float64\n",
      " 18  kw_max_min                     39644 non-null  float64\n",
      " 19  kw_avg_min                     39644 non-null  float64\n",
      " 20  kw_min_max                     39644 non-null  float64\n",
      " 21  kw_max_max                     39644 non-null  float64\n",
      " 22  kw_avg_max                     39644 non-null  float64\n",
      " 23  kw_min_avg                     39644 non-null  float64\n",
      " 24  kw_max_avg                     39644 non-null  float64\n",
      " 25  kw_avg_avg                     39644 non-null  float64\n",
      " 26  self_reference_min_shares      39644 non-null  float64\n",
      " 27  self_reference_max_shares      39644 non-null  float64\n",
      " 28  self_reference_avg_sharess     39644 non-null  float64\n",
      " 29  weekday_is_monday              39644 non-null  float64\n",
      " 30  weekday_is_tuesday             39644 non-null  float64\n",
      " 31  weekday_is_wednesday           39644 non-null  float64\n",
      " 32  weekday_is_thursday            39644 non-null  float64\n",
      " 33  weekday_is_friday              39644 non-null  float64\n",
      " 34  weekday_is_saturday            39644 non-null  float64\n",
      " 35  weekday_is_sunday              39644 non-null  float64\n",
      " 36  is_weekend                     39644 non-null  float64\n",
      " 37  LDA_00                         39644 non-null  float64\n",
      " 38  LDA_01                         39644 non-null  float64\n",
      " 39  LDA_02                         39644 non-null  float64\n",
      " 40  LDA_03                         39644 non-null  float64\n",
      " 41  LDA_04                         39644 non-null  float64\n",
      " 42  global_subjectivity            39644 non-null  float64\n",
      " 43  global_sentiment_polarity      39644 non-null  float64\n",
      " 44  global_rate_positive_words     39644 non-null  float64\n",
      " 45  global_rate_negative_words     39644 non-null  float64\n",
      " 46  rate_positive_words            39644 non-null  float64\n",
      " 47  rate_negative_words            39644 non-null  float64\n",
      " 48  avg_positive_polarity          39644 non-null  float64\n",
      " 49  min_positive_polarity          39644 non-null  float64\n",
      " 50  max_positive_polarity          39644 non-null  float64\n",
      " 51  avg_negative_polarity          39644 non-null  float64\n",
      " 52  min_negative_polarity          39644 non-null  float64\n",
      " 53  max_negative_polarity          39644 non-null  float64\n",
      " 54  title_subjectivity             39644 non-null  float64\n",
      " 55  title_sentiment_polarity       39644 non-null  float64\n",
      " 56  abs_title_subjectivity         39644 non-null  float64\n",
      " 57  abs_title_sentiment_polarity   39644 non-null  float64\n",
      " 58  shares                         39644 non-null  float64\n",
      "dtypes: float64(59)\n",
      "memory usage: 17.8 MB\n"
     ]
    }
   ],
   "source": [
    "X.info()"
   ]
  },
  {
   "cell_type": "code",
   "execution_count": 29,
   "metadata": {},
   "outputs": [],
   "source": [
    "X_train, X_test, y_train, y_test = train_test_split(X, y, test_size=0.25, random_state=42)"
   ]
  },
  {
   "cell_type": "code",
   "execution_count": 30,
   "metadata": {},
   "outputs": [
    {
     "name": "stdout",
     "output_type": "stream",
     "text": [
      "<class 'pandas.core.frame.DataFrame'>\n",
      "<class 'pandas.core.frame.DataFrame'>\n",
      "<class 'numpy.ndarray'>\n",
      "<class 'numpy.ndarray'>\n"
     ]
    }
   ],
   "source": [
    "print(type(X_train))\n",
    "print(type(X_test))\n",
    "print(type(y_train))\n",
    "print(type(y_test))"
   ]
  },
  {
   "cell_type": "code",
   "execution_count": 31,
   "metadata": {},
   "outputs": [
    {
     "name": "stdout",
     "output_type": "stream",
     "text": [
      "<class 'pandas.core.frame.DataFrame'>\n",
      "RangeIndex: 39644 entries, 0 to 39643\n",
      "Data columns (total 61 columns):\n",
      " #   Column                         Non-Null Count  Dtype  \n",
      "---  ------                         --------------  -----  \n",
      " 0   url                            39644 non-null  object \n",
      " 1   timedelta                      39644 non-null  int64  \n",
      " 2   n_tokens_title                 39644 non-null  int64  \n",
      " 3   n_tokens_content               39644 non-null  int64  \n",
      " 4   n_unique_tokens                39644 non-null  float64\n",
      " 5   n_non_stop_words               39644 non-null  float64\n",
      " 6   n_non_stop_unique_tokens       39644 non-null  float64\n",
      " 7   num_hrefs                      39644 non-null  int64  \n",
      " 8   num_self_hrefs                 39644 non-null  int64  \n",
      " 9   num_imgs                       39644 non-null  int64  \n",
      " 10  num_videos                     39644 non-null  int64  \n",
      " 11  average_token_length           39644 non-null  float64\n",
      " 12  num_keywords                   39644 non-null  int64  \n",
      " 13  data_channel_is_lifestyle      39644 non-null  int64  \n",
      " 14  data_channel_is_entertainment  39644 non-null  int64  \n",
      " 15  data_channel_is_bus            39644 non-null  int64  \n",
      " 16  data_channel_is_socmed         39644 non-null  int64  \n",
      " 17  data_channel_is_tech           39644 non-null  int64  \n",
      " 18  data_channel_is_world          39644 non-null  int64  \n",
      " 19  kw_min_min                     39644 non-null  int64  \n",
      " 20  kw_max_min                     39644 non-null  float64\n",
      " 21  kw_avg_min                     39644 non-null  float64\n",
      " 22  kw_min_max                     39644 non-null  int64  \n",
      " 23  kw_max_max                     39644 non-null  int64  \n",
      " 24  kw_avg_max                     39644 non-null  float64\n",
      " 25  kw_min_avg                     39644 non-null  float64\n",
      " 26  kw_max_avg                     39644 non-null  float64\n",
      " 27  kw_avg_avg                     39644 non-null  float64\n",
      " 28  self_reference_min_shares      39644 non-null  float64\n",
      " 29  self_reference_max_shares      39644 non-null  float64\n",
      " 30  self_reference_avg_sharess     39644 non-null  float64\n",
      " 31  weekday_is_monday              39644 non-null  int64  \n",
      " 32  weekday_is_tuesday             39644 non-null  int64  \n",
      " 33  weekday_is_wednesday           39644 non-null  int64  \n",
      " 34  weekday_is_thursday            39644 non-null  int64  \n",
      " 35  weekday_is_friday              39644 non-null  int64  \n",
      " 36  weekday_is_saturday            39644 non-null  int64  \n",
      " 37  weekday_is_sunday              39644 non-null  int64  \n",
      " 38  is_weekend                     39644 non-null  int64  \n",
      " 39  LDA_00                         39644 non-null  float64\n",
      " 40  LDA_01                         39644 non-null  float64\n",
      " 41  LDA_02                         39644 non-null  float64\n",
      " 42  LDA_03                         39644 non-null  float64\n",
      " 43  LDA_04                         39644 non-null  float64\n",
      " 44  global_subjectivity            39644 non-null  float64\n",
      " 45  global_sentiment_polarity      39644 non-null  float64\n",
      " 46  global_rate_positive_words     39644 non-null  float64\n",
      " 47  global_rate_negative_words     39644 non-null  float64\n",
      " 48  rate_positive_words            39644 non-null  float64\n",
      " 49  rate_negative_words            39644 non-null  float64\n",
      " 50  avg_positive_polarity          39644 non-null  float64\n",
      " 51  min_positive_polarity          39644 non-null  float64\n",
      " 52  max_positive_polarity          39644 non-null  float64\n",
      " 53  avg_negative_polarity          39644 non-null  float64\n",
      " 54  min_negative_polarity          39644 non-null  float64\n",
      " 55  max_negative_polarity          39644 non-null  float64\n",
      " 56  title_subjectivity             39644 non-null  float64\n",
      " 57  title_sentiment_polarity       39644 non-null  float64\n",
      " 58  abs_title_subjectivity         39644 non-null  float64\n",
      " 59  abs_title_sentiment_polarity   39644 non-null  float64\n",
      " 60  shares                         39644 non-null  int64  \n",
      "dtypes: float64(34), int64(26), object(1)\n",
      "memory usage: 18.5+ MB\n"
     ]
    }
   ],
   "source": [
    "df.info()"
   ]
  },
  {
   "cell_type": "markdown",
   "metadata": {},
   "source": [
    "<h2 style=\"color:#FF7C00  \"> => NN model </h2>"
   ]
  },
  {
   "cell_type": "markdown",
   "metadata": {},
   "source": [
    "<h3 style=\"color:#FF7C00 \"> Recap:</h3>\n",
    "<div style=\"margin-top: -8px\";>\n",
    "Sequential model is the simplest way to create a linear stack of layers where each layer has exactly one input tensor and one output tensor."
   ]
  },
  {
   "cell_type": "code",
   "execution_count": 32,
   "metadata": {},
   "outputs": [
    {
     "name": "stdout",
     "output_type": "stream",
     "text": [
      "Model: \"sequential\"\n",
      "_________________________________________________________________\n",
      " Layer (type)                Output Shape              Param #   \n",
      "=================================================================\n",
      " dense (Dense)               (None, 16)                960       \n",
      "                                                                 \n",
      " dropout (Dropout)           (None, 16)                0         \n",
      "                                                                 \n",
      " dense_1 (Dense)             (None, 1)                 17        \n",
      "                                                                 \n",
      " activation (Activation)     (None, 1)                 0         \n",
      "                                                                 \n",
      "=================================================================\n",
      "Total params: 977 (3.82 KB)\n",
      "Trainable params: 977 (3.82 KB)\n",
      "Non-trainable params: 0 (0.00 Byte)\n",
      "_________________________________________________________________\n",
      "None\n"
     ]
    },
    {
     "name": "stderr",
     "output_type": "stream",
     "text": [
      "2023-08-09 13:40:29.392501: E tensorflow/compiler/xla/stream_executor/cuda/cuda_driver.cc:268] failed call to cuInit: CUDA_ERROR_UNKNOWN: unknown error\n"
     ]
    }
   ],
   "source": [
    "model = Sequential()\n",
    "model.add(Dense(16, input_dim=59, activation='relu')) \n",
    "model.add(Dropout(0.2))\n",
    "model.add(Dense(1)) \n",
    "model.add(Activation('sigmoid'))  \n",
    "model.compile(loss='binary_crossentropy', optimizer='adam')\n",
    "print(model.summary())"
   ]
  },
  {
   "cell_type": "code",
   "execution_count": 33,
   "metadata": {},
   "outputs": [
    {
     "data": {
      "text/plain": [
       "array([[1., 0.],\n",
       "       [1., 0.],\n",
       "       [1., 0.],\n",
       "       ...,\n",
       "       [1., 0.],\n",
       "       [1., 0.],\n",
       "       [1., 0.]], dtype=float32)"
      ]
     },
     "execution_count": 33,
     "metadata": {},
     "output_type": "execute_result"
    }
   ],
   "source": [
    "# Number of unique classes in labels\n",
    "num_classes = len(np.unique(y_train)) \n",
    "\n",
    "y_train_onehot = to_categorical(y_train, num_classes)\n",
    "y_test_onehot = to_categorical(y_test, num_classes)\n",
    "y_test_onehot"
   ]
  },
  {
   "cell_type": "code",
   "execution_count": null,
   "metadata": {},
   "outputs": [],
   "source": [
    "%%script echo Skipping. Use y_train_onehot and y_test_onehot in model.fit()\n",
    "history = model.fit(X_train, y_train_onehot, verbose=1, epochs=20, batch_size=64, validation_data=(X_test, y_test_onehot))"
   ]
  },
  {
   "cell_type": "code",
   "execution_count": 34,
   "metadata": {},
   "outputs": [
    {
     "data": {
      "text/plain": [
       "(tensorflow.python.framework.ops.EagerTensor,\n",
       " tensorflow.python.framework.ops.EagerTensor)"
      ]
     },
     "execution_count": 34,
     "metadata": {},
     "output_type": "execute_result"
    }
   ],
   "source": [
    "y_train_tensor = tf.convert_to_tensor(y_train)\n",
    "y_test_tensor = tf.convert_to_tensor(y_test)\n",
    "type(y_train_tensor), type(y_test_tensor)"
   ]
  },
  {
   "cell_type": "code",
   "execution_count": 35,
   "metadata": {},
   "outputs": [
    {
     "name": "stdout",
     "output_type": "stream",
     "text": [
      "Epoch 1/20\n",
      "465/465 [==============================] - 3s 4ms/step - loss: 1322.2212 - val_loss: 353.5991\n",
      "Epoch 2/20\n",
      "465/465 [==============================] - 2s 4ms/step - loss: 219.9911 - val_loss: 36.2387\n",
      "Epoch 3/20\n",
      "465/465 [==============================] - 1s 3ms/step - loss: 32.0647 - val_loss: 7.4278\n",
      "Epoch 4/20\n",
      "465/465 [==============================] - 1s 3ms/step - loss: 8.2183 - val_loss: 2.1003\n",
      "Epoch 5/20\n",
      "465/465 [==============================] - 1s 3ms/step - loss: 7.5963 - val_loss: 2.3179\n",
      "Epoch 6/20\n",
      "465/465 [==============================] - 1s 3ms/step - loss: 4.1330 - val_loss: 4.5328\n",
      "Epoch 7/20\n",
      "465/465 [==============================] - 1s 3ms/step - loss: 2.6977 - val_loss: 2.4201\n",
      "Epoch 8/20\n",
      "465/465 [==============================] - 1s 3ms/step - loss: 1.8813 - val_loss: 4.2793\n",
      "Epoch 9/20\n",
      "465/465 [==============================] - 1s 3ms/step - loss: 1.6249 - val_loss: 1.6838\n",
      "Epoch 10/20\n",
      "465/465 [==============================] - 1s 3ms/step - loss: 0.7632 - val_loss: 0.3798\n",
      "Epoch 11/20\n",
      "465/465 [==============================] - 2s 3ms/step - loss: 0.5117 - val_loss: 0.2794\n",
      "Epoch 12/20\n",
      "465/465 [==============================] - 1s 3ms/step - loss: 0.5321 - val_loss: 1.3349\n",
      "Epoch 13/20\n",
      "465/465 [==============================] - 2s 4ms/step - loss: 0.3674 - val_loss: 0.2914\n",
      "Epoch 14/20\n",
      "465/465 [==============================] - 1s 3ms/step - loss: 0.2815 - val_loss: 0.5017\n",
      "Epoch 15/20\n",
      "465/465 [==============================] - 1s 3ms/step - loss: 0.2766 - val_loss: 0.2968\n",
      "Epoch 16/20\n",
      "465/465 [==============================] - 2s 4ms/step - loss: 0.2865 - val_loss: 0.2772\n",
      "Epoch 17/20\n",
      "465/465 [==============================] - 2s 4ms/step - loss: 0.2680 - val_loss: 0.2549\n",
      "Epoch 18/20\n",
      "465/465 [==============================] - 1s 3ms/step - loss: 0.2198 - val_loss: 0.2534\n",
      "Epoch 19/20\n",
      "465/465 [==============================] - 1s 3ms/step - loss: 0.2073 - val_loss: 0.2558\n",
      "Epoch 20/20\n",
      "465/465 [==============================] - 1s 3ms/step - loss: 0.2018 - val_loss: 0.2471\n"
     ]
    }
   ],
   "source": [
    "# Train\n",
    "history = model.fit(X_train, y_train, verbose=1, epochs=20, batch_size=64, validation_data=(X_test, y_test))"
   ]
  },
  {
   "cell_type": "code",
   "execution_count": 36,
   "metadata": {},
   "outputs": [
    {
     "name": "stdout",
     "output_type": "stream",
     "text": [
      "310/310 [==============================] - 1s 2ms/step - loss: 0.2471\n"
     ]
    }
   ],
   "source": [
    "result = model.evaluate(X_test, y_test)"
   ]
  },
  {
   "cell_type": "code",
   "execution_count": 37,
   "metadata": {},
   "outputs": [
    {
     "data": {
      "text/plain": [
       "' N.B. #TypeError: cannot unpack non-iterable float object '"
      ]
     },
     "execution_count": 37,
     "metadata": {},
     "output_type": "execute_result"
    }
   ],
   "source": [
    "\"\"\" N.B. #TypeError: cannot unpack non-iterable float object \"\"\"\n",
    "# _, acc = model.evaluate(X_test, y_test)"
   ]
  },
  {
   "cell_type": "code",
   "execution_count": 38,
   "metadata": {},
   "outputs": [
    {
     "name": "stdout",
     "output_type": "stream",
     "text": [
      "Evaluation result: 0.24710556864738464\n"
     ]
    }
   ],
   "source": [
    "if isinstance(result, tuple) and len(result) == 2:\n",
    "    loss, acc = result\n",
    "    print(\"Loss:\", loss)\n",
    "    print(\"Accuracy:\", acc)\n",
    "else:\n",
    "    print(\"Evaluation result:\", result)"
   ]
  },
  {
   "cell_type": "code",
   "execution_count": 39,
   "metadata": {},
   "outputs": [
    {
     "name": "stdout",
     "output_type": "stream",
     "text": [
      "930/930 [==============================] - 2s 2ms/step\n",
      "310/310 [==============================] - 1s 2ms/step\n",
      "Train Accuracy: 0.9472976154441193\n",
      "Test Accuracy: 0.946322268186863\n"
     ]
    }
   ],
   "source": [
    "y_pred_train = model.predict(X_train)\n",
    "# Convert the predictions to class labels\n",
    "y_pred_class_train = np.round(y_pred_train)\n",
    "# Calculate the accuracy\n",
    "train_accuracy = accuracy_score(y_train, y_pred_class_train)\n",
    "\n",
    "y_pred_test = model.predict(X_test)\n",
    "y_pred_class_test = np.round(y_pred_test)\n",
    "test_accuracy = accuracy_score(y_test, y_pred_class_test)\n",
    "\n",
    "print(\"Train Accuracy:\", train_accuracy)\n",
    "print(\"Test Accuracy:\", test_accuracy)"
   ]
  },
  {
   "cell_type": "code",
   "execution_count": 40,
   "metadata": {},
   "outputs": [
    {
     "data": {
      "text/plain": [
       "{'loss': [1322.22119140625,\n",
       "  219.99107360839844,\n",
       "  32.06472396850586,\n",
       "  8.218255043029785,\n",
       "  7.5963134765625,\n",
       "  4.132995128631592,\n",
       "  2.697669267654419,\n",
       "  1.8813385963439941,\n",
       "  1.6249442100524902,\n",
       "  0.7631946206092834,\n",
       "  0.5117043852806091,\n",
       "  0.5321057438850403,\n",
       "  0.36742591857910156,\n",
       "  0.28149428963661194,\n",
       "  0.2765955924987793,\n",
       "  0.2864936590194702,\n",
       "  0.267978310585022,\n",
       "  0.21978731453418732,\n",
       "  0.20729932188987732,\n",
       "  0.20175272226333618],\n",
       " 'val_loss': [353.59912109375,\n",
       "  36.238739013671875,\n",
       "  7.427818298339844,\n",
       "  2.100341558456421,\n",
       "  2.317894697189331,\n",
       "  4.532751083374023,\n",
       "  2.420063018798828,\n",
       "  4.279314994812012,\n",
       "  1.68384850025177,\n",
       "  0.37977197766304016,\n",
       "  0.27943697571754456,\n",
       "  1.3349189758300781,\n",
       "  0.2913823127746582,\n",
       "  0.5017456412315369,\n",
       "  0.29677870869636536,\n",
       "  0.27715006470680237,\n",
       "  0.2548787593841553,\n",
       "  0.25340405106544495,\n",
       "  0.2557743489742279,\n",
       "  0.24710553884506226]}"
      ]
     },
     "execution_count": 40,
     "metadata": {},
     "output_type": "execute_result"
    }
   ],
   "source": [
    "history.history"
   ]
  },
  {
   "cell_type": "code",
   "execution_count": 41,
   "metadata": {},
   "outputs": [
    {
     "data": {
      "image/png": "[encoded data removed]",
      "text/plain": [
       "<Figure size 640x480 with 1 Axes>"
      ]
     },
     "metadata": {},
     "output_type": "display_data"
    }
   ],
   "source": [
    "\"\"\" Plot the training and validation accuracy and loss at each epoch. \"\"\"\n",
    "loss = history.history['loss']\n",
    "val_loss = history.history['val_loss']\n",
    "epochs = range(1, len(loss) + 1)\n",
    "plt.plot(epochs, loss, 'y', label='Training loss')\n",
    "plt.plot(epochs, val_loss, 'r', label='Validation loss')\n",
    "plt.title('Training and validation loss')\n",
    "plt.xlabel('Epochs')\n",
    "plt.ylabel('Loss')\n",
    "plt.legend()\n",
    "plt.show()"
   ]
  },
  {
   "cell_type": "code",
   "execution_count": 42,
   "metadata": {},
   "outputs": [
    {
     "name": "stdout",
     "output_type": "stream",
     "text": [
      "310/310 [==============================] - 0s 2ms/step\n"
     ]
    },
    {
     "data": {
      "text/plain": [
       "<Axes: >"
      ]
     },
     "execution_count": 42,
     "metadata": {},
     "output_type": "execute_result"
    },
    {
     "data": {
      "image/png": "[encoded data removed]",
      "text/plain": [
       "<Figure size 640x480 with 2 Axes>"
      ]
     },
     "metadata": {},
     "output_type": "display_data"
    }
   ],
   "source": [
    "\"\"\" Preduct results on the test set.\n",
    "N.B.\n",
    "Convert the predicted probabilities into binary class labels, \n",
    "to avoid the error : ValueError: Classification metrics can't handle a mix of binary and continuous targets\n",
    "\"\"\"\n",
    "y_pred_test = model.predict(X_test)\n",
    "y_pred_test = (y_pred_test > 0.5)\n",
    "\n",
    "# Making the Confusion Matrix\n",
    "cm = confusion_matrix(y_test, y_pred_test)\n",
    "sns.heatmap(cm, annot=True)"
   ]
  },
  {
   "cell_type": "code",
   "execution_count": 45,
   "metadata": {},
   "outputs": [
    {
     "name": "stdout",
     "output_type": "stream",
     "text": [
      "Epoch 1/20\n",
      "496/496 [==============================] - 2s 3ms/step - loss: 943.2370 - val_loss: 126.6329\n",
      "Epoch 2/20\n",
      "496/496 [==============================] - 1s 3ms/step - loss: 54.4710 - val_loss: 5.0200\n",
      "Epoch 3/20\n",
      "496/496 [==============================] - 2s 3ms/step - loss: 13.8180 - val_loss: 2.8931\n",
      "Epoch 4/20\n",
      "496/496 [==============================] - 1s 3ms/step - loss: 4.8393 - val_loss: 1.4316\n",
      "Epoch 5/20\n",
      "496/496 [==============================] - 1s 3ms/step - loss: 5.7657 - val_loss: 0.7787\n",
      "Epoch 6/20\n",
      "496/496 [==============================] - 1s 3ms/step - loss: 3.0287 - val_loss: 0.2535\n",
      "Epoch 7/20\n",
      "496/496 [==============================] - 1s 3ms/step - loss: 2.1928 - val_loss: 0.2194\n",
      "Epoch 8/20\n",
      "496/496 [==============================] - 1s 3ms/step - loss: 1.8564 - val_loss: 0.5619\n",
      "Epoch 9/20\n",
      "496/496 [==============================] - 1s 3ms/step - loss: 1.0549 - val_loss: 0.1880\n",
      "Epoch 10/20\n",
      "496/496 [==============================] - 1s 3ms/step - loss: 0.3783 - val_loss: 0.1882\n",
      "Epoch 11/20\n",
      "496/496 [==============================] - 1s 3ms/step - loss: 0.2807 - val_loss: 0.1920\n",
      "Epoch 12/20\n",
      "496/496 [==============================] - 1s 3ms/step - loss: 0.2362 - val_loss: 0.1861\n",
      "Epoch 13/20\n",
      "496/496 [==============================] - 1s 3ms/step - loss: 0.2623 - val_loss: 0.1969\n",
      "Epoch 14/20\n",
      "496/496 [==============================] - 2s 4ms/step - loss: 0.3468 - val_loss: 0.1879\n",
      "Epoch 15/20\n",
      "496/496 [==============================] - 1s 3ms/step - loss: 0.2271 - val_loss: 0.1864\n",
      "Epoch 16/20\n",
      "496/496 [==============================] - 1s 3ms/step - loss: 0.2180 - val_loss: 0.1877\n",
      "Epoch 17/20\n",
      "496/496 [==============================] - 1s 3ms/step - loss: 0.2071 - val_loss: 0.1888\n",
      "Epoch 18/20\n",
      "496/496 [==============================] - 1s 3ms/step - loss: 0.2088 - val_loss: 0.1875\n",
      "Epoch 19/20\n",
      "496/496 [==============================] - 1s 3ms/step - loss: 0.2047 - val_loss: 0.1880\n",
      "Epoch 20/20\n",
      "496/496 [==============================] - 1s 3ms/step - loss: 0.2061 - val_loss: 0.1873\n",
      "248/248 [==============================] - 0s 2ms/step - loss: 0.1873\n",
      "Epoch 1/20\n",
      "496/496 [==============================] - 2s 3ms/step - loss: 3085.9365 - val_loss: 500.4186\n",
      "Epoch 2/20\n",
      "496/496 [==============================] - 1s 3ms/step - loss: 422.3799 - val_loss: 166.3291\n",
      "Epoch 3/20\n",
      "496/496 [==============================] - 1s 3ms/step - loss: 121.1387 - val_loss: 14.3448\n",
      "Epoch 4/20\n",
      "496/496 [==============================] - 1s 3ms/step - loss: 14.2711 - val_loss: 3.5213\n",
      "Epoch 5/20\n",
      "496/496 [==============================] - 1s 3ms/step - loss: 8.4848 - val_loss: 7.5416\n",
      "Epoch 6/20\n",
      "496/496 [==============================] - 1s 3ms/step - loss: 5.4237 - val_loss: 11.2923\n",
      "Epoch 7/20\n",
      "496/496 [==============================] - 2s 3ms/step - loss: 5.4523 - val_loss: 0.6774\n",
      "Epoch 8/20\n",
      "496/496 [==============================] - 1s 3ms/step - loss: 3.5582 - val_loss: 1.7563\n",
      "Epoch 9/20\n",
      "496/496 [==============================] - 1s 3ms/step - loss: 3.7403 - val_loss: 3.1931\n",
      "Epoch 10/20\n",
      "496/496 [==============================] - 1s 3ms/step - loss: 2.6015 - val_loss: 0.9721\n",
      "Epoch 11/20\n",
      "496/496 [==============================] - 1s 3ms/step - loss: 2.6628 - val_loss: 0.9720\n",
      "Epoch 12/20\n",
      "496/496 [==============================] - 1s 3ms/step - loss: 1.1321 - val_loss: 0.9125\n",
      "Epoch 13/20\n",
      "496/496 [==============================] - 2s 3ms/step - loss: 1.1131 - val_loss: 1.5519\n",
      "Epoch 14/20\n",
      "496/496 [==============================] - 1s 3ms/step - loss: 0.7345 - val_loss: 0.3426\n",
      "Epoch 15/20\n",
      "496/496 [==============================] - 1s 3ms/step - loss: 0.4860 - val_loss: 0.3563\n",
      "Epoch 16/20\n",
      "496/496 [==============================] - 1s 3ms/step - loss: 0.4609 - val_loss: 0.3361\n",
      "Epoch 17/20\n",
      "496/496 [==============================] - 2s 3ms/step - loss: 0.2795 - val_loss: 0.3576\n",
      "Epoch 18/20\n",
      "496/496 [==============================] - 1s 3ms/step - loss: 0.3396 - val_loss: 0.3405\n",
      "Epoch 19/20\n",
      "496/496 [==============================] - 1s 3ms/step - loss: 0.2424 - val_loss: 0.3369\n",
      "Epoch 20/20\n",
      "496/496 [==============================] - 2s 3ms/step - loss: 0.2449 - val_loss: 0.4036\n",
      "248/248 [==============================] - 0s 2ms/step - loss: 0.4036\n",
      "Epoch 1/20\n",
      "496/496 [==============================] - 2s 3ms/step - loss: 2287.5845 - val_loss: 619.4995\n",
      "Epoch 2/20\n",
      "496/496 [==============================] - 1s 3ms/step - loss: 463.3054 - val_loss: 230.8106\n",
      "Epoch 3/20\n",
      "496/496 [==============================] - 2s 3ms/step - loss: 122.1201 - val_loss: 38.0572\n",
      "Epoch 4/20\n",
      "496/496 [==============================] - 2s 3ms/step - loss: 12.3118 - val_loss: 6.1760\n",
      "Epoch 5/20\n",
      "496/496 [==============================] - 2s 3ms/step - loss: 2.8362 - val_loss: 2.9495\n",
      "Epoch 6/20\n",
      "496/496 [==============================] - 1s 3ms/step - loss: 1.6167 - val_loss: 4.4424\n",
      "Epoch 7/20\n",
      "496/496 [==============================] - 1s 3ms/step - loss: 0.7934 - val_loss: 2.2865\n",
      "Epoch 8/20\n",
      "496/496 [==============================] - 1s 3ms/step - loss: 1.5116 - val_loss: 1.2000\n",
      "Epoch 9/20\n",
      "496/496 [==============================] - 2s 3ms/step - loss: 0.8690 - val_loss: 1.2309\n",
      "Epoch 10/20\n",
      "496/496 [==============================] - 1s 3ms/step - loss: 0.3729 - val_loss: 1.0431\n",
      "Epoch 11/20\n",
      "496/496 [==============================] - 2s 4ms/step - loss: 0.5604 - val_loss: 0.4341\n",
      "Epoch 12/20\n",
      "496/496 [==============================] - 2s 3ms/step - loss: 0.3076 - val_loss: 0.3189\n",
      "Epoch 13/20\n",
      "496/496 [==============================] - 1s 3ms/step - loss: 0.3088 - val_loss: 0.5572\n",
      "Epoch 14/20\n",
      "496/496 [==============================] - 2s 4ms/step - loss: 0.2767 - val_loss: 0.3596\n",
      "Epoch 15/20\n",
      "496/496 [==============================] - 2s 4ms/step - loss: 0.2414 - val_loss: 0.2980\n",
      "Epoch 16/20\n",
      "496/496 [==============================] - 3s 6ms/step - loss: 0.2327 - val_loss: 0.2918\n",
      "Epoch 17/20\n",
      "496/496 [==============================] - 4s 8ms/step - loss: 0.2255 - val_loss: 0.2940\n",
      "Epoch 18/20\n",
      "496/496 [==============================] - 2s 3ms/step - loss: 0.2182 - val_loss: 0.2887\n",
      "Epoch 19/20\n",
      "496/496 [==============================] - 2s 4ms/step - loss: 0.2109 - val_loss: 0.2812\n",
      "Epoch 20/20\n",
      "496/496 [==============================] - 2s 4ms/step - loss: 0.2125 - val_loss: 0.2791\n",
      "248/248 [==============================] - 1s 4ms/step - loss: 0.2791\n",
      "Epoch 1/20\n",
      "496/496 [==============================] - 5s 7ms/step - loss: 2929.1829 - val_loss: 1175.0116\n",
      "Epoch 2/20\n",
      "496/496 [==============================] - 3s 6ms/step - loss: 970.0239 - val_loss: 395.4082\n",
      "Epoch 3/20\n",
      "496/496 [==============================] - 4s 8ms/step - loss: 289.4516 - val_loss: 61.2647\n",
      "Epoch 4/20\n",
      "496/496 [==============================] - 5s 10ms/step - loss: 43.3194 - val_loss: 8.5729\n",
      "Epoch 5/20\n",
      "496/496 [==============================] - 2s 4ms/step - loss: 3.6735 - val_loss: 1.2583\n",
      "Epoch 6/20\n",
      "496/496 [==============================] - 2s 4ms/step - loss: 1.4990 - val_loss: 0.7545\n",
      "Epoch 7/20\n",
      "496/496 [==============================] - 2s 4ms/step - loss: 1.0936 - val_loss: 0.4046\n",
      "Epoch 8/20\n",
      "496/496 [==============================] - 3s 5ms/step - loss: 0.6767 - val_loss: 0.3207\n",
      "Epoch 9/20\n",
      "496/496 [==============================] - 3s 7ms/step - loss: 0.7129 - val_loss: 0.2826\n",
      "Epoch 10/20\n",
      "496/496 [==============================] - 4s 7ms/step - loss: 0.3967 - val_loss: 0.3848\n",
      "Epoch 11/20\n",
      "496/496 [==============================] - 3s 5ms/step - loss: 0.3510 - val_loss: 0.5599\n",
      "Epoch 12/20\n",
      "496/496 [==============================] - 3s 5ms/step - loss: 0.3024 - val_loss: 0.2210\n",
      "Epoch 13/20\n",
      "496/496 [==============================] - 3s 6ms/step - loss: 0.3178 - val_loss: 0.2552\n",
      "Epoch 14/20\n",
      "496/496 [==============================] - 2s 5ms/step - loss: 0.2516 - val_loss: 0.2343\n",
      "Epoch 15/20\n",
      "496/496 [==============================] - 3s 5ms/step - loss: 0.2332 - val_loss: 0.2318\n",
      "Epoch 16/20\n",
      "496/496 [==============================] - 2s 4ms/step - loss: 0.2660 - val_loss: 0.2108\n",
      "Epoch 17/20\n",
      "496/496 [==============================] - 4s 9ms/step - loss: 0.2232 - val_loss: 0.2012\n",
      "Epoch 18/20\n",
      "496/496 [==============================] - 4s 8ms/step - loss: 0.2261 - val_loss: 0.1998\n",
      "Epoch 19/20\n",
      "496/496 [==============================] - 2s 5ms/step - loss: 0.2110 - val_loss: 0.2017\n",
      "Epoch 20/20\n",
      "496/496 [==============================] - 4s 8ms/step - loss: 0.2147 - val_loss: 0.1993\n",
      "248/248 [==============================] - 1s 5ms/step - loss: 0.1993\n",
      "Epoch 1/20\n",
      "496/496 [==============================] - 6s 9ms/step - loss: 2710.8196 - val_loss: 260.1545\n",
      "Epoch 2/20\n",
      "496/496 [==============================] - 3s 6ms/step - loss: 182.5865 - val_loss: 82.8986\n",
      "Epoch 3/20\n",
      "496/496 [==============================] - 4s 7ms/step - loss: 36.3538 - val_loss: 12.9567\n",
      "Epoch 4/20\n",
      "496/496 [==============================] - 3s 7ms/step - loss: 2.5954 - val_loss: 3.1801\n",
      "Epoch 5/20\n",
      "496/496 [==============================] - 5s 10ms/step - loss: 1.9094 - val_loss: 2.3883\n",
      "Epoch 6/20\n",
      "496/496 [==============================] - 3s 6ms/step - loss: 1.5326 - val_loss: 1.8416\n",
      "Epoch 7/20\n",
      "496/496 [==============================] - 5s 11ms/step - loss: 1.3046 - val_loss: 1.2720\n",
      "Epoch 8/20\n",
      "496/496 [==============================] - 4s 9ms/step - loss: 0.7442 - val_loss: 1.3309\n",
      "Epoch 9/20\n",
      "496/496 [==============================] - 6s 12ms/step - loss: 0.9055 - val_loss: 0.4049\n",
      "Epoch 10/20\n",
      "496/496 [==============================] - 5s 11ms/step - loss: 0.3589 - val_loss: 0.3791\n",
      "Epoch 11/20\n",
      "496/496 [==============================] - 4s 8ms/step - loss: 0.5716 - val_loss: 0.3320\n",
      "Epoch 12/20\n",
      "496/496 [==============================] - 3s 6ms/step - loss: 0.4146 - val_loss: 0.4987\n",
      "Epoch 13/20\n",
      "496/496 [==============================] - 3s 6ms/step - loss: 0.3184 - val_loss: 0.4036\n",
      "Epoch 14/20\n",
      "496/496 [==============================] - 5s 9ms/step - loss: 0.2692 - val_loss: 0.3633\n",
      "Epoch 15/20\n",
      "496/496 [==============================] - 4s 9ms/step - loss: 0.2489 - val_loss: 0.2791\n",
      "Epoch 16/20\n",
      "496/496 [==============================] - 4s 8ms/step - loss: 0.2296 - val_loss: 0.2477\n",
      "Epoch 17/20\n",
      "496/496 [==============================] - 4s 8ms/step - loss: 0.2225 - val_loss: 0.2521\n",
      "Epoch 18/20\n",
      "496/496 [==============================] - 2s 5ms/step - loss: 0.2161 - val_loss: 0.3066\n",
      "Epoch 19/20\n",
      "496/496 [==============================] - 3s 7ms/step - loss: 0.2103 - val_loss: 0.2968\n",
      "Epoch 20/20\n",
      "496/496 [==============================] - 5s 11ms/step - loss: 0.2071 - val_loss: 0.2769\n",
      "248/248 [==============================] - 2s 6ms/step - loss: 0.2769\n"
     ]
    }
   ],
   "source": [
    "scores = []\n",
    "num_folds = 5\n",
    "# Create a KFold object\n",
    "kf = KFold(n_splits=num_folds, shuffle=True, random_state=42)\n",
    "\n",
    "### Split the data in each fold into training and test sets\n",
    "for train_index, test_index in kf.split(X):\n",
    "    X_train, X_test = X.iloc[train_index], X.iloc[test_index]\n",
    "    y_train, y_test = y[train_index], y[test_index]\n",
    "\n",
    "    ###### Build model\n",
    "    model = Sequential()\n",
    "    model.add(Dense(16, input_dim=59, activation='relu'))\n",
    "    model.add(Dropout(0.2))\n",
    "    model.add(Dense(1))\n",
    "    model.add(Activation('sigmoid'))\n",
    "    model.compile(loss='binary_crossentropy', optimizer='adam')\n",
    "\n",
    "    # Train the model for 20 epochs\n",
    "    history = model.fit(X_train, y_train, verbose=1, epochs=20, batch_size=64, validation_data=(X_test, y_test))\n",
    "\n",
    "    # Evaluate the model on the test set for this fold\n",
    "    result = model.evaluate(X_test, y_test)\n",
    "    scores.append(result)"
   ]
  },
  {
   "cell_type": "code",
   "execution_count": 46,
   "metadata": {},
   "outputs": [
    {
     "name": "stdout",
     "output_type": "stream",
     "text": [
      "Fold 1: 0.18731218576431274\n",
      "Fold 2: 0.4036012887954712\n",
      "Fold 3: 0.2790919244289398\n",
      "Fold 4: 0.1992952972650528\n",
      "Fold 5: 0.2769138216972351\n",
      "Mean score: 0.2692429035902023\n",
      "Standard deviation: 0.07721830356222252\n"
     ]
    }
   ],
   "source": [
    "\"\"\" Print scores for each fold. \"\"\"\n",
    "for i, score in enumerate(scores):\n",
    "    print(\"Fold {}: {}\".format(i+1, score))\n",
    "\n",
    "mean_score = np.mean(scores)\n",
    "std_score = np.std(scores)\n",
    "print(\"Mean score: {}\".format(mean_score))\n",
    "print(\"Standard deviation: {}\".format(std_score))"
   ]
  }
 ],
 "metadata": {
  "kernelspec": {
   "display_name": "MLearning",
   "language": "python",
   "name": "python3"
  },
  "language_info": {
   "codemirror_mode": {
    "name": "ipython",
    "version": 3
   },
   "file_extension": ".py",
   "mimetype": "text/x-python",
   "name": "python",
   "nbconvert_exporter": "python",
   "pygments_lexer": "ipython3",
   "version": "3.10.9"
  },
  "orig_nbformat": 4
 },
 "nbformat": 4,
 "nbformat_minor": 2
}
