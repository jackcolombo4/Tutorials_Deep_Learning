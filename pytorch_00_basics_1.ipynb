{
  "cells": [
    {
      "cell_type": "markdown",
      "metadata": {
        "id": "IzxylyJBhr7j"
      },
      "source": [
        "<div style=\"line-height:1.2;\">\n",
        "\n",
        "<h1 style=\"color:#BF66F2; margin-bottom: 0.3em;\">PyTorch basics 1</h1>\n",
        "\n",
        "<h4 style=\"margin-top: 0.3em; margin-bottom: 1em;\">Tensors, Data Loaders, and Training models.</h4>\n",
        "\n",
        "<div style=\"line-height:1.4; margin-bottom: 0.5em;\">\n",
        "    <h3 style=\"color: lightblue; display: inline; margin-right: 0.5em;\">Keywords:</h3>\n",
        "    ToTensor + %%capture magic + multiplication with @ + itertools islice() + torch utils\n",
        "</div>\n",
        "\n",
        "</div>"
      ]
    },
    {
      "cell_type": "code",
      "execution_count": 1,
      "metadata": {
        "id": "mp44X4LL_5fA"
      },
      "outputs": [],
      "source": [
        "# Set autocompletion in Colab\n",
        "#!pip install jedi\n",
        "%config Completer.use_jedi = True"
      ]
    },
    {
      "cell_type": "code",
      "execution_count": 2,
      "metadata": {
        "id": "nLxdUeYZLMSp"
      },
      "outputs": [],
      "source": [
        "import numpy as np\n",
        "import pandas as pd\n",
        "import matplotlib.pyplot as plt\n",
        "import itertools\n",
        "\n",
        "import torch\n",
        "from torch import nn\n",
        "from torch.utils.data import DataLoader\n",
        "from torchvision import datasets\n",
        "from torchvision.transforms import ToTensor"
      ]
    },
    {
      "cell_type": "markdown",
      "metadata": {
        "id": "Xc4yiruQLjWT"
      },
      "source": [
        "<h2 style=\"color:#BF66F2 \">  Tensors </h2>"
      ]
    },
    {
      "cell_type": "code",
      "execution_count": 3,
      "metadata": {
        "colab": {
          "base_uri": "https://localhost:8080/"
        },
        "id": "9N4ybU_CBaOQ",
        "outputId": "8a777a28-41fb-4591-fd24-1bed5e7ca88c"
      },
      "outputs": [
        {
          "output_type": "execute_result",
          "data": {
            "text/plain": [
              "tensor([[1, 2],\n",
              "        [3, 4]])"
            ]
          },
          "metadata": {},
          "execution_count": 3
        }
      ],
      "source": [
        "data = [[1, 2], [3, 4]]\n",
        "x_data = torch.tensor(data)\n",
        "x_data"
      ]
    },
    {
      "cell_type": "code",
      "execution_count": 4,
      "metadata": {
        "colab": {
          "base_uri": "https://localhost:8080/"
        },
        "id": "kAWsEGZWBauw",
        "outputId": "8220cf99-2248-477b-b8f2-01f8f9c60df9"
      },
      "outputs": [
        {
          "output_type": "execute_result",
          "data": {
            "text/plain": [
              "tensor([[1, 2],\n",
              "        [3, 4]])"
            ]
          },
          "metadata": {},
          "execution_count": 4
        }
      ],
      "source": [
        "np_array = np.array(data)\n",
        "x_np = torch.from_numpy(np_array)\n",
        "x_np"
      ]
    },
    {
      "cell_type": "code",
      "execution_count": 5,
      "metadata": {
        "colab": {
          "base_uri": "https://localhost:8080/"
        },
        "id": "Gx6Cf9mrLXCD",
        "outputId": "b51b5ed0-9907-4053-ac33-b5f37c6bed91"
      },
      "outputs": [
        {
          "output_type": "stream",
          "name": "stdout",
          "text": [
            "Ones Tensor: \n",
            " tensor([[1, 1],\n",
            "        [1, 1]]) \n",
            "\n",
            "Random Tensor: \n",
            " tensor([[0.3340, 0.7459],\n",
            "        [0.5554, 0.3782]]) \n",
            "\n"
          ]
        }
      ],
      "source": [
        "# Retain the properties of x_data\n",
        "x_ones = torch.ones_like(x_data)\n",
        "# Override the datatype of x_data\n",
        "x_rand = torch.rand_like(x_data, dtype=torch.float)\n",
        "\n",
        "print(f\"Ones Tensor: \\n {x_ones} \\n\")\n",
        "print(f\"Random Tensor: \\n {x_rand} \\n\")"
      ]
    },
    {
      "cell_type": "code",
      "execution_count": 6,
      "metadata": {
        "colab": {
          "base_uri": "https://localhost:8080/"
        },
        "id": "LQxQpPuLL5zI",
        "outputId": "a51b7a32-7c22-4b66-f641-ca29ce43a356"
      },
      "outputs": [
        {
          "output_type": "stream",
          "name": "stdout",
          "text": [
            "Random Tensor: \n",
            " tensor([[0.5918, 0.6355, 0.4791],\n",
            "        [0.8259, 0.6885, 0.2902]]) \n",
            "\n",
            "Ones Tensor: \n",
            " tensor([[1., 1., 1.],\n",
            "        [1., 1., 1.]]) \n",
            "\n",
            "Zeros Tensor: \n",
            " tensor([[0., 0., 0.],\n",
            "        [0., 0., 0.]])\n"
          ]
        }
      ],
      "source": [
        "\"\"\" Tensors with random or constant values.\n",
        "N.B.\n",
        "'shape' is a tuple of tensor dimensions, it determines the dimensionality of the output tensor.\n",
        "\"\"\"\n",
        "shape = (2, 3,)\n",
        "rand_tensor = torch.rand(shape)\n",
        "ones_tensor = torch.ones(shape)\n",
        "zeros_tensor = torch.zeros(shape)\n",
        "\n",
        "print(f\"Random Tensor: \\n {rand_tensor} \\n\")\n",
        "print(f\"Ones Tensor: \\n {ones_tensor} \\n\")\n",
        "print(f\"Zeros Tensor: \\n {zeros_tensor}\")"
      ]
    },
    {
      "cell_type": "code",
      "execution_count": 7,
      "metadata": {
        "colab": {
          "base_uri": "https://localhost:8080/"
        },
        "id": "L3RfymT3L7YG",
        "outputId": "e84a4bea-6a6d-40e9-c5ac-2ce4435913c2"
      },
      "outputs": [
        {
          "output_type": "stream",
          "name": "stdout",
          "text": [
            "Shape of tensor: torch.Size([3, 4])\n",
            "Datatype of tensor: torch.float32\n",
            "Device tensor is stored on: cpu\n"
          ]
        }
      ],
      "source": [
        "# Tensor attributes that describe their shape, datatype, and the device on which they are stored.\n",
        "tens1 = torch.rand(3, 4)\n",
        "\n",
        "print(f\"Shape of tensor: {tens1.shape}\")\n",
        "print(f\"Datatype of tensor: {tens1.dtype}\")\n",
        "print(f\"Device tensor is stored on: {tens1.device}\")"
      ]
    },
    {
      "cell_type": "markdown",
      "metadata": {
        "id": "hRFHT-1Yhr7-"
      },
      "source": [
        "<h3 style=\"color:#BF66F2 \">  Tensors operations </h3>\n",
        "Transposing, indexing, slicing, mathematical operations, linear algebra, random sampling..."
      ]
    },
    {
      "cell_type": "code",
      "execution_count": 8,
      "metadata": {
        "colab": {
          "base_uri": "https://localhost:8080/"
        },
        "id": "xQgYrc1yMLTv",
        "outputId": "2fd2a1b0-0d71-4ae1-e9f4-866190a49294"
      },
      "outputs": [
        {
          "output_type": "stream",
          "name": "stdout",
          "text": [
            "Device tensor is stored on: cpu\n"
          ]
        }
      ],
      "source": [
        "# Move tensor to the GPU, if available\n",
        "if torch.cuda.is_available():\n",
        "    tensor = tens1.to('cuda')\n",
        "    print(f\"Device tensor is stored on: {tens1.device}\")\n",
        "else:\n",
        "    tensor = tens1"
      ]
    },
    {
      "cell_type": "code",
      "execution_count": null,
      "metadata": {
        "colab": {
          "base_uri": "https://localhost:8080/"
        },
        "id": "axoi95mNMLfd",
        "outputId": "e0cecdf1-d4fa-4098-d351-b604daa8e614"
      },
      "outputs": [
        {
          "name": "stdout",
          "output_type": "stream",
          "text": [
            "tensor([[1., 0., 1., 1.],\n",
            "        [1., 0., 1., 1.],\n",
            "        [1., 0., 1., 1.],\n",
            "        [1., 0., 1., 1.]])\n",
            "tensor([[1., 3., 1., 1.],\n",
            "        [1., 3., 1., 1.],\n",
            "        [1., 3., 1., 1.],\n",
            "        [1., 3., 1., 1.]])\n",
            "tensor([[1., 4., 1., 1.],\n",
            "        [1., 4., 1., 1.],\n",
            "        [1., 4., 1., 1.],\n",
            "        [1., 4., 1., 1.]])\n"
          ]
        }
      ],
      "source": [
        "tens2 = torch.ones(4, 4)\n",
        "tens2[:,1] = 0\n",
        "print(tens2)\n",
        "\n",
        "tens3 = torch.ones(4, 4)\n",
        "tens3[:,1] = 3\n",
        "print(tens3)\n",
        "tens4 = torch.ones(4, 4)\n",
        "tens4[:,1] = 4\n",
        "print(tens4)"
      ]
    },
    {
      "cell_type": "code",
      "execution_count": null,
      "metadata": {
        "colab": {
          "base_uri": "https://localhost:8080/"
        },
        "id": "19lx8eyjMLlQ",
        "outputId": "692aedab-d1cf-4a34-dfe7-0b2de990af12"
      },
      "outputs": [
        {
          "name": "stdout",
          "output_type": "stream",
          "text": [
            "tensor([[1., 0., 1., 1., 1., 0., 1., 1., 1., 0., 1., 1.],\n",
            "        [1., 0., 1., 1., 1., 0., 1., 1., 1., 0., 1., 1.],\n",
            "        [1., 0., 1., 1., 1., 0., 1., 1., 1., 0., 1., 1.],\n",
            "        [1., 0., 1., 1., 1., 0., 1., 1., 1., 0., 1., 1.]])\n",
            "tensor([[1., 0., 1., 1.],\n",
            "        [1., 0., 1., 1.],\n",
            "        [1., 0., 1., 1.],\n",
            "        [1., 0., 1., 1.],\n",
            "        [1., 3., 1., 1.],\n",
            "        [1., 3., 1., 1.],\n",
            "        [1., 3., 1., 1.],\n",
            "        [1., 3., 1., 1.],\n",
            "        [1., 3., 1., 1.],\n",
            "        [1., 3., 1., 1.],\n",
            "        [1., 3., 1., 1.],\n",
            "        [1., 3., 1., 1.]])\n"
          ]
        }
      ],
      "source": [
        "\"\"\" Join Tensors \"\"\"\n",
        "t1 = torch.cat([tens2, tens2, tens2], dim=1)\n",
        "t2 = torch.cat([tens2, tens3, tens3], dim=0)\n",
        "\n",
        "print(t1)\n",
        "print(t2)\n"
      ]
    },
    {
      "cell_type": "code",
      "execution_count": null,
      "metadata": {
        "colab": {
          "base_uri": "https://localhost:8080/"
        },
        "id": "r_avyxdAMLpD",
        "outputId": "5afe2ee5-fd42-4d80-fb82-899b464185f8"
      },
      "outputs": [
        {
          "name": "stdout",
          "output_type": "stream",
          "text": [
            "tensor.mul(tensor) \n",
            " tensor([[0.1269, 0.1964, 0.3367, 0.3216],\n",
            "        [0.7815, 0.4894, 0.0585, 0.1033],\n",
            "        [0.0043, 0.9682, 0.1127, 0.1043]]) \n",
            "\n",
            "tensor * tensor \n",
            " tensor([[0.1269, 0.1964, 0.3367, 0.3216],\n",
            "        [0.7815, 0.4894, 0.0585, 0.1033],\n",
            "        [0.0043, 0.9682, 0.1127, 0.1043]])\n",
            "tensor.matmul(tensor.T) \n",
            " tensor([[0.9815, 0.9474, 0.8373],\n",
            "        [0.9474, 1.4327, 0.9311],\n",
            "        [0.8373, 0.9311, 1.1895]]) \n",
            "\n",
            "tensor @ tensor.T \n",
            " tensor([[0.9815, 0.9474, 0.8373],\n",
            "        [0.9474, 1.4327, 0.9311],\n",
            "        [0.8373, 0.9311, 1.1895]])\n"
          ]
        }
      ],
      "source": [
        "\"\"\" Multiplicate tensors \"\"\"\n",
        "### Calculate Element-wise product\n",
        "print(f\"tensor.mul(tensor) \\n {tensor.mul(tensor)} \\n\")\n",
        "# or ...\n",
        "print(f\"tensor * tensor \\n {tensor * tensor}\")\n",
        "\n",
        "# Computes the matrix multiplication between two tensors\n",
        "print(f\"tensor.matmul(tensor.T) \\n {tensor.matmul(tensor.T)} \\n\")\n",
        "\n",
        "# Alternative syntax:\n",
        "print(f\"tensor @ tensor.T \\n {tensor @ tensor.T}\")"
      ]
    },
    {
      "cell_type": "code",
      "execution_count": null,
      "metadata": {
        "colab": {
          "base_uri": "https://localhost:8080/"
        },
        "id": "hnnG0KQ_MLsc",
        "outputId": "54bd7518-0dc6-4280-fc6a-70b7fd90d31b"
      },
      "outputs": [
        {
          "name": "stdout",
          "output_type": "stream",
          "text": [
            "tensor([[0.3562, 0.4432, 0.5803, 0.5671],\n",
            "        [0.8840, 0.6996, 0.2418, 0.3213],\n",
            "        [0.0653, 0.9840, 0.3358, 0.3230]]) \n",
            "\n",
            "tensor([[5.3562, 5.4432, 5.5803, 5.5671],\n",
            "        [5.8840, 5.6996, 5.2418, 5.3213],\n",
            "        [5.0653, 5.9840, 5.3358, 5.3230]])\n"
          ]
        }
      ],
      "source": [
        "\"\"\" In-place operations Operations that have a _ suffix are in-place operations.\n",
        "For example: x.copy_(y), x.t_(), will change x. \"\"\"\n",
        "\n",
        "print(tensor, \"\\n\")\n",
        "tensor.add_(5)\n",
        "print(tensor)"
      ]
    },
    {
      "cell_type": "code",
      "execution_count": null,
      "metadata": {
        "colab": {
          "base_uri": "https://localhost:8080/"
        },
        "id": "0YTjrrpAMLvx",
        "outputId": "937fec0d-73c5-4215-8494-f477b144aa2e"
      },
      "outputs": [
        {
          "name": "stdout",
          "output_type": "stream",
          "text": [
            "tz is : tensor([1., 1., 1., 1., 1.])\n",
            "nz is : [1. 1. 1. 1. 1.]\n",
            "type n is <class 'numpy.ndarray'>\n"
          ]
        }
      ],
      "source": [
        "tz = torch.ones(5)\n",
        "print(f\"tz is : {tz}\")\n",
        "nz = tz.numpy()\n",
        "print(f\"nz is : {nz}\")\n",
        "print(\"type n is {}\".format(type(nz)))"
      ]
    },
    {
      "cell_type": "code",
      "execution_count": null,
      "metadata": {
        "colab": {
          "base_uri": "https://localhost:8080/"
        },
        "id": "LL4L-5g8MLyU",
        "outputId": "b2c2fab0-0dad-4d91-a437-9e790ba93a82"
      },
      "outputs": [
        {
          "name": "stdout",
          "output_type": "stream",
          "text": [
            "tz new: tensor([2., 2., 2., 2., 2.])\n",
            "nz new: [2. 2. 2. 2. 2.]\n"
          ]
        }
      ],
      "source": [
        "\"\"\" Add 1 to each element.\n",
        "N.B.\n",
        "=> also the numpy array 'nz' change! \"\"\"\n",
        "tz.add_(1)\n",
        "print(f\"tz new: {tz}\")\n",
        "print(f\"nz new: {nz}\")  # also the ndarray change!"
      ]
    },
    {
      "cell_type": "code",
      "execution_count": null,
      "metadata": {
        "colab": {
          "base_uri": "https://localhost:8080/"
        },
        "id": "Wi70V-u2ML1u",
        "outputId": "c9ad4163-77ac-45c0-d394-298e2664ab77"
      },
      "outputs": [
        {
          "name": "stdout",
          "output_type": "stream",
          "text": [
            "t: tensor([6., 6., 6., 6., 6.])\n",
            "n: [6. 6. 6. 6. 6.]\n"
          ]
        }
      ],
      "source": [
        "\"\"\" Add 4 to each element.\n",
        "N.B.\n",
        "=> also the tensor 't' change! \"\"\"\n",
        "np.add(nz, 4, out=nz)\n",
        "print(f\"t: {tz}\")\n",
        "print(f\"n: {nz}\")"
      ]
    },
    {
      "cell_type": "markdown",
      "metadata": {
        "id": "euly2RHDL6Ml"
      },
      "source": [
        "<h2 style=\"color:#BF66F2 \">  Datasets </h2>"
      ]
    },
    {
      "cell_type": "code",
      "execution_count": null,
      "metadata": {
        "id": "7SftO5n_TpRQ"
      },
      "outputs": [],
      "source": [
        "training_data = datasets.FashionMNIST(\n",
        "    root=\"data\",\n",
        "    train=True,\n",
        "    download=True,\n",
        "    transform=ToTensor(),\n",
        ")\n",
        "\n",
        "test_data = datasets.FashionMNIST(\n",
        "    root=\"data\",\n",
        "    train=False,\n",
        "    download=True,\n",
        "    transform=ToTensor(),\n",
        ")"
      ]
    },
    {
      "cell_type": "code",
      "execution_count": null,
      "metadata": {
        "colab": {
          "base_uri": "https://localhost:8080/"
        },
        "id": "fwlEuVA9gpaT",
        "outputId": "509ca9ee-2533-4012-ec7a-659ec384e237"
      },
      "outputs": [
        {
          "name": "stdout",
          "output_type": "stream",
          "text": [
            "<class 'torchvision.datasets.mnist.FashionMNIST'>\n",
            "\n",
            "Dataset FashionMNIST\n",
            "    Number of datapoints: 60000\n",
            "    Root location: data\n",
            "    Split: Train\n",
            "    StandardTransform\n",
            "Transform: ToTensor()\n"
          ]
        }
      ],
      "source": [
        "print(type(training_data))\n",
        "print()\n",
        "print(training_data)"
      ]
    },
    {
      "cell_type": "code",
      "execution_count": null,
      "metadata": {
        "colab": {
          "base_uri": "https://localhost:8080/"
        },
        "id": "APVatDCiih6I",
        "outputId": "7d0a2b0e-434c-4145-915f-112e2d4dbcad"
      },
      "outputs": [
        {
          "name": "stdout",
          "output_type": "stream",
          "text": [
            "60000\n",
            "torch.Size([1, 28, 28])\n",
            "tensor([0., 0., 0., 0., 0., 0., 0., 0., 0., 0., 0., 0., 0., 0., 0., 0., 0., 0., 0., 0., 0., 0., 0., 0.,\n",
            "        0., 0., 0., 0.])\n"
          ]
        }
      ],
      "source": [
        "# Get the number of samples in the dataset\n",
        "dataset_size = len(training_data)\n",
        "sample = training_data[0]\n",
        "sample_size = sample[0].size()\n",
        "\n",
        "print(dataset_size)\n",
        "print(sample_size)\n",
        "print(training_data[0][0][0][0])"
      ]
    },
    {
      "cell_type": "markdown",
      "metadata": {
        "id": "uE1Kk8T4TEXQ"
      },
      "source": [
        "<h2 style=\"color:#BF66F2 \">  Training </h2>"
      ]
    },
    {
      "cell_type": "markdown",
      "metadata": {
        "id": "Meqg1cYKhr8L"
      },
      "source": [
        "<h3 style=\"color:#BF66F2 \">  Recap: </h3>\n",
        "<div style=\"margin-top:-8px;\">\n",
        "The DataLoader class takes a PyTorch dataset object and returns an iterator that can be used to iterate over the given dataset in batches of a specified size.\n",
        "</div>"
      ]
    },
    {
      "cell_type": "code",
      "execution_count": null,
      "metadata": {
        "id": "0arfIijdUCfq"
      },
      "outputs": [],
      "source": [
        "## Create DataLoaders\n",
        "train_ds = DataLoader(training_data, batch_size=64)\n",
        "test_ds = DataLoader(test_data, batch_size=64)"
      ]
    },
    {
      "cell_type": "code",
      "execution_count": null,
      "metadata": {
        "colab": {
          "base_uri": "https://localhost:8080/"
        },
        "id": "rHefePLJUiAZ",
        "outputId": "655fc3df-55b2-4268-d869-ad787d3ea47b"
      },
      "outputs": [
        {
          "name": "stdout",
          "output_type": "stream",
          "text": [
            "Shape of X [N,C,H,W]: torch.Size([64, 1, 28, 28])\n",
            "Shape of y: torch.Size([64]) torch.int64\n"
          ]
        }
      ],
      "source": [
        "for X, y in test_ds:\n",
        "    print(f\"Shape of X [N,C,H,W]: {X.shape}\")\n",
        "    print(f\"Shape of y: {y.shape} {y.dtype}\")\n",
        "    break"
      ]
    },
    {
      "cell_type": "code",
      "execution_count": null,
      "metadata": {
        "colab": {
          "base_uri": "https://localhost:8080/"
        },
        "id": "wxtksSmBUlaR",
        "outputId": "b67d4bc0-4ae4-43d3-8eb2-23f636ae7bbb"
      },
      "outputs": [
        {
          "data": {
            "text/plain": [
              "<torch.utils.data.dataloader.DataLoader at 0x7fb2dbd59ae0>"
            ]
          },
          "execution_count": 21,
          "metadata": {},
          "output_type": "execute_result"
        }
      ],
      "source": [
        "train_ds"
      ]
    },
    {
      "cell_type": "code",
      "execution_count": null,
      "metadata": {
        "colab": {
          "base_uri": "https://localhost:8080/"
        },
        "id": "e8zyZFIlU3lB",
        "outputId": "85a77a9f-3807-4b42-8fab-4b05d042f76a"
      },
      "outputs": [
        {
          "data": {
            "text/plain": [
              "Dataset FashionMNIST\n",
              "    Number of datapoints: 60000\n",
              "    Root location: data\n",
              "    Split: Train\n",
              "    StandardTransform\n",
              "Transform: ToTensor()"
            ]
          },
          "execution_count": 22,
          "metadata": {},
          "output_type": "execute_result"
        }
      ],
      "source": [
        "training_data"
      ]
    },
    {
      "cell_type": "markdown",
      "metadata": {
        "id": "flInNrZqhr8P"
      },
      "source": [
        "DataLoader options:\n",
        "<div style=\"margin-top: -18px;\">\n",
        "    \n",
        "- dataset\n",
        "- batch_size (int): how many samples per batch to load (default: 1)\n",
        "- shuffle (bool): to reshuffle in every epoch (default: False)\n",
        "- sampler (Sampler or Iterable): defines the strategy to draw\n",
        "- batch_sampler (Sampler or Iterable): like :attr:'sampler', but\n",
        "    returns a batch of indices at a time.\n",
        "- num_workers (int): how many subprocesses to use for data loading.\n",
        "- collate_fn (Callable): merges a list of samples to form a\n",
        "    mini-batch of Tensor(s).\n",
        "- pin_memory (bool): If True, the data loader will copy Tensors\n",
        "    into device/CUDA pinned memory before returning them.\n",
        "- drop_last (bool): set to True to drop the last incomplete batch,\n",
        "    if the dataset size is not divisible by the batch size.\n",
        "- timeout (numeric): if positive, the timeout value for collecting a batch from workers.\n",
        "- worker_init_fn (Callable): If not ''None'', this will be called on each worker subprocess with the worker id.\n",
        "- generator (torch.Generator): If not None, RandomSampler will generate\n",
        "random indexes and multiprocessing <br> to generate 'base_seed' for workers.\n",
        "</div>        "
      ]
    },
    {
      "cell_type": "markdown",
      "metadata": {
        "id": "_Am51LdYhr8Q"
      },
      "source": [
        "<h3 style=\"color:#BF66F2 \">  Recap: </h3>\n",
        "<div style=\"margin-top: -8px;\">\n",
        "%%capture magic <br>\n",
        "Used to capture the output and prevent it from being displayed.\n",
        "</div>"
      ]
    },
    {
      "cell_type": "code",
      "execution_count": null,
      "metadata": {
        "id": "kmR7DuEQU8v4"
      },
      "outputs": [],
      "source": [
        "%%capture magic\n",
        "\"\"\" Get a list of tuples, where each tuple represents a single sample in the test_data dataset.\n",
        "The first element of each tuple is the image tensor and the second element is the label tensor.\n",
        "\"\"\"\n",
        "print(list(torch.utils.data.DataLoader(test_data)))"
      ]
    },
    {
      "cell_type": "code",
      "execution_count": null,
      "metadata": {
        "colab": {
          "base_uri": "https://localhost:8080/"
        },
        "id": "m-oVp6lnVJ0h",
        "outputId": "4a4c2cb1-682d-4db3-e2e9-dea3726f7781"
      },
      "outputs": [
        {
          "name": "stdout",
          "output_type": "stream",
          "text": [
            "[tensor([0.]), tensor([0.]), tensor([0.]), tensor([0.]), tensor([0.]), tensor([0.]), tensor([0.]), tensor([0.]), tensor([0.]), tensor([0.]), tensor([0.]), tensor([0.]), tensor([0.]), tensor([0.]), tensor([0.]), tensor([0.]), tensor([0.]), tensor([0.]), tensor([0.]), tensor([0.]), tensor([0.]), tensor([0.]), tensor([0.]), tensor([0.]), tensor([0.]), tensor([0.]), tensor([0.]), tensor([0.])]\n"
          ]
        }
      ],
      "source": [
        "%config NotebookApp.iopub_data_rate_limit=100000000\n",
        "\n",
        "print(list(torch.utils.data.DataLoader(test_data[0][0][0][0])))"
      ]
    },
    {
      "cell_type": "markdown",
      "metadata": {
        "id": "GTJPQQvihr8S"
      },
      "source": [
        "<h3 style=\"color:#BF66F2 \">  Recap: </h3>\n",
        "<div style=\"margin-top: -8px;\">\n",
        "Itertools islice() method can be used to slice an iterable in a manner similar to lists, but without actually converting the iterable to a list.\n",
        "</div>"
      ]
    },
    {
      "cell_type": "code",
      "execution_count": null,
      "metadata": {
        "colab": {
          "base_uri": "https://localhost:8080/"
        },
        "id": "JxUxw6sfEcre",
        "outputId": "1a1bc2a3-9d00-4cac-eca5-90e9f4829e63"
      },
      "outputs": [
        {
          "name": "stdout",
          "output_type": "stream",
          "text": [
            "tensor([0., 0., 0., 0., 0., 0., 0., 0., 0., 0., 0., 0., 0., 0., 0., 0., 0., 0., 0., 0., 0., 0., 0., 0.,\n",
            "        0., 0., 0., 0.])\n"
          ]
        }
      ],
      "source": [
        "\"\"\" Create DataLoader and slice it \"\"\"\n",
        "data_loader = torch.utils.data.DataLoader(test_data)\n",
        "res = list(itertools.islice(data_loader, 5))\n",
        "print(res[0][0][0][0][0])"
      ]
    },
    {
      "cell_type": "code",
      "execution_count": null,
      "metadata": {
        "id": "ez1A9Oamhr8T",
        "outputId": "c55153bd-a65b-40e8-be42-20fad2a58495"
      },
      "outputs": [
        {
          "name": "stdout",
          "output_type": "stream",
          "text": [
            "tensor([[0., 0., 0., 0., 0., 0., 0., 0., 0., 0., 0., 0., 0., 0., 0., 0., 0., 0., 0., 0., 0., 0., 0., 0.,\n",
            "         0., 0., 0., 0.],\n",
            "        [0., 0., 0., 0., 0., 0., 0., 0., 0., 0., 0., 0., 0., 0., 0., 0., 0., 0., 0., 0., 0., 0., 0., 0.,\n",
            "         0., 0., 0., 0.]])\n"
          ]
        }
      ],
      "source": [
        "for batch in data_loader:\n",
        "    print(batch[0][0][0][:2])\n",
        "    break"
      ]
    },
    {
      "cell_type": "code",
      "execution_count": null,
      "metadata": {
        "id": "x9EYPj5ghr8U",
        "outputId": "00b04890-faa4-47e4-c22a-4b00bb94c7ed"
      },
      "outputs": [
        {
          "data": {
            "text/plain": [
              "tensor([0., 0., 0., 0., 0., 0., 0., 0., 0., 0., 0., 0., 0., 0., 0., 0., 0., 0., 0., 0., 0., 0., 0., 0.,\n",
              "        0., 0., 0., 0.])"
            ]
          },
          "execution_count": 42,
          "metadata": {},
          "output_type": "execute_result"
        }
      ],
      "source": [
        "flattened_data = list(itertools.chain(*data_loader))\n",
        "flattened_data[0][0][0][0]"
      ]
    },
    {
      "cell_type": "code",
      "execution_count": null,
      "metadata": {
        "id": "nRSpk3Xghr8V",
        "outputId": "5b2a98f6-7e2d-4665-f427-e5ab3f0453b7"
      },
      "outputs": [
        {
          "data": {
            "text/plain": [
              "20000"
            ]
          },
          "execution_count": 45,
          "metadata": {},
          "output_type": "execute_result"
        }
      ],
      "source": [
        "num_samples = len(list(itertools.chain(*data_loader)))\n",
        "num_samples"
      ]
    },
    {
      "cell_type": "code",
      "execution_count": null,
      "metadata": {
        "id": "G35eUKY2hr8W",
        "outputId": "730f2e94-1c16-4249-e1b9-2c4f5420a76b"
      },
      "outputs": [
        {
          "name": "stdout",
          "output_type": "stream",
          "text": [
            "Batch 0: [tensor([[[[0.0000, 0.0000, 0.0000, 0.0000, 0.0000, 0.0000, 0.0000, 0.0000,\n",
            "           0.0000, 0.0000, 0.0000, 0.0000, 0.0000, 0.0000, 0.0000, 0.0000,\n",
            "           0.0000, 0.0000, 0.0000, 0.0000, 0.0000, 0.0000, 0.0000, 0.0000,\n",
            "           0.0000, 0.0000, 0.0000, 0.0000],\n",
            "          [0.0000, 0.0000, 0.0000, 0.0000, 0.0000, 0.0000, 0.0000, 0.0000,\n",
            "           0.0000, 0.0000, 0.0000, 0.0000, 0.0000, 0.0000, 0.0000, 0.0000,\n",
            "           0.0000, 0.0000, 0.0000, 0.0000, 0.0000, 0.0000, 0.0000, 0.0000,\n",
            "           0.0000, 0.0000, 0.0000, 0.0000],\n",
            "          [0.0000, 0.0000, 0.0000, 0.0000, 0.0000, 0.0000, 0.0000, 0.0000,\n",
            "           0.0000, 0.0000, 0.0000, 0.0000, 0.0000, 0.0000, 0.0000, 0.0000,\n",
            "           0.0000, 0.0000, 0.0000, 0.0000, 0.0000, 0.0000, 0.0000, 0.0000,\n",
            "           0.0000, 0.0000, 0.0000, 0.0000],\n",
            "          [0.0000, 0.0000, 0.0000, 0.0000, 0.0000, 0.0000, 0.0000, 0.0000,\n",
            "           0.0000, 0.0000, 0.0000, 0.0000, 0.0000, 0.0000, 0.0000, 0.0000,\n",
            "           0.0000, 0.0000, 0.0000, 0.0000, 0.0000, 0.0000, 0.0000, 0.0000,\n",
            "           0.0000, 0.0000, 0.0000, 0.0000],\n",
            "          [0.0000, 0.0000, 0.0000, 0.0000, 0.0000, 0.0000, 0.0000, 0.0000,\n",
            "           0.0000, 0.0000, 0.0000, 0.0000, 0.0000, 0.0000, 0.0000, 0.0000,\n",
            "           0.0000, 0.0000, 0.0000, 0.0000, 0.0000, 0.0000, 0.0000, 0.0000,\n",
            "           0.0000, 0.0000, 0.0000, 0.0000],\n",
            "          [0.0000, 0.0000, 0.0000, 0.0000, 0.0000, 0.0000, 0.0000, 0.0000,\n",
            "           0.0000, 0.0000, 0.0000, 0.0000, 0.0000, 0.0000, 0.0000, 0.0000,\n",
            "           0.0000, 0.0000, 0.0000, 0.0000, 0.0000, 0.0000, 0.0000, 0.0000,\n",
            "           0.0000, 0.0000, 0.0000, 0.0000],\n",
            "          [0.0000, 0.0000, 0.0000, 0.0000, 0.0000, 0.0000, 0.0000, 0.0000,\n",
            "           0.0000, 0.0000, 0.0000, 0.0000, 0.0000, 0.0000, 0.0000, 0.0000,\n",
            "           0.0000, 0.0000, 0.0000, 0.0000, 0.0000, 0.0000, 0.0000, 0.0000,\n",
            "           0.0000, 0.0000, 0.0000, 0.0000],\n",
            "          [0.0000, 0.0000, 0.0000, 0.0000, 0.0000, 0.0000, 0.0000, 0.0000,\n",
            "           0.0000, 0.0000, 0.0000, 0.0000, 0.0000, 0.0000, 0.0000, 0.0000,\n",
            "           0.0000, 0.0000, 0.0000, 0.0118, 0.0039, 0.0000, 0.0000, 0.0275,\n",
            "           0.0000, 0.1451, 0.0000, 0.0000],\n",
            "          [0.0000, 0.0000, 0.0000, 0.0000, 0.0000, 0.0000, 0.0000, 0.0000,\n",
            "           0.0000, 0.0000, 0.0000, 0.0000, 0.0000, 0.0039, 0.0078, 0.0000,\n",
            "           0.1059, 0.3294, 0.0431, 0.0000, 0.0000, 0.0000, 0.0000, 0.0000,\n",
            "           0.0000, 0.4667, 0.0000, 0.0000],\n",
            "          [0.0000, 0.0000, 0.0000, 0.0000, 0.0000, 0.0000, 0.0000, 0.0000,\n",
            "           0.0000, 0.0000, 0.0000, 0.0000, 0.0000, 0.0039, 0.0000, 0.0000,\n",
            "           0.3451, 0.5608, 0.4314, 0.0000, 0.0000, 0.0000, 0.0000, 0.0863,\n",
            "           0.3647, 0.4157, 0.0000, 0.0000],\n",
            "          [0.0000, 0.0000, 0.0000, 0.0000, 0.0000, 0.0000, 0.0000, 0.0000,\n",
            "           0.0000, 0.0000, 0.0000, 0.0000, 0.0000, 0.0157, 0.0000, 0.2078,\n",
            "           0.5059, 0.4706, 0.5765, 0.6863, 0.6157, 0.6510, 0.5294, 0.6039,\n",
            "           0.6588, 0.5490, 0.0000, 0.0000],\n",
            "          [0.0000, 0.0000, 0.0000, 0.0000, 0.0000, 0.0000, 0.0000, 0.0000,\n",
            "           0.0000, 0.0000, 0.0000, 0.0000, 0.0078, 0.0000, 0.0431, 0.5373,\n",
            "           0.5098, 0.5020, 0.6275, 0.6902, 0.6235, 0.6549, 0.6980, 0.5843,\n",
            "           0.5922, 0.5647, 0.0000, 0.0000],\n",
            "          [0.0000, 0.0000, 0.0000, 0.0000, 0.0000, 0.0000, 0.0039, 0.0000,\n",
            "           0.0078, 0.0039, 0.0000, 0.0118, 0.0000, 0.0000, 0.4510, 0.4471,\n",
            "           0.4157, 0.5373, 0.6588, 0.6000, 0.6118, 0.6471, 0.6549, 0.5608,\n",
            "           0.6157, 0.6196, 0.0431, 0.0000],\n",
            "          [0.0000, 0.0000, 0.0000, 0.0000, 0.0039, 0.0000, 0.0000, 0.0000,\n",
            "           0.0000, 0.0000, 0.0118, 0.0000, 0.0000, 0.3490, 0.5451, 0.3529,\n",
            "           0.3686, 0.6000, 0.5843, 0.5137, 0.5922, 0.6627, 0.6745, 0.5608,\n",
            "           0.6235, 0.6627, 0.1882, 0.0000],\n",
            "          [0.0000, 0.0000, 0.0000, 0.0000, 0.0000, 0.0000, 0.0078, 0.0157,\n",
            "           0.0039, 0.0000, 0.0000, 0.0000, 0.3843, 0.5333, 0.4314, 0.4275,\n",
            "           0.4314, 0.6353, 0.5294, 0.5647, 0.5843, 0.6235, 0.6549, 0.5647,\n",
            "           0.6196, 0.6627, 0.4667, 0.0000],\n",
            "          [0.0000, 0.0000, 0.0078, 0.0078, 0.0039, 0.0078, 0.0000, 0.0000,\n",
            "           0.0000, 0.0000, 0.1020, 0.4235, 0.4588, 0.3882, 0.4353, 0.4588,\n",
            "           0.5333, 0.6118, 0.5255, 0.6039, 0.6039, 0.6118, 0.6275, 0.5529,\n",
            "           0.5765, 0.6118, 0.6980, 0.0000],\n",
            "          [0.0118, 0.0000, 0.0000, 0.0000, 0.0000, 0.0000, 0.0000, 0.0824,\n",
            "           0.2078, 0.3608, 0.4588, 0.4353, 0.4039, 0.4510, 0.5059, 0.5255,\n",
            "           0.5608, 0.6039, 0.6471, 0.6667, 0.6039, 0.5922, 0.6039, 0.5608,\n",
            "           0.5412, 0.5882, 0.6471, 0.1686],\n",
            "          [0.0000, 0.0000, 0.0902, 0.2118, 0.2549, 0.2980, 0.3333, 0.4627,\n",
            "           0.5020, 0.4824, 0.4353, 0.4431, 0.4627, 0.4980, 0.4902, 0.5451,\n",
            "           0.5216, 0.5333, 0.6275, 0.5490, 0.6078, 0.6314, 0.5647, 0.6078,\n",
            "           0.6745, 0.6314, 0.7412, 0.2431],\n",
            "          [0.0000, 0.2667, 0.3686, 0.3529, 0.4353, 0.4471, 0.4353, 0.4471,\n",
            "           0.4510, 0.4980, 0.5294, 0.5333, 0.5608, 0.4941, 0.4980, 0.5922,\n",
            "           0.6039, 0.5608, 0.5804, 0.4902, 0.6353, 0.6353, 0.5647, 0.5412,\n",
            "           0.6000, 0.6353, 0.7686, 0.2275],\n",
            "          [0.2745, 0.6627, 0.5059, 0.4078, 0.3843, 0.3922, 0.3686, 0.3804,\n",
            "           0.3843, 0.4000, 0.4235, 0.4157, 0.4667, 0.4706, 0.5059, 0.5843,\n",
            "           0.6118, 0.6549, 0.7451, 0.7451, 0.7686, 0.7765, 0.7765, 0.7333,\n",
            "           0.7725, 0.7412, 0.7216, 0.1412],\n",
            "          [0.0627, 0.4941, 0.6706, 0.7373, 0.7373, 0.7216, 0.6706, 0.6000,\n",
            "           0.5294, 0.4706, 0.4941, 0.4980, 0.5725, 0.7255, 0.7647, 0.8196,\n",
            "           0.8157, 1.0000, 0.8196, 0.6941, 0.9608, 0.9882, 0.9843, 0.9843,\n",
            "           0.9686, 0.8627, 0.8078, 0.1922],\n",
            "          [0.0000, 0.0000, 0.0000, 0.0471, 0.2627, 0.4157, 0.6431, 0.7255,\n",
            "           0.7804, 0.8235, 0.8275, 0.8235, 0.8157, 0.7451, 0.5882, 0.3216,\n",
            "           0.0314, 0.0000, 0.0000, 0.0000, 0.6980, 0.8157, 0.7373, 0.6863,\n",
            "           0.6353, 0.6196, 0.5922, 0.0431],\n",
            "          [0.0000, 0.0000, 0.0000, 0.0000, 0.0000, 0.0000, 0.0000, 0.0000,\n",
            "           0.0000, 0.0000, 0.0000, 0.0000, 0.0000, 0.0000, 0.0000, 0.0000,\n",
            "           0.0000, 0.0000, 0.0000, 0.0000, 0.0000, 0.0000, 0.0000, 0.0000,\n",
            "           0.0000, 0.0000, 0.0000, 0.0000],\n",
            "          [0.0000, 0.0000, 0.0000, 0.0000, 0.0000, 0.0000, 0.0000, 0.0000,\n",
            "           0.0000, 0.0000, 0.0000, 0.0000, 0.0000, 0.0000, 0.0000, 0.0000,\n",
            "           0.0000, 0.0000, 0.0000, 0.0000, 0.0000, 0.0000, 0.0000, 0.0000,\n",
            "           0.0000, 0.0000, 0.0000, 0.0000],\n",
            "          [0.0000, 0.0000, 0.0000, 0.0000, 0.0000, 0.0000, 0.0000, 0.0000,\n",
            "           0.0000, 0.0000, 0.0000, 0.0000, 0.0000, 0.0000, 0.0000, 0.0000,\n",
            "           0.0000, 0.0000, 0.0000, 0.0000, 0.0000, 0.0000, 0.0000, 0.0000,\n",
            "           0.0000, 0.0000, 0.0000, 0.0000],\n",
            "          [0.0000, 0.0000, 0.0000, 0.0000, 0.0000, 0.0000, 0.0000, 0.0000,\n",
            "           0.0000, 0.0000, 0.0000, 0.0000, 0.0000, 0.0000, 0.0000, 0.0000,\n",
            "           0.0000, 0.0000, 0.0000, 0.0000, 0.0000, 0.0000, 0.0000, 0.0000,\n",
            "           0.0000, 0.0000, 0.0000, 0.0000],\n",
            "          [0.0000, 0.0000, 0.0000, 0.0000, 0.0000, 0.0000, 0.0000, 0.0000,\n",
            "           0.0000, 0.0000, 0.0000, 0.0000, 0.0000, 0.0000, 0.0000, 0.0000,\n",
            "           0.0000, 0.0000, 0.0000, 0.0000, 0.0000, 0.0000, 0.0000, 0.0000,\n",
            "           0.0000, 0.0000, 0.0000, 0.0000],\n",
            "          [0.0000, 0.0000, 0.0000, 0.0000, 0.0000, 0.0000, 0.0000, 0.0000,\n",
            "           0.0000, 0.0000, 0.0000, 0.0000, 0.0000, 0.0000, 0.0000, 0.0000,\n",
            "           0.0000, 0.0000, 0.0000, 0.0000, 0.0000, 0.0000, 0.0000, 0.0000,\n",
            "           0.0000, 0.0000, 0.0000, 0.0000]]]]), tensor([9])]\n",
            "Batch 1: [tensor([[[[0.0000, 0.0000, 0.0000, 0.0000, 0.0000, 0.0000, 0.0000, 0.0000,\n",
            "           0.0000, 0.0000, 0.0510, 0.2627, 0.0000, 0.0000, 0.0000, 0.0000,\n",
            "           0.1961, 0.1490, 0.0000, 0.0000, 0.0000, 0.0000, 0.0000, 0.0000,\n",
            "           0.0000, 0.0000, 0.0000, 0.0000],\n",
            "          [0.0000, 0.0000, 0.0000, 0.0000, 0.0000, 0.0000, 0.0000, 0.0314,\n",
            "           0.4706, 0.8196, 0.8863, 0.9686, 0.9294, 1.0000, 1.0000, 1.0000,\n",
            "           0.9686, 0.9333, 0.9216, 0.6745, 0.2824, 0.0000, 0.0000, 0.0000,\n",
            "           0.0000, 0.0000, 0.0000, 0.0000],\n",
            "          [0.0000, 0.0000, 0.0000, 0.0000, 0.0000, 0.0000, 0.5373, 0.9373,\n",
            "           0.9882, 0.9529, 0.9176, 0.8980, 0.9333, 0.9569, 0.9647, 0.9412,\n",
            "           0.9020, 0.9098, 0.9373, 0.9725, 0.9843, 0.7608, 0.0000, 0.0000,\n",
            "           0.0000, 0.0000, 0.0000, 0.0000],\n",
            "          [0.0000, 0.0000, 0.0000, 0.0000, 0.0000, 0.4000, 1.0000, 0.9059,\n",
            "           0.8941, 0.8902, 0.8941, 0.9137, 0.9020, 0.9020, 0.8980, 0.8941,\n",
            "           0.9098, 0.9098, 0.9059, 0.8902, 0.8784, 0.9882, 0.7020, 0.0000,\n",
            "           0.0000, 0.0000, 0.0000, 0.0000],\n",
            "          [0.0000, 0.0000, 0.0000, 0.0000, 0.0000, 0.9137, 0.9451, 0.8980,\n",
            "           0.9059, 1.0000, 1.0000, 0.9333, 0.9059, 0.8902, 0.9333, 0.9647,\n",
            "           0.8941, 0.9020, 0.8902, 0.9176, 0.9216, 0.8980, 0.9451, 0.0784,\n",
            "           0.0000, 0.0000, 0.0000, 0.0000],\n",
            "          [0.0000, 0.0000, 0.0000, 0.0000, 0.0000, 0.9725, 0.9451, 0.9059,\n",
            "           1.0000, 0.5843, 0.1843, 0.9882, 0.8941, 1.0000, 0.9490, 0.8471,\n",
            "           0.9333, 0.9098, 1.0000, 0.8941, 0.8627, 0.9176, 0.9804, 0.2118,\n",
            "           0.0000, 0.0000, 0.0000, 0.0000],\n",
            "          [0.0000, 0.0000, 0.0000, 0.0000, 0.0000, 1.0000, 0.9412, 0.9098,\n",
            "           1.0000, 0.0588, 0.0000, 1.0000, 0.9294, 0.7490, 0.0000, 0.0000,\n",
            "           0.8392, 1.0000, 0.0510, 0.4824, 1.0000, 0.9176, 0.9882, 0.4471,\n",
            "           0.0000, 0.0000, 0.0000, 0.0000],\n",
            "          [0.0000, 0.0000, 0.0000, 0.0000, 0.0235, 1.0000, 0.9333, 0.9373,\n",
            "           1.0000, 0.6941, 0.0000, 1.0000, 1.0000, 0.0000, 0.5098, 0.4549,\n",
            "           0.1843, 0.2549, 0.1686, 0.1451, 1.0000, 0.9255, 0.9765, 0.6353,\n",
            "           0.0000, 0.0000, 0.0000, 0.0000],\n",
            "          [0.0000, 0.0000, 0.0000, 0.0000, 0.1255, 1.0000, 0.9255, 0.9608,\n",
            "           1.0000, 0.8000, 0.0000, 1.0000, 0.3294, 0.0000, 0.1451, 0.1098,\n",
            "           0.1216, 0.0000, 0.0980, 0.0510, 1.0000, 0.9255, 0.9765, 0.7804,\n",
            "           0.0000, 0.0000, 0.0000, 0.0000],\n",
            "          [0.0000, 0.0000, 0.0000, 0.0000, 0.2078, 1.0000, 0.9255, 0.9804,\n",
            "           0.9804, 0.9059, 0.0078, 1.0000, 0.0824, 0.0000, 0.8667, 1.0000,\n",
            "           0.9255, 0.2118, 0.9608, 0.7765, 0.9529, 0.9333, 0.9608, 0.8745,\n",
            "           0.0000, 0.0000, 0.0000, 0.0000],\n",
            "          [0.0000, 0.0000, 0.0000, 0.0000, 0.3137, 1.0000, 0.9294, 0.9804,\n",
            "           0.9412, 1.0000, 0.0000, 0.0000, 0.1529, 0.6157, 0.0000, 0.0000,\n",
            "           0.8431, 0.3686, 0.0784, 0.4941, 1.0000, 0.9294, 0.9373, 0.9804,\n",
            "           0.0000, 0.0000, 0.0000, 0.0000],\n",
            "          [0.0000, 0.0000, 0.0000, 0.0000, 0.3961, 1.0000, 0.9216, 0.9922,\n",
            "           0.9569, 0.9529, 0.5216, 0.5412, 0.8157, 1.0000, 0.7882, 0.8392,\n",
            "           1.0000, 0.9020, 0.0275, 0.6824, 1.0000, 0.9412, 0.9333, 1.0000,\n",
            "           0.0000, 0.0000, 0.0000, 0.0000],\n",
            "          [0.0000, 0.0000, 0.0000, 0.0000, 0.4941, 1.0000, 0.9137, 1.0000,\n",
            "           0.9725, 0.9137, 1.0000, 1.0000, 0.9412, 0.9098, 0.9529, 0.9529,\n",
            "           0.9059, 0.9843, 1.0000, 1.0000, 0.9961, 0.9529, 0.9333, 1.0000,\n",
            "           0.0118, 0.0000, 0.0000, 0.0000],\n",
            "          [0.0000, 0.0000, 0.0000, 0.0000, 0.5765, 1.0000, 0.9137, 0.9765,\n",
            "           0.7098, 0.9529, 0.8902, 0.8784, 0.9020, 0.9176, 0.9020, 0.9020,\n",
            "           0.9216, 0.8941, 0.9216, 0.8706, 0.8118, 1.0000, 0.9255, 1.0000,\n",
            "           0.1373, 0.0000, 0.0000, 0.0000],\n",
            "          [0.0000, 0.0000, 0.0000, 0.0000, 0.6392, 1.0000, 0.9608, 0.8667,\n",
            "           0.3373, 1.0000, 0.9137, 0.9137, 0.9216, 0.9255, 0.9176, 0.9176,\n",
            "           0.9176, 0.9098, 0.9490, 0.9059, 0.4902, 1.0000, 0.9255, 1.0000,\n",
            "           0.2157, 0.0000, 0.0000, 0.0000],\n",
            "          [0.0000, 0.0000, 0.0000, 0.0000, 0.7098, 0.9961, 1.0000, 0.7843,\n",
            "           0.2706, 1.0000, 0.8941, 0.9098, 0.9176, 0.9216, 0.9176, 0.9176,\n",
            "           0.9137, 0.9216, 0.9451, 0.9294, 0.2745, 1.0000, 0.9216, 0.9647,\n",
            "           0.2235, 0.0000, 0.0000, 0.0000],\n",
            "          [0.0000, 0.0000, 0.0000, 0.0000, 0.7725, 0.9686, 1.0000, 0.7373,\n",
            "           0.4314, 1.0000, 0.8784, 0.9137, 0.9176, 0.9176, 0.9176, 0.9176,\n",
            "           0.9176, 0.9176, 0.9412, 0.9922, 0.2706, 1.0000, 0.9255, 0.9725,\n",
            "           0.3020, 0.0000, 0.0000, 0.0000],\n",
            "          [0.0000, 0.0000, 0.0000, 0.0000, 0.7843, 0.9647, 1.0000, 0.5843,\n",
            "           0.5686, 1.0000, 0.8745, 0.9216, 0.9176, 0.9216, 0.9216, 0.9216,\n",
            "           0.9176, 0.9294, 0.9137, 1.0000, 0.1843, 1.0000, 0.9373, 0.9765,\n",
            "           0.3843, 0.0000, 0.0000, 0.0000],\n",
            "          [0.0000, 0.0000, 0.0000, 0.0000, 0.8000, 0.9529, 1.0000, 0.4353,\n",
            "           0.6784, 1.0000, 0.8902, 0.9216, 0.9216, 0.9255, 0.9216, 0.9216,\n",
            "           0.9216, 0.9373, 0.8980, 1.0000, 0.0745, 0.8902, 0.9647, 0.9765,\n",
            "           0.4314, 0.0000, 0.0000, 0.0000],\n",
            "          [0.0000, 0.0000, 0.0000, 0.0000, 0.7686, 0.9412, 1.0000, 0.4275,\n",
            "           0.8353, 0.9804, 0.8980, 0.9216, 0.9216, 0.9255, 0.9216, 0.9294,\n",
            "           0.9255, 0.9294, 0.8863, 1.0000, 0.2157, 0.7961, 0.9843, 0.9608,\n",
            "           0.4706, 0.0000, 0.0000, 0.0000],\n",
            "          [0.0000, 0.0000, 0.0000, 0.0000, 0.7529, 0.9529, 1.0000, 0.4471,\n",
            "           0.9098, 0.9412, 0.9098, 0.9216, 0.9216, 0.9255, 0.9176, 0.9294,\n",
            "           0.9255, 0.9216, 0.8980, 1.0000, 0.5255, 0.6706, 0.9882, 0.9569,\n",
            "           0.5373, 0.0000, 0.0000, 0.0000],\n",
            "          [0.0000, 0.0000, 0.0000, 0.0000, 0.7412, 0.9843, 1.0000, 0.6039,\n",
            "           0.9333, 0.9137, 0.9255, 0.9176, 0.9216, 0.9255, 0.9216, 0.9333,\n",
            "           0.9255, 0.9216, 0.9098, 1.0000, 0.6510, 0.4902, 1.0000, 0.9529,\n",
            "           0.5569, 0.0000, 0.0000, 0.0000],\n",
            "          [0.0000, 0.0000, 0.0000, 0.0000, 0.7176, 0.9882, 1.0000, 0.6706,\n",
            "           0.9686, 0.9098, 0.9176, 0.9176, 0.9137, 0.9137, 0.9098, 0.9176,\n",
            "           0.9137, 0.9176, 0.9137, 0.9412, 0.8745, 0.5020, 1.0000, 0.9490,\n",
            "           0.5922, 0.0000, 0.0000, 0.0000],\n",
            "          [0.0000, 0.0000, 0.0000, 0.0000, 0.6980, 0.9529, 1.0000, 0.2235,\n",
            "           0.9333, 0.9451, 0.9333, 0.9333, 0.9333, 0.9294, 0.9255, 0.9294,\n",
            "           0.9294, 0.9412, 0.9294, 0.9961, 0.6902, 0.2039, 1.0000, 0.9373,\n",
            "           0.6157, 0.0000, 0.0000, 0.0000],\n",
            "          [0.0000, 0.0000, 0.0000, 0.0000, 0.7373, 0.9412, 0.9804, 0.2431,\n",
            "           0.8549, 1.0000, 0.8627, 0.8706, 0.8706, 0.8706, 0.8745, 0.8745,\n",
            "           0.8784, 0.8706, 0.8549, 1.0000, 0.6039, 0.1255, 1.0000, 0.9255,\n",
            "           0.7373, 0.0000, 0.0000, 0.0000],\n",
            "          [0.0000, 0.0000, 0.0000, 0.0000, 0.5098, 0.9608, 0.9490, 0.0941,\n",
            "           0.0000, 0.0000, 0.0000, 0.0000, 0.0000, 0.0000, 0.0000, 0.0000,\n",
            "           0.0000, 0.0000, 0.0000, 0.0000, 0.0000, 0.1333, 0.9490, 0.9569,\n",
            "           0.5294, 0.0000, 0.0000, 0.0000],\n",
            "          [0.0000, 0.0000, 0.0000, 0.0000, 0.2980, 1.0000, 0.9765, 0.0863,\n",
            "           0.0000, 0.0000, 0.0000, 0.0000, 0.0000, 0.0000, 0.0000, 0.0000,\n",
            "           0.0000, 0.0000, 0.0000, 0.0000, 0.0000, 0.1529, 0.9765, 1.0000,\n",
            "           0.4824, 0.0000, 0.0000, 0.0000],\n",
            "          [0.0000, 0.0000, 0.0000, 0.0000, 0.1922, 0.8039, 0.7725, 0.0431,\n",
            "           0.0000, 0.0157, 0.0039, 0.0078, 0.0078, 0.0078, 0.0078, 0.0078,\n",
            "           0.0078, 0.0078, 0.0078, 0.0118, 0.0000, 0.0118, 0.6824, 0.7412,\n",
            "           0.2627, 0.0000, 0.0000, 0.0000]]]]), tensor([2])]\n",
            "Batch 2: [tensor([[[[0.0000, 0.0000, 0.0000, 0.0000, 0.0000, 0.0000, 0.0000, 0.0000,\n",
            "           0.0039, 0.0000, 0.2627, 0.6941, 0.5059, 0.6000, 0.4588, 0.5059,\n",
            "           0.5725, 0.5529, 0.6863, 0.0000, 0.0000, 0.0000, 0.0000, 0.0000,\n",
            "           0.0000, 0.0000, 0.0000, 0.0000],\n",
            "          [0.0000, 0.0000, 0.0000, 0.0000, 0.0000, 0.0000, 0.0000, 0.0000,\n",
            "           0.0078, 0.0000, 0.7686, 1.0000, 1.0000, 1.0000, 0.9451, 0.9843,\n",
            "           1.0000, 0.9608, 1.0000, 0.2980, 0.0000, 0.0000, 0.0000, 0.0000,\n",
            "           0.0000, 0.0000, 0.0000, 0.0000],\n",
            "          [0.0000, 0.0000, 0.0000, 0.0000, 0.0000, 0.0000, 0.0000, 0.0000,\n",
            "           0.0000, 0.0000, 0.9529, 0.9294, 0.8510, 0.8941, 0.9059, 0.8706,\n",
            "           0.8549, 0.8588, 1.0000, 0.4549, 0.0000, 0.0000, 0.0000, 0.0000,\n",
            "           0.0000, 0.0000, 0.0000, 0.0000],\n",
            "          [0.0000, 0.0000, 0.0000, 0.0000, 0.0000, 0.0000, 0.0000, 0.0000,\n",
            "           0.0000, 0.0000, 1.0000, 0.9216, 0.9059, 0.9137, 0.8863, 0.8824,\n",
            "           0.8980, 0.8706, 1.0000, 0.5686, 0.0000, 0.0000, 0.0000, 0.0000,\n",
            "           0.0000, 0.0000, 0.0000, 0.0000],\n",
            "          [0.0000, 0.0000, 0.0000, 0.0000, 0.0000, 0.0000, 0.0000, 0.0000,\n",
            "           0.0000, 0.0902, 1.0000, 0.9020, 0.8980, 0.9137, 0.8980, 0.8824,\n",
            "           0.8902, 0.8667, 0.9451, 0.6549, 0.0000, 0.0000, 0.0000, 0.0000,\n",
            "           0.0000, 0.0000, 0.0000, 0.0000],\n",
            "          [0.0000, 0.0000, 0.0000, 0.0000, 0.0000, 0.0000, 0.0000, 0.0000,\n",
            "           0.0000, 0.2627, 1.0000, 0.8824, 0.9176, 0.9059, 0.8863, 0.8902,\n",
            "           0.8941, 0.8784, 0.9176, 0.7333, 0.0000, 0.0000, 0.0000, 0.0000,\n",
            "           0.0000, 0.0000, 0.0000, 0.0000],\n",
            "          [0.0000, 0.0000, 0.0000, 0.0000, 0.0000, 0.0000, 0.0000, 0.0000,\n",
            "           0.0000, 0.4471, 0.9765, 0.8510, 0.9216, 0.9333, 0.9608, 0.8902,\n",
            "           0.8902, 0.8824, 0.9451, 0.6902, 0.0000, 0.0000, 0.0000, 0.0000,\n",
            "           0.0000, 0.0000, 0.0000, 0.0000],\n",
            "          [0.0000, 0.0000, 0.0000, 0.0000, 0.0000, 0.0000, 0.0000, 0.0000,\n",
            "           0.0000, 0.6549, 0.9686, 0.8902, 0.9059, 0.9804, 0.7843, 0.9725,\n",
            "           0.9059, 0.8784, 0.9843, 0.5765, 0.0000, 0.0000, 0.0000, 0.0000,\n",
            "           0.0000, 0.0000, 0.0000, 0.0000],\n",
            "          [0.0000, 0.0000, 0.0000, 0.0000, 0.0000, 0.0000, 0.0000, 0.0000,\n",
            "           0.0000, 0.8157, 0.9490, 0.8824, 0.9529, 0.8824, 0.0000, 1.0000,\n",
            "           0.9137, 0.8863, 1.0000, 0.5059, 0.0000, 0.0000, 0.0000, 0.0000,\n",
            "           0.0000, 0.0000, 0.0000, 0.0000],\n",
            "          [0.0000, 0.0000, 0.0000, 0.0000, 0.0000, 0.0000, 0.0000, 0.0000,\n",
            "           0.0000, 0.8745, 0.9333, 0.8745, 1.0000, 0.6314, 0.0000, 1.0000,\n",
            "           0.9255, 0.8745, 1.0000, 0.5294, 0.0000, 0.0000, 0.0000, 0.0000,\n",
            "           0.0000, 0.0000, 0.0000, 0.0000],\n",
            "          [0.0000, 0.0000, 0.0000, 0.0000, 0.0000, 0.0000, 0.0000, 0.0000,\n",
            "           0.0000, 0.9608, 0.9216, 0.8706, 1.0000, 0.2824, 0.0000, 0.9725,\n",
            "           0.9961, 0.8510, 1.0000, 0.5686, 0.0000, 0.0000, 0.0000, 0.0000,\n",
            "           0.0000, 0.0000, 0.0000, 0.0000],\n",
            "          [0.0000, 0.0000, 0.0000, 0.0000, 0.0000, 0.0000, 0.0000, 0.0000,\n",
            "           0.0000, 1.0000, 0.9137, 0.8863, 1.0000, 0.0275, 0.0000, 0.7490,\n",
            "           0.9725, 0.8627, 1.0000, 0.4941, 0.0000, 0.0000, 0.0000, 0.0000,\n",
            "           0.0000, 0.0000, 0.0000, 0.0000],\n",
            "          [0.0000, 0.0000, 0.0000, 0.0000, 0.0000, 0.0000, 0.0000, 0.0000,\n",
            "           0.0000, 1.0000, 0.9137, 0.9059, 0.9843, 0.0000, 0.0000, 0.6235,\n",
            "           0.9843, 0.8667, 1.0000, 0.4353, 0.0000, 0.0000, 0.0000, 0.0000,\n",
            "           0.0000, 0.0000, 0.0000, 0.0000],\n",
            "          [0.0000, 0.0000, 0.0000, 0.0000, 0.0000, 0.0000, 0.0000, 0.0000,\n",
            "           0.0000, 1.0000, 0.9098, 0.9255, 0.8471, 0.0000, 0.0000, 0.5137,\n",
            "           0.9922, 0.8627, 1.0000, 0.4353, 0.0000, 0.0000, 0.0000, 0.0000,\n",
            "           0.0000, 0.0000, 0.0000, 0.0000],\n",
            "          [0.0000, 0.0000, 0.0000, 0.0000, 0.0000, 0.0000, 0.0000, 0.0000,\n",
            "           0.0000, 1.0000, 0.8941, 0.9529, 0.6745, 0.0000, 0.0000, 0.2235,\n",
            "           0.9765, 0.8706, 1.0000, 0.4353, 0.0000, 0.0000, 0.0000, 0.0000,\n",
            "           0.0000, 0.0000, 0.0000, 0.0000],\n",
            "          [0.0000, 0.0000, 0.0000, 0.0000, 0.0000, 0.0000, 0.0000, 0.0000,\n",
            "           0.0000, 1.0000, 0.9020, 0.9569, 0.5451, 0.0000, 0.0000, 0.0392,\n",
            "           1.0000, 0.8902, 1.0000, 0.3922, 0.0000, 0.0000, 0.0000, 0.0000,\n",
            "           0.0000, 0.0000, 0.0000, 0.0000],\n",
            "          [0.0000, 0.0000, 0.0000, 0.0000, 0.0000, 0.0000, 0.0000, 0.0000,\n",
            "           0.0000, 0.8902, 0.9294, 0.9490, 0.4431, 0.0000, 0.0000, 0.0235,\n",
            "           1.0000, 0.9020, 1.0000, 0.3490, 0.0000, 0.0000, 0.0000, 0.0000,\n",
            "           0.0000, 0.0000, 0.0000, 0.0000],\n",
            "          [0.0000, 0.0000, 0.0000, 0.0000, 0.0000, 0.0000, 0.0000, 0.0000,\n",
            "           0.0000, 0.8000, 0.9373, 0.9608, 0.5922, 0.0000, 0.0000, 0.0000,\n",
            "           1.0000, 0.8902, 1.0000, 0.3882, 0.0000, 0.0000, 0.0000, 0.0000,\n",
            "           0.0000, 0.0000, 0.0000, 0.0000],\n",
            "          [0.0000, 0.0000, 0.0000, 0.0000, 0.0000, 0.0000, 0.0000, 0.0000,\n",
            "           0.0000, 0.5922, 0.9608, 0.9333, 0.7765, 0.0000, 0.0000, 0.0000,\n",
            "           1.0000, 0.9176, 1.0000, 0.3608, 0.0000, 0.0000, 0.0000, 0.0000,\n",
            "           0.0000, 0.0000, 0.0000, 0.0000],\n",
            "          [0.0000, 0.0000, 0.0000, 0.0000, 0.0000, 0.0000, 0.0000, 0.0000,\n",
            "           0.0000, 0.3490, 0.9725, 0.9137, 0.9725, 0.0000, 0.0000, 0.0000,\n",
            "           0.9882, 0.9294, 1.0000, 0.3529, 0.0000, 0.0000, 0.0000, 0.0000,\n",
            "           0.0000, 0.0000, 0.0000, 0.0000],\n",
            "          [0.0000, 0.0000, 0.0000, 0.0000, 0.0000, 0.0000, 0.0000, 0.0000,\n",
            "           0.0000, 0.1216, 0.9412, 0.8980, 0.8863, 0.0000, 0.0000, 0.0000,\n",
            "           0.9373, 0.9333, 1.0000, 0.3608, 0.0000, 0.0000, 0.0000, 0.0000,\n",
            "           0.0000, 0.0000, 0.0000, 0.0000],\n",
            "          [0.0000, 0.0000, 0.0000, 0.0000, 0.0000, 0.0000, 0.0000, 0.0000,\n",
            "           0.0000, 0.0000, 0.8863, 0.9137, 0.9294, 0.1333, 0.0000, 0.0000,\n",
            "           0.9176, 0.9333, 1.0000, 0.3725, 0.0000, 0.0000, 0.0000, 0.0000,\n",
            "           0.0000, 0.0000, 0.0000, 0.0000],\n",
            "          [0.0000, 0.0000, 0.0000, 0.0000, 0.0000, 0.0000, 0.0000, 0.0000,\n",
            "           0.0000, 0.0000, 0.9137, 0.9255, 0.9569, 0.2667, 0.0000, 0.0000,\n",
            "           0.8196, 0.9451, 0.9294, 0.3843, 0.0000, 0.0000, 0.0000, 0.0000,\n",
            "           0.0000, 0.0000, 0.0000, 0.0000],\n",
            "          [0.0000, 0.0000, 0.0000, 0.0000, 0.0000, 0.0000, 0.0000, 0.0000,\n",
            "           0.0039, 0.0000, 0.5961, 0.9490, 0.9608, 0.5020, 0.0000, 0.0000,\n",
            "           0.7765, 0.9451, 0.9333, 0.3176, 0.0000, 0.0000, 0.0000, 0.0000,\n",
            "           0.0000, 0.0000, 0.0000, 0.0000],\n",
            "          [0.0000, 0.0000, 0.0000, 0.0000, 0.0000, 0.0000, 0.0000, 0.0000,\n",
            "           0.0078, 0.0000, 0.2863, 0.9647, 0.9451, 0.8275, 0.0000, 0.0000,\n",
            "           0.7922, 0.9412, 0.9294, 0.2902, 0.0000, 0.0000, 0.0000, 0.0000,\n",
            "           0.0000, 0.0000, 0.0000, 0.0000],\n",
            "          [0.0000, 0.0000, 0.0000, 0.0000, 0.0000, 0.0000, 0.0000, 0.0000,\n",
            "           0.0157, 0.0000, 0.0000, 0.8980, 0.9255, 0.8196, 0.0000, 0.0000,\n",
            "           0.6196, 0.9686, 0.9333, 0.3882, 0.0000, 0.0000, 0.0000, 0.0000,\n",
            "           0.0000, 0.0000, 0.0000, 0.0000],\n",
            "          [0.0000, 0.0000, 0.0000, 0.0000, 0.0000, 0.0000, 0.0000, 0.0000,\n",
            "           0.0039, 0.0000, 0.0000, 0.7804, 1.0000, 0.9686, 0.2275, 0.0000,\n",
            "           0.6314, 1.0000, 0.9882, 0.4667, 0.0000, 0.0000, 0.0000, 0.0000,\n",
            "           0.0000, 0.0000, 0.0000, 0.0000],\n",
            "          [0.0000, 0.0000, 0.0000, 0.0000, 0.0000, 0.0000, 0.0000, 0.0000,\n",
            "           0.0000, 0.0000, 0.0000, 0.3843, 0.6235, 0.2784, 0.0000, 0.0000,\n",
            "           0.2667, 0.6902, 0.6431, 0.2275, 0.0000, 0.0000, 0.0000, 0.0000,\n",
            "           0.0000, 0.0000, 0.0000, 0.0000]]]]), tensor([1])]\n",
            "Batch 3: [tensor([[[[0.0000, 0.0000, 0.0000, 0.0000, 0.0000, 0.0000, 0.0000, 0.0000,\n",
            "           0.0000, 0.0824, 0.4824, 0.4235, 0.3882, 0.3882, 0.3294, 0.3255,\n",
            "           0.3373, 0.3608, 0.2745, 0.0235, 0.0000, 0.0000, 0.0000, 0.0000,\n",
            "           0.0000, 0.0000, 0.0000, 0.0000],\n",
            "          [0.0000, 0.0000, 0.0000, 0.0000, 0.0000, 0.0000, 0.0000, 0.0000,\n",
            "           0.0000, 0.4157, 0.9725, 0.9020, 0.8039, 0.9373, 0.8314, 0.6824,\n",
            "           0.8431, 0.8118, 0.5451, 0.3647, 0.0000, 0.0000, 0.0000, 0.0000,\n",
            "           0.0000, 0.0000, 0.0000, 0.0000],\n",
            "          [0.0000, 0.0000, 0.0000, 0.0000, 0.0000, 0.0000, 0.0000, 0.0000,\n",
            "           0.0000, 0.4980, 0.8471, 0.8353, 0.8039, 0.8392, 0.8392, 0.7569,\n",
            "           0.8980, 0.7882, 0.6471, 0.3882, 0.0000, 0.0000, 0.0000, 0.0000,\n",
            "           0.0000, 0.0000, 0.0000, 0.0000],\n",
            "          [0.0000, 0.0000, 0.0000, 0.0000, 0.0000, 0.0000, 0.0000, 0.0000,\n",
            "           0.0000, 0.5725, 0.7647, 0.8980, 0.8314, 0.8941, 0.8431, 0.8196,\n",
            "           0.9020, 0.8392, 0.6431, 0.2118, 0.0000, 0.0000, 0.0000, 0.0000,\n",
            "           0.0000, 0.0000, 0.0000, 0.0000],\n",
            "          [0.0000, 0.0000, 0.0000, 0.0000, 0.0000, 0.0000, 0.0000, 0.0000,\n",
            "           0.0000, 0.4510, 0.7569, 0.8902, 0.8196, 0.8510, 0.8196, 0.8314,\n",
            "           0.8078, 0.8784, 0.6471, 0.0549, 0.0000, 0.0000, 0.0000, 0.0000,\n",
            "           0.0000, 0.0000, 0.0000, 0.0000],\n",
            "          [0.0000, 0.0000, 0.0000, 0.0000, 0.0000, 0.0000, 0.0000, 0.0000,\n",
            "           0.0000, 0.4471, 0.5804, 0.7137, 0.7176, 0.8549, 0.8863, 0.8941,\n",
            "           0.7451, 0.8078, 0.5137, 0.0392, 0.0000, 0.0000, 0.0000, 0.0000,\n",
            "           0.0000, 0.0000, 0.0000, 0.0000],\n",
            "          [0.0000, 0.0000, 0.0000, 0.0000, 0.0000, 0.0000, 0.0000, 0.0000,\n",
            "           0.0000, 0.4392, 0.4667, 0.4157, 0.4118, 0.7412, 0.8157, 0.9843,\n",
            "           0.6471, 0.5451, 0.4078, 0.0627, 0.0000, 0.0000, 0.0000, 0.0000,\n",
            "           0.0000, 0.0000, 0.0000, 0.0000],\n",
            "          [0.0000, 0.0000, 0.0000, 0.0000, 0.0000, 0.0000, 0.0000, 0.0000,\n",
            "           0.0000, 0.2784, 0.5412, 0.3059, 0.2784, 0.5765, 0.3647, 0.9647,\n",
            "           0.5333, 0.4235, 0.3412, 0.0275, 0.0000, 0.0000, 0.0000, 0.0000,\n",
            "           0.0000, 0.0000, 0.0000, 0.0000],\n",
            "          [0.0000, 0.0000, 0.0000, 0.0000, 0.0000, 0.0000, 0.0000, 0.0000,\n",
            "           0.0000, 0.3176, 0.4980, 0.4000, 0.3333, 0.5765, 0.3804, 0.9922,\n",
            "           0.5412, 0.3922, 0.3255, 0.0588, 0.0000, 0.0000, 0.0000, 0.0000,\n",
            "           0.0000, 0.0000, 0.0000, 0.0000],\n",
            "          [0.0000, 0.0000, 0.0000, 0.0000, 0.0000, 0.0000, 0.0000, 0.0000,\n",
            "           0.0000, 0.2745, 0.5373, 0.3922, 0.4353, 0.5922, 0.1922, 0.9882,\n",
            "           0.5765, 0.4157, 0.3373, 0.0392, 0.0000, 0.0000, 0.0000, 0.0000,\n",
            "           0.0000, 0.0000, 0.0000, 0.0000],\n",
            "          [0.0000, 0.0000, 0.0000, 0.0000, 0.0000, 0.0000, 0.0000, 0.0000,\n",
            "           0.0000, 0.2392, 0.5294, 0.3451, 0.3922, 0.5451, 0.0000, 0.9882,\n",
            "           0.6118, 0.3804, 0.3098, 0.0196, 0.0000, 0.0000, 0.0000, 0.0000,\n",
            "           0.0000, 0.0000, 0.0000, 0.0000],\n",
            "          [0.0000, 0.0000, 0.0000, 0.0000, 0.0000, 0.0000, 0.0000, 0.0000,\n",
            "           0.0000, 0.2275, 0.5098, 0.3412, 0.3882, 0.4980, 0.0000, 0.9569,\n",
            "           0.6353, 0.3373, 0.2941, 0.0078, 0.0000, 0.0000, 0.0000, 0.0000,\n",
            "           0.0000, 0.0000, 0.0000, 0.0000],\n",
            "          [0.0000, 0.0000, 0.0000, 0.0000, 0.0000, 0.0000, 0.0000, 0.0000,\n",
            "           0.0000, 0.1490, 0.5059, 0.3490, 0.4118, 0.4667, 0.0000, 0.9059,\n",
            "           0.6392, 0.3059, 0.1922, 0.0000, 0.0000, 0.0000, 0.0000, 0.0000,\n",
            "           0.0000, 0.0000, 0.0000, 0.0000],\n",
            "          [0.0000, 0.0000, 0.0000, 0.0000, 0.0000, 0.0000, 0.0000, 0.0000,\n",
            "           0.0000, 0.0510, 0.5294, 0.3529, 0.4510, 0.4863, 0.0000, 0.9216,\n",
            "           0.5961, 0.2510, 0.2000, 0.0000, 0.0000, 0.0000, 0.0000, 0.0000,\n",
            "           0.0000, 0.0000, 0.0000, 0.0000],\n",
            "          [0.0000, 0.0000, 0.0000, 0.0000, 0.0000, 0.0000, 0.0000, 0.0000,\n",
            "           0.0000, 0.0118, 0.4902, 0.3059, 0.4588, 0.5569, 0.0000, 0.8784,\n",
            "           0.6235, 0.2235, 0.1255, 0.0000, 0.0000, 0.0000, 0.0000, 0.0000,\n",
            "           0.0000, 0.0000, 0.0000, 0.0000],\n",
            "          [0.0000, 0.0000, 0.0000, 0.0000, 0.0000, 0.0000, 0.0000, 0.0000,\n",
            "           0.0000, 0.0000, 0.4471, 0.3137, 0.4745, 0.4745, 0.0000, 0.7333,\n",
            "           0.6588, 0.2431, 0.1569, 0.0000, 0.0000, 0.0000, 0.0000, 0.0000,\n",
            "           0.0000, 0.0000, 0.0000, 0.0000],\n",
            "          [0.0000, 0.0000, 0.0000, 0.0000, 0.0000, 0.0000, 0.0000, 0.0000,\n",
            "           0.0000, 0.0000, 0.4627, 0.3843, 0.4902, 0.4235, 0.0000, 0.5686,\n",
            "           0.6784, 0.2980, 0.2078, 0.0000, 0.0000, 0.0000, 0.0000, 0.0000,\n",
            "           0.0000, 0.0000, 0.0000, 0.0000],\n",
            "          [0.0000, 0.0000, 0.0000, 0.0000, 0.0000, 0.0000, 0.0000, 0.0000,\n",
            "           0.0000, 0.0000, 0.5373, 0.3176, 0.6706, 0.2667, 0.0000, 0.3725,\n",
            "           0.7804, 0.1922, 0.2000, 0.0000, 0.0000, 0.0000, 0.0000, 0.0000,\n",
            "           0.0000, 0.0000, 0.0000, 0.0000],\n",
            "          [0.0000, 0.0000, 0.0000, 0.0000, 0.0000, 0.0000, 0.0000, 0.0000,\n",
            "           0.0000, 0.0000, 0.7843, 0.6745, 0.9608, 0.0314, 0.0000, 0.2000,\n",
            "           0.8510, 0.6118, 0.4314, 0.0000, 0.0000, 0.0000, 0.0000, 0.0000,\n",
            "           0.0000, 0.0000, 0.0000, 0.0000],\n",
            "          [0.0000, 0.0000, 0.0000, 0.0000, 0.0000, 0.0000, 0.0000, 0.0000,\n",
            "           0.0000, 0.0039, 0.7961, 0.8196, 0.8196, 0.0000, 0.0000, 0.1843,\n",
            "           0.9098, 0.8275, 0.6314, 0.0000, 0.0000, 0.0000, 0.0000, 0.0000,\n",
            "           0.0000, 0.0000, 0.0000, 0.0000],\n",
            "          [0.0000, 0.0000, 0.0000, 0.0000, 0.0000, 0.0000, 0.0000, 0.0000,\n",
            "           0.0000, 0.0000, 0.8196, 0.8549, 0.8275, 0.0000, 0.0000, 0.2078,\n",
            "           0.9255, 0.8863, 0.6471, 0.0000, 0.0000, 0.0000, 0.0000, 0.0000,\n",
            "           0.0000, 0.0000, 0.0000, 0.0000],\n",
            "          [0.0000, 0.0000, 0.0000, 0.0000, 0.0000, 0.0000, 0.0000, 0.0000,\n",
            "           0.0000, 0.0000, 0.7961, 0.8745, 0.8118, 0.0000, 0.0000, 0.1882,\n",
            "           0.9137, 0.9059, 0.5529, 0.0000, 0.0000, 0.0000, 0.0000, 0.0000,\n",
            "           0.0000, 0.0000, 0.0000, 0.0000],\n",
            "          [0.0000, 0.0000, 0.0000, 0.0000, 0.0000, 0.0000, 0.0000, 0.0000,\n",
            "           0.0000, 0.0000, 0.7608, 0.9059, 0.7804, 0.0000, 0.0000, 0.1647,\n",
            "           0.9176, 0.9137, 0.5333, 0.0000, 0.0000, 0.0000, 0.0000, 0.0000,\n",
            "           0.0000, 0.0000, 0.0000, 0.0000],\n",
            "          [0.0000, 0.0000, 0.0000, 0.0000, 0.0000, 0.0000, 0.0000, 0.0000,\n",
            "           0.0000, 0.0000, 0.8549, 0.9176, 0.7882, 0.0000, 0.0000, 0.1176,\n",
            "           0.9098, 0.9216, 0.4980, 0.0000, 0.0000, 0.0000, 0.0000, 0.0000,\n",
            "           0.0000, 0.0000, 0.0000, 0.0000],\n",
            "          [0.0000, 0.0000, 0.0000, 0.0000, 0.0000, 0.0000, 0.0000, 0.0000,\n",
            "           0.0000, 0.0000, 0.7647, 0.9412, 0.7725, 0.0000, 0.0000, 0.0510,\n",
            "           0.8980, 0.9373, 0.4118, 0.0000, 0.0000, 0.0000, 0.0000, 0.0000,\n",
            "           0.0000, 0.0000, 0.0000, 0.0000],\n",
            "          [0.0000, 0.0000, 0.0000, 0.0000, 0.0000, 0.0000, 0.0000, 0.0000,\n",
            "           0.0000, 0.0000, 0.4784, 0.9686, 0.7647, 0.0000, 0.0000, 0.0000,\n",
            "           0.8431, 0.9294, 0.2902, 0.0000, 0.0000, 0.0000, 0.0000, 0.0000,\n",
            "           0.0000, 0.0000, 0.0000, 0.0000],\n",
            "          [0.0000, 0.0000, 0.0000, 0.0000, 0.0000, 0.0000, 0.0000, 0.0000,\n",
            "           0.0000, 0.0000, 0.4471, 1.0000, 0.7529, 0.0000, 0.0000, 0.0000,\n",
            "           0.8784, 0.9725, 0.1804, 0.0000, 0.0000, 0.0000, 0.0000, 0.0000,\n",
            "           0.0000, 0.0000, 0.0000, 0.0000],\n",
            "          [0.0000, 0.0000, 0.0000, 0.0000, 0.0000, 0.0000, 0.0000, 0.0000,\n",
            "           0.0000, 0.0000, 0.0784, 0.6824, 0.3961, 0.0000, 0.0000, 0.0000,\n",
            "           0.5725, 0.5725, 0.0039, 0.0000, 0.0000, 0.0000, 0.0000, 0.0000,\n",
            "           0.0000, 0.0000, 0.0000, 0.0000]]]]), tensor([1])]\n"
          ]
        }
      ],
      "source": [
        "\"\"\" last cell \"\"\"\n",
        "for i, batch in enumerate(data_loader):\n",
        "    print(f\"Batch {i}: {batch}\")\n",
        "    if i==3:\n",
        "        break"
      ]
    }
  ],
  "metadata": {
    "accelerator": "GPU",
    "colab": {
      "gpuType": "T4",
      "provenance": []
    },
    "kernelspec": {
      "display_name": "Python 3",
      "name": "python3"
    },
    "language_info": {
      "codemirror_mode": {
        "name": "ipython",
        "version": 3
      },
      "file_extension": ".py",
      "mimetype": "text/x-python",
      "name": "python",
      "nbconvert_exporter": "python",
      "pygments_lexer": "ipython3",
      "version": "3.10.9"
    }
  },
  "nbformat": 4,
  "nbformat_minor": 0
}