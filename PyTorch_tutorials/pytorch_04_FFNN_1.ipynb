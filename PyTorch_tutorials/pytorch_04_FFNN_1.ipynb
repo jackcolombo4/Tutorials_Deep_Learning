{
 "cells": [
  {
   "cell_type": "markdown",
   "metadata": {},
   "source": [
    "<div style=\"line-height:1.2;\">\n",
    "\n",
    "<h1 style=\"color:#BF66F2; margin-bottom: 0.3em;\">Feedforward Neural Networks in PyTorch 1</h1>\n",
    "\n",
    "<h4 style=\"margin-top: 0.3em; margin-bottom: 1em;\">Example of a NN composed by Fully Connected Layers. Focus on graph visualization.</h4>\n",
    "\n",
    "<div style=\"line-height:1.4; margin-bottom: 0.5em;\">\n",
    "    <h3 style=\"color: lightblue; display: inline; margin-right: 0.5em;\">Keywords:</h3> \n",
    "    ignore CUDA warnings + torch.device + tqdm + torch.no_grad() context-manager + torchlens + netron + filterwarnings + torchviz / networkx / graphviz + torchview draw_graph\n",
    "</div>\n",
    "\n",
    "</div>\n"
   ]
  },
  {
   "cell_type": "code",
   "execution_count": 1,
   "metadata": {},
   "outputs": [],
   "source": [
    "# Ignore CUDA warnings when GPU is not in use\n",
    "import os\n",
    "os.environ['TF_CPP_MIN_LOG_LEVEL'] = '2'  "
   ]
  },
  {
   "cell_type": "code",
   "execution_count": 1,
   "metadata": {},
   "outputs": [],
   "source": [
    "import torch\n",
    "import warnings\n",
    "import graphviz\n",
    "\n",
    "from torch import nn  \n",
    "from tqdm import tqdm\n",
    "from torch import optim  \n",
    "import torch.nn.functional as F  \n",
    "from torch.utils.data import DataLoader\n",
    "import torchvision\n",
    "import torchvision.datasets as datasets  \n",
    "import torchvision.transforms as transforms  \n",
    "\n",
    "from torchviz import make_dot\n",
    "import torchlens as tl\n",
    "from torchview import draw_graph\n",
    "\n",
    "import netron\n",
    "import networkx as nx\n",
    "\n",
    "from torchsummary import summary"
   ]
  },
  {
   "cell_type": "markdown",
   "metadata": {},
   "source": [
    "<h3 style=\"color:#BF66F2 \"> Recap: </h3>\n",
    "<div style=\"margin-top: -8px;\">\n",
    "The tqdm module is used to show progress bars in the console/notebook to track loops or iterations over data loaders. <br>\n",
    "The progress bar can be costumized (description text, bar length, updating interval etc.).\n",
    "</div>"
   ]
  },
  {
   "cell_type": "code",
   "execution_count": 4,
   "metadata": {},
   "outputs": [
    {
     "data": {
      "text/plain": [
       "device(type='cpu')"
      ]
     },
     "execution_count": 4,
     "metadata": {},
     "output_type": "execute_result"
    }
   ],
   "source": [
    "try:\n",
    "    device = torch.device(\"cuda\" if torch.cuda.is_available() else \"cpu\")\n",
    "except Warning:\n",
    "    pass\n",
    "device"
   ]
  },
  {
   "cell_type": "code",
   "execution_count": 5,
   "metadata": {},
   "outputs": [],
   "source": [
    "class NN(nn.Module):\n",
    "    \"\"\" NN with two layers \n",
    "        - First: fully connected linear layer => take 784 nodes (input_size) and output 50 nodes\n",
    "        - Second: fully connected linear layer => takes 50 to 10 (num of classes)\n",
    "    \n",
    "    Args:\n",
    "        - Size of the input [=> 784 (28x28)]\n",
    "        - Number of classes we want to predict [=> 10 (0-9)]\n",
    "    \"\"\"    \n",
    "    def __init__(self, input_size, num_classes):\n",
    "        super(NN, self).__init__()\n",
    "        # Define the first layer \n",
    "        self.fc1 = nn.Linear(input_size, 50)\n",
    "        # Define the second layer \n",
    "        self.fc2 = nn.Linear(50, num_classes)\n",
    "\n",
    "    def forward(self, x):\n",
    "        \"\"\" Forward pass of the neural network.\\\\\n",
    "            A ReLU is added in between (since it has no parameters) => nn.functional (F)\n",
    "        \n",
    "        Parameters: \n",
    "            - Inputs (in this case images from MNIST)\n",
    "\n",
    "        Returns:\n",
    "            Output of the network\n",
    "        \"\"\"\n",
    "        # Apply ReLU activation function to the output of the first layer\n",
    "        x = F.relu(self.fc1(x))\n",
    "        # Pass the output of the first layer through the second layer\n",
    "        x = self.fc2(x)\n",
    "        return x"
   ]
  },
  {
   "cell_type": "markdown",
   "metadata": {},
   "source": [
    "<h3 style=\"color:#BF66F2 \"> Recap: torchsummary </h3>\n",
    "<div style=\"margin-top: -8px;\">\n",
    "Show layers, output shapes, and the number of parameters (similar to Keras' model.summary())."
   ]
  },
  {
   "cell_type": "code",
   "execution_count": 6,
   "metadata": {},
   "outputs": [
    {
     "name": "stdout",
     "output_type": "stream",
     "text": [
      "----------------------------------------------------------------\n",
      "        Layer (type)               Output Shape         Param #\n",
      "================================================================\n",
      "            Linear-1                   [-1, 50]          39,250\n",
      "            Linear-2                   [-1, 10]             510\n",
      "================================================================\n",
      "Total params: 39,760\n",
      "Trainable params: 39,760\n",
      "Non-trainable params: 0\n",
      "----------------------------------------------------------------\n",
      "Input size (MB): 0.00\n",
      "Forward/backward pass size (MB): 0.00\n",
      "Params size (MB): 0.15\n",
      "Estimated Total Size (MB): 0.16\n",
      "----------------------------------------------------------------\n"
     ]
    }
   ],
   "source": [
    "model = NN(784, 10)\n",
    "summary(model, input_size=(784,))"
   ]
  },
  {
   "cell_type": "code",
   "execution_count": 5,
   "metadata": {},
   "outputs": [],
   "source": [
    "\"\"\" Hyperparameters \"\"\"\n",
    "input_size = 784\n",
    "num_classes = 10\n",
    "learning_rate = 0.001\n",
    "batch_size = 64\n",
    "num_epochs = 3"
   ]
  },
  {
   "cell_type": "code",
   "execution_count": 6,
   "metadata": {},
   "outputs": [],
   "source": [
    "train_dataset = datasets.MNIST(root=\"dataset/\", train=True, transform=transforms.ToTensor(), download=True)\n",
    "test_dataset = datasets.MNIST(root=\"dataset/\", train=False, transform=transforms.ToTensor(), download=True)\n",
    "train_loader = DataLoader(dataset=train_dataset, batch_size=batch_size, shuffle=True)\n",
    "test_loader = DataLoader(dataset=test_dataset, batch_size=batch_size, shuffle=True)"
   ]
  },
  {
   "cell_type": "code",
   "execution_count": 7,
   "metadata": {},
   "outputs": [
    {
     "data": {
      "text/plain": [
       "NN(\n",
       "  (fc1): Linear(in_features=784, out_features=50, bias=True)\n",
       "  (fc2): Linear(in_features=50, out_features=10, bias=True)\n",
       ")"
      ]
     },
     "execution_count": 7,
     "metadata": {},
     "output_type": "execute_result"
    }
   ],
   "source": [
    "# Initialize network\n",
    "model = NN(input_size=input_size, num_classes=num_classes).to(device)\n",
    "model"
   ]
  },
  {
   "cell_type": "code",
   "execution_count": 8,
   "metadata": {},
   "outputs": [],
   "source": [
    "# Loss and optimizer\n",
    "criterion = nn.CrossEntropyLoss()\n",
    "optimizer = optim.Adam(model.parameters(), lr=learning_rate)"
   ]
  },
  {
   "cell_type": "code",
   "execution_count": 9,
   "metadata": {},
   "outputs": [
    {
     "name": "stderr",
     "output_type": "stream",
     "text": [
      "100%|██████████| 938/938 [00:12<00:00, 76.16it/s]\n",
      "100%|██████████| 938/938 [00:09<00:00, 96.08it/s] \n",
      "100%|██████████| 938/938 [00:11<00:00, 83.78it/s] \n"
     ]
    }
   ],
   "source": [
    "\"\"\" Training \"\"\"\n",
    "for epoch in range(num_epochs):\n",
    "    for batch_idx, (data, targets) in enumerate(tqdm(train_loader)):\n",
    "        ## Get data to cuda\n",
    "        data = data.to(device=device)\n",
    "        targets = targets.to(device=device)\n",
    "        ## Flatten the input images (from shape (batch_size, channels, height, width) to shape 1 = 1D array of pixel values)\n",
    "        data = data.reshape(data.shape[0], -1)  \n",
    "\n",
    "        ## Forward\n",
    "        scores = model(data)\n",
    "        loss = criterion(scores, targets)\n",
    "        # Backward\n",
    "        optimizer.zero_grad()\n",
    "        loss.backward()\n",
    "        # Optimizer\n",
    "        optimizer.step()"
   ]
  },
  {
   "cell_type": "code",
   "execution_count": 10,
   "metadata": {},
   "outputs": [],
   "source": [
    "def check_accuracy(loader, model):\n",
    "    \"\"\" Check accuracy of our trained model given a loader and a model.\n",
    "            \n",
    "    Parameters:\n",
    "        - loader for the dataset you want to check accuracy on [torch.utils.data.DataLoader]\n",
    "        - model you want to check accuracy on [nn.Module]\n",
    "\n",
    "    Details: \n",
    "        - ###* Avoid calculating and printing the results for the whole training set and test set! \n",
    "\n",
    "    Returns:\n",
    "        Accuracy of the model on the dataset given by the loader [float].\n",
    "    \"\"\"\n",
    "    num_correct, num_samples, count = 0, 0, 0\n",
    "    model.eval()\n",
    "\n",
    "    # No need to keep track of gradients \n",
    "    with torch.no_grad():\n",
    "        for x, y in loader:\n",
    "            x = x.to(device=device)\n",
    "            y = y.to(device=device)\n",
    "\n",
    "            # Flatten images\n",
    "            x = x.reshape(x.shape[0], -1)\n",
    "            # Forward pass  \n",
    "            scores = model(x)\n",
    "            _, predictions = scores.max(1)\n",
    "\n",
    "            num_correct += (predictions == y).sum()\n",
    "            num_samples += predictions.size(0)\n",
    "            print(f\"num_correct {num_correct}\")\n",
    "            print(f\"num_samples {num_samples}\")\n",
    "            \n",
    "            ###* Break out of the loop after printing the desired number of values\n",
    "            count += 1\n",
    "            if count >= 20:\n",
    "                break \n",
    "    model.train()\n",
    "    \n",
    "    return num_correct / num_samples"
   ]
  },
  {
   "cell_type": "code",
   "execution_count": 16,
   "metadata": {},
   "outputs": [
    {
     "name": "stdout",
     "output_type": "stream",
     "text": [
      "--> Accuracy on training set:\n",
      "num_correct 57\n",
      "num_samples 64\n",
      "num_correct 120\n",
      "num_samples 128\n",
      "num_correct 183\n",
      "num_samples 192\n",
      "num_correct 246\n",
      "num_samples 256\n",
      "num_correct 308\n",
      "num_samples 320\n",
      "num_correct 368\n",
      "num_samples 384\n",
      "num_correct 431\n",
      "num_samples 448\n",
      "num_correct 489\n",
      "num_samples 512\n",
      "num_correct 549\n",
      "num_samples 576\n",
      "num_correct 612\n",
      "num_samples 640\n",
      "num_correct 670\n",
      "num_samples 704\n",
      "num_correct 734\n",
      "num_samples 768\n",
      "num_correct 797\n",
      "num_samples 832\n",
      "num_correct 857\n",
      "num_samples 896\n",
      "num_correct 920\n",
      "num_samples 960\n",
      "num_correct 983\n",
      "num_samples 1024\n",
      "num_correct 1046\n",
      "num_samples 1088\n",
      "num_correct 1109\n",
      "num_samples 1152\n",
      "num_correct 1172\n",
      "num_samples 1216\n",
      "num_correct 1235\n",
      "num_samples 1280\n",
      "--> Accuracy on test set:\n",
      "num_correct 62\n",
      "num_samples 64\n",
      "num_correct 124\n",
      "num_samples 128\n",
      "num_correct 185\n",
      "num_samples 192\n",
      "num_correct 247\n",
      "num_samples 256\n",
      "num_correct 308\n",
      "num_samples 320\n",
      "num_correct 369\n",
      "num_samples 384\n",
      "num_correct 429\n",
      "num_samples 448\n",
      "num_correct 490\n",
      "num_samples 512\n",
      "num_correct 551\n",
      "num_samples 576\n",
      "num_correct 613\n",
      "num_samples 640\n",
      "num_correct 676\n",
      "num_samples 704\n",
      "num_correct 736\n",
      "num_samples 768\n",
      "num_correct 799\n",
      "num_samples 832\n",
      "num_correct 861\n",
      "num_samples 896\n",
      "num_correct 922\n",
      "num_samples 960\n",
      "num_correct 980\n",
      "num_samples 1024\n",
      "num_correct 1042\n",
      "num_samples 1088\n",
      "num_correct 1103\n",
      "num_samples 1152\n",
      "num_correct 1166\n",
      "num_samples 1216\n",
      "num_correct 1227\n",
      "num_samples 1280\n"
     ]
    }
   ],
   "source": [
    "print(\"--> Accuracy on training set:\")\n",
    "train_accuracy = check_accuracy(train_loader, model) * 100\n",
    "print(\"--> Accuracy on test set:\")\n",
    "test_accuracy = check_accuracy(test_loader, model) * 100"
   ]
  },
  {
   "cell_type": "markdown",
   "metadata": {},
   "source": [
    "<h3 style=\"color:#BF66F2 \"> Recap torchviz: </h3>\n",
    "<div style=\"margin-top: -8px;\">\n",
    "PyTorch visualization tool that creates a directed acyclic graph (DAG) of PyTorch operations, showing how tensors and operations are connected. \n",
    "</div>"
   ]
  },
  {
   "cell_type": "markdown",
   "metadata": {},
   "source": [
    "<div style=\"line-height:0.48\">\n",
    "<h2 style=\"color:#BF66F2 \">  Create graph manually with make_dot from torchviz </h2>\n",
    "</div>\n",
    "The graph is saved to a pdf file using the render() method. <br>"
   ]
  },
  {
   "cell_type": "code",
   "execution_count": 51,
   "metadata": {},
   "outputs": [
    {
     "data": {
      "text/plain": [
       "'graph.pdf'"
      ]
     },
     "execution_count": 51,
     "metadata": {},
     "output_type": "execute_result"
    }
   ],
   "source": [
    "# Pass a tensor as input\n",
    "x = torch.randn(1,784) \n",
    "# Forward pass through the model  \n",
    "y = model(x)\n",
    "\n",
    "# Generate the graph\n",
    "graph = make_dot(y, params=dict(list(model.named_parameters())))\n",
    "\n",
    "# Save to an SVG file \n",
    "graph.render('graph')"
   ]
  },
  {
   "cell_type": "markdown",
   "metadata": {},
   "source": [
    "<h2 style=\"color:#BF66F2 \">  Create graph manually with networkx </h2>"
   ]
  },
  {
   "cell_type": "markdown",
   "metadata": {},
   "source": [
    "<h3 style=\"color:#BF66F2 \"> Recap torchviz: </h3>\n",
    "<div style=\"margin-top: -8px;\">\n",
    "PyTorch visualization tool that creates a directed acyclic graph (DAG) of PyTorch operations, showing how tensors and operations are connected. <br>\n",
    "Drawing such a large graph might be computationally expensive and may not produce a very clear image due to the number of nodes and edges. <br>\n",
    "For such large graphs, it might be more meaningful to visualize subsets of nodes and edges.\n",
    "</div>"
   ]
  },
  {
   "cell_type": "code",
   "execution_count": 55,
   "metadata": {},
   "outputs": [
    {
     "data": {
      "image/png": "[encoded data removed]",
      "text/plain": [
       "<Figure size 640x480 with 1 Axes>"
      ]
     },
     "metadata": {},
     "output_type": "display_data"
    }
   ],
   "source": [
    "G = nx.DiGraph()\n",
    "\n",
    "# Add input node\n",
    "G.add_node(784) \n",
    "node_sizes = [784, 50, 10]\n",
    "# Add hidden layer nodes \n",
    "G.add_node(model.fc1)\n",
    "# Add output node\n",
    "G.add_node(10)\n",
    "\n",
    "# Add edges\n",
    "G.add_edge(784, model.fc1)\n",
    "G.add_edge(model.fc1, 10) \n",
    "\n",
    "nx.draw(G, node_size=node_sizes)"
   ]
  },
  {
   "cell_type": "code",
   "execution_count": 66,
   "metadata": {},
   "outputs": [
    {
     "data": {
      "image/png": "[encoded data removed]",
      "text/plain": [
       "<Figure size 640x480 with 1 Axes>"
      ]
     },
     "metadata": {},
     "output_type": "display_data"
    }
   ],
   "source": [
    "G = nx.DiGraph()\n",
    "\n",
    "# Add nodes in layers\n",
    "for i in range(784):\n",
    "    G.add_node(i, layer=\"Input\")\n",
    "\n",
    "start = 784  \n",
    "for i in range(50):\n",
    "    G.add_node(i+start, layer=\"Hidden\")\n",
    "\n",
    "start += 50\n",
    "for i in range(10): \n",
    "    G.add_node(i+start, layer=\"Output\")\n",
    "\n",
    "# # Add edges between layers\n",
    "# for i in range(784):\n",
    "#     G.add_edge(i, 784, layer=\"Input->Hidden\")\n",
    "\n",
    "# Add edges between Input and Hidden layers\n",
    "for i in range(784):\n",
    "    for j in range(784, 834):  # Nodes in the Hidden layer\n",
    "        G.add_edge(i, j, layer=\"Input->Hidden\")\n",
    "\n",
    "# for i in range(50):\n",
    "#     G.add_edge(i+784, 834, layer=\"Hidden->Output\")\n",
    "\n",
    "# Add edges between Hidden and Output layers\n",
    "for i in range(784, 834):  # Nodes in the Hidden layer\n",
    "    for j in range(834, 844):  # Nodes in the Output layer\n",
    "        G.add_edge(i, j, layer=\"Hidden->Output\")\n",
    "\n",
    "pos = nx.spring_layout(G)\n",
    "\n",
    "# Draw nodes\n",
    "nx.draw(G, pos, node_size=20)\n",
    "# Draw edges  \n",
    "edges = nx.draw_networkx_edges(G, pos, edge_color=\"black\")\n",
    "\n",
    "plt.savefig('graph2.png')"
   ]
  },
  {
   "cell_type": "markdown",
   "metadata": {},
   "source": [
    "<div style=\"line-height:0.48\">\n",
    "<h2 style=\"color:#BF66F2 \">  Create graph with netron and onnx </h2>\n",
    "</div>"
   ]
  },
  {
   "cell_type": "code",
   "execution_count": 37,
   "metadata": {},
   "outputs": [
    {
     "name": "stdout",
     "output_type": "stream",
     "text": [
      "============= Diagnostic Run torch.onnx.export version 2.0.1+cu117 =============\n",
      "verbose: False, log level: Level.ERROR\n",
      "======================= 0 NONE 0 NOTE 0 WARNING 0 ERROR ========================\n",
      "\n",
      "Serving 'model.onnx' at http://localhost:8080\n"
     ]
    },
    {
     "data": {
      "text/plain": [
       "('localhost', 8080)"
      ]
     },
     "execution_count": 37,
     "metadata": {},
     "output_type": "execute_result"
    }
   ],
   "source": [
    "\"\"\" Visualize the model graph online. It automatically open your localhost to show the model network on the Netron site. \"\"\"\n",
    "torch.onnx.export(model, torch.randn(1,784), 'model.onnx')\n",
    "\n",
    "netron.start('model.onnx')"
   ]
  },
  {
   "cell_type": "markdown",
   "metadata": {},
   "source": [
    "<div style=\"line-height:0.48\">\n",
    "<h2 style=\"color:#BF66F2 \">  Create graph with draw_graph from torchview </h2>\n",
    "</div>"
   ]
  },
  {
   "cell_type": "code",
   "execution_count": 44,
   "metadata": {},
   "outputs": [
    {
     "data": {
      "image/svg+xml": [
       "<?xml version=\"1.0\" encoding=\"UTF-8\" standalone=\"no\"?>\n",
       "<!DOCTYPE svg PUBLIC \"-//W3C//DTD SVG 1.1//EN\"\n",
       " \"http://www.w3.org/Graphics/SVG/1.1/DTD/svg11.dtd\">\n",
       "<!-- Generated by graphviz version 2.50.0 (0)\n",
       " -->\n",
       "<!-- Title: model Pages: 1 -->\n",
       "<svg width=\"150pt\" height=\"342pt\"\n",
       " viewBox=\"0.00 0.00 150.00 342.00\" xmlns=\"http://www.w3.org/2000/svg\" xmlns:xlink=\"http://www.w3.org/1999/xlink\">\n",
       "<g id=\"graph0\" class=\"graph\" transform=\"scale(1 1) rotate(0) translate(4 338)\">\n",
       "<title>model</title>\n",
       "<polygon fill=\"white\" stroke=\"transparent\" points=\"-4,4 -4,-338 146,-338 146,4 -4,4\"/>\n",
       "<!-- 0 -->\n",
       "<g id=\"node1\" class=\"node\">\n",
       "<title>0</title>\n",
       "<polygon fill=\"lightyellow\" stroke=\"transparent\" points=\"128,-334 14,-334 14,-302 128,-302 128,-334\"/>\n",
       "<polygon fill=\"none\" stroke=\"black\" points=\"14,-302 14,-334 82,-334 82,-302 14,-302\"/>\n",
       "<text text-anchor=\"start\" x=\"19\" y=\"-321\" font-family=\"Linux libertine\" font-size=\"10.00\">input&#45;tensor</text>\n",
       "<text text-anchor=\"start\" x=\"29.5\" y=\"-310\" font-family=\"Linux libertine\" font-size=\"10.00\">depth:0</text>\n",
       "<polygon fill=\"none\" stroke=\"black\" points=\"82,-302 82,-334 128,-334 128,-302 82,-302\"/>\n",
       "<text text-anchor=\"start\" x=\"87\" y=\"-315.5\" font-family=\"Linux libertine\" font-size=\"10.00\">(1, 784)</text>\n",
       "</g>\n",
       "<!-- 1 -->\n",
       "<g id=\"node2\" class=\"node\">\n",
       "<title>1</title>\n",
       "<polygon fill=\"#c1ffc1\" stroke=\"transparent\" points=\"142,-266 0,-266 0,-224 142,-224 142,-266\"/>\n",
       "<polygon fill=\"none\" stroke=\"black\" points=\"0,-224 0,-266 47,-266 47,-224 0,-224\"/>\n",
       "<text text-anchor=\"start\" x=\"8.5\" y=\"-248\" font-family=\"Linux libertine\" font-size=\"10.00\">Linear</text>\n",
       "<text text-anchor=\"start\" x=\"5\" y=\"-237\" font-family=\"Linux libertine\" font-size=\"10.00\">depth:1</text>\n",
       "<polygon fill=\"none\" stroke=\"black\" points=\"47,-245 47,-266 94,-266 94,-245 47,-245\"/>\n",
       "<text text-anchor=\"start\" x=\"56.5\" y=\"-253\" font-family=\"Linux libertine\" font-size=\"10.00\">input:</text>\n",
       "<polygon fill=\"none\" stroke=\"black\" points=\"94,-245 94,-266 142,-266 142,-245 94,-245\"/>\n",
       "<text text-anchor=\"start\" x=\"99\" y=\"-253\" font-family=\"Linux libertine\" font-size=\"10.00\">(1, 784) </text>\n",
       "<polygon fill=\"none\" stroke=\"black\" points=\"47,-224 47,-245 94,-245 94,-224 47,-224\"/>\n",
       "<text text-anchor=\"start\" x=\"52\" y=\"-232\" font-family=\"Linux libertine\" font-size=\"10.00\">output: </text>\n",
       "<polygon fill=\"none\" stroke=\"black\" points=\"94,-224 94,-245 142,-245 142,-224 94,-224\"/>\n",
       "<text text-anchor=\"start\" x=\"102\" y=\"-232\" font-family=\"Linux libertine\" font-size=\"10.00\">(1, 50) </text>\n",
       "</g>\n",
       "<!-- 0&#45;&gt;1 -->\n",
       "<g id=\"edge1\" class=\"edge\">\n",
       "<title>0&#45;&gt;1</title>\n",
       "<path fill=\"none\" stroke=\"black\" d=\"M71,-301.94C71,-294.45 71,-285.12 71,-276.24\"/>\n",
       "<polygon fill=\"black\" stroke=\"black\" points=\"74.5,-276.16 71,-266.16 67.5,-276.16 74.5,-276.16\"/>\n",
       "</g>\n",
       "<!-- 2 -->\n",
       "<g id=\"node3\" class=\"node\">\n",
       "<title>2</title>\n",
       "<polygon fill=\"aliceblue\" stroke=\"transparent\" points=\"139,-188 3,-188 3,-146 139,-146 139,-188\"/>\n",
       "<polygon fill=\"none\" stroke=\"black\" points=\"3,-146 3,-188 50,-188 50,-146 3,-146\"/>\n",
       "<text text-anchor=\"start\" x=\"17\" y=\"-170\" font-family=\"Linux libertine\" font-size=\"10.00\">relu</text>\n",
       "<text text-anchor=\"start\" x=\"8\" y=\"-159\" font-family=\"Linux libertine\" font-size=\"10.00\">depth:1</text>\n",
       "<polygon fill=\"none\" stroke=\"black\" points=\"50,-167 50,-188 97,-188 97,-167 50,-167\"/>\n",
       "<text text-anchor=\"start\" x=\"59.5\" y=\"-175\" font-family=\"Linux libertine\" font-size=\"10.00\">input:</text>\n",
       "<polygon fill=\"none\" stroke=\"black\" points=\"97,-167 97,-188 139,-188 139,-167 97,-167\"/>\n",
       "<text text-anchor=\"start\" x=\"102\" y=\"-175\" font-family=\"Linux libertine\" font-size=\"10.00\">(1, 50) </text>\n",
       "<polygon fill=\"none\" stroke=\"black\" points=\"50,-146 50,-167 97,-167 97,-146 50,-146\"/>\n",
       "<text text-anchor=\"start\" x=\"55\" y=\"-154\" font-family=\"Linux libertine\" font-size=\"10.00\">output: </text>\n",
       "<polygon fill=\"none\" stroke=\"black\" points=\"97,-146 97,-167 139,-167 139,-146 97,-146\"/>\n",
       "<text text-anchor=\"start\" x=\"102\" y=\"-154\" font-family=\"Linux libertine\" font-size=\"10.00\">(1, 50) </text>\n",
       "</g>\n",
       "<!-- 1&#45;&gt;2 -->\n",
       "<g id=\"edge2\" class=\"edge\">\n",
       "<title>1&#45;&gt;2</title>\n",
       "<path fill=\"none\" stroke=\"black\" d=\"M71,-223.63C71,-215.82 71,-206.73 71,-198.18\"/>\n",
       "<polygon fill=\"black\" stroke=\"black\" points=\"74.5,-198.16 71,-188.16 67.5,-198.16 74.5,-198.16\"/>\n",
       "</g>\n",
       "<!-- 3 -->\n",
       "<g id=\"node4\" class=\"node\">\n",
       "<title>3</title>\n",
       "<polygon fill=\"#c1ffc1\" stroke=\"transparent\" points=\"139,-110 3,-110 3,-68 139,-68 139,-110\"/>\n",
       "<polygon fill=\"none\" stroke=\"black\" points=\"3,-68 3,-110 50,-110 50,-68 3,-68\"/>\n",
       "<text text-anchor=\"start\" x=\"11.5\" y=\"-92\" font-family=\"Linux libertine\" font-size=\"10.00\">Linear</text>\n",
       "<text text-anchor=\"start\" x=\"8\" y=\"-81\" font-family=\"Linux libertine\" font-size=\"10.00\">depth:1</text>\n",
       "<polygon fill=\"none\" stroke=\"black\" points=\"50,-89 50,-110 97,-110 97,-89 50,-89\"/>\n",
       "<text text-anchor=\"start\" x=\"59.5\" y=\"-97\" font-family=\"Linux libertine\" font-size=\"10.00\">input:</text>\n",
       "<polygon fill=\"none\" stroke=\"black\" points=\"97,-89 97,-110 139,-110 139,-89 97,-89\"/>\n",
       "<text text-anchor=\"start\" x=\"102\" y=\"-97\" font-family=\"Linux libertine\" font-size=\"10.00\">(1, 50) </text>\n",
       "<polygon fill=\"none\" stroke=\"black\" points=\"50,-68 50,-89 97,-89 97,-68 50,-68\"/>\n",
       "<text text-anchor=\"start\" x=\"55\" y=\"-76\" font-family=\"Linux libertine\" font-size=\"10.00\">output: </text>\n",
       "<polygon fill=\"none\" stroke=\"black\" points=\"97,-68 97,-89 139,-89 139,-68 97,-68\"/>\n",
       "<text text-anchor=\"start\" x=\"102\" y=\"-76\" font-family=\"Linux libertine\" font-size=\"10.00\">(1, 10) </text>\n",
       "</g>\n",
       "<!-- 2&#45;&gt;3 -->\n",
       "<g id=\"edge3\" class=\"edge\">\n",
       "<title>2&#45;&gt;3</title>\n",
       "<path fill=\"none\" stroke=\"black\" d=\"M71,-145.63C71,-137.82 71,-128.73 71,-120.18\"/>\n",
       "<polygon fill=\"black\" stroke=\"black\" points=\"74.5,-120.16 71,-110.16 67.5,-120.16 74.5,-120.16\"/>\n",
       "</g>\n",
       "<!-- 4 -->\n",
       "<g id=\"node5\" class=\"node\">\n",
       "<title>4</title>\n",
       "<polygon fill=\"lightyellow\" stroke=\"transparent\" points=\"129,-32 13,-32 13,0 129,0 129,-32\"/>\n",
       "<polygon fill=\"none\" stroke=\"black\" points=\"13,0 13,-32 89,-32 89,0 13,0\"/>\n",
       "<text text-anchor=\"start\" x=\"18\" y=\"-19\" font-family=\"Linux libertine\" font-size=\"10.00\">output&#45;tensor</text>\n",
       "<text text-anchor=\"start\" x=\"32.5\" y=\"-8\" font-family=\"Linux libertine\" font-size=\"10.00\">depth:0</text>\n",
       "<polygon fill=\"none\" stroke=\"black\" points=\"89,0 89,-32 129,-32 129,0 89,0\"/>\n",
       "<text text-anchor=\"start\" x=\"94\" y=\"-13.5\" font-family=\"Linux libertine\" font-size=\"10.00\">(1, 10)</text>\n",
       "</g>\n",
       "<!-- 3&#45;&gt;4 -->\n",
       "<g id=\"edge4\" class=\"edge\">\n",
       "<title>3&#45;&gt;4</title>\n",
       "<path fill=\"none\" stroke=\"black\" d=\"M71,-67.84C71,-59.89 71,-50.66 71,-42.26\"/>\n",
       "<polygon fill=\"black\" stroke=\"black\" points=\"74.5,-42.24 71,-32.24 67.5,-42.24 74.5,-42.24\"/>\n",
       "</g>\n",
       "</g>\n",
       "</svg>\n"
      ],
      "text/plain": [
       "<graphviz.graphs.Digraph at 0x7fb9dd648490>"
      ]
     },
     "execution_count": 44,
     "metadata": {},
     "output_type": "execute_result"
    }
   ],
   "source": [
    "x = torch.randn(1,784) \n",
    "model_graph = draw_graph(model, input_size=x.size(), expand_nested=True)\n",
    "model_graph.visual_graph"
   ]
  },
  {
   "cell_type": "markdown",
   "metadata": {},
   "source": [
    "<div style=\"line-height:0.48\">\n",
    "<h2 style=\"color:#BF66F2 \">  Create graph with torchlens </h2>\n",
    "</div>\n",
    "It also creates and opens automatically the .gv file. <br>\n",
    "N.B. <br>\n",
    "Using torchlens a UserWarning is triggered to inform us that the .grad attribute of a Tensor that is not a leaf Tensor is being accessed. <br> \n",
    "Changes should be done in the library's code to use \".retain_grad()\" in some cases. <br>\n",
    "Hence the need to define a filter to avoid printing the annoying warning. <br>"
   ]
  },
  {
   "cell_type": "code",
   "execution_count": 49,
   "metadata": {},
   "outputs": [],
   "source": [
    "# Define a custom warning filter\n",
    "def custom_warning_filter(action, category, filename, lineno, message):\n",
    "    # Check if the message matches the specific warning you want to ignore\n",
    "    if \"The .grad attribute of a Tensor\" in str(message):\n",
    "        return True  # Return True to ignore the warning\n",
    "    else:\n",
    "        return False  # Return False to handle other warnings normally\n",
    "\n",
    "# Register the custom warning filter\n",
    "warnings.filterwarnings(\"always\", category=UserWarning)\n",
    "warnings.filterwarnings(\"ignore\", category=UserWarning, message=\"The .grad attribute of a Tensor\")\n",
    "# Suppress the warning message\n",
    "warnings.showwarning = lambda *args, **kwargs: None \n",
    "\n",
    "# Reset the warning filter to its default behavior (if needed)\n",
    "# warnings.resetwarnings()"
   ]
  },
  {
   "cell_type": "code",
   "execution_count": null,
   "metadata": {},
   "outputs": [
    {
     "data": {
      "image/svg+xml": [
       "<?xml version=\"1.0\" encoding=\"UTF-8\" standalone=\"no\"?>\n",
       "<!DOCTYPE svg PUBLIC \"-//W3C//DTD SVG 1.1//EN\"\n",
       " \"http://www.w3.org/Graphics/SVG/1.1/DTD/svg11.dtd\">\n",
       "<!-- Generated by graphviz version 2.50.0 (0)\n",
       " -->\n",
       "<!-- Title: NN Pages: 1 -->\n",
       "<svg width=\"246pt\" height=\"522pt\"\n",
       " viewBox=\"0.00 0.00 246.00 522.33\" xmlns=\"http://www.w3.org/2000/svg\" xmlns:xlink=\"http://www.w3.org/1999/xlink\">\n",
       "<g id=\"graph0\" class=\"graph\" transform=\"scale(1 1) rotate(0) translate(4 518.33)\">\n",
       "<title>NN</title>\n",
       "<polygon fill=\"white\" stroke=\"transparent\" points=\"-4,4 -4,-518.33 242,-518.33 242,4 -4,4\"/>\n",
       "<text text-anchor=\"start\" x=\"8\" y=\"-500.13\" font-family=\"Times,serif\" font-weight=\"bold\" font-size=\"14.00\">NN</text>\n",
       "<text text-anchor=\"start\" x=\"8\" y=\"-486.13\" font-family=\"Times,serif\" font-size=\"14.00\">5 tensors total (4.2 KB)</text>\n",
       "<text text-anchor=\"start\" x=\"8\" y=\"-472.13\" font-family=\"Times,serif\" font-size=\"14.00\">39760 params total (155.8 KB)</text>\n",
       "<!-- input_1 -->\n",
       "<g id=\"node1\" class=\"node\">\n",
       "<title>input_1</title>\n",
       "<ellipse fill=\"#98fb98\" stroke=\"black\" cx=\"119\" cy=\"-35.36\" rx=\"87.86\" ry=\"35.21\"/>\n",
       "<text text-anchor=\"start\" x=\"89\" y=\"-46.16\" font-family=\"Times,serif\" font-weight=\"bold\" font-size=\"14.00\">input_1</text>\n",
       "<text text-anchor=\"start\" x=\"65\" y=\"-32.16\" font-family=\"Times,serif\" font-size=\"14.00\">1x784 (3.2 KB)</text>\n",
       "<text text-anchor=\"start\" x=\"86.5\" y=\"-18.16\" font-family=\"Times,serif\" font-size=\"14.00\">@input.x</text>\n",
       "</g>\n",
       "<!-- linear_1_1 -->\n",
       "<g id=\"node2\" class=\"node\">\n",
       "<title>linear_1_1</title>\n",
       "<polygon fill=\"#e6e6e6\" stroke=\"black\" points=\"202.5,-170.71 35.5,-170.71 35.5,-106.71 202.5,-106.71 202.5,-170.71\"/>\n",
       "<text text-anchor=\"start\" x=\"79\" y=\"-156.51\" font-family=\"Times,serif\" font-weight=\"bold\" font-size=\"14.00\">linear_1_1</text>\n",
       "<text text-anchor=\"start\" x=\"72.5\" y=\"-142.51\" font-family=\"Times,serif\" font-size=\"14.00\">1x50 (328 B)</text>\n",
       "<text text-anchor=\"start\" x=\"43.5\" y=\"-128.51\" font-family=\"Times,serif\" font-size=\"14.00\">params: 50x784, x50</text>\n",
       "<text text-anchor=\"start\" x=\"100.5\" y=\"-114.51\" font-family=\"Times,serif\" font-size=\"14.00\">@fc1</text>\n",
       "</g>\n",
       "<!-- input_1&#45;&gt;linear_1_1 -->\n",
       "<g id=\"edge1\" class=\"edge\">\n",
       "<title>input_1&#45;&gt;linear_1_1</title>\n",
       "<path fill=\"none\" stroke=\"black\" d=\"M119,-70.95C119,-80.18 119,-90.21 119,-99.62\"/>\n",
       "<polygon fill=\"black\" stroke=\"black\" points=\"116.55,-99.67 119,-106.67 121.45,-99.67 116.55,-99.67\"/>\n",
       "</g>\n",
       "<!-- relu_1_2 -->\n",
       "<g id=\"node3\" class=\"node\">\n",
       "<title>relu_1_2</title>\n",
       "<ellipse fill=\"white\" stroke=\"black\" cx=\"119\" cy=\"-232.17\" rx=\"77.15\" ry=\"25.41\"/>\n",
       "<text text-anchor=\"start\" x=\"86\" y=\"-235.97\" font-family=\"Times,serif\" font-weight=\"bold\" font-size=\"14.00\">relu_1_2</text>\n",
       "<text text-anchor=\"start\" x=\"72.5\" y=\"-221.97\" font-family=\"Times,serif\" font-size=\"14.00\">1x50 (328 B)</text>\n",
       "</g>\n",
       "<!-- linear_1_1&#45;&gt;relu_1_2 -->\n",
       "<g id=\"edge2\" class=\"edge\">\n",
       "<title>linear_1_1&#45;&gt;relu_1_2</title>\n",
       "<path fill=\"none\" stroke=\"black\" d=\"M119,-170.93C119,-180.07 119,-190.09 119,-199.27\"/>\n",
       "<polygon fill=\"black\" stroke=\"black\" points=\"116.55,-199.43 119,-206.43 121.45,-199.43 116.55,-199.43\"/>\n",
       "</g>\n",
       "<!-- linear_2_3 -->\n",
       "<g id=\"node4\" class=\"node\">\n",
       "<title>linear_2_3</title>\n",
       "<polygon fill=\"#e6e6e6\" stroke=\"black\" points=\"198,-357.62 40,-357.62 40,-293.62 198,-293.62 198,-357.62\"/>\n",
       "<text text-anchor=\"start\" x=\"79\" y=\"-343.42\" font-family=\"Times,serif\" font-weight=\"bold\" font-size=\"14.00\">linear_2_3</text>\n",
       "<text text-anchor=\"start\" x=\"72.5\" y=\"-329.42\" font-family=\"Times,serif\" font-size=\"14.00\">1x10 (168 B)</text>\n",
       "<text text-anchor=\"start\" x=\"48\" y=\"-315.42\" font-family=\"Times,serif\" font-size=\"14.00\">params: 10x50, x10</text>\n",
       "<text text-anchor=\"start\" x=\"100.5\" y=\"-301.42\" font-family=\"Times,serif\" font-size=\"14.00\">@fc2</text>\n",
       "</g>\n",
       "<!-- relu_1_2&#45;&gt;linear_2_3 -->\n",
       "<g id=\"edge3\" class=\"edge\">\n",
       "<title>relu_1_2&#45;&gt;linear_2_3</title>\n",
       "<path fill=\"none\" stroke=\"black\" d=\"M119,-257.68C119,-266.44 119,-276.55 119,-286.21\"/>\n",
       "<polygon fill=\"black\" stroke=\"black\" points=\"116.55,-286.48 119,-293.48 121.45,-286.48 116.55,-286.48\"/>\n",
       "</g>\n",
       "<!-- output_1 -->\n",
       "<g id=\"node5\" class=\"node\">\n",
       "<title>output_1</title>\n",
       "<ellipse fill=\"#ff9999\" stroke=\"black\" cx=\"119\" cy=\"-428.98\" rx=\"77.15\" ry=\"35.21\"/>\n",
       "<text text-anchor=\"start\" x=\"84\" y=\"-439.78\" font-family=\"Times,serif\" font-weight=\"bold\" font-size=\"14.00\">output_1</text>\n",
       "<text text-anchor=\"start\" x=\"72.5\" y=\"-425.78\" font-family=\"Times,serif\" font-size=\"14.00\">1x10 (168 B)</text>\n",
       "<text text-anchor=\"start\" x=\"88\" y=\"-411.78\" font-family=\"Times,serif\" font-size=\"14.00\">@output</text>\n",
       "</g>\n",
       "<!-- linear_2_3&#45;&gt;output_1 -->\n",
       "<g id=\"edge4\" class=\"edge\">\n",
       "<title>linear_2_3&#45;&gt;output_1</title>\n",
       "<path fill=\"none\" stroke=\"black\" d=\"M119,-357.86C119,-366.85 119,-376.81 119,-386.32\"/>\n",
       "<polygon fill=\"black\" stroke=\"black\" points=\"116.55,-386.49 119,-393.49 121.45,-386.49 116.55,-386.49\"/>\n",
       "</g>\n",
       "</g>\n",
       "</svg>\n"
      ],
      "text/plain": [
       "<graphviz.graphs.Digraph at 0x7fb9b9cdb070>"
      ]
     },
     "metadata": {},
     "output_type": "display_data"
    },
    {
     "name": "stdout",
     "output_type": "stream",
     "text": [
      "Log of NN forward pass:\n",
      "\tRandom seed: 2871389742\n",
      "\tTime elapsed: 0.766s (0.755s spent logging)\n",
      "\tStructure:\n",
      "\t\t- purely feedforward, no recurrence\n",
      "\t\t- no branching\n",
      "\t\t- no conditional (if-then) branching\n",
      "\t\t- 2 total modules\n",
      "\tTensor info:\n",
      "\t\t- 5 total tensors (4.2 KB) computed in forward pass.\n",
      "\t\t- 5 tensors (4.2 KB) with saved activations.\n",
      "\tParameters: 2 parameter operations (39760 params total; 155.8 KB)\n",
      "\tModule Hierarchy:\n",
      "\t\tfc1\n",
      "\t\tfc2\n",
      "\tLayers (all have saved activations):\n",
      "\t\t  (0) input_1 \n",
      "\t\t  (1) linear_1_1 \n",
      "\t\t  (2) relu_1_2 \n",
      "\t\t  (3) linear_2_3 \n",
      "\t\t  (4) output_1 \n"
     ]
    },
    {
     "name": "stderr",
     "output_type": "stream",
     "text": [
      "kf.service.services: KApplicationTrader: mimeType \"x-scheme-handler/file\" not found\n",
      "kf.service.services: KApplicationTrader: mimeType \"x-scheme-handler/file\" not found\n"
     ]
    }
   ],
   "source": [
    "\"\"\" Torchlens. \"\"\"\n",
    "model_history = tl.log_forward_pass(model, x, layers_to_save='all', vis_opt='unrolled')\n",
    "print(model_history)\n",
    "\n",
    "# Specify the desired location and filename\n",
    "file_path = './graphs_nn/model_history.gv'\n",
    "\n",
    "# Save the .gv file\n",
    "graph = graphviz.Source(model_history)\n",
    "graph.save(filename=file_path)"
   ]
  }
 ],
 "metadata": {
  "kernelspec": {
   "display_name": "MLearning",
   "language": "python",
   "name": "python3"
  },
  "language_info": {
   "codemirror_mode": {
    "name": "ipython",
    "version": 3
   },
   "file_extension": ".py",
   "mimetype": "text/x-python",
   "name": "python",
   "nbconvert_exporter": "python",
   "pygments_lexer": "ipython3",
   "version": "3.10.9"
  },
  "orig_nbformat": 4
 },
 "nbformat": 4,
 "nbformat_minor": 2
}
