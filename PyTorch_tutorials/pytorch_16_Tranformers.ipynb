{
  "cells": [
    {
      "cell_type": "markdown",
      "metadata": {
        "id": "pK0fzLoKxwih"
      },
      "source": [
        "<div style=\"line-height:0.5\">\n",
        "<h1 style=\"color:#BF66F2 \"> Tranformer Networks in PyTorch 2 </h1>\n",
        "<h4> Fast Tranformer Inference with better Transformers, using the XLM-RoBERTa model </h4>\n",
        "\n",
        "<span style=\"display: inline-block;\">\n",
        "    <h3 style=\"color: lightblue; display: inline;\">Keywords:</h3>\n",
        "    margin-top in markdown + torchtext models + to_tensor()\n",
        "</span>\n",
        "</div>"
      ]
    },
    {
      "cell_type": "markdown",
      "metadata": {
        "id": "sBE6COlccPha"
      },
      "source": [
        "<h3 style=\"color:#BF66F2 \"> Recap: Better Transformers</h3>\n",
        "<div style=\"margin-top: -7px;\">\n",
        "Better Transformers are a way to accelerate deployment of Transformer models with high performance on CPU and GPU. <br>\n",
        "The fastpath feature works transparently for models based either directly on PyTorch core nn.module or with torchtext. <br>\n",
        "\n",
        "The models which can be accelerated by Better Transformer fastpath execution are those using the following PyTorch core torch.nn.module classes <br>\n",
        "=> TransformerEncoder, TransformerEncoderLayer, and MultiHeadAttention.  \n",
        "</div>"
      ]
    },
    {
      "cell_type": "markdown",
      "metadata": {
        "id": "SN6n8SYzcR6f"
      },
      "source": [
        "<h4 style=\"color:#BF66F2 \"> Steps </h4>\n",
        "<div style=\"margin-top: -20px;\">\n",
        "\n",
        "- Load pre-trained models (pre-1.12 created without Better Transformer)\n",
        "- Run and benchmark inference on CPU with and without BT fastpath (native MHA only)\n",
        "- Run and benchmark inference on (configurable) DEVICE with and without BT fastpath (native MHA only)\n",
        "- Run and benchmark inference on (configurable) DEVICE with and without BT fastpath (native MHA + sparsity)\n",
        "</div>"
      ]
    },
    {
      "cell_type": "code",
      "execution_count": 1,
      "metadata": {
        "id": "ylduyg6_fjG1"
      },
      "outputs": [],
      "source": [
        "import torch\n",
        "import torch.nn as nn\n",
        "import torch, torchtext\n",
        "from torchtext.models import RobertaClassificationHead\n",
        "from torchtext.functional import to_tensor"
      ]
    },
    {
      "cell_type": "code",
      "execution_count": 2,
      "metadata": {
        "colab": {
          "base_uri": "https://localhost:8080/"
        },
        "id": "bC0qKhOScSCv",
        "outputId": "e197729c-33d6-4871-f26b-1974f3789a63"
      },
      "outputs": [
        {
          "name": "stdout",
          "output_type": "stream",
          "text": [
            "torch version: 2.0.1+cu118\n"
          ]
        }
      ],
      "source": [
        "print(f\"torch version: {torch.__version__}\")"
      ]
    },
    {
      "cell_type": "code",
      "execution_count": 3,
      "metadata": {
        "colab": {
          "base_uri": "https://localhost:8080/"
        },
        "id": "aH5JEMOBcSHX",
        "outputId": "51a17a44-dc51-4bf2-a691-e8b7362ccb99"
      },
      "outputs": [
        {
          "name": "stdout",
          "output_type": "stream",
          "text": [
            "torch cuda available: True\n"
          ]
        },
        {
          "data": {
            "text/plain": [
              "device(type='cuda')"
            ]
          },
          "execution_count": 3,
          "metadata": {},
          "output_type": "execute_result"
        }
      ],
      "source": [
        "device = torch.device(\"cuda\") if torch.cuda.is_available() else torch.device(\"cpu\")\n",
        "if device.type!='cpu':\n",
        "  print(f\"torch cuda available: {torch.cuda.is_available()}\")\n",
        "\n",
        "device"
      ]
    },
    {
      "cell_type": "markdown",
      "metadata": {
        "id": "4YbxgL7Lxwir"
      },
      "source": [
        "<h3 style=\"color:#BF66F2 \"> Note: </h3>\n",
        "<div style=\"margin-top: -30px;\">\n",
        "The XLM-RoBERTa is a large pre-trained encoder model from TorchText.\n",
        "</div>"
      ]
    },
    {
      "cell_type": "code",
      "execution_count": 4,
      "metadata": {
        "id": "tMVUn7dD-IIZ"
      },
      "outputs": [],
      "source": [
        "# Load XLM-RoBERTa\n",
        "xlmr_large = torchtext.models.XLMR_LARGE_ENCODER"
      ]
    },
    {
      "cell_type": "code",
      "execution_count": 5,
      "metadata": {
        "id": "LB4x6VuV-KWP"
      },
      "outputs": [],
      "source": [
        "# Create and initialize a classification head for the model\n",
        "classifier_head = torchtext.models.RobertaClassificationHead(num_classes=2, input_dim = 1024)"
      ]
    },
    {
      "cell_type": "code",
      "execution_count": 6,
      "metadata": {
        "colab": {
          "base_uri": "https://localhost:8080/"
        },
        "id": "Er9sLExIcSLR",
        "outputId": "5246b210-13d3-4f6b-ada2-c61114c3b2b2"
      },
      "outputs": [
        {
          "name": "stderr",
          "output_type": "stream",
          "text": [
            "Downloading: \"https://download.pytorch.org/models/text/xlmr.large.encoder.pt\" to /root/.cache/torch/hub/checkpoints/xlmr.large.encoder.pt\n",
            "100%|██████████| 2.08G/2.08G [02:08<00:00, 17.4MB/s]\n"
          ]
        }
      ],
      "source": [
        "# Combine the encoder and classification head to create a complete classification model\n",
        "model = xlmr_large.get_model(head=classifier_head)"
      ]
    },
    {
      "cell_type": "code",
      "execution_count": 7,
      "metadata": {
        "colab": {
          "base_uri": "https://localhost:8080/"
        },
        "id": "GzCp2Jn_-Frk",
        "outputId": "a3f45927-9044-4c4b-aba2-62db13b97e2b"
      },
      "outputs": [
        {
          "name": "stderr",
          "output_type": "stream",
          "text": [
            "100%|██████████| 5.07M/5.07M [00:01<00:00, 3.66MB/s]\n",
            "Downloading: \"https://download.pytorch.org/models/text/xlmr.vocab.pt\" to /root/.cache/torch/hub/checkpoints/xlmr.vocab.pt\n",
            "100%|██████████| 4.85M/4.85M [00:01<00:00, 3.74MB/s]\n"
          ]
        }
      ],
      "source": [
        "# Create a transformation function to preprocess input data for the model\n",
        "transform = xlmr_large.transform()"
      ]
    },
    {
      "cell_type": "markdown",
      "metadata": {
        "id": "TMmIv1dxxwis"
      },
      "source": [
        "<h3 style=\"color:#BF66F2 \"> Recap: TorchText</h3>\n",
        "<div style=\"margin-top: -18px;\">\n",
        "PyTorch library that provides tools for handling text data\n",
        "<div style=\"margin-top: -1px;\">\n",
        "\n",
        "- Preprocessing: Tokenization, vocabularies creation, encoding.\n",
        "- Datasets: Pre-built loaders for some common NLP datasets.\n",
        "- Dataloaders: Batch generation with padding to handle variable-length sequences.\n",
        "</div>\n",
        "</div>"
      ]
    },
    {
      "cell_type": "code",
      "execution_count": 8,
      "metadata": {
        "id": "IEFxWJXDcSSN"
      },
      "outputs": [],
      "source": [
        "\"\"\" 2 types of inputs: a small input batch and a big input batch with sparsity. \"\"\"\n",
        "\n",
        "small_input_batch = [\"Hello world\", \"How are you!\"]\n",
        "\n",
        "big_input_batch = [\n",
        "    \"Hello world\",\n",
        "    \"How are you!\",\n",
        "    \"The quick brown fox jumps over the lazy dog.\",\n",
        "    \"In the beginning God created the heavens and the earth.\",\n",
        "    \"To be or not to be, that is the question.\",\n",
        "    \"It is a truth universally acknowledged, that a single man in possession of a good fortune, must be in want of a wife.\",\n",
        "    \"\"\"I have a dream that one day this nation will rise up and live out the true meaning of its creed:\n",
        "    'We hold these truths to be self-evident, that all men are created equal.\"\"\",\n",
        "    \"\"\"\n",
        "    Madam, I must implore you to reconsider your position on this matter.\n",
        "    The consequences of your decision could be catastrophic not only for yourself but for all those who depend on you.\n",
        "    I urge you to think carefully before taking any further action.\n",
        "    \"\"\"\n",
        "    \"\"\"\n",
        "    The verdant hills of the countryside undulated gently in the distance, their slopes adorned with a patchwork quilt of fields and forests, while the tranquil river flowed lazily by,\n",
        "    its surface shimmering in the golden light of the setting sun, casting long shadows across the landscape.\n",
        "    \"\"\"\n",
        "    ]\n"
      ]
    },
    {
      "cell_type": "code",
      "execution_count": 9,
      "metadata": {
        "colab": {
          "base_uri": "https://localhost:8080/"
        },
        "id": "BS9KGiU4cSVa",
        "outputId": "ee2c3c03-9c9f-413f-c54d-12aaf15f5676"
      },
      "outputs": [
        {
          "data": {
            "text/plain": [
              "torch.Size([8, 2])"
            ]
          },
          "execution_count": 9,
          "metadata": {},
          "output_type": "execute_result"
        }
      ],
      "source": [
        "input_batch=big_input_batch\n",
        "\n",
        "model_input = to_tensor(transform(input_batch), padding_value=1)\n",
        "output = model(model_input)\n",
        "output.shape"
      ]
    },
    {
      "cell_type": "code",
      "execution_count": 10,
      "metadata": {
        "id": "OEob9vlMiklf"
      },
      "outputs": [],
      "source": [
        "# Benchmark iteration count\n",
        "ITERATIONS=10"
      ]
    },
    {
      "cell_type": "markdown",
      "metadata": {
        "id": "WUWFqwdDjBhp"
      },
      "source": [
        "<h3 style=\"color:#BF66F2 \"> <u> Benchmark # 1: </u> </h3>\n",
        "Inference on CPU with and without BT fastpath (native MHA only)"
      ]
    },
    {
      "cell_type": "code",
      "execution_count": 11,
      "metadata": {
        "colab": {
          "base_uri": "https://localhost:8080/"
        },
        "id": "xopUfxpYcSYh",
        "outputId": "f6a9e38e-b6dd-4bff-f4ee-962a39176086"
      },
      "outputs": [
        {
          "name": "stdout",
          "output_type": "stream",
          "text": [
            "slow path:\n",
            "==========\n",
            "--------------------------------------------  ------------  ------------  ------------  ------------  ------------  ------------  \n",
            "                                        Name    Self CPU %      Self CPU   CPU total %     CPU total  CPU time avg    # of Calls  \n",
            "--------------------------------------------  ------------  ------------  ------------  ------------  ------------  ------------  \n",
            "                                    aten::eq         0.00%      28.000us         0.00%      28.000us      28.000us             1  \n",
            "                             aten::embedding         0.01%       1.591ms         0.02%       5.080ms       5.080ms             1  \n",
            "                               aten::reshape         0.01%       1.566ms         0.01%       1.569ms       1.569ms             1  \n",
            "                        aten::_reshape_alias         0.00%       3.000us         0.00%       3.000us       3.000us             1  \n",
            "                          aten::index_select         0.01%       1.904ms         0.01%       1.917ms       1.917ms             1  \n",
            "                                 aten::empty         0.00%       3.000us         0.00%       3.000us       3.000us             1  \n",
            "                                aten::select         0.00%       8.000us         0.00%       9.000us       9.000us             1  \n",
            "                            aten::as_strided         0.00%       1.000us         0.00%       1.000us       1.000us             1  \n",
            "                                aten::select         0.00%       1.000us         0.00%       1.000us       1.000us             1  \n",
            "                            aten::as_strided         0.00%       0.000us         0.00%       0.000us       0.000us             1  \n",
            "                                  aten::view         0.00%       3.000us         0.00%       3.000us       3.000us             1  \n",
            "                                    aten::ne         0.00%      16.000us         0.00%      16.000us      16.000us             1  \n",
            "                                    aten::to         0.00%       3.000us         0.00%      25.000us      25.000us             1  \n",
            "                              aten::_to_copy         0.00%       9.000us         0.00%      22.000us      22.000us             1  \n",
            "                         aten::empty_strided         0.00%       4.000us         0.00%       4.000us       4.000us             1  \n",
            "                                 aten::copy_         0.00%       9.000us         0.00%       9.000us       9.000us             1  \n",
            "                                aten::cumsum         0.00%      14.000us         0.00%      14.000us      14.000us             1  \n",
            "                                    aten::to         0.00%       0.000us         0.00%       0.000us       0.000us             1  \n",
            "                                   aten::mul         0.00%       7.000us         0.00%       7.000us       7.000us             1  \n",
            "                                   aten::add         0.00%       8.000us         0.00%       8.000us       8.000us             1  \n",
            "                             aten::embedding         0.00%      19.000us         0.00%     260.000us     260.000us             1  \n",
            "                               aten::reshape         0.00%       6.000us         0.00%       7.000us       7.000us             1  \n",
            "                        aten::_reshape_alias         0.00%       1.000us         0.00%       1.000us       1.000us             1  \n",
            "                          aten::index_select         0.00%     226.000us         0.00%     233.000us     233.000us             1  \n",
            "                                 aten::empty         0.00%       1.000us         0.00%       1.000us       1.000us             1  \n",
            "                                aten::select         0.00%       4.000us         0.00%       5.000us       5.000us             1  \n",
            "                            aten::as_strided         0.00%       1.000us         0.00%       1.000us       1.000us             1  \n",
            "                                aten::select         0.00%       1.000us         0.00%       1.000us       1.000us             1  \n",
            "                            aten::as_strided         0.00%       0.000us         0.00%       0.000us       0.000us             1  \n",
            "                                  aten::view         0.00%       1.000us         0.00%       1.000us       1.000us             1  \n",
            "                                   aten::add         0.00%     906.000us         0.00%     906.000us     906.000us             1  \n",
            "                            aten::layer_norm         0.00%      10.000us         0.00%     993.000us     993.000us             1  \n",
            "                     aten::native_layer_norm         0.00%     944.000us         0.00%     983.000us     983.000us             1  \n",
            "                                 aten::empty         0.00%      34.000us         0.00%      34.000us      34.000us             1  \n",
            "                                 aten::empty         0.00%       1.000us         0.00%       1.000us       1.000us             1  \n",
            "                                 aten::empty         0.00%       1.000us         0.00%       1.000us       1.000us             1  \n",
            "                                  aten::view         0.00%       3.000us         0.00%       3.000us       3.000us             1  \n",
            "                                  aten::view         0.00%       0.000us         0.00%       0.000us       0.000us             1  \n",
            "                               aten::dropout         0.00%      19.000us         0.01%       2.575ms       2.575ms             1  \n",
            "                            aten::empty_like         0.00%       4.000us         0.00%      16.000us      16.000us             1  \n",
            "                                 aten::empty         0.00%      12.000us         0.00%      12.000us      12.000us             1  \n",
            "                            aten::bernoulli_         0.01%       1.605ms         0.01%       1.610ms       1.610ms             1  \n",
            "                                 aten::empty         0.00%       5.000us         0.00%       5.000us       5.000us             1  \n",
            "                                  aten::div_         0.00%     133.000us         0.00%     150.000us     150.000us             1  \n",
            "                                    aten::to         0.00%       2.000us         0.00%      17.000us      17.000us             1  \n",
            "                              aten::_to_copy         0.00%       8.000us         0.00%      15.000us      15.000us             1  \n",
            "                         aten::empty_strided         0.00%       2.000us         0.00%       2.000us       2.000us             1  \n",
            "                                 aten::copy_         0.00%       5.000us         0.00%       5.000us       5.000us             1  \n",
            "                                   aten::mul         0.00%     780.000us         0.00%     780.000us     780.000us             1  \n",
            "                            aten::zeros_like         0.00%       7.000us         0.00%      14.000us      14.000us             1  \n",
            "                            aten::empty_like         0.00%       3.000us         0.00%       6.000us       6.000us             1  \n",
            "                         aten::empty_strided         0.00%       3.000us         0.00%       3.000us       3.000us             1  \n",
            "                                 aten::zero_         0.00%       1.000us         0.00%       1.000us       1.000us             1  \n",
            "                          aten::masked_fill_         0.00%      27.000us         0.00%      27.000us      27.000us             1  \n",
            "                             aten::transpose         0.00%      11.000us         0.00%      14.000us      14.000us             1  \n",
            "                            aten::as_strided         0.00%       3.000us         0.00%       3.000us       3.000us             1  \n",
            "                                aten::linear         0.00%      18.000us         0.15%      38.443ms      38.443ms             1  \n",
            "                                     aten::t         0.00%       6.000us         0.00%       8.000us       8.000us             1  \n",
            "                             aten::transpose         0.00%       1.000us         0.00%       2.000us       2.000us             1  \n",
            "                            aten::as_strided         0.00%       1.000us         0.00%       1.000us       1.000us             1  \n",
            "                                aten::matmul         0.00%      26.000us         0.14%      38.125ms      38.125ms             1  \n",
            "                               aten::reshape         0.00%      13.000us         0.00%     817.000us     817.000us             1  \n",
            "                                 aten::clone         0.00%      12.000us         0.00%     796.000us     796.000us             1  \n",
            "                            aten::empty_like         0.00%       2.000us         0.00%      13.000us      13.000us             1  \n",
            "                                 aten::empty         0.00%      11.000us         0.00%      11.000us      11.000us             1  \n",
            "                                 aten::copy_         0.00%     771.000us         0.00%     771.000us     771.000us             1  \n",
            "                          aten::_unsafe_view         0.00%       8.000us         0.00%       8.000us       8.000us             1  \n",
            "                                    aten::mm         0.14%      37.265ms         0.14%      37.265ms      37.265ms             1  \n",
            "                          aten::resolve_conj         0.00%       0.000us         0.00%       0.000us       0.000us             1  \n",
            "                          aten::resolve_conj         0.00%       0.000us         0.00%       0.000us       0.000us             1  \n",
            "                          aten::_unsafe_view         0.00%      17.000us         0.00%      17.000us      17.000us             1  \n",
            "                                  aten::add_         0.00%     292.000us         0.00%     292.000us     292.000us             1  \n",
            "                             aten::unflatten         0.00%       5.000us         0.00%      17.000us      17.000us             1  \n",
            "                                  aten::view         0.00%      12.000us         0.00%      12.000us      12.000us             1  \n",
            "                             aten::unsqueeze         0.00%      11.000us         0.00%      14.000us      14.000us             1  \n",
            "                            aten::as_strided         0.00%       3.000us         0.00%       3.000us       3.000us             1  \n",
            "                             aten::transpose         0.00%       7.000us         0.00%       9.000us       9.000us             1  \n",
            "                            aten::as_strided         0.00%       2.000us         0.00%       2.000us       2.000us             1  \n",
            "                               aten::squeeze         0.00%       8.000us         0.00%       8.000us       8.000us             1  \n",
            "                            aten::as_strided         0.00%       0.000us         0.00%       0.000us       0.000us             1  \n",
            "                            aten::contiguous         0.00%       4.000us         0.01%       2.092ms       2.092ms             1  \n",
            "                                 aten::clone         0.00%      17.000us         0.01%       2.088ms       2.088ms             1  \n",
            "                            aten::empty_like         0.00%       5.000us         0.00%      29.000us      29.000us             1  \n",
            "                                 aten::empty         0.00%      24.000us         0.00%      24.000us      24.000us             1  \n",
            "                                 aten::copy_         0.01%       2.042ms         0.01%       2.042ms       2.042ms             1  \n",
            "                                aten::select         0.00%      18.000us         0.00%      20.000us      20.000us             1  \n",
            "                            aten::as_strided         0.00%       2.000us         0.00%       2.000us       2.000us             1  \n",
            "                                aten::select         0.00%       3.000us         0.00%       3.000us       3.000us             1  \n",
            "                            aten::as_strided         0.00%       0.000us         0.00%       0.000us       0.000us             1  \n",
            "                                aten::select         0.00%       3.000us         0.00%       3.000us       3.000us             1  \n",
            "                            aten::as_strided         0.00%       0.000us         0.00%       0.000us       0.000us             1  \n",
            "                                  aten::view         0.00%       5.000us         0.00%       5.000us       5.000us             1  \n",
            "                             aten::transpose         0.00%       6.000us         0.00%       7.000us       7.000us             1  \n",
            "                            aten::as_strided         0.00%       1.000us         0.00%       1.000us       1.000us             1  \n",
            "                                  aten::view         0.00%       2.000us         0.00%       2.000us       2.000us             1  \n",
            "                             aten::transpose         0.00%       3.000us         0.00%       3.000us       3.000us             1  \n",
            "                            aten::as_strided         0.00%       0.000us         0.00%       0.000us       0.000us             1  \n",
            "                                  aten::view         0.00%       2.000us         0.00%       2.000us       2.000us             1  \n",
            "                             aten::transpose         0.00%       3.000us         0.00%       3.000us       3.000us             1  \n",
            "                            aten::as_strided         0.00%       0.000us         0.00%       0.000us       0.000us             1  \n",
            "--------------------------------------------  ------------  ------------  ------------  ------------  ------------  ------------  \n",
            "Self CPU time total: 26.343s\n",
            "\n",
            "fast path:\n",
            "==========\n"
          ]
        },
        {
          "name": "stderr",
          "output_type": "stream",
          "text": [
            "/usr/local/lib/python3.10/dist-packages/torch/nn/modules/transformer.py:296: UserWarning: The PyTorch API of nested tensors is in prototype stage and will change in the near future. (Triggered internally at ../aten/src/ATen/NestedTensorImpl.cpp:177.)\n",
            "  output = torch._nested_tensor_from_mask(output, src_key_padding_mask.logical_not(), mask_check=False)\n"
          ]
        },
        {
          "name": "stdout",
          "output_type": "stream",
          "text": [
            "-------------------------------------------  ------------  ------------  ------------  ------------  ------------  ------------  \n",
            "                                       Name    Self CPU %      Self CPU   CPU total %     CPU total  CPU time avg    # of Calls  \n",
            "-------------------------------------------  ------------  ------------  ------------  ------------  ------------  ------------  \n",
            "                                   aten::eq         0.00%      40.000us         0.00%      40.000us      40.000us             1  \n",
            "                            aten::embedding         0.00%      30.000us         0.00%     343.000us     343.000us             1  \n",
            "                              aten::reshape         0.00%      14.000us         0.00%      19.000us      19.000us             1  \n",
            "                       aten::_reshape_alias         0.00%       5.000us         0.00%       5.000us       5.000us             1  \n",
            "                         aten::index_select         0.00%     269.000us         0.00%     290.000us     290.000us             1  \n",
            "                                aten::empty         0.00%       6.000us         0.00%       6.000us       6.000us             1  \n",
            "                               aten::select         0.00%      10.000us         0.00%      14.000us      14.000us             1  \n",
            "                           aten::as_strided         0.00%       4.000us         0.00%       4.000us       4.000us             1  \n",
            "                               aten::select         0.00%       1.000us         0.00%       1.000us       1.000us             1  \n",
            "                           aten::as_strided         0.00%       0.000us         0.00%       0.000us       0.000us             1  \n",
            "                                 aten::view         0.00%       4.000us         0.00%       4.000us       4.000us             1  \n",
            "                                   aten::ne         0.00%      41.000us         0.00%      41.000us      41.000us             1  \n",
            "                                   aten::to         0.00%       3.000us         0.00%      30.000us      30.000us             1  \n",
            "                             aten::_to_copy         0.00%      12.000us         0.00%      27.000us      27.000us             1  \n",
            "                        aten::empty_strided         0.00%       5.000us         0.00%       5.000us       5.000us             1  \n",
            "                                aten::copy_         0.00%      10.000us         0.00%      10.000us      10.000us             1  \n",
            "                               aten::cumsum         0.00%      14.000us         0.00%      14.000us      14.000us             1  \n",
            "                                   aten::to         0.00%       0.000us         0.00%       0.000us       0.000us             1  \n",
            "                                  aten::mul         0.00%      10.000us         0.00%      10.000us      10.000us             1  \n",
            "                                  aten::add         0.00%       9.000us         0.00%       9.000us       9.000us             1  \n",
            "                            aten::embedding         0.00%      15.000us         0.00%     244.000us     244.000us             1  \n",
            "                              aten::reshape         0.00%       7.000us         0.00%       7.000us       7.000us             1  \n",
            "                       aten::_reshape_alias         0.00%       0.000us         0.00%       0.000us       0.000us             1  \n",
            "                         aten::index_select         0.00%     209.000us         0.00%     220.000us     220.000us             1  \n",
            "                                aten::empty         0.00%       1.000us         0.00%       1.000us       1.000us             1  \n",
            "                               aten::select         0.00%       7.000us         0.00%       9.000us       9.000us             1  \n",
            "                           aten::as_strided         0.00%       2.000us         0.00%       2.000us       2.000us             1  \n",
            "                               aten::select         0.00%       1.000us         0.00%       1.000us       1.000us             1  \n",
            "                           aten::as_strided         0.00%       0.000us         0.00%       0.000us       0.000us             1  \n",
            "                                 aten::view         0.00%       2.000us         0.00%       2.000us       2.000us             1  \n",
            "                                  aten::add         0.00%     273.000us         0.00%     273.000us     273.000us             1  \n",
            "                           aten::layer_norm         0.00%       7.000us         0.00%     270.000us     270.000us             1  \n",
            "                    aten::native_layer_norm         0.00%     240.000us         0.00%     263.000us     263.000us             1  \n",
            "                                aten::empty         0.00%      17.000us         0.00%      17.000us      17.000us             1  \n",
            "                                aten::empty         0.00%       1.000us         0.00%       1.000us       1.000us             1  \n",
            "                                aten::empty         0.00%       2.000us         0.00%       2.000us       2.000us             1  \n",
            "                                 aten::view         0.00%       3.000us         0.00%       3.000us       3.000us             1  \n",
            "                                 aten::view         0.00%       0.000us         0.00%       0.000us       0.000us             1  \n",
            "                              aten::dropout         0.00%       2.000us         0.00%       2.000us       2.000us             1  \n",
            "                           aten::zeros_like         0.00%       8.000us         0.00%      18.000us      18.000us             1  \n",
            "                           aten::empty_like         0.00%       3.000us         0.00%       9.000us       9.000us             1  \n",
            "                        aten::empty_strided         0.00%       6.000us         0.00%       6.000us       6.000us             1  \n",
            "                                aten::zero_         0.00%       1.000us         0.00%       1.000us       1.000us             1  \n",
            "                         aten::masked_fill_         0.00%      14.000us         0.00%      14.000us      14.000us             1  \n",
            "                          aten::logical_not         0.00%      47.000us         0.07%       6.013ms       6.013ms             1  \n",
            "                                aten::empty         0.00%       2.000us         0.00%       2.000us       2.000us             1  \n",
            "                          aten::logical_not         0.07%       5.964ms         0.07%       5.964ms       5.964ms             1  \n",
            "             aten::_nested_tensor_from_mask         0.04%       3.875ms         0.11%       9.833ms       9.833ms             1  \n",
            "                                aten::zeros         0.00%      24.000us         0.00%      30.000us      30.000us             1  \n",
            "                                aten::empty         0.00%       6.000us         0.00%       6.000us       6.000us             1  \n",
            "                                aten::zero_         0.00%       0.000us         0.00%       0.000us       0.000us             1  \n",
            "                                  aten::cat         0.00%      34.000us         0.00%      52.000us      52.000us             1  \n",
            "                               aten::narrow         0.00%       6.000us         0.00%      15.000us      15.000us             1  \n",
            "                                aten::slice         0.00%       6.000us         0.00%       9.000us       9.000us             1  \n",
            "                           aten::as_strided         0.00%       3.000us         0.00%       3.000us       3.000us             1  \n",
            "                               aten::narrow         0.00%       1.000us         0.00%       3.000us       3.000us             1  \n",
            "                                aten::slice         0.00%       2.000us         0.00%       2.000us       2.000us             1  \n",
            "                           aten::as_strided         0.00%       0.000us         0.00%       0.000us       0.000us             1  \n",
            "                                   aten::to         0.00%       2.000us         0.00%      97.000us      97.000us             1  \n",
            "                             aten::_to_copy         0.00%       8.000us         0.00%      95.000us      95.000us             1  \n",
            "                        aten::empty_strided         0.00%       2.000us         0.00%       2.000us       2.000us             1  \n",
            "                                aten::copy_         0.00%      85.000us         0.00%      85.000us      85.000us             1  \n",
            "                               aten::argmin         0.00%      36.000us         0.00%      36.000us      36.000us             1  \n",
            "                           aten::as_strided         0.00%       0.000us         0.00%       0.000us       0.000us             1  \n",
            "                               aten::cumsum         0.00%       9.000us         0.00%      16.000us      16.000us             1  \n",
            "                                   aten::to         0.00%       0.000us         0.00%       7.000us       7.000us             1  \n",
            "                             aten::_to_copy         0.00%       3.000us         0.00%       7.000us       7.000us             1  \n",
            "                        aten::empty_strided         0.00%       1.000us         0.00%       1.000us       1.000us             1  \n",
            "                                aten::copy_         0.00%       3.000us         0.00%       3.000us       3.000us             1  \n",
            "                               aten::select         0.00%       4.000us         0.00%       4.000us       4.000us             1  \n",
            "                           aten::as_strided         0.00%       0.000us         0.00%       0.000us       0.000us             1  \n",
            "                                   aten::to         0.00%       3.000us         0.00%       3.000us       3.000us             1  \n",
            "                              aten::reshape         0.00%       5.000us         0.00%       5.000us       5.000us             1  \n",
            "                       aten::_reshape_alias         0.00%       0.000us         0.00%       0.000us       0.000us             1  \n",
            "                            aten::full_like         0.00%       6.000us         0.00%      10.000us      10.000us             1  \n",
            "                           aten::empty_like         0.00%       2.000us         0.00%       2.000us       2.000us             1  \n",
            "                        aten::empty_strided         0.00%       0.000us         0.00%       0.000us       0.000us             1  \n",
            "                                aten::fill_         0.00%       2.000us         0.00%       2.000us       2.000us             1  \n",
            "                                  aten::cat         0.00%       8.000us         0.00%      13.000us      13.000us             1  \n",
            "                               aten::narrow         0.00%       2.000us         0.00%       4.000us       4.000us             1  \n",
            "                                aten::slice         0.00%       1.000us         0.00%       2.000us       2.000us             1  \n",
            "                           aten::as_strided         0.00%       1.000us         0.00%       1.000us       1.000us             1  \n",
            "                               aten::narrow         0.00%       1.000us         0.00%       1.000us       1.000us             1  \n",
            "                                aten::slice         0.00%       0.000us         0.00%       0.000us       0.000us             1  \n",
            "                           aten::as_strided         0.00%       0.000us         0.00%       0.000us       0.000us             1  \n",
            "                                   aten::to         0.00%       0.000us         0.00%       0.000us       0.000us             1  \n",
            "                  aten::_nested_from_padded         0.03%       2.347ms         0.07%       5.692ms       5.692ms             1  \n",
            "                               aten::unbind         0.00%       7.000us         0.00%      19.000us      19.000us             1  \n",
            "                               aten::select         0.00%       4.000us         0.00%       4.000us       4.000us             1  \n",
            "                           aten::as_strided         0.00%       0.000us         0.00%       0.000us       0.000us             1  \n",
            "                               aten::select         0.00%       1.000us         0.00%       1.000us       1.000us             1  \n",
            "                           aten::as_strided         0.00%       0.000us         0.00%       0.000us       0.000us             1  \n",
            "                               aten::select         0.00%       0.000us         0.00%       1.000us       1.000us             1  \n",
            "                           aten::as_strided         0.00%       1.000us         0.00%       1.000us       1.000us             1  \n",
            "                               aten::select         0.00%       1.000us         0.00%       1.000us       1.000us             1  \n",
            "                           aten::as_strided         0.00%       0.000us         0.00%       0.000us       0.000us             1  \n",
            "                               aten::select         0.00%       1.000us         0.00%       1.000us       1.000us             1  \n",
            "                           aten::as_strided         0.00%       0.000us         0.00%       0.000us       0.000us             1  \n",
            "                               aten::select         0.00%       0.000us         0.00%       1.000us       1.000us             1  \n",
            "                           aten::as_strided         0.00%       1.000us         0.00%       1.000us       1.000us             1  \n",
            "-------------------------------------------  ------------  ------------  ------------  ------------  ------------  ------------  \n",
            "Self CPU time total: 8.693s\n",
            "\n"
          ]
        }
      ],
      "source": [
        "print(\"slow path:\")\n",
        "print(\"==========\")\n",
        "with torch.autograd.profiler.profile(use_cuda=False) as prof:\n",
        "  for i in range(ITERATIONS):\n",
        "    output = model(model_input)\n",
        "print(prof)\n",
        "\n",
        "model.eval()\n",
        "\n",
        "print(\"fast path:\")\n",
        "print(\"==========\")\n",
        "with torch.autograd.profiler.profile(use_cuda=False) as prof:\n",
        "  with torch.no_grad():\n",
        "    for i in range(ITERATIONS):\n",
        "      output = model(model_input)\n",
        "print(prof)"
      ]
    },
    {
      "cell_type": "code",
      "execution_count": 12,
      "metadata": {
        "colab": {
          "base_uri": "https://localhost:8080/"
        },
        "id": "nEDIMUClcSb5",
        "outputId": "88f66f3d-1769-461d-8b63-9cafc21917d3"
      },
      "outputs": [
        {
          "data": {
            "text/plain": [
              "True"
            ]
          },
          "execution_count": 12,
          "metadata": {},
          "output_type": "execute_result"
        }
      ],
      "source": [
        "# Check the BT sparsity setting\n",
        "model.encoder.transformer.layers.enable_nested_tensor"
      ]
    },
    {
      "cell_type": "markdown",
      "metadata": {
        "id": "gZX5szRyi5BJ"
      },
      "source": [
        "<h3 style=\"color:#BF66F2 \"> <u> Benchmark # 2: </u> </h3>\n",
        "Inference Disabling the BT sparsity"
      ]
    },
    {
      "cell_type": "code",
      "execution_count": 13,
      "metadata": {
        "id": "D9u8HXMzcSfW"
      },
      "outputs": [],
      "source": [
        "model.encoder.transformer.layers.enable_nested_tensor=False"
      ]
    },
    {
      "cell_type": "code",
      "execution_count": 14,
      "metadata": {
        "colab": {
          "base_uri": "https://localhost:8080/"
        },
        "id": "qdZxj-eIin2l",
        "outputId": "df756196-3ffa-4d5b-91a5-6843ac7d327e"
      },
      "outputs": [
        {
          "name": "stdout",
          "output_type": "stream",
          "text": [
            "slow path:\n",
            "==========\n",
            "-------------------------------------------------------  ------------  ------------  ------------  ------------  ------------  ------------  \n",
            "                                                   Name    Self CPU %      Self CPU   CPU total %     CPU total  CPU time avg    # of Calls  \n",
            "-------------------------------------------------------  ------------  ------------  ------------  ------------  ------------  ------------  \n",
            "                                               aten::eq         0.42%      14.793ms         0.42%      14.830ms      14.830ms             1  \n",
            "                                       cudaLaunchKernel         0.00%      37.000us         0.00%      37.000us      37.000us             1  \n",
            "                                        aten::embedding         0.00%      39.000us         0.64%      22.324ms      22.324ms             1  \n",
            "                                          aten::reshape         0.00%      11.000us         0.00%      14.000us      14.000us             1  \n",
            "                                   aten::_reshape_alias         0.00%       3.000us         0.00%       3.000us       3.000us             1  \n",
            "                                     aten::index_select         0.58%      20.139ms         0.64%      22.266ms      22.266ms             1  \n",
            "                                            aten::empty         0.00%      14.000us         0.00%      14.000us      14.000us             1  \n",
            "                                          aten::resize_         0.00%      11.000us         0.00%      11.000us      11.000us             1  \n",
            "                                       cudaLaunchKernel         0.06%       2.102ms         0.06%       2.102ms       2.102ms             1  \n",
            "                                             aten::view         0.00%       5.000us         0.00%       5.000us       5.000us             1  \n",
            "                                               aten::ne         0.00%      36.000us         0.00%      45.000us      45.000us             1  \n",
            "                                       cudaLaunchKernel         0.00%       9.000us         0.00%       9.000us       9.000us             1  \n",
            "                                               aten::to         0.00%       3.000us         0.00%     171.000us     171.000us             1  \n",
            "                                         aten::_to_copy         0.00%       8.000us         0.00%     168.000us     168.000us             1  \n",
            "                                    aten::empty_strided         0.00%       5.000us         0.00%       5.000us       5.000us             1  \n",
            "                                            aten::copy_         0.00%     137.000us         0.00%     155.000us     155.000us             1  \n",
            "                                       cudaLaunchKernel         0.00%      18.000us         0.00%      18.000us      18.000us             1  \n",
            "                                           aten::cumsum         0.11%       3.692ms         0.11%       3.710ms       3.710ms             1  \n",
            "                                               aten::to         0.00%       0.000us         0.00%       0.000us       0.000us             1  \n",
            "                                       cudaLaunchKernel         0.00%      18.000us         0.00%      18.000us      18.000us             1  \n",
            "                                              aten::mul         0.10%       3.423ms         0.10%       3.435ms       3.435ms             1  \n",
            "                                       cudaLaunchKernel         0.00%      12.000us         0.00%      12.000us      12.000us             1  \n",
            "                                              aten::add         0.01%     175.000us         0.01%     188.000us     188.000us             1  \n",
            "                                       cudaLaunchKernel         0.00%      13.000us         0.00%      13.000us      13.000us             1  \n",
            "                                        aten::embedding         0.00%      17.000us         0.00%      62.000us      62.000us             1  \n",
            "                                          aten::reshape         0.00%       7.000us         0.00%       8.000us       8.000us             1  \n",
            "                                   aten::_reshape_alias         0.00%       1.000us         0.00%       1.000us       1.000us             1  \n",
            "                                     aten::index_select         0.00%      16.000us         0.00%      36.000us      36.000us             1  \n",
            "                                            aten::empty         0.00%       5.000us         0.00%       5.000us       5.000us             1  \n",
            "                                          aten::resize_         0.00%       5.000us         0.00%       5.000us       5.000us             1  \n",
            "                                       cudaLaunchKernel         0.00%      10.000us         0.00%      10.000us      10.000us             1  \n",
            "                                             aten::view         0.00%       1.000us         0.00%       1.000us       1.000us             1  \n",
            "                                              aten::add         0.11%       3.846ms         0.11%       3.864ms       3.864ms             1  \n",
            "                                       cudaLaunchKernel         0.00%      18.000us         0.00%      18.000us      18.000us             1  \n",
            "                                       aten::layer_norm         0.00%       4.000us         0.13%       4.372ms       4.372ms             1  \n",
            "                                aten::native_layer_norm         0.12%       4.138ms         0.13%       4.368ms       4.368ms             1  \n",
            "                                            aten::empty         0.00%      27.000us         0.01%     202.000us     202.000us             1  \n",
            "                                  cudaStreamIsCapturing         0.00%       6.000us         0.00%       6.000us       6.000us             1  \n",
            "                                             cudaMalloc         0.00%     169.000us         0.00%     169.000us     169.000us             1  \n",
            "                                            aten::empty         0.00%       6.000us         0.00%       6.000us       6.000us             1  \n",
            "                                            aten::empty         0.00%       4.000us         0.00%       4.000us       4.000us             1  \n",
            "                                       cudaLaunchKernel         0.00%      16.000us         0.00%      16.000us      16.000us             1  \n",
            "                                             aten::view         0.00%       2.000us         0.00%       2.000us       2.000us             1  \n",
            "                                             aten::view         0.00%       0.000us         0.00%       0.000us       0.000us             1  \n",
            "                                          aten::dropout         0.00%       1.000us         0.00%       1.000us       1.000us             1  \n",
            "                                       aten::zeros_like         0.00%       6.000us         0.09%       3.269ms       3.269ms             1  \n",
            "                                       aten::empty_like         0.00%       3.000us         0.00%      10.000us      10.000us             1  \n",
            "                                    aten::empty_strided         0.00%       7.000us         0.00%       7.000us       7.000us             1  \n",
            "                                            aten::zero_         0.00%       7.000us         0.09%       3.253ms       3.253ms             1  \n",
            "                                            aten::fill_         0.09%       3.230ms         0.09%       3.246ms       3.246ms             1  \n",
            "                                       cudaLaunchKernel         0.00%      16.000us         0.00%      16.000us      16.000us             1  \n",
            "                                     aten::masked_fill_         0.12%       4.164ms         0.12%       4.182ms       4.182ms             1  \n",
            "                                       cudaLaunchKernel         0.00%      18.000us         0.00%      18.000us      18.000us             1  \n",
            "                                        aten::transpose         0.00%      16.000us         0.00%     146.000us     146.000us             1  \n",
            "                                       aten::as_strided         0.00%     130.000us         0.00%     130.000us     130.000us             1  \n",
            "                                           aten::linear         0.00%      15.000us        86.60%        3.026s        3.026s             1  \n",
            "                                                aten::t         0.00%       7.000us         0.00%      10.000us      10.000us             1  \n",
            "                                        aten::transpose         0.00%       2.000us         0.00%       3.000us       3.000us             1  \n",
            "                                       aten::as_strided         0.00%       1.000us         0.00%       1.000us       1.000us             1  \n",
            "                                           aten::matmul         0.00%      34.000us        86.60%        3.025s        3.025s             1  \n",
            "                                          aten::reshape         0.00%       9.000us         0.00%      70.000us      70.000us             1  \n",
            "                                            aten::clone         0.00%       8.000us         0.00%      56.000us      56.000us             1  \n",
            "                                       aten::empty_like         0.00%       3.000us         0.00%      16.000us      16.000us             1  \n",
            "                                            aten::empty         0.00%      13.000us         0.00%      13.000us      13.000us             1  \n",
            "                                            aten::copy_         0.00%      18.000us         0.00%      32.000us      32.000us             1  \n",
            "                                       cudaLaunchKernel         0.00%      14.000us         0.00%      14.000us      14.000us             1  \n",
            "                                     aten::_unsafe_view         0.00%       5.000us         0.00%       5.000us       5.000us             1  \n",
            "                                               aten::mm         1.58%      55.188ms        86.59%        3.025s        3.025s             1  \n",
            "                                               cudaFree        21.81%     761.905ms        21.81%     761.905ms     761.905ms             1  \n",
            "                                               cudaFree        63.19%        2.208s        63.19%        2.208s        2.208s             1  \n",
            "                                 cudaDeviceGetAttribute         0.00%       1.000us         0.00%       1.000us       1.000us             1  \n",
            "                                 cudaDeviceGetAttribute         0.00%       0.000us         0.00%       0.000us       0.000us             1  \n",
            "                                 cudaDeviceGetAttribute         0.00%       0.000us         0.00%       0.000us       0.000us             1  \n",
            "                                 cudaDeviceGetAttribute         0.00%       0.000us         0.00%       0.000us       0.000us             1  \n",
            "                                 cudaDeviceGetAttribute         0.00%       0.000us         0.00%       0.000us       0.000us             1  \n",
            "                                 cudaDeviceGetAttribute         0.00%       0.000us         0.00%       0.000us       0.000us             1  \n",
            "                                 cudaDeviceGetAttribute         0.00%       0.000us         0.00%       0.000us       0.000us             1  \n",
            "                                 cudaDeviceGetAttribute         0.00%       0.000us         0.00%       0.000us       0.000us             1  \n",
            "                                 cudaDeviceGetAttribute         0.00%       0.000us         0.00%       0.000us       0.000us             1  \n",
            "                                 cudaDeviceGetAttribute         0.00%       0.000us         0.00%       0.000us       0.000us             1  \n",
            "                                 cudaDeviceGetAttribute         0.00%       0.000us         0.00%       0.000us       0.000us             1  \n",
            "                                 cudaDeviceGetAttribute         0.00%       0.000us         0.00%       0.000us       0.000us             1  \n",
            "                                 cudaDeviceGetAttribute         0.00%       0.000us         0.00%       0.000us       0.000us             1  \n",
            "                                 cudaDeviceGetAttribute         0.00%       0.000us         0.00%       0.000us       0.000us             1  \n",
            "                                   cudaGetSymbolAddress         0.00%       2.000us         0.00%       2.000us       2.000us             1  \n",
            "                                             cudaMalloc         0.01%     200.000us         0.01%     200.000us     200.000us             1  \n",
            "                                             cudaMalloc         0.00%       6.000us         0.00%       6.000us       6.000us             1  \n",
            "                                             cudaMalloc         0.00%     144.000us         0.00%     144.000us     144.000us             1  \n",
            "                                  cudaStreamIsCapturing         0.00%       3.000us         0.00%       3.000us       3.000us             1  \n",
            "                                             cudaMalloc         0.00%      98.000us         0.00%      98.000us      98.000us             1  \n",
            "          cudaOccupancyMaxActiveBlocksPerMultiprocessor         0.00%      11.000us         0.00%      11.000us      11.000us             1  \n",
            "          cudaOccupancyMaxActiveBlocksPerMultiprocessor         0.00%       1.000us         0.00%       1.000us       1.000us             1  \n",
            "                                       cudaLaunchKernel         0.00%      29.000us         0.00%      29.000us      29.000us             1  \n",
            "                                     aten::_unsafe_view         0.00%      22.000us         0.00%      22.000us      22.000us             1  \n",
            "                                             aten::add_         0.00%     133.000us         0.00%     152.000us     152.000us             1  \n",
            "                                       cudaLaunchKernel         0.00%      19.000us         0.00%      19.000us      19.000us             1  \n",
            "                                        aten::unflatten         0.00%       5.000us         0.00%      17.000us      17.000us             1  \n",
            "                                             aten::view         0.00%      12.000us         0.00%      12.000us      12.000us             1  \n",
            "                                        aten::unsqueeze         0.00%      12.000us         0.00%      15.000us      15.000us             1  \n",
            "                                       aten::as_strided         0.00%       3.000us         0.00%       3.000us       3.000us             1  \n",
            "-------------------------------------------------------  ------------  ------------  ------------  ------------  ------------  ------------  \n",
            "Self CPU time total: 3.494s\n",
            "\n",
            "fast path:\n",
            "==========\n"
          ]
        },
        {
          "name": "stderr",
          "output_type": "stream",
          "text": [
            "/usr/local/lib/python3.10/dist-packages/torch/nn/modules/transformer.py:562: UserWarning: Converting mask without torch.bool dtype to bool; this will negatively affect performance. Prefer to use a boolean mask directly. (Triggered internally at ../aten/src/ATen/native/transformers/attention.cpp:150.)\n",
            "  return torch._transformer_encoder_layer_fwd(\n"
          ]
        },
        {
          "name": "stdout",
          "output_type": "stream",
          "text": [
            "-------------------------------------------------------  ------------  ------------  ------------  ------------  ------------  ------------  \n",
            "                                                   Name    Self CPU %      Self CPU   CPU total %     CPU total  CPU time avg    # of Calls  \n",
            "-------------------------------------------------------  ------------  ------------  ------------  ------------  ------------  ------------  \n",
            "                                               aten::eq         0.18%     725.000us         0.19%     764.000us     764.000us             1  \n",
            "                                       cudaLaunchKernel         0.01%      39.000us         0.01%      39.000us      39.000us             1  \n",
            "                                        aten::embedding         0.01%      21.000us         0.03%     103.000us     103.000us             1  \n",
            "                                          aten::reshape         0.00%      12.000us         0.00%      17.000us      17.000us             1  \n",
            "                                   aten::_reshape_alias         0.00%       5.000us         0.00%       5.000us       5.000us             1  \n",
            "                                     aten::index_select         0.01%      32.000us         0.02%      61.000us      61.000us             1  \n",
            "                                            aten::empty         0.00%       6.000us         0.00%       6.000us       6.000us             1  \n",
            "                                          aten::resize_         0.00%      10.000us         0.00%      10.000us      10.000us             1  \n",
            "                                       cudaLaunchKernel         0.00%      13.000us         0.00%      13.000us      13.000us             1  \n",
            "                                             aten::view         0.00%       4.000us         0.00%       4.000us       4.000us             1  \n",
            "                                               aten::ne         0.01%      26.000us         0.01%      33.000us      33.000us             1  \n",
            "                                       cudaLaunchKernel         0.00%       7.000us         0.00%       7.000us       7.000us             1  \n",
            "                                               aten::to         0.00%       3.000us         0.01%      50.000us      50.000us             1  \n",
            "                                         aten::_to_copy         0.00%      12.000us         0.01%      47.000us      47.000us             1  \n",
            "                                    aten::empty_strided         0.00%       8.000us         0.00%       8.000us       8.000us             1  \n",
            "                                            aten::copy_         0.00%      19.000us         0.01%      27.000us      27.000us             1  \n",
            "                                       cudaLaunchKernel         0.00%       8.000us         0.00%       8.000us       8.000us             1  \n",
            "                                           aten::cumsum         0.01%      22.000us         0.01%      30.000us      30.000us             1  \n",
            "                                               aten::to         0.00%       0.000us         0.00%       0.000us       0.000us             1  \n",
            "                                       cudaLaunchKernel         0.00%       8.000us         0.00%       8.000us       8.000us             1  \n",
            "                                              aten::mul         0.00%      18.000us         0.01%      26.000us      26.000us             1  \n",
            "                                       cudaLaunchKernel         0.00%       8.000us         0.00%       8.000us       8.000us             1  \n",
            "                                              aten::add         0.00%      18.000us         0.01%      27.000us      27.000us             1  \n",
            "                                       cudaLaunchKernel         0.00%       9.000us         0.00%       9.000us       9.000us             1  \n",
            "                                        aten::embedding         0.00%       9.000us         0.02%      79.000us      79.000us             1  \n",
            "                                          aten::reshape         0.01%      28.000us         0.01%      29.000us      29.000us             1  \n",
            "                                   aten::_reshape_alias         0.00%       1.000us         0.00%       1.000us       1.000us             1  \n",
            "                                     aten::index_select         0.00%      18.000us         0.01%      40.000us      40.000us             1  \n",
            "                                            aten::empty         0.00%       5.000us         0.00%       5.000us       5.000us             1  \n",
            "                                          aten::resize_         0.00%       7.000us         0.00%       7.000us       7.000us             1  \n",
            "                                       cudaLaunchKernel         0.00%      10.000us         0.00%      10.000us      10.000us             1  \n",
            "                                             aten::view         0.00%       1.000us         0.00%       1.000us       1.000us             1  \n",
            "                                              aten::add         0.00%      17.000us         0.01%      23.000us      23.000us             1  \n",
            "                                       cudaLaunchKernel         0.00%       6.000us         0.00%       6.000us       6.000us             1  \n",
            "                                       aten::layer_norm         0.00%       5.000us         0.02%      62.000us      62.000us             1  \n",
            "                                aten::native_layer_norm         0.01%      27.000us         0.01%      57.000us      57.000us             1  \n",
            "                                            aten::empty         0.00%       6.000us         0.00%       6.000us       6.000us             1  \n",
            "                                            aten::empty         0.00%       6.000us         0.00%       6.000us       6.000us             1  \n",
            "                                            aten::empty         0.00%       6.000us         0.00%       6.000us       6.000us             1  \n",
            "                                       cudaLaunchKernel         0.00%      11.000us         0.00%      11.000us      11.000us             1  \n",
            "                                             aten::view         0.00%       1.000us         0.00%       1.000us       1.000us             1  \n",
            "                                             aten::view         0.00%       0.000us         0.00%       0.000us       0.000us             1  \n",
            "                                          aten::dropout         0.00%       1.000us         0.00%       1.000us       1.000us             1  \n",
            "                                       aten::zeros_like         0.00%       6.000us         0.01%      40.000us      40.000us             1  \n",
            "                                       aten::empty_like         0.00%       2.000us         0.00%       9.000us       9.000us             1  \n",
            "                                    aten::empty_strided         0.00%       7.000us         0.00%       7.000us       7.000us             1  \n",
            "                                            aten::zero_         0.00%       6.000us         0.01%      25.000us      25.000us             1  \n",
            "                                            aten::fill_         0.00%      10.000us         0.00%      19.000us      19.000us             1  \n",
            "                                       cudaLaunchKernel         0.00%       9.000us         0.00%       9.000us       9.000us             1  \n",
            "                                     aten::masked_fill_         0.00%      17.000us         0.01%      23.000us      23.000us             1  \n",
            "                                       cudaLaunchKernel         0.00%       6.000us         0.00%       6.000us       6.000us             1  \n",
            "                   aten::_transformer_encoder_layer_fwd         0.02%      83.000us         0.32%       1.305ms       1.305ms             1  \n",
            "                     aten::_native_multi_head_attention         0.06%     263.000us         0.24%     963.000us     963.000us             1  \n",
            "                                             aten::view         0.00%       2.000us         0.00%       2.000us       2.000us             1  \n",
            "                                        aten::transpose         0.00%       6.000us         0.00%      10.000us      10.000us             1  \n",
            "                                       aten::as_strided         0.00%       4.000us         0.00%       4.000us       4.000us             1  \n",
            "                                             aten::view         0.00%       0.000us         0.00%       0.000us       0.000us             1  \n",
            "                                        aten::transpose         0.00%       1.000us         0.00%       1.000us       1.000us             1  \n",
            "                                       aten::as_strided         0.00%       0.000us         0.00%       0.000us       0.000us             1  \n",
            "                                             aten::view         0.00%       0.000us         0.00%       0.000us       0.000us             1  \n",
            "                                        aten::transpose         0.00%       1.000us         0.00%       1.000us       1.000us             1  \n",
            "                                       aten::as_strided         0.00%       0.000us         0.00%       0.000us       0.000us             1  \n",
            "                                                aten::t         0.00%       1.000us         0.00%       4.000us       4.000us             1  \n",
            "                                        aten::transpose         0.00%       2.000us         0.00%       2.000us       2.000us             1  \n",
            "                                       aten::as_strided         0.00%       1.000us         0.00%       1.000us       1.000us             1  \n",
            "                                          aten::reshape         0.00%       6.000us         0.00%       6.000us       6.000us             1  \n",
            "                                   aten::_reshape_alias         0.00%       2.000us         0.00%       2.000us       2.000us             1  \n",
            "                                               aten::mm         0.01%      58.000us         0.02%      77.000us      77.000us             1  \n",
            "          cudaOccupancyMaxActiveBlocksPerMultiprocessor         0.00%       6.000us         0.00%       6.000us       6.000us             1  \n",
            "                                       cudaLaunchKernel         0.00%      13.000us         0.00%      13.000us      13.000us             1  \n",
            "                                     aten::_unsafe_view         0.00%       2.000us         0.00%       2.000us       2.000us             1  \n",
            "                      aten::_transform_bias_rescale_qkv         0.01%      22.000us         0.01%      60.000us      60.000us             1  \n",
            "                                            aten::empty         0.00%       6.000us         0.00%       6.000us       6.000us             1  \n",
            "                                       cudaLaunchKernel         0.00%      14.000us         0.00%      14.000us      14.000us             1  \n",
            "                                             aten::view         0.00%       1.000us         0.00%       1.000us       1.000us             1  \n",
            "                                           aten::narrow         0.00%       6.000us         0.00%      10.000us      10.000us             1  \n",
            "                                            aten::slice         0.00%       4.000us         0.00%       4.000us       4.000us             1  \n",
            "                                       aten::as_strided         0.00%       0.000us         0.00%       0.000us       0.000us             1  \n",
            "                                           aten::narrow         0.00%       2.000us         0.00%       4.000us       4.000us             1  \n",
            "                                            aten::slice         0.00%       1.000us         0.00%       2.000us       2.000us             1  \n",
            "                                       aten::as_strided         0.00%       1.000us         0.00%       1.000us       1.000us             1  \n",
            "                                           aten::narrow         0.00%       1.000us         0.00%       3.000us       3.000us             1  \n",
            "                                            aten::slice         0.00%       2.000us         0.00%       2.000us       2.000us             1  \n",
            "                                       aten::as_strided         0.00%       0.000us         0.00%       0.000us       0.000us             1  \n",
            "                                             aten::view         0.00%       0.000us         0.00%       0.000us       0.000us             1  \n",
            "                                             aten::view         0.00%       0.000us         0.00%       0.000us       0.000us             1  \n",
            "                                        aten::transpose         0.00%       1.000us         0.00%       1.000us       1.000us             1  \n",
            "                                       aten::as_strided         0.00%       0.000us         0.00%       0.000us       0.000us             1  \n",
            "                                              aten::bmm         0.01%      46.000us         0.01%      55.000us      55.000us             1  \n",
            "          cudaOccupancyMaxActiveBlocksPerMultiprocessor         0.00%       1.000us         0.00%       1.000us       1.000us             1  \n",
            "          cudaOccupancyMaxActiveBlocksPerMultiprocessor         0.00%       1.000us         0.00%       1.000us       1.000us             1  \n",
            "          cudaOccupancyMaxActiveBlocksPerMultiprocessor         0.00%       0.000us         0.00%       0.000us       0.000us             1  \n",
            "          cudaOccupancyMaxActiveBlocksPerMultiprocessor         0.00%       0.000us         0.00%       0.000us       0.000us             1  \n",
            "          cudaOccupancyMaxActiveBlocksPerMultiprocessor         0.00%       0.000us         0.00%       0.000us       0.000us             1  \n",
            "          cudaOccupancyMaxActiveBlocksPerMultiprocessor         0.00%       0.000us         0.00%       0.000us       0.000us             1  \n",
            "                                       cudaLaunchKernel         0.00%       7.000us         0.00%       7.000us       7.000us             1  \n",
            "                                             aten::view         0.00%       1.000us         0.00%       1.000us       1.000us             1  \n",
            "                                               aten::to         0.00%       2.000us         0.02%      99.000us      99.000us             1  \n",
            "                                         aten::_to_copy         0.00%       6.000us         0.02%      97.000us      97.000us             1  \n",
            "                                    aten::empty_strided         0.00%       8.000us         0.00%       8.000us       8.000us             1  \n",
            "-------------------------------------------------------  ------------  ------------  ------------  ------------  ------------  ------------  \n",
            "Self CPU time total: 406.571ms\n",
            "\n"
          ]
        }
      ],
      "source": [
        "\"\"\" Run and benchmark inference on GPU \"\"\"\n",
        "model.to(device)\n",
        "model_input = model_input.to(device)\n",
        "\n",
        "print(\"slow path:\")\n",
        "print(\"==========\")\n",
        "with torch.autograd.profiler.profile(use_cuda=False) as prof:\n",
        "  for i in range(ITERATIONS):\n",
        "    output = model(model_input)\n",
        "print(prof)\n",
        "\n",
        "model.eval()\n",
        "\n",
        "print(\"fast path:\")\n",
        "print(\"==========\")\n",
        "with torch.autograd.profiler.profile(use_cuda=False) as prof:\n",
        "  with torch.no_grad():\n",
        "    for i in range(ITERATIONS):\n",
        "      output = model(model_input)\n",
        "print(prof)"
      ]
    },
    {
      "cell_type": "markdown",
      "metadata": {
        "id": "6-e5JZ7vihtB"
      },
      "source": [
        "<h3 style=\"color:#BF66F2 \"> <u> Benchmark # 3: </u> </h3>\n",
        "Enabling sparsity support"
      ]
    },
    {
      "cell_type": "code",
      "execution_count": 15,
      "metadata": {
        "id": "ej3wdS_xcSiU"
      },
      "outputs": [],
      "source": [
        "model.encoder.transformer.layers.enable_nested_tensor = True"
      ]
    },
    {
      "cell_type": "code",
      "execution_count": 16,
      "metadata": {
        "colab": {
          "base_uri": "https://localhost:8080/"
        },
        "id": "ltCict_TcSlo",
        "outputId": "62324f6d-c965-436f-b149-0d5d5ec2b46e"
      },
      "outputs": [
        {
          "name": "stdout",
          "output_type": "stream",
          "text": [
            "slow path:\n",
            "==========\n",
            "-------------------------------------------------------  ------------  ------------  ------------  ------------  ------------  ------------  ------------  ------------  ------------  ------------  \n",
            "                                                   Name    Self CPU %      Self CPU   CPU total %     CPU total  CPU time avg     Self CUDA   Self CUDA %    CUDA total  CUDA time avg    # of Calls  \n",
            "-------------------------------------------------------  ------------  ------------  ------------  ------------  ------------  ------------  ------------  ------------  ------------  ------------  \n",
            "                                               aten::eq         0.02%      82.000us         0.02%     104.000us     104.000us     111.000us         0.01%     111.000us     111.000us             1  \n",
            "                                       cudaLaunchKernel         0.00%      22.000us         0.00%      22.000us      22.000us       0.000us         0.00%       0.000us       0.000us             1  \n",
            "                                        aten::embedding         0.01%      56.000us         0.03%     153.000us     153.000us      41.000us         0.01%     157.000us     157.000us             1  \n",
            "                                          aten::reshape         0.00%      20.000us         0.00%      23.000us      23.000us      20.000us         0.00%      27.000us      27.000us             1  \n",
            "                                   aten::_reshape_alias         0.00%       3.000us         0.00%       3.000us       3.000us       7.000us         0.00%       7.000us       7.000us             1  \n",
            "                                     aten::index_select         0.01%      41.000us         0.01%      73.000us      73.000us      59.000us         0.01%      87.000us      87.000us             1  \n",
            "                                            aten::empty         0.00%      11.000us         0.00%      11.000us      11.000us      15.000us         0.00%      15.000us      15.000us             1  \n",
            "                                          aten::resize_         0.00%      10.000us         0.00%      10.000us      10.000us      13.000us         0.00%      13.000us      13.000us             1  \n",
            "                                       cudaLaunchKernel         0.00%      11.000us         0.00%      11.000us      11.000us       0.000us         0.00%       0.000us       0.000us             1  \n",
            "                                             aten::view         0.00%       1.000us         0.00%       1.000us       1.000us       2.000us         0.00%       2.000us       2.000us             1  \n",
            "                                               aten::ne         0.00%      21.000us         0.00%      26.000us      26.000us      31.000us         0.00%      31.000us      31.000us             1  \n",
            "                                       cudaLaunchKernel         0.00%       5.000us         0.00%       5.000us       5.000us       0.000us         0.00%       0.000us       0.000us             1  \n",
            "                                               aten::to         0.00%      11.000us         0.01%      67.000us      67.000us      10.000us         0.00%      70.000us      70.000us             1  \n",
            "                                         aten::_to_copy         0.00%      26.000us         0.01%      56.000us      56.000us      21.000us         0.00%      60.000us      60.000us             1  \n",
            "                                    aten::empty_strided         0.00%       8.000us         0.00%       8.000us       8.000us      12.000us         0.00%      12.000us      12.000us             1  \n",
            "                                            aten::copy_         0.00%      15.000us         0.00%      22.000us      22.000us      27.000us         0.00%      27.000us      27.000us             1  \n",
            "                                       cudaLaunchKernel         0.00%       7.000us         0.00%       7.000us       7.000us       0.000us         0.00%       0.000us       0.000us             1  \n",
            "                                           aten::cumsum         0.00%      26.000us         0.01%      33.000us      33.000us      36.000us         0.00%      39.000us      39.000us             1  \n",
            "                                               aten::to         0.00%       0.000us         0.00%       0.000us       0.000us       3.000us         0.00%       3.000us       3.000us             1  \n",
            "                                       cudaLaunchKernel         0.00%       7.000us         0.00%       7.000us       7.000us       0.000us         0.00%       0.000us       0.000us             1  \n",
            "                                              aten::mul         0.00%      16.000us         0.00%      23.000us      23.000us      27.000us         0.00%      27.000us      27.000us             1  \n",
            "                                       cudaLaunchKernel         0.00%       7.000us         0.00%       7.000us       7.000us       0.000us         0.00%       0.000us       0.000us             1  \n",
            "                                              aten::add         0.00%      16.000us         0.00%      23.000us      23.000us      27.000us         0.00%      27.000us      27.000us             1  \n",
            "                                       cudaLaunchKernel         0.00%       7.000us         0.00%       7.000us       7.000us       0.000us         0.00%       0.000us       0.000us             1  \n",
            "                                        aten::embedding         0.01%      37.000us         0.02%      94.000us      94.000us      24.000us         0.00%     100.000us     100.000us             1  \n",
            "                                          aten::reshape         0.00%      12.000us         0.00%      13.000us      13.000us      12.000us         0.00%      17.000us      17.000us             1  \n",
            "                                   aten::_reshape_alias         0.00%       1.000us         0.00%       1.000us       1.000us       5.000us         0.00%       5.000us       5.000us             1  \n",
            "                                     aten::index_select         0.01%      28.000us         0.01%      43.000us      43.000us      40.000us         0.01%      57.000us      57.000us             1  \n",
            "                                            aten::empty         0.00%       4.000us         0.00%       4.000us       4.000us       8.000us         0.00%       8.000us       8.000us             1  \n",
            "                                          aten::resize_         0.00%       5.000us         0.00%       5.000us       5.000us       9.000us         0.00%       9.000us       9.000us             1  \n",
            "                                       cudaLaunchKernel         0.00%       6.000us         0.00%       6.000us       6.000us       0.000us         0.00%       0.000us       0.000us             1  \n",
            "                                             aten::view         0.00%       1.000us         0.00%       1.000us       1.000us       2.000us         0.00%       2.000us       2.000us             1  \n",
            "                                              aten::add         0.00%      15.000us         0.00%      19.000us      19.000us      29.000us         0.00%      29.000us      29.000us             1  \n",
            "                                       cudaLaunchKernel         0.00%       4.000us         0.00%       4.000us       4.000us       0.000us         0.00%       0.000us       0.000us             1  \n",
            "                                       aten::layer_norm         0.00%      12.000us         0.02%     102.000us     102.000us      11.000us         0.00%     105.000us     105.000us             1  \n",
            "                                aten::native_layer_norm         0.01%      69.000us         0.02%      90.000us      90.000us      65.000us         0.01%      94.000us      94.000us             1  \n",
            "                                            aten::empty         0.00%       5.000us         0.00%       5.000us       5.000us       9.000us         0.00%       9.000us       9.000us             1  \n",
            "                                            aten::empty         0.00%       4.000us         0.00%       4.000us       4.000us       7.000us         0.00%       7.000us       7.000us             1  \n",
            "                                            aten::empty         0.00%       4.000us         0.00%       4.000us       4.000us       8.000us         0.00%       8.000us       8.000us             1  \n",
            "                                       cudaLaunchKernel         0.00%       7.000us         0.00%       7.000us       7.000us       0.000us         0.00%       0.000us       0.000us             1  \n",
            "                                             aten::view         0.00%       1.000us         0.00%       1.000us       1.000us       2.000us         0.00%       2.000us       2.000us             1  \n",
            "                                             aten::view         0.00%       0.000us         0.00%       0.000us       0.000us       3.000us         0.00%       3.000us       3.000us             1  \n",
            "                                          aten::dropout         0.00%       1.000us         0.00%       1.000us       1.000us       5.000us         0.00%       5.000us       5.000us             1  \n",
            "                                       aten::zeros_like         0.00%      23.000us         0.02%      96.000us      96.000us      18.000us         0.00%     101.000us     101.000us             1  \n",
            "                                       aten::empty_like         0.00%       9.000us         0.00%      17.000us      17.000us      10.000us         0.00%      21.000us      21.000us             1  \n",
            "                                    aten::empty_strided         0.00%       8.000us         0.00%       8.000us       8.000us      11.000us         0.00%      11.000us      11.000us             1  \n",
            "                                            aten::zero_         0.00%      16.000us         0.01%      56.000us      56.000us      14.000us         0.00%      62.000us      62.000us             1  \n",
            "                                            aten::fill_         0.01%      28.000us         0.01%      40.000us      40.000us      48.000us         0.01%      48.000us      48.000us             1  \n",
            "                                       cudaLaunchKernel         0.00%      12.000us         0.00%      12.000us      12.000us       0.000us         0.00%       0.000us       0.000us             1  \n",
            "                                     aten::masked_fill_         0.00%      17.000us         0.00%      23.000us      23.000us      27.000us         0.00%      27.000us      27.000us             1  \n",
            "                                       cudaLaunchKernel         0.00%       6.000us         0.00%       6.000us       6.000us       0.000us         0.00%       0.000us       0.000us             1  \n",
            "                                        aten::transpose         0.00%      23.000us         0.01%      27.000us      27.000us      22.000us         0.00%      30.000us      30.000us             1  \n",
            "                                       aten::as_strided         0.00%       4.000us         0.00%       4.000us       4.000us       8.000us         0.00%       8.000us       8.000us             1  \n",
            "                                           aten::linear         0.01%      33.000us         0.06%     295.000us     295.000us      19.000us         0.00%     789.000us     789.000us             1  \n",
            "                                                aten::t         0.00%      14.000us         0.00%      25.000us      25.000us      15.000us         0.00%      29.000us      29.000us             1  \n",
            "                                        aten::transpose         0.00%      10.000us         0.00%      11.000us      11.000us      10.000us         0.00%      14.000us      14.000us             1  \n",
            "                                       aten::as_strided         0.00%       1.000us         0.00%       1.000us       1.000us       4.000us         0.00%       4.000us       4.000us             1  \n",
            "                                           aten::matmul         0.01%      33.000us         0.04%     212.000us     212.000us      21.000us         0.00%     707.000us     707.000us             1  \n",
            "                                          aten::reshape         0.00%      23.000us         0.02%      96.000us      96.000us      17.000us         0.00%      99.000us      99.000us             1  \n",
            "                                            aten::clone         0.00%      25.000us         0.01%      67.000us      67.000us      19.000us         0.00%      72.000us      72.000us             1  \n",
            "                                       aten::empty_like         0.00%      10.000us         0.00%      19.000us      19.000us      10.000us         0.00%      22.000us      22.000us             1  \n",
            "                                            aten::empty         0.00%       9.000us         0.00%       9.000us       9.000us      12.000us         0.00%      12.000us      12.000us             1  \n",
            "                                            aten::copy_         0.00%      15.000us         0.00%      23.000us      23.000us      31.000us         0.00%      31.000us      31.000us             1  \n",
            "                                       cudaLaunchKernel         0.00%       8.000us         0.00%       8.000us       8.000us       0.000us         0.00%       0.000us       0.000us             1  \n",
            "                                     aten::_unsafe_view         0.00%       6.000us         0.00%       6.000us       6.000us      10.000us         0.00%      10.000us      10.000us             1  \n",
            "                                               aten::mm         0.01%      67.000us         0.02%      80.000us      80.000us     585.000us         0.08%     585.000us     585.000us             1  \n",
            "          cudaOccupancyMaxActiveBlocksPerMultiprocessor         0.00%       5.000us         0.00%       5.000us       5.000us       0.000us         0.00%       0.000us       0.000us             1  \n",
            "                                       cudaLaunchKernel         0.00%       8.000us         0.00%       8.000us       8.000us       0.000us         0.00%       0.000us       0.000us             1  \n",
            "                                     aten::_unsafe_view         0.00%       3.000us         0.00%       3.000us       3.000us       2.000us         0.00%       2.000us       2.000us             1  \n",
            "                                             aten::add_         0.00%      19.000us         0.00%      25.000us      25.000us      34.000us         0.00%      34.000us      34.000us             1  \n",
            "                                       cudaLaunchKernel         0.00%       6.000us         0.00%       6.000us       6.000us       0.000us         0.00%       0.000us       0.000us             1  \n",
            "                                        aten::unflatten         0.00%      10.000us         0.00%      16.000us      16.000us       6.000us         0.00%       8.000us       8.000us             1  \n",
            "                                             aten::view         0.00%       6.000us         0.00%       6.000us       6.000us       2.000us         0.00%       2.000us       2.000us             1  \n",
            "                                        aten::unsqueeze         0.00%      15.000us         0.00%      16.000us      16.000us       6.000us         0.00%       8.000us       8.000us             1  \n",
            "                                       aten::as_strided         0.00%       1.000us         0.00%       1.000us       1.000us       2.000us         0.00%       2.000us       2.000us             1  \n",
            "                                        aten::transpose         0.00%      12.000us         0.00%      13.000us      13.000us       6.000us         0.00%       8.000us       8.000us             1  \n",
            "                                       aten::as_strided         0.00%       1.000us         0.00%       1.000us       1.000us       2.000us         0.00%       2.000us       2.000us             1  \n",
            "                                          aten::squeeze         0.00%      13.000us         0.00%      14.000us      14.000us       6.000us         0.00%       8.000us       8.000us             1  \n",
            "                                       aten::as_strided         0.00%       1.000us         0.00%       1.000us       1.000us       2.000us         0.00%       2.000us       2.000us             1  \n",
            "                                       aten::contiguous         0.00%      10.000us         0.01%      61.000us      61.000us       6.000us         0.00%      60.000us      60.000us             1  \n",
            "                                            aten::clone         0.00%      20.000us         0.01%      51.000us      51.000us      10.000us         0.00%      54.000us      54.000us             1  \n",
            "                                       aten::empty_like         0.00%      10.000us         0.00%      16.000us      16.000us       6.000us         0.00%       8.000us       8.000us             1  \n",
            "                                            aten::empty         0.00%       6.000us         0.00%       6.000us       6.000us       2.000us         0.00%       2.000us       2.000us             1  \n",
            "                                            aten::copy_         0.00%      10.000us         0.00%      15.000us      15.000us      36.000us         0.00%      36.000us      36.000us             1  \n",
            "                                       cudaLaunchKernel         0.00%       5.000us         0.00%       5.000us       5.000us       0.000us         0.00%       0.000us       0.000us             1  \n",
            "                                           aten::select         0.00%      15.000us         0.00%      16.000us      16.000us       6.000us         0.00%       8.000us       8.000us             1  \n",
            "                                       aten::as_strided         0.00%       1.000us         0.00%       1.000us       1.000us       2.000us         0.00%       2.000us       2.000us             1  \n",
            "                                           aten::select         0.00%      11.000us         0.00%      11.000us      11.000us       6.000us         0.00%       8.000us       8.000us             1  \n",
            "                                       aten::as_strided         0.00%       0.000us         0.00%       0.000us       0.000us       2.000us         0.00%       2.000us       2.000us             1  \n",
            "                                           aten::select         0.00%      10.000us         0.00%      10.000us      10.000us       6.000us         0.00%       8.000us       8.000us             1  \n",
            "                                       aten::as_strided         0.00%       0.000us         0.00%       0.000us       0.000us       2.000us         0.00%       2.000us       2.000us             1  \n",
            "                                             aten::view         0.00%       3.000us         0.00%       3.000us       3.000us       2.000us         0.00%       2.000us       2.000us             1  \n",
            "                                        aten::transpose         0.00%      12.000us         0.00%      12.000us      12.000us       6.000us         0.00%       8.000us       8.000us             1  \n",
            "                                       aten::as_strided         0.00%       0.000us         0.00%       0.000us       0.000us       2.000us         0.00%       2.000us       2.000us             1  \n",
            "                                             aten::view         0.00%       2.000us         0.00%       2.000us       2.000us       3.000us         0.00%       3.000us       3.000us             1  \n",
            "                                        aten::transpose         0.00%      10.000us         0.00%      10.000us      10.000us       6.000us         0.00%       8.000us       8.000us             1  \n",
            "                                       aten::as_strided         0.00%       0.000us         0.00%       0.000us       0.000us       2.000us         0.00%       2.000us       2.000us             1  \n",
            "                                             aten::view         0.01%      31.000us         0.01%      31.000us      31.000us       2.000us         0.00%       2.000us       2.000us             1  \n",
            "                                        aten::transpose         0.00%      11.000us         0.00%      12.000us      12.000us       7.000us         0.00%       9.000us       9.000us             1  \n",
            "                                       aten::as_strided         0.00%       1.000us         0.00%       1.000us       1.000us       2.000us         0.00%       2.000us       2.000us             1  \n",
            "-------------------------------------------------------  ------------  ------------  ------------  ------------  ------------  ------------  ------------  ------------  ------------  ------------  \n",
            "Self CPU time total: 522.607ms\n",
            "Self CUDA time total: 744.767ms\n",
            "\n",
            "fast path:\n",
            "==========\n",
            "-------------------------------------------------------  ------------  ------------  ------------  ------------  ------------  ------------  ------------  ------------  ------------  ------------  \n",
            "                                                   Name    Self CPU %      Self CPU   CPU total %     CPU total  CPU time avg     Self CUDA   Self CUDA %    CUDA total  CUDA time avg    # of Calls  \n",
            "-------------------------------------------------------  ------------  ------------  ------------  ------------  ------------  ------------  ------------  ------------  ------------  ------------  \n",
            "                                               aten::eq         0.01%     129.000us         0.02%     152.000us     152.000us     158.000us         0.02%     158.000us     158.000us             1  \n",
            "                                       cudaLaunchKernel         0.00%      23.000us         0.00%      23.000us      23.000us       0.000us         0.00%       0.000us       0.000us             1  \n",
            "                                        aten::embedding         0.00%      45.000us         0.01%     146.000us     146.000us      32.000us         0.00%     150.000us     150.000us             1  \n",
            "                                          aten::reshape         0.00%      22.000us         0.00%      26.000us      26.000us      22.000us         0.00%      30.000us      30.000us             1  \n",
            "                                   aten::_reshape_alias         0.00%       4.000us         0.00%       4.000us       4.000us       8.000us         0.00%       8.000us       8.000us             1  \n",
            "                                     aten::index_select         0.00%      41.000us         0.01%      71.000us      71.000us      62.000us         0.01%      85.000us      85.000us             1  \n",
            "                                            aten::empty         0.00%       7.000us         0.00%       7.000us       7.000us      10.000us         0.00%      10.000us      10.000us             1  \n",
            "                                          aten::resize_         0.00%      10.000us         0.00%      10.000us      10.000us      13.000us         0.00%      13.000us      13.000us             1  \n",
            "                                       cudaLaunchKernel         0.00%      13.000us         0.00%      13.000us      13.000us       0.000us         0.00%       0.000us       0.000us             1  \n",
            "                                             aten::view         0.00%       4.000us         0.00%       4.000us       4.000us       3.000us         0.00%       3.000us       3.000us             1  \n",
            "                                               aten::ne         0.00%      22.000us         0.00%      28.000us      28.000us      31.000us         0.00%      31.000us      31.000us             1  \n",
            "                                       cudaLaunchKernel         0.00%       6.000us         0.00%       6.000us       6.000us       0.000us         0.00%       0.000us       0.000us             1  \n",
            "                                               aten::to         0.00%      12.000us         0.01%      70.000us      70.000us      11.000us         0.00%      73.000us      73.000us             1  \n",
            "                                         aten::_to_copy         0.00%      28.000us         0.01%      58.000us      58.000us      22.000us         0.00%      62.000us      62.000us             1  \n",
            "                                    aten::empty_strided         0.00%       8.000us         0.00%       8.000us       8.000us      12.000us         0.00%      12.000us      12.000us             1  \n",
            "                                            aten::copy_         0.00%      15.000us         0.00%      22.000us      22.000us      28.000us         0.00%      28.000us      28.000us             1  \n",
            "                                       cudaLaunchKernel         0.00%       7.000us         0.00%       7.000us       7.000us       0.000us         0.00%       0.000us       0.000us             1  \n",
            "                                           aten::cumsum         0.00%      25.000us         0.00%      32.000us      32.000us      35.000us         0.00%      38.000us      38.000us             1  \n",
            "                                               aten::to         0.00%       0.000us         0.00%       0.000us       0.000us       3.000us         0.00%       3.000us       3.000us             1  \n",
            "                                       cudaLaunchKernel         0.00%       7.000us         0.00%       7.000us       7.000us       0.000us         0.00%       0.000us       0.000us             1  \n",
            "                                              aten::mul         0.00%      15.000us         0.00%      20.000us      20.000us      24.000us         0.00%      24.000us      24.000us             1  \n",
            "                                       cudaLaunchKernel         0.00%       5.000us         0.00%       5.000us       5.000us       0.000us         0.00%       0.000us       0.000us             1  \n",
            "                                              aten::add         0.00%      15.000us         0.00%      21.000us      21.000us      25.000us         0.00%      25.000us      25.000us             1  \n",
            "                                       cudaLaunchKernel         0.00%       6.000us         0.00%       6.000us       6.000us       0.000us         0.00%       0.000us       0.000us             1  \n",
            "                                        aten::embedding         0.00%      30.000us         0.01%      86.000us      86.000us      20.000us         0.00%      94.000us      94.000us             1  \n",
            "                                          aten::reshape         0.00%      12.000us         0.00%      13.000us      13.000us      11.000us         0.00%      16.000us      16.000us             1  \n",
            "                                   aten::_reshape_alias         0.00%       1.000us         0.00%       1.000us       1.000us       5.000us         0.00%       5.000us       5.000us             1  \n",
            "                                     aten::index_select         0.00%      27.000us         0.00%      42.000us      42.000us      41.000us         0.00%      56.000us      56.000us             1  \n",
            "                                            aten::empty         0.00%       4.000us         0.00%       4.000us       4.000us       7.000us         0.00%       7.000us       7.000us             1  \n",
            "                                          aten::resize_         0.00%       5.000us         0.00%       5.000us       5.000us       8.000us         0.00%       8.000us       8.000us             1  \n",
            "                                       cudaLaunchKernel         0.00%       6.000us         0.00%       6.000us       6.000us       0.000us         0.00%       0.000us       0.000us             1  \n",
            "                                             aten::view         0.00%       1.000us         0.00%       1.000us       1.000us       2.000us         0.00%       2.000us       2.000us             1  \n",
            "                                              aten::add         0.00%      12.000us         0.00%      17.000us      17.000us      27.000us         0.00%      27.000us      27.000us             1  \n",
            "                                       cudaLaunchKernel         0.00%       5.000us         0.00%       5.000us       5.000us       0.000us         0.00%       0.000us       0.000us             1  \n",
            "                                       aten::layer_norm         0.00%      12.000us         0.01%      93.000us      93.000us      12.000us         0.00%      96.000us      96.000us             1  \n",
            "                                aten::native_layer_norm         0.01%      64.000us         0.01%      81.000us      81.000us      56.000us         0.01%      84.000us      84.000us             1  \n",
            "                                            aten::empty         0.00%       4.000us         0.00%       4.000us       4.000us       9.000us         0.00%       9.000us       9.000us             1  \n",
            "                                            aten::empty         0.00%       3.000us         0.00%       3.000us       3.000us       7.000us         0.00%       7.000us       7.000us             1  \n",
            "                                            aten::empty         0.00%       3.000us         0.00%       3.000us       3.000us       7.000us         0.00%       7.000us       7.000us             1  \n",
            "                                       cudaLaunchKernel         0.00%       6.000us         0.00%       6.000us       6.000us       0.000us         0.00%       0.000us       0.000us             1  \n",
            "                                             aten::view         0.00%       1.000us         0.00%       1.000us       1.000us       2.000us         0.00%       2.000us       2.000us             1  \n",
            "                                             aten::view         0.00%       0.000us         0.00%       0.000us       0.000us       3.000us         0.00%       3.000us       3.000us             1  \n",
            "                                          aten::dropout         0.00%       1.000us         0.00%       1.000us       1.000us       4.000us         0.00%       4.000us       4.000us             1  \n",
            "                                       aten::zeros_like         0.00%      21.000us         0.01%      64.000us      64.000us      19.000us         0.00%      68.000us      68.000us             1  \n",
            "                                       aten::empty_like         0.00%      10.000us         0.00%      15.000us      15.000us       9.000us         0.00%      18.000us      18.000us             1  \n",
            "                                    aten::empty_strided         0.00%       5.000us         0.00%       5.000us       5.000us       9.000us         0.00%       9.000us       9.000us             1  \n",
            "                                            aten::zero_         0.00%      12.000us         0.00%      28.000us      28.000us      10.000us         0.00%      31.000us      31.000us             1  \n",
            "                                            aten::fill_         0.00%       9.000us         0.00%      16.000us      16.000us      21.000us         0.00%      21.000us      21.000us             1  \n",
            "                                       cudaLaunchKernel         0.00%       7.000us         0.00%       7.000us       7.000us       0.000us         0.00%       0.000us       0.000us             1  \n",
            "                                     aten::masked_fill_         0.00%      15.000us         0.00%      20.000us      20.000us      24.000us         0.00%      24.000us      24.000us             1  \n",
            "                                       cudaLaunchKernel         0.00%       5.000us         0.00%       5.000us       5.000us       0.000us         0.00%       0.000us       0.000us             1  \n",
            "                                      aten::logical_not         0.00%      34.000us         0.52%       5.122ms       5.122ms      21.000us         0.00%       5.126ms       5.126ms             1  \n",
            "                                            aten::empty         0.00%       4.000us         0.00%       4.000us       4.000us       8.000us         0.00%       8.000us       8.000us             1  \n",
            "                                      aten::logical_not         0.51%       5.056ms         0.51%       5.084ms       5.084ms       5.088ms         0.51%       5.097ms       5.097ms             1  \n",
            "                                          aten::resize_         0.00%       5.000us         0.00%       5.000us       5.000us       9.000us         0.00%       9.000us       9.000us             1  \n",
            "                                       cudaLaunchKernel         0.00%      23.000us         0.00%      23.000us      23.000us       0.000us         0.00%       0.000us       0.000us             1  \n",
            "                         aten::_nested_tensor_from_mask         0.02%     176.000us         0.74%       7.362ms       7.362ms     118.000us         0.01%       7.366ms       7.366ms             1  \n",
            "                                            aten::zeros         0.00%      22.000us         0.01%      59.000us      59.000us      18.000us         0.00%      62.000us      62.000us             1  \n",
            "                                            aten::empty         0.00%       9.000us         0.00%       9.000us       9.000us      12.000us         0.00%      12.000us      12.000us             1  \n",
            "                                            aten::zero_         0.00%      12.000us         0.00%      28.000us      28.000us      11.000us         0.00%      32.000us      32.000us             1  \n",
            "                                            aten::fill_         0.00%       9.000us         0.00%      16.000us      16.000us      21.000us         0.00%      21.000us      21.000us             1  \n",
            "                                       cudaLaunchKernel         0.00%       7.000us         0.00%       7.000us       7.000us       0.000us         0.00%       0.000us       0.000us             1  \n",
            "                                              aten::cat         0.30%       2.956ms         0.30%       2.977ms       2.977ms       2.983ms         0.30%       2.983ms       2.983ms             1  \n",
            "                                       cudaLaunchKernel         0.00%      21.000us         0.00%      21.000us      21.000us       0.000us         0.00%       0.000us       0.000us             1  \n",
            "                                               aten::to         0.00%      10.000us         0.01%      67.000us      67.000us      10.000us         0.00%      70.000us      70.000us             1  \n",
            "                                         aten::_to_copy         0.00%      24.000us         0.01%      57.000us      57.000us      17.000us         0.00%      60.000us      60.000us             1  \n",
            "                                    aten::empty_strided         0.00%      11.000us         0.00%      11.000us      11.000us      15.000us         0.00%      15.000us      15.000us             1  \n",
            "                                            aten::copy_         0.00%      14.000us         0.00%      22.000us      22.000us      28.000us         0.00%      28.000us      28.000us             1  \n",
            "                                       cudaLaunchKernel         0.00%       8.000us         0.00%       8.000us       8.000us       0.000us         0.00%       0.000us       0.000us             1  \n",
            "                                           aten::argmin         0.31%       3.077ms         0.31%       3.095ms       3.095ms       3.096ms         0.31%       3.102ms       3.102ms             1  \n",
            "                                       aten::as_strided         0.00%       2.000us         0.00%       2.000us       2.000us       6.000us         0.00%       6.000us       6.000us             1  \n",
            "                                       cudaLaunchKernel         0.00%      16.000us         0.00%      16.000us      16.000us       0.000us         0.00%       0.000us       0.000us             1  \n",
            "                                           aten::cumsum         0.00%      25.000us         0.01%      85.000us      85.000us      30.000us         0.00%      88.000us      88.000us             1  \n",
            "                                               aten::to         0.00%      11.000us         0.01%      55.000us      55.000us      10.000us         0.00%      58.000us      58.000us             1  \n",
            "                                         aten::_to_copy         0.00%      21.000us         0.00%      44.000us      44.000us      17.000us         0.00%      48.000us      48.000us             1  \n",
            "                                    aten::empty_strided         0.00%       6.000us         0.00%       6.000us       6.000us      10.000us         0.00%      10.000us      10.000us             1  \n",
            "                                            aten::copy_         0.00%      11.000us         0.00%      17.000us      17.000us      21.000us         0.00%      21.000us      21.000us             1  \n",
            "                                       cudaLaunchKernel         0.00%       6.000us         0.00%       6.000us       6.000us       0.000us         0.00%       0.000us       0.000us             1  \n",
            "                                       cudaLaunchKernel         0.00%       5.000us         0.00%       5.000us       5.000us       0.000us         0.00%       0.000us       0.000us             1  \n",
            "                                           aten::select         0.00%      16.000us         0.00%      18.000us      18.000us      16.000us         0.00%      22.000us      22.000us             1  \n",
            "                                       aten::as_strided         0.00%       2.000us         0.00%       2.000us       2.000us       6.000us         0.00%       6.000us       6.000us             1  \n",
            "                                               aten::to         0.00%       1.000us         0.00%       1.000us       1.000us       5.000us         0.00%       5.000us       5.000us             1  \n",
            "                                          aten::reshape         0.00%      12.000us         0.00%      13.000us      13.000us      11.000us         0.00%      17.000us      17.000us             1  \n",
            "                                   aten::_reshape_alias         0.00%       1.000us         0.00%       1.000us       1.000us       6.000us         0.00%       6.000us       6.000us             1  \n",
            "                                        aten::full_like         0.00%      22.000us         0.01%      86.000us      86.000us      18.000us         0.00%      92.000us      92.000us             1  \n",
            "                                       aten::empty_like         0.00%      10.000us         0.00%      14.000us      14.000us      11.000us         0.00%      18.000us      18.000us             1  \n",
            "                                    aten::empty_strided         0.00%       4.000us         0.00%       4.000us       4.000us       7.000us         0.00%       7.000us       7.000us             1  \n",
            "                                            aten::fill_         0.00%      38.000us         0.01%      50.000us      50.000us      56.000us         0.01%      56.000us      56.000us             1  \n",
            "                                       cudaLaunchKernel         0.00%      12.000us         0.00%      12.000us      12.000us       0.000us         0.00%       0.000us       0.000us             1  \n",
            "                                              aten::cat         0.00%      26.000us         0.00%      39.000us      39.000us      54.000us         0.01%      54.000us      54.000us             1  \n",
            "                                       cudaLaunchKernel         0.00%      13.000us         0.00%      13.000us      13.000us       0.000us         0.00%       0.000us       0.000us             1  \n",
            "                                               aten::to         0.00%      11.000us         0.01%     101.000us     101.000us      10.000us         0.00%     103.000us     103.000us             1  \n",
            "                                         aten::_to_copy         0.00%      24.000us         0.01%      90.000us      90.000us      16.000us         0.00%      93.000us      93.000us             1  \n",
            "                                    aten::empty_strided         0.00%       4.000us         0.00%       4.000us       4.000us       7.000us         0.00%       7.000us       7.000us             1  \n",
            "                                            aten::copy_         0.00%      10.000us         0.01%      62.000us      62.000us      70.000us         0.01%      70.000us      70.000us             1  \n",
            "                                        cudaMemcpyAsync         0.00%      45.000us         0.00%      45.000us      45.000us       0.000us         0.00%       0.000us       0.000us             1  \n",
            "                                  cudaStreamSynchronize         0.00%       7.000us         0.00%       7.000us       7.000us       0.000us         0.00%       0.000us       0.000us             1  \n",
            "                              aten::_nested_from_padded         0.03%     275.000us         0.07%     645.000us     645.000us     269.000us         0.03%     650.000us     650.000us             1  \n",
            "                                            aten::empty         0.00%       3.000us         0.00%       3.000us       3.000us       6.000us         0.00%       6.000us       6.000us             1  \n",
            "                                            aten::empty         0.00%       0.000us         0.00%       0.000us       0.000us       3.000us         0.00%       3.000us       3.000us             1  \n",
            "-------------------------------------------------------  ------------  ------------  ------------  ------------  ------------  ------------  ------------  ------------  ------------  ------------  \n",
            "Self CPU time total: 991.730ms\n",
            "Self CUDA time total: 1.001s\n",
            "\n"
          ]
        }
      ],
      "source": [
        "model.to(device)\n",
        "model_input = model_input.to(device)\n",
        "\n",
        "print(\"slow path:\")\n",
        "print(\"==========\")\n",
        "with torch.autograd.profiler.profile(use_cuda=True) as prof:\n",
        "  for i in range(ITERATIONS):\n",
        "    output = model(model_input)\n",
        "print(prof)\n",
        "\n",
        "model.eval()\n",
        "\n",
        "print(\"fast path:\")\n",
        "print(\"==========\")\n",
        "with torch.autograd.profiler.profile(use_cuda=True) as prof:\n",
        "  with torch.no_grad():\n",
        "    for i in range(ITERATIONS):\n",
        "      output = model(model_input)\n",
        "print(prof)"
      ]
    }
  ],
  "metadata": {
    "accelerator": "GPU",
    "colab": {
      "gpuType": "V100",
      "machine_shape": "hm",
      "provenance": []
    },
    "kernelspec": {
      "display_name": "Python 3",
      "name": "python3"
    },
    "language_info": {
      "name": "python"
    }
  },
  "nbformat": 4,
  "nbformat_minor": 0
}
