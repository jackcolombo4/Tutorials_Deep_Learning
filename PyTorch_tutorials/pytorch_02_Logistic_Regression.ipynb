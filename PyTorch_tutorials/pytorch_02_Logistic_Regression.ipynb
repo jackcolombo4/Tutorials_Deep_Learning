{
 "cells": [
  {
   "cell_type": "markdown",
   "metadata": {},
   "source": [
    "<div style=\"line-height:1.2;\">\n",
    "\n",
    "<h1 style=\"color:#BF66F2; margin-bottom: 0.3em;\">Logistic regression in PyTorch</h1>\n",
    "\n",
    "<h4 style=\"margin-top: 0.3em; margin-bottom: 1em;\"> Classification examples on various datasets. Focus on Binary-cross-entropy Loss.  </h4>\n",
    "\n",
    "<div style=\"line-height:1.4; margin-bottom: 0.5em;\">\n",
    "    <h3 style=\"color: lightblue; display: inline; margin-right: 0.5em;\">Keywords:</h3> \n",
    "    zero_grad + torchvision.transforms + typing module for methods + DataLoader + no_grad() + warnings.catch_warnings()\n",
    "</div>\n",
    "\n",
    "</div>"
   ]
  },
  {
   "attachments": {},
   "cell_type": "markdown",
   "metadata": {},
   "source": [
    "<h1 style=\"color:#BF66F2 \">  Logistic regression in PyTorch </h1>\n",
    "<div style=\"margin-top: -30px;\">\n",
    "<h4> Classification examples on various datasets. Focus on Binary-cross-entropy Loss. </h4>\n",
    "</div>\n",
    "<div style=\"margin-top: -18px;\">\n",
    "<span style=\"display: inline-block;\">\n",
    "    <h3 style=\"color: lightblue; display: inline;\">Keywords:</h3>\n",
    "    zero_grad + torchvision.transforms + typing module for methods + DataLoader + no_grad() + warnings.catch_warnings()\n",
    "    </span>\n",
    "</div>"
   ]
  },
  {
   "cell_type": "code",
   "execution_count": 2,
   "metadata": {},
   "outputs": [],
   "source": [
    "import os\n",
    "import sys\n",
    "import math\n",
    "import warnings\n",
    "import numpy as np\n",
    "import pandas as pd\n",
    "import seaborn as sns\n",
    "from typing import Any\n",
    "import matplotlib.pyplot as plt\n",
    "\n",
    "from sklearn import datasets\n",
    "from sklearn.metrics import confusion_matrix\n",
    "from sklearn.preprocessing import StandardScaler\n",
    "from sklearn.model_selection import train_test_split\n",
    "\n",
    "import torch\n",
    "import torchvision\n",
    "import torch.nn as nn\n",
    "from torch.utils.data import Dataset\n",
    "from torch.utils.data import DataLoader"
   ]
  },
  {
   "cell_type": "markdown",
   "metadata": {},
   "source": [
    "<h3 style=\"color:#BF66F2 \">  <u> Example #1 </u> </h3>\n",
    "Cancer dataset"
   ]
  },
  {
   "cell_type": "code",
   "execution_count": 3,
   "metadata": {},
   "outputs": [
    {
     "name": "stdout",
     "output_type": "stream",
     "text": [
      "n_samples are 569\n",
      "n_features are 30\n"
     ]
    }
   ],
   "source": [
    "bc = datasets.load_breast_cancer()\n",
    "X, y = bc.data, bc.target\n",
    "n_samples, n_features = X.shape\n",
    "print(f'n_samples are {n_samples}')\n",
    "print(f'n_features are {n_features}')"
   ]
  },
  {
   "cell_type": "code",
   "execution_count": 4,
   "metadata": {},
   "outputs": [
    {
     "name": "stdout",
     "output_type": "stream",
     "text": [
      "type => X_train <class 'numpy.ndarray'>\n",
      "type => X_test <class 'numpy.ndarray'>\n",
      "X_train 1 elem:\n",
      " [ 12.88  18.22  84.45 493.1 ]\n",
      "X_test 1 elem:\n",
      " [ 11.67  20.02  75.21 416.2 ]\n",
      "y_train :4 \n",
      " [1 1 1 0]\n",
      "y_test :19\n",
      " [1 1 1 1 1 1 0 1 0 0 0 1 1 1 1 0 1 1 1]\n"
     ]
    }
   ],
   "source": [
    "\"\"\" Split the data into training and test sets with a test size of 20% and a fixed random seed for reproducibility.\n",
    "N.B.\n",
    "The specific value of random_state => 1234 is arbitrary and can be any integer value. \n",
    "'1234' is convenient to be remembered to reproduce the same results across different runs of the algorithm. \n",
    "\"\"\"\n",
    "X_train, X_test, y_train, y_test = train_test_split(X, y, test_size=0.2, random_state=1234) \n",
    "\n",
    "print(f\"type => X_train {type(X_train)}\")\n",
    "print(f\"type => X_test {type(X_test)}\")\n",
    "print(f\"X_train 1 elem:\\n {X_train[0][:4]}\")\n",
    "print(f\"X_test 1 elem:\\n {X_test[0][:4]}\")\n",
    "print(f\"y_train :4 \\n {y_train[:4]}\")\n",
    "print(f\"y_test :19\\n {y_test[:19]}\")\n",
    "\n",
    "sc_scale = StandardScaler()\n",
    "X_train = sc_scale.fit_transform(X_train)\n",
    "X_test = sc_scale.transform(X_test)"
   ]
  },
  {
   "cell_type": "markdown",
   "metadata": {},
   "source": [
    "<h3 style=\"color:#BF66F2\"> Recap: </h3>\n",
    "<div style=\"margin-top: -27px;\">\n",
    "\n",
    "- Reshape  <br>\n",
    "with linear regression models in PyTorch, the output tensor of the model should have a shape of (batch_size, 1), <br> where batch_size is the number of input samples. <br>\n",
    "- View() <br>\n",
    "The first argument of view() specifies the size of the first dimension of the reshaped tensor, which is set to the number of input samples <br> => (i.e., y_train.shape[0] or y_test.shape[0]). <br>\n",
    "The second argument specifies the size of the second dimension of the reshaped tensor, which is set to 1 to create a column vector.\n"
   ]
  },
  {
   "cell_type": "code",
   "execution_count": 5,
   "metadata": {},
   "outputs": [],
   "source": [
    "X_train = torch.from_numpy(X_train.astype(np.float32))\n",
    "X_test = torch.from_numpy(X_test.astype(np.float32))\n",
    "y_train = torch.from_numpy(y_train.astype(np.float32))\n",
    "y_test = torch.from_numpy(y_test.astype(np.float32))\n",
    "\n",
    "# Reshape both labels' tensors from a 1-dimensional row vector to a 2-dimensional column vector\n",
    "y_train = y_train.view(y_train.shape[0], 1) \n",
    "y_test = y_test.view(y_test.shape[0], 1)"
   ]
  },
  {
   "cell_type": "code",
   "execution_count": 6,
   "metadata": {},
   "outputs": [],
   "source": [
    "class LogisticRegression(nn.Module):\n",
    "    \"\"\" Logistic Regression model as a subclass of the PyTorch nn.Module class. \"\"\"\n",
    "    def __init__(self, n_input_features):\n",
    "        \"\"\" Constructor method to initialize the model. \"\"\"\n",
    "        super(LogisticRegression, self).__init__()\n",
    "        self.linear = nn.Linear(n_input_features, 1)    #output size=one!\n",
    "\n",
    "    def forward(self, x):\n",
    "        \"\"\" Pass the input tensor x through the linear layer and apply the sigmoid activation function.\\\\\n",
    "        Return the predicted output tensor. \n",
    "        \"\"\"\n",
    "        y_predicted = torch.sigmoid(self.linear(x))\n",
    "        return y_predicted"
   ]
  },
  {
   "attachments": {},
   "cell_type": "markdown",
   "metadata": {},
   "source": [
    "<h3 style=\"color:#BF66F2\"> Recap: Binary Cross Entropy </h3>\n",
    "<div style=\"margin-top: -17px;\">\n",
    "BCE loss is used for binary classification problems. (=> MSE is used for regression problems!) <br>\n",
    "Differently from MSE it does not measure the average squared difference between the predicted and true values, <br> \n",
    "but the difference between the predicted probability distribution and the true probability distribution of the binary target variable.<br>\n",
    "\n",
    "In binary classification, we have a target variable y that can take on two values: 0 or 1.<br>\n",
    "<br>\n",
    "The BCE loss function is defined as:  \n",
    "<div style=\"margin-top: -7px;\">\n",
    "\n",
    "$BCE\\_loss = -[y*log(p) + (1-y)*log(1-p)]$ <br>\n",
    "where: <br>\n",
    "y is the true target label (0 or 1), p is the predicted probability of the positive class (i.e., y=1), and log is the natural logarithm. \n",
    "</div>\n",
    "\n",
    "Intuitively, the BCE loss penalizes the model more heavily when it makes incorrect predictions with high confidence, as it results in a larger difference between the predicted and true probability  distributions.<br>\n",
    "In contrast, the penalty is smaller when the model makes less confident predictions or when the true label is correctly predicted.\n",
    "\n",
    "The BCE loss is a differentiable function, meaning that its gradient can be computed and used to update the model parameters using backpropagation during training.\n",
    "</div>"
   ]
  },
  {
   "cell_type": "code",
   "execution_count": 22,
   "metadata": {},
   "outputs": [],
   "source": [
    "\"\"\" Training.\n",
    "N.B. \n",
    "Run code inside 'catch_warnings()' to avoid CUDA warnings when GPU is not available.\n",
    "\"\"\"\n",
    "n_epochs, learn_rate, train_losses = 100, 0.01, []\n",
    "# Instance of logreg\n",
    "model = LogisticRegression(n_features)\n",
    "\n",
    "with warnings.catch_warnings():     \n",
    "    ## BinaryCrossEntropy between the target and the input probabilities with Stochastic GD optimizer\n",
    "    criter = nn.BCELoss()                                      \n",
    "    optim = torch.optim.SGD(model.parameters(), lr=learn_rate)  \n",
    "\n",
    "    for epoch in range(n_epochs):\n",
    "        y_predicted = model(X_train)\n",
    "        loss = criter(y_predicted, y_train)\n",
    "        loss.backward()\n",
    "        optim.step()\n",
    "        # Empty the gradients again before next iteration\n",
    "        optim.zero_grad() \n",
    "\n",
    "        train_losses.append(loss.item())\n",
    "\n",
    "        if epoch+1 % 10 == 0:\n",
    "            print(f\"epoch: {epoch+1} => loss = {loss.item():.4f}\")"
   ]
  },
  {
   "cell_type": "code",
   "execution_count": 8,
   "metadata": {},
   "outputs": [
    {
     "name": "stdout",
     "output_type": "stream",
     "text": [
      "Accuracy of the model = 0.9035\n"
     ]
    }
   ],
   "source": [
    "\"\"\" Evaluate the trained model on the test data.\n",
    "N.B.\n",
    "Using the context manager ensures that gradients are not computed during the evaluation of the model on the test data, \n",
    "to improve performance and reduce memory usage.\n",
    "Disabling gradient calculation is useful for inference, when the method `Tensor.backward()` will NOT be called then.\n",
    "It will reduce memoryconsumption for computations that would otherwise have `requires_grad=True`. \n",
    "\"\"\"\n",
    "with torch.no_grad(): \n",
    "    y_predicted = model(X_test)\n",
    "    y_predicted_cls = y_predicted.round()\n",
    "    acc = y_predicted_cls.eq(y_test).sum() / float(y_test.shape[0])\n",
    "    print(f\"Accuracy of the model = {acc:.4f}\")"
   ]
  },
  {
   "cell_type": "code",
   "execution_count": 9,
   "metadata": {},
   "outputs": [
    {
     "data": {
      "image/png": "[encoded data removed]",
      "text/plain": [
       "<Figure size 640x480 with 1 Axes>"
      ]
     },
     "metadata": {},
     "output_type": "display_data"
    }
   ],
   "source": [
    "##### Display the training loss values\n",
    "plt.plot(range(1, n_epochs+1), train_losses)\n",
    "plt.xlabel('Epoch')\n",
    "plt.ylabel('Loss')\n",
    "plt.title('Training Loss')\n",
    "plt.show()"
   ]
  },
  {
   "cell_type": "code",
   "execution_count": 10,
   "metadata": {},
   "outputs": [
    {
     "data": {
      "image/png": "[encoded data removed]",
      "text/plain": [
       "<Figure size 400x200 with 1 Axes>"
      ]
     },
     "metadata": {},
     "output_type": "display_data"
    }
   ],
   "source": [
    "# Count the number of samples in each class in the training data\n",
    "counts = y_train.sum(dim=0)\n",
    "\n",
    "# Create a bar plot of the class distribution\n",
    "plt.figure(figsize=(4, 2))\n",
    "plt.bar(range(2), counts)\n",
    "plt.xticks(range(2), ['Class 0', 'Class 1'])\n",
    "plt.xlabel('Class')\n",
    "plt.ylabel('Number of Samples')\n",
    "plt.title('Class Distribution')\n",
    "plt.show()"
   ]
  },
  {
   "cell_type": "code",
   "execution_count": 11,
   "metadata": {},
   "outputs": [
    {
     "data": {
      "image/png": "[encoded data removed]",
      "text/plain": [
       "<Figure size 640x480 with 1 Axes>"
      ]
     },
     "metadata": {},
     "output_type": "display_data"
    }
   ],
   "source": [
    "\"\"\" Create a scatter plot of the test data points, showing the classification results of the trained logistic regression model.\n",
    "N.B.\n",
    "The reshape(-1) method is used to convert the predicted class labels tensor to a one-dimensional array \n",
    "that can be used as the c argument in the scatter() function. \n",
    "The -1 argument is a placeholder that tells numpy to figure out the size of the new dimension \n",
    "based on the size of the original array. \n",
    "Here, considering that 'y_predicted_cls' has a shape of (n_samples, 1), the new shape will be (n_samples,), which is a one-dimensional array of length n_samples. \n",
    "\"\"\"\n",
    "\n",
    "plt.scatter(X_test[:, 0], X_test[:, 1], c=y_predicted_cls.numpy().reshape(-1))\n",
    "plt.xlabel('Feature 1')\n",
    "plt.ylabel('Feature 2')\n",
    "plt.title('Classification Results')\n",
    "plt.show()"
   ]
  },
  {
   "cell_type": "code",
   "execution_count": 12,
   "metadata": {},
   "outputs": [
    {
     "data": {
      "image/png": "[encoded data removed]",
      "text/plain": [
       "<Figure size 400x200 with 2 Axes>"
      ]
     },
     "metadata": {},
     "output_type": "display_data"
    }
   ],
   "source": [
    "\"\"\" Create the confusion matrix of the classification results and plot it as an heatmap. \"\"\"\n",
    "cm = confusion_matrix(y_test, y_predicted_cls) \n",
    "plt.figure(figsize=(4, 2))\n",
    "sns.heatmap(cm, annot=True, cmap='Blues', fmt='g',\n",
    "            xticklabels=['Class 0', 'Class 1'],\n",
    "            yticklabels=['Class 0', 'Class 1'])\n",
    "plt.xlabel('Predicted Class')\n",
    "plt.ylabel('True Class')\n",
    "plt.title('Confusion Matrix')\n",
    "plt.show()"
   ]
  },
  {
   "attachments": {},
   "cell_type": "markdown",
   "metadata": {},
   "source": [
    "<h3 style=\"color:#BF66F2 \">  <u> Example #2 </u> </h3>\n",
    "Wine dataset"
   ]
  },
  {
   "cell_type": "code",
   "execution_count": 13,
   "metadata": {},
   "outputs": [],
   "source": [
    "class WineDataset(Dataset):\n",
    "    def __init__(self):\n",
    "        xy = np.loadtxt('./data/wine_data.csv', delimiter=\",\", dtype=np.float32, skiprows=1)\n",
    "        self.x = torch.from_numpy(xy[:, 1:])\n",
    "        self.y = torch.from_numpy(xy[:, [0]])\n",
    "        self.num_samples = xy.shape[0]\n",
    "\n",
    "    def __getitem__(self, index) -> Any:\n",
    "        #return super().__getitem__(index)\n",
    "        return self.x[index], self.y[index]\n",
    "    \n",
    "    def __len__(self):\n",
    "        return self.num_samples"
   ]
  },
  {
   "cell_type": "code",
   "execution_count": 14,
   "metadata": {},
   "outputs": [
    {
     "name": "stdout",
     "output_type": "stream",
     "text": [
      "tensor([1.4230e+01, 1.7100e+00, 2.4300e+00, 1.5600e+01, 1.2700e+02, 2.8000e+00,\n",
      "        3.0600e+00, 2.8000e-01, 2.2900e+00, 5.6400e+00, 1.0400e+00, 3.9200e+00,\n",
      "        1.0650e+03]) tensor([1.])\n"
     ]
    }
   ],
   "source": [
    "dataset_wine = WineDataset()\n",
    "first_data = dataset_wine[0]\n",
    "features, labels = first_data\n",
    "print(features, labels)"
   ]
  },
  {
   "cell_type": "code",
   "execution_count": 15,
   "metadata": {},
   "outputs": [
    {
     "data": {
      "text/plain": [
       "[tensor([[1.2860e+01, 1.3500e+00, 2.3200e+00, 1.8000e+01, 1.2200e+02, 1.5100e+00,\n",
       "          1.2500e+00, 2.1000e-01, 9.4000e-01, 4.1000e+00, 7.6000e-01, 1.2900e+00,\n",
       "          6.3000e+02],\n",
       "         [1.4390e+01, 1.8700e+00, 2.4500e+00, 1.4600e+01, 9.6000e+01, 2.5000e+00,\n",
       "          2.5200e+00, 3.0000e-01, 1.9800e+00, 5.2500e+00, 1.0200e+00, 3.5800e+00,\n",
       "          1.2900e+03],\n",
       "         [1.2330e+01, 9.9000e-01, 1.9500e+00, 1.4800e+01, 1.3600e+02, 1.9000e+00,\n",
       "          1.8500e+00, 3.5000e-01, 2.7600e+00, 3.4000e+00, 1.0600e+00, 2.3100e+00,\n",
       "          7.5000e+02],\n",
       "         [1.2530e+01, 5.5100e+00, 2.6400e+00, 2.5000e+01, 9.6000e+01, 1.7900e+00,\n",
       "          6.0000e-01, 6.3000e-01, 1.1000e+00, 5.0000e+00, 8.2000e-01, 1.6900e+00,\n",
       "          5.1500e+02]]),\n",
       " tensor([[3.],\n",
       "         [1.],\n",
       "         [2.],\n",
       "         [3.]])]"
      ]
     },
     "execution_count": 15,
     "metadata": {},
     "output_type": "execute_result"
    }
   ],
   "source": [
    "\"\"\" Create a DataLoader object.\n",
    "N.B.1\n",
    "The batch size of 4 means that each batch of data returned by the DataLoader object will contain 4 samples. \n",
    "    - shuffle=True to shuffle the order of the samples in each epoch and improve training performance\n",
    "    - num_workers=2 to use two worker processes for loading the data in parallel.\n",
    "N.B.2\n",
    "The iterator object use the iter() function and passing in the my_dataLoader object, \n",
    "    to iterate over the batches of data returned by the DataLoader.\n",
    "N.B.3\n",
    "The __next__() method is needed ti get the next batch of data. \n",
    "It returns the next batch of data in the form of a tuple containing two tensors: the input features and the target labels.\n",
    "\"\"\"\n",
    "my_dataLoader = DataLoader(dataset=dataset_wine, batch_size=4, shuffle=True, num_workers=2)\n",
    "my_dataiter = iter(my_dataLoader)\n",
    "#data = next(my_dataiter)\n",
    "data = my_dataiter.__next__()\n",
    "data\n"
   ]
  },
  {
   "cell_type": "code",
   "execution_count": 16,
   "metadata": {},
   "outputs": [
    {
     "name": "stdout",
     "output_type": "stream",
     "text": [
      "178 45\n",
      "epoch 1/2, step 5/45, inputs torch.Size([4, 13])\n",
      "epoch 1/2, step 10/45, inputs torch.Size([4, 13])\n",
      "epoch 1/2, step 15/45, inputs torch.Size([4, 13])\n",
      "epoch 1/2, step 20/45, inputs torch.Size([4, 13])\n",
      "epoch 1/2, step 25/45, inputs torch.Size([4, 13])\n",
      "epoch 1/2, step 30/45, inputs torch.Size([4, 13])\n",
      "epoch 1/2, step 35/45, inputs torch.Size([4, 13])\n",
      "epoch 1/2, step 40/45, inputs torch.Size([4, 13])\n",
      "epoch 1/2, step 45/45, inputs torch.Size([2, 13])\n",
      "epoch 2/2, step 5/45, inputs torch.Size([4, 13])\n",
      "epoch 2/2, step 10/45, inputs torch.Size([4, 13])\n",
      "epoch 2/2, step 15/45, inputs torch.Size([4, 13])\n",
      "epoch 2/2, step 20/45, inputs torch.Size([4, 13])\n",
      "epoch 2/2, step 25/45, inputs torch.Size([4, 13])\n",
      "epoch 2/2, step 30/45, inputs torch.Size([4, 13])\n",
      "epoch 2/2, step 35/45, inputs torch.Size([4, 13])\n",
      "epoch 2/2, step 40/45, inputs torch.Size([4, 13])\n",
      "epoch 2/2, step 45/45, inputs torch.Size([2, 13])\n"
     ]
    }
   ],
   "source": [
    "\"\"\" Training loop DUMMY example.\n",
    "13 different features for each batch => epoch 1/2, step 5/45, inputs torch.Size([4, 13]).\n",
    "\"\"\" \n",
    "num_epochs = 2 \n",
    "total_samples = len(dataset_wine)\n",
    "n_iterations = math.ceil(total_samples/4)\n",
    "print(total_samples, n_iterations)\n",
    "\n",
    "for epoch in range(num_epochs):\n",
    "    for i, (inputs, labels) in enumerate(my_dataLoader): #already unpacked\n",
    "        if (i+1) % 5 == 0: # print infor every 5 steps\n",
    "            print(f'epoch {epoch + 1 }/{num_epochs}, step {i + 1}/{n_iterations}, inputs {inputs.shape}')"
   ]
  },
  {
   "attachments": {},
   "cell_type": "markdown",
   "metadata": {},
   "source": [
    "<h3 style=\"color:#BF66F2 \">  <u> Example #3 </u> </h3>\n",
    "MNIST dataset"
   ]
  },
  {
   "cell_type": "code",
   "execution_count": 17,
   "metadata": {},
   "outputs": [],
   "source": [
    "# Create a PyTorch dataset with the MNIST test data\n",
    "dataset = torchvision.datasets.MNIST(root='./data', train=False, transform=torchvision.transforms.ToTensor(), download=True)"
   ]
  },
  {
   "attachments": {},
   "cell_type": "markdown",
   "metadata": {},
   "source": [
    "<div style=\"line-height:0.5\">\n",
    "<h3 style=\"color:#BF66F2\"> Recap: </h3>\n",
    "PyTorch provides a 'transforms' module that contains a set of predefined transforms that can be applied to data. <br> \n",
    "</div>\n",
    "<br>\n",
    "Here are some examples of commonly used <span style=\"color: #BF66F2;\">\"transforms\"</span>. <br> \n",
    "<div style=\"margin-top: +3px;\">\n",
    "\n",
    "- ToTensor(): \n",
    "Converts a PIL Image or numpy.ndarray to a PyTorch tensor. <br> \n",
    "It also scales the pixel values to the range [0, 1]. <br> \n",
    "- Normalize(mean, std): Normalizes a tensor image with mean and standard deviation. <br> \n",
    "It also subtracts the mean from each pixel value and divides by the standard deviation, <br> so that the pixel values have a mean of 0 and a standard deviation of 1.\n",
    "- RandomCrop(size): Randomly crops a tensor image to the specified size. <br> \n",
    "It is often used for data augmentation to introduce randomness into the training data.<br> \n",
    "- RandomHorizontalFlip(): Randomly flips a tensor image horizontally with a probability of 0.5.  \n",
    "It is also used for data augmentation.\n",
    "- RandomRotation(degrees): Randomly rotates a tensor image by a specified number of degrees.\n",
    "</div>"
   ]
  },
  {
   "cell_type": "markdown",
   "metadata": {},
   "source": [
    "<h3 style=\"color:#BF66F2 \">  <u> Example #4 </u> </h3>\n",
    "Wine dataset 2"
   ]
  },
  {
   "cell_type": "code",
   "execution_count": 18,
   "metadata": {},
   "outputs": [],
   "source": [
    "\"\"\" Create a new dataset similar to the previous one but extended. \n",
    "N.B.\n",
    "Different from before (example #2)! \n",
    "Here, x and y tensors are not created now, but later in the 'customToTensor' class\n",
    "#self.x = torch.from_numpy(xy[:, 1:])\n",
    "#self.y = torch.from_numpy(xy[:, [0]])\n",
    "\"\"\"\n",
    "\n",
    "class WineDataset2(Dataset):\n",
    "    def __init__(self, transform=None):\n",
    "        xy = np.loadtxt('./data/wine_data.csv', delimiter=\",\", dtype=np.float32, skiprows=1)\n",
    "        self.x = xy[:, 1:]\n",
    "        self.y = xy[:, [0]]\n",
    "        self.num_samples = xy.shape[0]\n",
    "        self.transform = transform\n",
    "\n",
    "\n",
    "    def __getitem__(self, index) -> Any:\n",
    "        sample = self.x[index], self.y[index]\n",
    "        if self.transform: \n",
    "            sample = self.transform(sample)\n",
    "        return sample\n",
    "\n",
    "    def __len__(self):\n",
    "        return self.num_samples"
   ]
  },
  {
   "cell_type": "code",
   "execution_count": 19,
   "metadata": {},
   "outputs": [],
   "source": [
    "class customToTensor:\n",
    "    def __call__(self, sample):\n",
    "        inputs, labels = sample\n",
    "        return torch.from_numpy(inputs), torch.from_numpy(labels)\n",
    "\n",
    "class customMulTransform:\n",
    "    def __init__(self, factor):\n",
    "        self.factor = factor\n",
    "    \n",
    "    def __call__(self, sample):\n",
    "        inputs, labels = sample\n",
    "        inputs += self.factor\n",
    "        return inputs, labels"
   ]
  },
  {
   "cell_type": "code",
   "execution_count": 20,
   "metadata": {},
   "outputs": [
    {
     "name": "stdout",
     "output_type": "stream",
     "text": [
      "dataset_wine2[0]\n",
      "(tensor([1.4230e+01, 1.7100e+00, 2.4300e+00, 1.5600e+01, 1.2700e+02, 2.8000e+00,\n",
      "        3.0600e+00, 2.8000e-01, 2.2900e+00, 5.6400e+00, 1.0400e+00, 3.9200e+00,\n",
      "        1.0650e+03]), tensor([1.]))\n",
      "\n",
      "features tensor([1.4230e+01, 1.7100e+00, 2.4300e+00, 1.5600e+01, 1.2700e+02, 2.8000e+00,\n",
      "        3.0600e+00, 2.8000e-01, 2.2900e+00, 5.6400e+00, 1.0400e+00, 3.9200e+00,\n",
      "        1.0650e+03]) \n",
      " labels2 tensor([1.])\n",
      "\n",
      "Composed:\n",
      "  Compose(\n",
      "    <__main__.customToTensor object at 0x7f5e5bd42cb0>\n",
      "    <__main__.customMulTransform object at 0x7f5e5e7feb90>\n",
      ")\n",
      "Dataset_wine3[0]:\n",
      " (tensor([  16.2300,    3.7100,    4.4300,   17.6000,  129.0000,    4.8000,\n",
      "           5.0600,    2.2800,    4.2900,    7.6400,    3.0400,    5.9200,\n",
      "        1067.0000]), tensor([1.]))\n"
     ]
    }
   ],
   "source": [
    "dataset_wine2 = WineDataset2(transform=customToTensor())\n",
    "print(\"dataset_wine2[0]\")\n",
    "print(dataset_wine2[0])\n",
    "\n",
    "first_data = dataset_wine2[0]\n",
    "features2, labels2 = first_data\n",
    "print(f'\\nfeatures {features2} \\n labels2 {labels2}')\n",
    "print()\n",
    "composed = torchvision.transforms.Compose([customToTensor(), customMulTransform(2)])\n",
    "dataset_wine3 = WineDataset2(transform=composed)\n",
    "print(\"Composed:\\n  {}\".format(composed))\n",
    "print(\"Dataset_wine3[0]:\\n {}\".format(dataset_wine3[0]))"
   ]
  }
 ],
 "metadata": {
  "kernelspec": {
   "display_name": "MLearning",
   "language": "python",
   "name": "python3"
  },
  "language_info": {
   "codemirror_mode": {
    "name": "ipython",
    "version": 3
   },
   "file_extension": ".py",
   "mimetype": "text/x-python",
   "name": "python",
   "nbconvert_exporter": "python",
   "pygments_lexer": "ipython3",
   "version": "3.10.9"
  },
  "orig_nbformat": 4
 },
 "nbformat": 4,
 "nbformat_minor": 2
}
