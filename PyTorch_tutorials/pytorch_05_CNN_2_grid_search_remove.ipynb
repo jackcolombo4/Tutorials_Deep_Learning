{
 "cells": [
  {
   "cell_type": "markdown",
   "metadata": {},
   "source": [
    "<div style=\"line-height:0.5\">\n",
    "<h1 style=\"color:#BF66F2 \">  Convolutional Neural Networks in PyTorch 2 </h1>\n",
    "<h4> 2 Examples with two different CNN classes from modelled on the torch.nn.Module.  </h4>\n",
    "RUN MEE TRY MEEEE  CHECK WHY LAST CELL  IS SKIPPED !!!!!!!!!\n",
    "\n",
    "<h3 style=\"color:lightblue\"> Keywords: </h3> GridSearchCV + RandomizedSearchCV + LeaveOneOut\n",
    "</div>"
   ]
  },
  {
   "cell_type": "code",
   "execution_count": 1,
   "metadata": {},
   "outputs": [],
   "source": [
    "import numpy as np\n",
    "\n",
    "import torch\n",
    "import torch.nn.functional as F  \n",
    "import torchvision.datasets as datasets  \n",
    "import torchvision.transforms as transforms \n",
    "from torch import nn                            # import torch.nn as nn\n",
    "from torch import optim                         # import torch.optim as optim\n",
    "\n",
    "\n",
    "from torch.utils.data import (DataLoader,)      # from torch.utils.data import DataLoader\n",
    "from tqdm import tqdm  \n",
    "\n",
    "from sklearn.metrics import f1_score\n",
    "from sklearn.base import BaseEstimator, ClassifierMixin\n",
    "from sklearn.model_selection import GridSearchCV, LeaveOneOut, RandomizedSearchCV"
   ]
  },
  {
   "attachments": {},
   "cell_type": "markdown",
   "metadata": {},
   "source": [
    "**Recap layers:**  <br>\n",
    "Padding    <br>\n",
    "refers to the process of adding extra, typically zero-valued, pixels around the edges of an input image before it is convolved with a filter. <br>\n",
    "It is used to control the spatial size of the output (the feature map) produced by the convolution operation. <br> \n",
    "These extra pixels help to preserve the spatial size of the output feature map and can also help to reduce the loss of information at the edges of the image. <br>\n",
    "In fact, when a convolutional layer with a filter/kernel of size k is applied to an input volume, the output feature map will have spatial dimensions that are smaller than the input volume by k-1 pixels along each dimension. <br>\n",
    "This can lead to a reduction in spatial resolution as features are extracted from the image. <br>\n",
    "\n",
    "Stride   <br>\n",
    "refers to the number of pixels by which the convolutional filter (also known as a kernel) is shifted across the input image or feature map during the convolution operation.   \n",
    "When a convolutional layer is applied to an input volume, the filter is typically moved across the input with a certain stride.   \n",
    "The stride determines the step size between each application of the filter to the input, and thus controls the size of the output feature map <br> produced by the convolution.   \n",
    "Using a larger stride can be useful for reducing the spatial size of the output feature map, <br> which can help to reduce the computational cost of subsequent layers in the network. <br> However, it can also lead to the loss of important spatial information in the input, particularly at the edges of the image."
   ]
  },
  {
   "cell_type": "markdown",
   "metadata": {},
   "source": [
    "<h2 style=\"color:#BF66F2 \"> <u> Example #1 </u> </h2>"
   ]
  },
  {
   "cell_type": "code",
   "execution_count": 2,
   "metadata": {},
   "outputs": [],
   "source": [
    "\"\"\" Neural Network class.\n",
    "The first layer is a convolutional layer with:\n",
    "    1 input channel + 8 output channels, a kernel size of 3x3, a stride of 1, and padding () of 1.\n",
    "The second layer is a max-pooling layer with a kernel size of 2x2 and a stride of 2.\n",
    "The third layer is a convolutional layer with:\n",
    "    8 input channels, 16 output channels, a kernel size of 3x3, a stride of 1, and padding of 1.\n",
    "The fourth layer is a fully connected layer with:\n",
    "    1677 input features (output from the second convolutional layer) and num_classes output features (10).\n",
    "\"\"\"\n",
    "class my_CNN(nn.Module):\n",
    "    def __init__(self, in_channels=1, num_classes=10):\n",
    "        super(my_CNN, self).__init__()\n",
    "        self.conv1 = nn.Conv2d(\n",
    "            in_channels=in_channels,\n",
    "            out_channels=8,\n",
    "            kernel_size=3,\n",
    "            stride=1,\n",
    "            padding=1,\n",
    "        )\n",
    "        self.pool = nn.MaxPool2d(kernel_size=2, stride=2)\n",
    "        self.conv2 = nn.Conv2d(\n",
    "            in_channels=8,\n",
    "            out_channels=16,\n",
    "            kernel_size=3,\n",
    "            stride=1,\n",
    "            padding=1,\n",
    "        )\n",
    "        self.fc1 = nn.Linear(16 * 7 * 7, num_classes)\n",
    "\n",
    "    def forward(self, x):\n",
    "        x = F.relu(self.conv1(x))\n",
    "        x = self.pool(x)\n",
    "        x = F.relu(self.conv2(x))\n",
    "        x = self.pool(x)\n",
    "        x = x.reshape(x.shape[0], -1)\n",
    "        x = self.fc1(x)\n",
    "        return x"
   ]
  },
  {
   "cell_type": "code",
   "execution_count": 3,
   "metadata": {},
   "outputs": [
    {
     "name": "stderr",
     "output_type": "stream",
     "text": [
      "/home/notto4/.local/lib/python3.10/site-packages/torch/cuda/__init__.py:107: UserWarning: CUDA initialization: The NVIDIA driver on your system is too old (found version 9010). Please update your GPU driver by downloading and installing a new version from the URL: http://www.nvidia.com/Download/index.aspx Alternatively, go to: https://pytorch.org to install a PyTorch version that has been compiled with your version of the CUDA driver. (Triggered internally at ../c10/cuda/CUDAFunctions.cpp:109.)\n",
      "  return torch._C._cuda_getDeviceCount() > 0\n"
     ]
    },
    {
     "data": {
      "text/plain": [
       "device(type='cpu')"
      ]
     },
     "execution_count": 3,
     "metadata": {},
     "output_type": "execute_result"
    }
   ],
   "source": [
    "device = torch.device(\"cuda\" if torch.cuda.is_available() else \"cpu\")\n",
    "device"
   ]
  },
  {
   "cell_type": "code",
   "execution_count": 6,
   "metadata": {},
   "outputs": [],
   "source": [
    "\"\"\" Hyperparameters \"\"\"\n",
    "in_channels = 1\n",
    "num_classes = 10\n",
    "learning_rate = 3e-4    #karpathy's constant\n",
    "batch_size = 64\n",
    "num_epochs = 3"
   ]
  },
  {
   "cell_type": "code",
   "execution_count": 7,
   "metadata": {},
   "outputs": [],
   "source": [
    "train_dataset = datasets.MNIST(root=\"dataset/\", train=True, transform=transforms.ToTensor(), download=True)\n",
    "test_dataset = datasets.MNIST(root=\"dataset/\", train=False, transform=transforms.ToTensor(), download=True)\n",
    "train_loader = DataLoader(dataset=train_dataset, batch_size=batch_size, shuffle=True)\n",
    "test_loader = DataLoader(dataset=test_dataset, batch_size=batch_size, shuffle=True)"
   ]
  },
  {
   "cell_type": "code",
   "execution_count": 8,
   "metadata": {},
   "outputs": [],
   "source": [
    "# Initialize network\n",
    "model = my_CNN(in_channels=in_channels, num_classes=num_classes).to(device)\n",
    "\n",
    "## Loss and optimizer\n",
    "criterion = nn.CrossEntropyLoss()\n",
    "optimizer = optim.Adam(model.parameters(), lr=learning_rate)"
   ]
  },
  {
   "cell_type": "code",
   "execution_count": 9,
   "metadata": {},
   "outputs": [
    {
     "name": "stderr",
     "output_type": "stream",
     "text": [
      "100%|██████████| 938/938 [00:19<00:00, 48.33it/s]\n",
      "100%|██████████| 938/938 [00:22<00:00, 42.22it/s]\n",
      "100%|██████████| 938/938 [00:21<00:00, 43.54it/s]\n"
     ]
    }
   ],
   "source": [
    "############### Train\n",
    "for epoch in range(num_epochs):\n",
    "    for batch_idx, (data, targets) in enumerate(tqdm(train_loader)):\n",
    "        # Get data to cuda if possible\n",
    "        data = data.to(device=device)\n",
    "        targets = targets.to(device=device)\n",
    "        \n",
    "        # Forward pass\n",
    "        scores = model(data)\n",
    "        loss = criterion(scores, targets)\n",
    "        # Backward pass\n",
    "        optimizer.zero_grad()\n",
    "        loss.backward()\n",
    "        # Performs parameter update\n",
    "        optimizer.step()"
   ]
  },
  {
   "cell_type": "code",
   "execution_count": 10,
   "metadata": {},
   "outputs": [],
   "source": [
    "def check_accuracy(loader, model):\n",
    "    num_correct = 0\n",
    "    num_samples = 0\n",
    "    model.eval()\n",
    "\n",
    "    with torch.no_grad():\n",
    "        for x, y in loader:\n",
    "            x = x.to(device=device)\n",
    "            y = y.to(device=device)\n",
    "\n",
    "            scores = model(x)\n",
    "            _, predictions = scores.max(1)\n",
    "            num_correct += (predictions == y).sum()\n",
    "            num_samples += predictions.size(0)\n",
    "\n",
    "    model.train()\n",
    "    return num_correct / num_samples"
   ]
  },
  {
   "cell_type": "code",
   "execution_count": 11,
   "metadata": {},
   "outputs": [
    {
     "name": "stdout",
     "output_type": "stream",
     "text": [
      "Accuracy on training set: 96.66\n",
      "Accuracy on test set: 97.07\n"
     ]
    }
   ],
   "source": [
    "print(f\"Accuracy on training set: {check_accuracy(train_loader, model)*100:.2f}\")\n",
    "print(f\"Accuracy on test set: {check_accuracy(test_loader, model)*100:.2f}\")"
   ]
  },
  {
   "cell_type": "markdown",
   "metadata": {},
   "source": [
    "<h2 style=\"color:#BF66F2 \"> <u> Example #2 </u> </h2>"
   ]
  },
  {
   "cell_type": "markdown",
   "metadata": {},
   "source": [
    "**Recap CNN:**   \n",
    "The choice of the number of channels for each convolutional layer is often based on the principle of gradually increasing the number of channels \n",
    "<br> as the spatial resolution of the feature maps decreases.    <br>\n",
    "This is because the lower layers of the network typically extract low-level features, such as edges and corners, while the higher <br> layers extract more abstract and complex features.<br>"
   ]
  },
  {
   "cell_type": "markdown",
   "metadata": {},
   "source": [
    "### => Model #2.1"
   ]
  },
  {
   "cell_type": "code",
   "execution_count": null,
   "metadata": {},
   "outputs": [],
   "source": [
    "class MY_CNN(nn.Module):\n",
    "    \"\"\" Simple Convolutional Neural Network with two convolutional layers and one fully connected layer.\n",
    "    \n",
    "    Args:\n",
    "        - Number of input channels [int, default: 1]\n",
    "        - Number of output classes [int, default: 10]\n",
    "    \n",
    "    Methods:\n",
    "        - forward(x): Performs a forward pass through the CNN model.\n",
    "    \n",
    "    Details:\n",
    "        - The CNN model has four layers:\n",
    "            - 1. Convolutional layer with 420 output channels, kernel size of (3, 3), stride of (1, 1), and padding of (1, 1).\n",
    "            - 2. Max pooling layer with kernel size of (2, 2) and stride of (2, 2).\n",
    "            - 3. Convolutional layer with 1000 output channels, kernel size of (3, 3), stride of (1, 1), and padding of (1, 1).\n",
    "            - 4. Fully connected layer with 1000 * 7 * 7 input features and 'num_classes' output features.\n",
    "\n",
    "        - Padding = adding extra, typically zero-valued, pixels around the edges of an input image before\\\\ \n",
    "        it is convolved with a filter.\n",
    "        - Stride = number of pixels by which the convolutional filter (the kernel) is shifted across\\\\\n",
    "        the input image or feature map during the convolution operation.\n",
    "\n",
    "    \"\"\"\n",
    "\n",
    "    def __init__(self, in_channels=1, num_classes=10):\n",
    "        \"\"\" Initializations. \"\"\"\n",
    "        super(MY_CNN, self).__init__()\n",
    "\n",
    "        ###### First convolutional layer\n",
    "        self.conv1 = nn.Conv2d(\n",
    "            in_channels=in_channels,\n",
    "            out_channels=420,\n",
    "            kernel_size=(3, 3),\n",
    "            stride=(1, 1),\n",
    "            padding=(1, 1),\n",
    "        )\n",
    "        # Max pooling layer\n",
    "        self.pool = nn.MaxPool2d(kernel_size=(2, 2), stride=(2, 2))\n",
    "        ###### Second convolutional layer\n",
    "        self.conv2 = nn.Conv2d(\n",
    "            in_channels=420,\n",
    "            out_channels=1000,\n",
    "            kernel_size=(3, 3),\n",
    "            stride=(1, 1),\n",
    "            padding=(1, 1),\n",
    "        )\n",
    "        # Fully connected layer\n",
    "        self.fc1 = nn.Linear(1000 * 7 * 7, num_classes)\n",
    "\n",
    "    def forward(self, x):\n",
    "        \"\"\" Performs a forward pass through all layers of the CNN model.\\\\\n",
    "        This method is implicitly called when the model is used to make a prediction on the data.\\\\\n",
    "        It is called during training [scores = model(data)] and executed with data as the input tensor x.\\\\\n",
    "        The output of the forward method is the predicted scores, to compute the loss function.\n",
    "        \n",
    "        Parameters:\n",
    "            Input [torch.Tensor of shape (batch_size, in_channels, height, width)]\n",
    "        \n",
    "        Details:\n",
    "            - Apply the first convolutional layer with kernel size of (3, 3), stride of (1, 1), and padding of (1, 1),\\\\\n",
    "                and the ReLU activation function.\\\\\n",
    "                The output of layer1 is passed through the The Rectified Linear Unit function element-wise.\\\\\n",
    "                ReLU is commonly used in CNNs, since it introduces nonlinearity into the network,\\\\\n",
    "                to make it capable of learning more complex and expressive representations of the input data.\n",
    "            - Apply max pooling layer with kernel size of (2, 2) and stride of (2, 2).\n",
    "            - Apply the second convolutional layer with kernel size of (3, 3), stride of (1, 1),\\\\ \n",
    "            and padding of (1, 1), and the ReLU activation function.\n",
    "            - Apply max pooling layer with kernel size of (2, 2) and stride of (2, 2).\n",
    "            - Reshape the tensor to have a size of (batch_size, 1000 * 7 * 7).\n",
    "                The input to the fully connected layer must be a 1D tensor,\\\\\n",
    "                    so we need to reshape the output of the second convolutional layer to a 1D tensor\\\\\n",
    "                    before passing it to the fully connected layer.\n",
    "                - x.reshape(x.shape[0], -1)\n",
    "                    - 1) First dimension of the tensor ==> batch size, is kept the same, while the remaining\\\\\n",
    "                    dimensions are collapsed into a single dimension.\n",
    "                    - 2) Second dimension of the tensor ==> \"-1\" indicates that the size of the remaining dimension\\\\\n",
    "                    should be inferred automatically based on the size of the tensor and the specified batch size.\n",
    "            - Apply the fully connected layer to output a tensor of size (batch_size, 'num_classes').\n",
    "        Returns:\n",
    "            Output tensor of shape (batch_size, 'num_classes') [a torch.Tensor]\n",
    "        \"\"\"\n",
    "        # First convolutional layer\n",
    "        x = F.relu(self.conv1(x))\n",
    "        # Max pooling layer\n",
    "        x = self.pool(x)\n",
    "        # Second convolutional layer\n",
    "        x = F.relu(self.conv2(x))\n",
    "        # Max pooling layer\n",
    "        x = self.pool(x)\n",
    "        # Reshape the tensor\n",
    "        x = x.reshape(x.shape[0], -1)\n",
    "        # Fully connected layer (batch_size, 'num_classes')\n",
    "        x = self.fc1(x)\n",
    "\n",
    "        return x"
   ]
  },
  {
   "cell_type": "code",
   "execution_count": null,
   "metadata": {},
   "outputs": [],
   "source": [
    "\"\"\" Check that GPU is working \"\"\"\n",
    "device = torch.device(\"cuda\" if torch.cuda.is_available() else \"cpu\")\n",
    "print(device)\n",
    "\n",
    "assert device.type == \"cuda\", \"GPU not available\""
   ]
  },
  {
   "cell_type": "code",
   "execution_count": null,
   "metadata": {},
   "outputs": [],
   "source": [
    "\"\"\" Hyperparameters (initial guesses). \"\"\"\n",
    "in_channel = 1\n",
    "num_classes = 10\n",
    "learning_rate = 3e-4\n",
    "batch_size = 100\n",
    "num_epochs = 5"
   ]
  },
  {
   "cell_type": "code",
   "execution_count": null,
   "metadata": {},
   "outputs": [],
   "source": [
    "train_dataset = datasets.MNIST(root=\"dataset/\", train=True, transform=transforms.ToTensor(), download=True)\n",
    "train_loader = DataLoader(dataset=train_dataset, batch_size=batch_size, shuffle=True)\n",
    "test_dataset = datasets.MNIST(root=\"dataset/\", train=False, transform=transforms.ToTensor(), download=True)\n",
    "test_loader = DataLoader(dataset=test_dataset, batch_size=batch_size, shuffle=True)"
   ]
  },
  {
   "cell_type": "code",
   "execution_count": null,
   "metadata": {},
   "outputs": [],
   "source": [
    "# Define model, loss and optimizer\n",
    "model = MY_CNN().to(device)\n",
    "criterion = nn.CrossEntropyLoss()\n",
    "optimizer = optim.Adam(model.parameters(), lr=learning_rate)"
   ]
  },
  {
   "cell_type": "markdown",
   "metadata": {},
   "source": [
    "**Recap Forward pass:** <br> \n",
    "PyTorch.cuda.amp.GradScaler() to scale the gradients during backpropagation to avoid numerical underflow or overflow <br> when training with mixed precision. <br>\n",
    "Mixed precision training is a technique that involves using a combination of single-precision and half-precision floating-point numbers <br> to perform forward and backward passes through the neural network. <br>\n",
    "This technique can help reduce the memory requirements and computational cost of training deep learning models without sacrificing accuracy. <br>\n",
    "\n",
    "In mixed precision training, the gradients that are computed during the backward pass may be very small or very large, <br> depending on the scale of the input data and the model parameters."
   ]
  },
  {
   "cell_type": "code",
   "execution_count": null,
   "metadata": {},
   "outputs": [],
   "source": [
    "# Scaler\n",
    "scaler = torch.cuda.amp.GradScaler() #necessary for FP16"
   ]
  },
  {
   "cell_type": "markdown",
   "metadata": {},
   "source": [
    "### => Train the model"
   ]
  },
  {
   "cell_type": "code",
   "execution_count": null,
   "metadata": {},
   "outputs": [],
   "source": [
    "for epoch in range(num_epochs):\n",
    "    # Iterate over the batches\n",
    "    for batch_idx, (data, targets) in enumerate(train_loader):    \n",
    "        # Send data to cuda if possible\n",
    "        data = data.to(device=device)\n",
    "        targets = targets.to(device=device)\n",
    "\n",
    "        ########## Forward pass through the model to get the predicted scores\n",
    "        with torch.cuda.amp.autocast():\n",
    "            scores = model(data)\n",
    "            # Calculate the loss using the predicted scores and the actual targets\n",
    "            loss = criterion(scores, targets)\n",
    "\n",
    "        ######## Backward pass to calculate the gradients of the loss function w.r.t. the model parameters\n",
    "        # Reset the gradients of all model parameters\n",
    "        optimizer.zero_grad()\n",
    "        # Scale the loss to avoid numerical underflow or overflow and compute gradients\n",
    "        scaler.scale(loss).backward()\n",
    "        # Update the model parameters using the computed gradients\n",
    "        scaler.step(optimizer)\n",
    "        # Update the scale factor for the next iteration\n",
    "        scaler.update()"
   ]
  },
  {
   "cell_type": "code",
   "execution_count": null,
   "metadata": {},
   "outputs": [],
   "source": [
    "def check_accuracy(loader, model):\n",
    "    \"\"\" Check the accuracy of the model on the data from the loader.\n",
    "    \n",
    "    Parameters:\n",
    "        - DataLoader object that provides the data to check the model's accuracy [torch.utils.data.DataLoader]\n",
    "        - Model to be evaluated model [torch.nn.Module]\n",
    "    \n",
    "    Details:\n",
    "        - Initialize counters for the number of correct predictions and the total number of samples\n",
    "        - Set the model to evaluation mode\n",
    "        - Disable gradient computation using 'torch.no_grad()'\n",
    "        - Iterate over the data in the loader, making predictions using the model and comparing them to the ground truth labels\n",
    "        - Finally, train() the model and print the accuracy of the model on the data from the loader\n",
    "    \"\"\"\n",
    "    num_correct, num_samples = 0, 0\n",
    "    model.eval()\n",
    "\n",
    "    # Disable gradient computation for efficiency\n",
    "    with torch.no_grad():\n",
    "        for x, y in loader:\n",
    "            # Get data to cuda if possible\n",
    "            x = x.to(device=device)\n",
    "            y = y.to(device=device)\n",
    "\n",
    "            ## Compute the predicted labels as the class with the highest score\n",
    "            scores = model(x)\n",
    "            _, predictions = scores.max(1)\n",
    "\n",
    "            ## Update the number of correct predictions and the number of samples\n",
    "            num_correct += (predictions == y).sum()\n",
    "            num_samples += predictions.size(0)\n",
    "\n",
    "    print(f\"Got {num_correct} / {num_samples} with accuracy {float(num_correct) / float(num_samples) * 100:.2f}\")\n",
    "\n",
    "    # Set the model back to training mode\n",
    "    model.train()"
   ]
  },
  {
   "cell_type": "code",
   "execution_count": null,
   "metadata": {},
   "outputs": [],
   "source": [
    "check_accuracy(train_loader, model)\n",
    "check_accuracy(test_loader, model)"
   ]
  },
  {
   "cell_type": "code",
   "execution_count": null,
   "metadata": {},
   "outputs": [],
   "source": [
    "def f1_scorer(model, X, y_true):\n",
    "    \"\"\" Compute the F1 score for multi-class classification.\n",
    "    \n",
    "    Parameters:\n",
    "        - model (): Trained PyTorch model [nn.Module]\n",
    "        - Input data X [torch.Tensor]\n",
    "        - Target tensor y_true [torch.Tensor]\n",
    "    \n",
    "    Returns:\n",
    "        - F1 score [float]\n",
    "    \"\"\"\n",
    "    device = torch.device('cuda' if torch.cuda.is_available() else 'cpu')\n",
    "    model.eval()\n",
    "    model.to(device)\n",
    "    X, y_true = X.to(device), y_true.to(device)\n",
    "    with torch.no_grad():\n",
    "        y_pred = model(X)\n",
    "        y_pred = torch.argmax(y_pred, dim=1)\n",
    "    score = f1_score(y_true.cpu().numpy(), y_pred.cpu().numpy(), average='macro')\n",
    "    return score"
   ]
  },
  {
   "cell_type": "markdown",
   "metadata": {},
   "source": [
    "### => Model #2.2"
   ]
  },
  {
   "cell_type": "code",
   "execution_count": null,
   "metadata": {},
   "outputs": [],
   "source": [
    "class MY_CNN(nn.Module):\n",
    "    def __init__(self, in_channels=1, num_classes=10):\n",
    "        super(MY_CNN, self).__init__()\n",
    "        self.conv1 = nn.Conv2d(\n",
    "            in_channels=in_channels,\n",
    "            out_channels=420,\n",
    "            kernel_size=(3, 3),\n",
    "            stride=(1, 1),\n",
    "            padding=(1, 1),\n",
    "        )\n",
    "\n",
    "        self.pool = nn.MaxPool2d(kernel_size=(2, 2), stride=(2, 2))\n",
    "\n",
    "        self.conv2 = nn.Conv2d(\n",
    "            in_channels=420,\n",
    "            out_channels=1000,\n",
    "            kernel_size=(3, 3),\n",
    "            stride=(1, 1),\n",
    "            padding=(1, 1),\n",
    "        )\n",
    "\n",
    "        self.fc1 = nn.Linear(1000 * 7 * 7, num_classes)\n",
    "\n",
    "    def forward(self, x):\n",
    "        x = nn.functional.relu(self.conv1(x))\n",
    "        x = self.pool(x)\n",
    "        x = nn.functional.relu(self.conv2(x))\n",
    "        x = self.pool(x)\n",
    "        x = x.view(x.size(0), -1)\n",
    "        out = self.fc1(x)\n",
    "        return out\n",
    "\n",
    "    def fit(self, train_loader, criterion, optimizer, lr, num_epochs):\n",
    "        \"\"\" Trains the CNN model using the specified hyperparameters.\n",
    "        \n",
    "        Parameters:\n",
    "            - DataLoader object containing the training data [torch.utils.data.DataLoader]\n",
    "            - Loss function (criterion) to use for training [torch.nn.modules.loss._Loss]\n",
    "            - Optimizer used for training [torch.optim.Optimizer]\n",
    "            - Learning rate to use for training [float]\n",
    "            - Number of epochs to train for [int]\n",
    "        \n",
    "        Returns:\n",
    "            - Trained CNN model\n",
    "        \"\"\"\n",
    "        device = torch.device('cuda' if torch.cuda.is_available() else 'cpu')\n",
    "        self.to(device)\n",
    "\n",
    "        ## Define optimizer and scheduler\n",
    "        optimizer = optimizer(self.parameters(), lr=lr)\n",
    "        scheduler = torch.optim.lr_scheduler.ReduceLROnPlateau(optimizer, mode='min', patience=3, factor=0.1)\n",
    "\n",
    "\n",
    "        ###################################### Train the model\n",
    "        for epoch in range(num_epochs):\n",
    "            train_loss = 0.0\n",
    "            for i, (inputs, labels) in enumerate(train_loader):\n",
    "                inputs = inputs.to(device)\n",
    "                labels = labels.to(device)\n",
    "\n",
    "                # Forward pass\n",
    "                outputs = self(inputs)\n",
    "                loss = criterion(outputs, labels)\n",
    "\n",
    "                # Backward and optimize\n",
    "                optimizer.zero_grad()\n",
    "                loss.backward()\n",
    "                optimizer.step()\n",
    "\n",
    "                train_loss += loss.item() * inputs.size(0)\n",
    "\n",
    "            scheduler.step(train_loss)\n",
    "\n",
    "        return self"
   ]
  },
  {
   "cell_type": "markdown",
   "metadata": {},
   "source": [
    "<div style=\"line-height:0.8\">\n",
    "<h4> <b> Note: </b> <h4> \n",
    "</div>\n",
    "<div style=\"line-height:0.1\">\n",
    "<h4> Common problems with \"grid_search.fit([train_loader], y_train)\" <h4>\n",
    "</div>\n",
    "<div style=\"line-height:1.4\">\n",
    "\n",
    "- ValueError: Cannot have number of splits n_splits=3 greater than the number of samples: n_samples=1. <br>\n",
    "- ValueError: k-fold cross-validation requires at least one train/test split by setting n_splits=2 or more, got n_splits=1. <br>\n",
    "- TypeError: Singleton array array(<torch.utils.data.dataloader.DataLoader object at 0x780366fd59f0>, <br>\n",
    "      dtype=object) cannot be considered a valid collection.\n",
    "</div>"
   ]
  },
  {
   "cell_type": "code",
   "execution_count": null,
   "metadata": {},
   "outputs": [],
   "source": [
    "\"\"\" Get dataset as numpy arrays.\n",
    "N.B.  \n",
    "Using: \n",
    "    #train_data_numpy = train_dataset.numpy()\n",
    "    #train_labels_numpy = train_dataset.targets.numpy()\n",
    "will lead to Error: 'MNIST' object has no attribute 'numpy'...\n",
    "\"\"\"\n",
    "train_data_numpy = []\n",
    "train_labels_numpy = []\n",
    "\n",
    "for i, (image, label) in enumerate(train_dataset):\n",
    "    # Convert the image to a numpy array\n",
    "    image_numpy = image.numpy()  \n",
    "    train_data_numpy.append(image_numpy)\n",
    "    train_labels_numpy.append(label)\n",
    "\n",
    "train_data_numpy = np.array(train_data_numpy)\n",
    "train_labels_numpy = np.array(train_labels_numpy)"
   ]
  },
  {
   "cell_type": "code",
   "execution_count": null,
   "metadata": {},
   "outputs": [],
   "source": [
    "train_data_numpy[:3]"
   ]
  },
  {
   "cell_type": "markdown",
   "metadata": {},
   "source": [
    "<h3 style=\"color:#BF66F2 \"> Grid Search </h3>"
   ]
  },
  {
   "cell_type": "code",
   "execution_count": null,
   "metadata": {},
   "outputs": [],
   "source": [
    "%%script echo Skipping for overtime reasons...\n",
    "\"\"\" GridSearchCV.\n",
    "N.B.1\n",
    "It works but it use too much RAM! \n",
    "N.B.2\n",
    "The fit function need to be defined also to use it ! (self, train_loader, criterion, optimizer, lr, num_epochs).\n",
    "\"\"\"\n",
    "##### Define the hyperparameters to search over\n",
    "param_grid = {\n",
    "    'hidden_size': [64, 128, 256],\n",
    "    'learning_rate': [1e-3, 3e-4, 1e-4],\n",
    "    'batch_size': [50, 100, 200],\n",
    "    'num_epochs': [5, 10, 20],\n",
    "}\n",
    "# Create an instance of the wrapper class\n",
    "wrapper = MyCNNWrapper()\n",
    "\n",
    "# Create an instance of the LeaveOneOut class\n",
    "loo = LeaveOneOut()\n",
    "\n",
    "#grid_search = GridSearchCV(estimator=wrapper, param_grid=param_grid, cv=1, scoring=f1_scorer) #cv=1 scoring='f1_macro')\n",
    "grid_search = GridSearchCV(estimator=wrapper, param_grid=param_grid, cv=loo, scoring=f1_scorer)\n",
    "\n",
    "# Train the model using grid search to find the best hyperparameters\n",
    "#grid_search.fit(train_loader)\n",
    "grid_search.fit(train_data_numpy, train_labels_numpy)\n",
    "\n",
    "print(grid_search.best_params_)\n",
    "# Evaluate the best model found by grid search\n",
    "best_model = grid_search.best_estimator_"
   ]
  },
  {
   "cell_type": "code",
   "execution_count": null,
   "metadata": {},
   "outputs": [],
   "source": [
    "%%script echo Skipping for overtime reasons... \n",
    "\"\"\" Random GridSearchCV \n",
    "N.B.1\n",
    "It works but it use too much RAM! \n",
    "N.B.2\n",
    "#ValueError: --> fits failed. It is very likely that your model is misconfigured. \n",
    "N.B.3\n",
    "TypeError: Adam object is not callable\n",
    "\"\"\"\n",
    "###### Define the hyperparameters to search over\n",
    "param_grid = {\n",
    "    'hidden_size': [64, 128, 256],\n",
    "    'learning_rate': [1e-3, 3e-4, 1e-4],\n",
    "    'batch_size': [50, 100, 200],\n",
    "    'num_epochs': [5, 10, 20],\n",
    "}\n",
    "# Create an instance of the wrapper class\n",
    "wrapper = MyCNNWrapper()\n",
    "\n",
    "# Create an instance of the LeaveOneOut class\n",
    "loo = LeaveOneOut()\n",
    "\n",
    "# Create an instance of the RandomizedSearchCV class\n",
    "random_search = RandomizedSearchCV(estimator=wrapper, param_distributions=param_grid, n_iter=10, cv=3) # cv=loo, scoring=f1_scorer)\n",
    "\n",
    "# Train the model using random search to find the best hyperparameters\n",
    "random_search.fit(train_data_numpy, train_labels_numpy)\n",
    "\n",
    "print(random_search.best_params_)\n",
    "# Evaluate the best model found by grid search\n",
    "best_model = grid_search.best_estimator_"
   ]
  },
  {
   "cell_type": "code",
   "execution_count": null,
   "metadata": {},
   "outputs": [],
   "source": [
    "%%script echo skipping CHECK WHY!!!!!!!!!\n",
    "best_model.eval()\n",
    "with torch.no_grad():\n",
    "    correct = 0\n",
    "    total = 0\n",
    "    for images, labels in test_loader:\n",
    "        images = images.to(device)\n",
    "        labels = labels.to(device)\n",
    "        outputs = best_model(images)\n",
    "        _, predicted = torch.max(outputs.data, dim=1)\n",
    "        total += labels.size(0)\n",
    "        correct += (predicted == labels).sum().item()\n",
    "    accuracy = correct / total\n",
    "    print(\"Test accuracy: %.2f%%\" % (accuracy * 100))"
   ]
  }
 ],
 "metadata": {
  "kernelspec": {
   "display_name": "MLearning",
   "language": "python",
   "name": "python3"
  },
  "language_info": {
   "codemirror_mode": {
    "name": "ipython",
    "version": 3
   },
   "file_extension": ".py",
   "mimetype": "text/x-python",
   "name": "python",
   "nbconvert_exporter": "python",
   "pygments_lexer": "ipython3",
   "version": "3.10.9"
  },
  "orig_nbformat": 4
 },
 "nbformat": 4,
 "nbformat_minor": 2
}
